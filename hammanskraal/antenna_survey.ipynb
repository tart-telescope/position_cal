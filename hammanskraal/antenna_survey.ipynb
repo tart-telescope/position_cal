{
 "cells": [
  {
   "cell_type": "markdown",
   "metadata": {},
   "source": [
    "# Hammanskraal, Antenna Position Calibration\n",
    "\n",
    "Author: Tim Molteno. tim@elec.ac.nz.\n",
    "\n",
    "The antennas are laid out on five spiral arms.  This notebook will use measurements to infer the actual layout of the antennas.\n",
    "\n",
    "The other reference point is the center of the array. This is assumed to be the point [0,0]. Make sure that a marker is present at this reference point at the same height as the level of the antennas (otherwise the distances will be wrong)."
   ]
  },
  {
   "cell_type": "code",
   "execution_count": 1,
   "metadata": {},
   "outputs": [],
   "source": [
    "import numpy as np\n",
    "from scipy.optimize import minimize "
   ]
  },
  {
   "cell_type": "code",
   "execution_count": 2,
   "metadata": {},
   "outputs": [],
   "source": [
    "site_name = 'za-hammanskraal'\n",
    "x0 = [0,0]\n",
    "global_rot_degrees = 0\n",
    "global_rot_index = 16"
   ]
  },
  {
   "cell_type": "code",
   "execution_count": 3,
   "metadata": {},
   "outputs": [
    {
     "data": {
      "text/plain": [
       "A 0      350.0\n",
       "A 1      914.0\n",
       "A 2     1295.0\n",
       "A 3     1545.0\n",
       "A 4     1770.0\n",
       "A 5      274.0\n",
       "A 6      830.0\n",
       "A 7     1324.0\n",
       "A 8     1616.0\n",
       "A 9     1776.0\n",
       "A 10     230.0\n",
       "A 11     898.0\n",
       "A 12    1240.0\n",
       "A 13    1535.0\n",
       "A 14    1805.0\n",
       "A 15     385.0\n",
       "A 16     940.0\n",
       "A 17    1295.0\n",
       "A 18    1530.0\n",
       "A 19    1786.0\n",
       "A 20     365.0\n",
       "A 21    1060.0\n",
       "A 22    1440.0\n",
       "A 23    1780.0\n",
       "Name: 0, dtype: float64"
      ]
     },
     "execution_count": 3,
     "metadata": {},
     "output_type": "execute_result"
    }
   ],
   "source": [
    "import pandas as pd\n",
    "\n",
    "cols = [f\"A {i}\" for i in range(24)]\n",
    "data = pd.read_excel('antenna_measurements.ods', \"Sheet1\", usecols=cols)\n",
    "radius = data.loc[0]\n",
    "radius"
   ]
  },
  {
   "cell_type": "code",
   "execution_count": null,
   "metadata": {},
   "outputs": [],
   "source": []
  },
  {
   "cell_type": "markdown",
   "metadata": {},
   "source": [
    "## Finding the antennas\n",
    "\n",
    "This is done by measuring the distance from each antenna to x0 as well as each other antenna. The distance $m_0$ are the measurements to $x_0$. The array m_ij are the distances between antennas."
   ]
  },
  {
   "cell_type": "code",
   "execution_count": 4,
   "metadata": {},
   "outputs": [],
   "source": [
    "n_ant = 24\n",
    "m_0 = np.zeros(n_ant)\n",
    "m_ij = np.zeros((n_ant,n_ant))\n",
    "\n",
    "radius = data.loc[0]\n",
    "\n",
    "for i in range(n_ant):\n",
    "    m_ij[i,:] = data.loc[i+1]"
   ]
  },
  {
   "cell_type": "markdown",
   "metadata": {},
   "source": [
    "The following are the measured distances from [x1, x0, x2] from the reference points in millimeters. Note that their order must be the same as the order of the variable called 'reference_points'. In this case, they are x1,x0,x2."
   ]
  },
  {
   "cell_type": "code",
   "execution_count": 5,
   "metadata": {},
   "outputs": [
    {
     "data": {
      "text/plain": [
       "array([[  nan,  594., 1020., 1335., 1645.,  379.,  874., 1456., 1845.,\n",
       "        2050.,  558., 1235., 1597., 1883., 2113.,  712., 1182., 1467.,\n",
       "        1623., 1743.,  419.,  880., 1144., 1411.],\n",
       "       [ 594.,   nan,  500.,  915., 1355.,  797.,  998., 1616., 2113.,\n",
       "        2385., 1080., 1725., 2130., 2467., 2700., 1302., 1765., 1988.,\n",
       "        2065., 2075.,  973., 1081., 1034.,  987.],\n",
       "       [1020.,  500.,   nan,  445.,  945., 1091., 1010., 1560., 2113.,\n",
       "        2436., 1400., 1965., 2400., 2782., 3095., 1695., 2200., 2471.,\n",
       "        2570., 2570., 1435., 1575., 1450., 1170.],\n",
       "       [1335.,  915.,  445.,   nan,  519., 1290., 1001., 1396., 1960.,\n",
       "        2308., 1574., 2026., 2470., 2915., 3298., 1935., 2477., 2797.,\n",
       "        2941., 2987., 1754., 2000., 1899., 1589.],\n",
       "       [1645., 1355.,  945.,  519.,   nan, 1493., 1035., 1190., 1725.,\n",
       "        2097., 1740., 2046., 2484., 2955., 3415., 2135., 2694., 3070.,\n",
       "        3279., 3375., 2050., 2414., 2375., 2095.],\n",
       "       [ 379.,  797., 1091., 1290., 1493.,   nan,  560., 1092., 1470.,\n",
       "        1683.,  305.,  915., 1330., 1695., 2035.,  655., 1210., 1590.,\n",
       "        1845., 2044.,  615., 1235., 1520., 1750.],\n",
       "       [ 874.,  998., 1010., 1001., 1035.,  560.,   nan,  630., 1128.,\n",
       "        1429.,  742., 1050., 1496., 1947., 2390., 1150., 1709., 2133.,\n",
       "        2408., 2600., 1183., 1758., 1943., 1978.],\n",
       "       [1456., 1616., 1560., 1396., 1190., 1092.,  630.,   nan,  565.,\n",
       "         924., 1145., 1050., 1430., 1935., 2477., 1510., 2020., 2499.,\n",
       "        2840., 3100., 1685., 2335., 2560., 2600.],\n",
       "       [1845., 2113., 2113., 1960., 1725., 1470., 1128.,  565.,   nan,\n",
       "         370., 1400., 1002., 1237., 1723., 2317., 1682., 2099., 2600.,\n",
       "        3000., 3320., 1972., 2680., 2988., 3104.],\n",
       "       [2050., 2385., 2436., 2308., 2097., 1683., 1429.,  924.,  370.,\n",
       "          nan, 1545., 1000., 1096., 1540., 2143., 1760., 2090., 2591.,\n",
       "        3020., 3380., 2099., 2825., 3183., 3379.],\n",
       "       [ 558., 1080., 1400., 1574., 1740.,  305.,  742., 1145., 1400.,\n",
       "        1545.,   nan,  677., 1048., 1385., 1723.,  403.,  965., 1396.,\n",
       "        1700., 1968.,  578., 1295., 1669., 1973.],\n",
       "       [1235., 1725., 1965., 2026., 2046.,  915., 1050., 1050., 1002.,\n",
       "        1000.,  677.,   nan,  432.,  890., 1425.,  765., 1101., 1603.,\n",
       "        2020., 2373., 1170., 1895., 2315., 2636.],\n",
       "       [1597., 2130., 2400., 2470., 2484., 1330., 1496., 1430., 1237.,\n",
       "        1096., 1048.,  432.,   nan,  505., 1085.,  987., 1098., 1572.,\n",
       "        2030., 2448., 1430., 2130., 2600., 2998.],\n",
       "       [1883., 2467., 2782., 2915., 2955., 1695., 1947., 1935., 1723.,\n",
       "        1540., 1385.,  890.,  505.,   nan,  610., 1185., 1034., 1410.,\n",
       "        1876., 2335., 1610., 2235., 2755., 3224.],\n",
       "       [2113., 2700., 3095., 3298., 3415., 2035., 2390., 2477., 2317.,\n",
       "        2143., 1723., 1425., 1085.,  610.,   nan, 1405., 1000., 1155.,\n",
       "        1576., 2067., 1763., 2238., 2788., 3350.],\n",
       "       [ 712., 1302., 1695., 1935., 2135.,  655., 1150., 1510., 1682.,\n",
       "        1760.,  403.,  765.,  987., 1185., 1405.,   nan,  560.,  995.,\n",
       "        1334., 1640.,  454., 1150., 1620., 2056.],\n",
       "       [1182., 1765., 2200., 2477., 2694., 1210., 1709., 2020., 2099.,\n",
       "        2090.,  965., 1101., 1098., 1034., 1000.,  560.,   nan,  503.,\n",
       "         936., 1352.,  800., 1259., 1808., 2365.],\n",
       "       [1467., 1988., 2471., 2797., 3070., 1590., 2133., 2499., 2600.,\n",
       "        2591., 1396., 1603., 1572., 1410., 1155.,  995.,  503.,   nan,\n",
       "         470.,  940., 1040., 1196., 1745., 2385.],\n",
       "       [1623., 2065., 2570., 2941., 3279., 1845., 2408., 2840., 3000.,\n",
       "        3020., 1700., 2020., 2030., 1876., 1576., 1334.,  936.,  470.,\n",
       "          nan,  490., 1240., 1090., 1585., 2260.],\n",
       "       [1743., 2075., 2570., 2987., 3375., 2044., 2600., 3100., 3320.,\n",
       "        3380., 1968., 2373., 2448., 2335., 2067., 1640., 1352.,  940.,\n",
       "         490.,   nan, 1415.,  996., 1355., 2035.],\n",
       "       [ 419.,  973., 1435., 1754., 2050.,  615., 1183., 1685., 1972.,\n",
       "        2099.,  578., 1170., 1430., 1610., 1763.,  454.,  800., 1040.,\n",
       "        1240., 1415.,   nan,  730., 1180., 1625.],\n",
       "       [ 880., 1081., 1575., 2000., 2414., 1235., 1758., 2335., 2680.,\n",
       "        2825., 1295., 1895., 2130., 2235., 2238., 1150., 1259., 1196.,\n",
       "        1090.,  996.,  730.,   nan,  560., 1194.],\n",
       "       [1144., 1034., 1450., 1899., 2375., 1520., 1943., 2560., 2988.,\n",
       "        3183., 1669., 2315., 2600., 2755., 2788., 1620., 1808., 1745.,\n",
       "        1585., 1355., 1180.,  560.,   nan,  690.],\n",
       "       [1411.,  987., 1170., 1589., 2095., 1750., 1978., 2600., 3104.,\n",
       "        3379., 1973., 2636., 2998., 3224., 3350., 2056., 2365., 2385.,\n",
       "        2260., 2035., 1625., 1194.,  690.,   nan]])"
      ]
     },
     "execution_count": 5,
     "metadata": {},
     "output_type": "execute_result"
    }
   ],
   "source": [
    "for i in range(n_ant):\n",
    "    for j in range(n_ant):\n",
    "        if not np.isnan(m_ij[i,j]):\n",
    "            m_ij[j,i] = m_ij[i,j]\n",
    "\n",
    "m_ij\n"
   ]
  },
  {
   "cell_type": "markdown",
   "metadata": {},
   "source": [
    "## Plot the Initial Guess Points\n",
    "\n",
    "Initial Guesses are from JSON queried from the telescope API. These are converted to millimeters."
   ]
  },
  {
   "cell_type": "code",
   "execution_count": 6,
   "metadata": {
    "scrolled": true
   },
   "outputs": [],
   "source": [
    "import json\n",
    "import requests\n",
    "\n",
    "def get_data(path):\n",
    "    server = \"https://api.elec.ac.nz/tart/zm-cbu/\"\n",
    "\n",
    "    r = requests.get('{}/{}'.format(server, path))\n",
    "    return json.loads(r.text)\n",
    "\n",
    "def get_pos():\n",
    "    return np.array(get_data('api/v1/imaging/antenna_positions'))\n",
    "\n",
    "if True:\n",
    "    with open('hammanskraal_antenna_positions_nonaligned.json', \"r\") as f:\n",
    "        data = f.read()\n",
    "    cal_json = json.loads(data)\n",
    "    current_pos = cal_json[\"ant_pos\"]\n",
    "    current_pos = np.array(current_pos)\n",
    "else:\n",
    "    current_pos = get_pos()\n",
    "    json_result = {}\n",
    "    json_result[\"antenna_positions\"] = current_pos.tolist()\n",
    "    print(json.dumps(json_result, indent=4, separators=(',', ': ')))\n"
   ]
  },
  {
   "cell_type": "code",
   "execution_count": 7,
   "metadata": {},
   "outputs": [
    {
     "name": "stdout",
     "output_type": "stream",
     "text": [
      "9.21035503518459 336.4607161574636\n",
      "136.6869511171387 817.0183633480439\n",
      "407.357893124816 1126.9191566942775\n",
      "721.1970469518101 1271.250237085989\n",
      "1068.4561577697891 1303.9004053248855\n",
      "322.8393128089888 95.21251105861754\n",
      "819.2692291994522 122.47554343847933\n",
      "1197.6443190802734 -39.183208015404794\n",
      "1431.892965623525 -293.06122367358904\n",
      "1570.2540875795492 -613.2348070048687\n",
      "190.31531318542983 -277.6161481690127\n",
      "369.64927846505077 -741.3243147124496\n",
      "332.82700250001744 -1151.1357110360552\n",
      "163.7614740554133 -1452.3720341009023\n",
      "-97.9857606721734 -1682.9003591383764\n",
      "-205.21798068081205 -266.78872645289437\n",
      "-590.8134111911762 -580.639166617497\n",
      "-991.9459191615168 -672.2577870686544\n",
      "-1330.6828086094952 -604.5540577105907\n",
      "-1630.8126180884651 -426.85481462205286\n",
      "-317.1470003487909 112.73164740582592\n",
      "-734.792047590465 382.4695745434232\n",
      "-945.8832955435901 735.6575494258373\n",
      "-986.1686780212533 1078.7370783990916\n"
     ]
    },
    {
     "data": {
      "image/png": "[encoded data removed]",
      "text/plain": [
       "<Figure size 1200x1200 with 1 Axes>"
      ]
     },
     "metadata": {},
     "output_type": "display_data"
    }
   ],
   "source": [
    "def i_y(i):\n",
    "    return 2*i+1\n",
    "\n",
    "def i_x(i):\n",
    "    return 2*i\n",
    "\n",
    "\n",
    "initial_guess = np.zeros(2*n_ant)\n",
    "\n",
    "for i in range(n_ant):\n",
    "    x,y = current_pos[i][0:2]*1000\n",
    "    initial_guess[i_x(i)] = -x\n",
    "    initial_guess[i_y(i)] = y\n",
    "    \n",
    "    print(x,y)\n",
    "\n",
    "pos_i = initial_guess.reshape((24,2))*1000\n",
    "#pos_i = current_pos*1000\n",
    "\n",
    "import matplotlib.pyplot as plt\n",
    "\n",
    "fig, ax = plt.subplots(figsize=(12,12))\n",
    "\n",
    "ax.scatter(pos_i[:,0], pos_i[:,1])\n",
    "for i in range(0,pos_i.shape[0]):\n",
    "    ax.text(pos_i[i,0], pos_i[i,1],f\"{i}\")\n",
    "\n",
    "ax.grid(True)\n",
    "ax.set_title('Initial positions')\n",
    "ax.set_xlabel('x (mm)')\n",
    "ax.set_ylabel('y (mm)')\n",
    "plt.savefig('initial_positions.png')\n",
    "plt.show()"
   ]
  },
  {
   "cell_type": "markdown",
   "metadata": {},
   "source": [
    "## Criteria for Optimality\n",
    "\n",
    "The function below is minimized when the positions (in variable x) are consistent with the measured distances m[i,j]. The initial value of this function is more than 3 million.\n",
    "\n",
    "Note that the x input is a 1D vector of with 48 entries as [p0.x, p0.y, p1.x, p1.y]"
   ]
  },
  {
   "cell_type": "code",
   "execution_count": 8,
   "metadata": {},
   "outputs": [
    {
     "data": {
      "text/plain": [
       "np.float64(90.0)"
      ]
     },
     "execution_count": 8,
     "metadata": {},
     "output_type": "execute_result"
    }
   ],
   "source": [
    "def geo_angle(x,y):\n",
    "    return 90 - np.degrees(np.arctan2(y,x))\n",
    "\n",
    "geo_angle(1,0)"
   ]
  },
  {
   "cell_type": "code",
   "execution_count": 9,
   "metadata": {},
   "outputs": [],
   "source": [
    "def dist(a,b):\n",
    "    return np.sqrt((a[0]-b[0])**2 + (a[1]-b[1])**2)\n",
    "\n",
    "\n",
    "def p(x, i):\n",
    "    return [x[i_x(i)],x[i_y(i)]]\n",
    "\n",
    "max_err = 4200\n",
    "def bounds():\n",
    "    ret = [(0,0)]*48\n",
    "    for i in range(n_ant):\n",
    "        _x,_y = pos_i[i,0], pos_i[i,1]\n",
    "        ret[i_x(i)] = (_x - max_err, _x + max_err)\n",
    "        ret[i_y(i)] = (_y - max_err, _y + max_err)\n",
    "    \n",
    "    return ret\n",
    "\n",
    "bnd = bounds()\n",
    "\n",
    "center = [0,0]\n",
    "\n",
    "def angle(x, i):\n",
    "    _x, _y = p(x, i)\n",
    "    return geo_angle(_x, _y)\n",
    "    \n",
    "def radius_model(x):\n",
    "    ret = []\n",
    "    \n",
    "    for i in range(n_ant):\n",
    "        p_i = p(x,i)\n",
    "        ret.append(dist(center, p_i))\n",
    "        \n",
    "    return np.array(ret)\n",
    "\n",
    "non_nan_ij = []\n",
    "non_nan_indices = []\n",
    "for i in range(n_ant):\n",
    "    for j in range(n_ant):\n",
    "        if not np.isnan(m_ij[i,j]):\n",
    "            non_nan_ij.append(m_ij[i,j])\n",
    "            non_nan_indices.append([i,j])\n",
    "non_nan_ij = np.array(non_nan_ij)\n",
    "non_nan_indices = np.array(non_nan_indices)\n",
    "\n",
    "def m_ij_model(x):\n",
    "    ret = []\n",
    "    for i in range(n_ant):\n",
    "        p_i = p(x,i)\n",
    "\n",
    "        for j in range(n_ant):\n",
    "            p_j = p(x,j)\n",
    "            if not np.isnan(m_ij[i,j]):\n",
    "                ret.append(dist(p_j, p_i))\n",
    "                \n",
    "    return np.array(ret)\n",
    "    \n",
    "def radius_residual(x):\n",
    "    predict = radius_model(x)\n",
    "    return (predict - radius)\n",
    "\n",
    "def m_ij_residual(x):\n",
    "    predict = m_ij_model(x)\n",
    "    return (predict - non_nan_ij)/10\n",
    "\n",
    "def rot_residual(x):\n",
    "    predict = angle(x, global_rot_index)\n",
    "    return (predict - global_rot_degrees)*10\n",
    "\n",
    "def f_old(x):\n",
    "    ret = 0\n",
    "    for i in range(n_ant):\n",
    "        p_i = p(x,i)\n",
    "        ret += (dist(center, p_i) - m_0[i])**2\n",
    "        for j in range(n_ant):\n",
    "            p_j = p(x,j)\n",
    "            if not np.isnan(m_ij[i,j]):\n",
    "                ret += (dist(p_j, p_i) - m_ij[i,j])**2\n",
    "    return ret\n",
    "\n",
    "def f(x):\n",
    "    # This is the final criterion for optimality. The sum of squared residuals.\n",
    "    ret = np.sum(radius_residual(x)**2)\n",
    "    ret += np.sum(m_ij_residual(x)**2)\n",
    "    ret += rot_residual(x)**2\n",
    "    return ret\n"
   ]
  },
  {
   "cell_type": "code",
   "execution_count": 10,
   "metadata": {},
   "outputs": [
    {
     "name": "stdout",
     "output_type": "stream",
     "text": [
      "2424888.6305620205\n"
     ]
    }
   ],
   "source": [
    "print(f(initial_guess))"
   ]
  },
  {
   "cell_type": "markdown",
   "metadata": {},
   "source": [
    " We can see that the initial value of this optimality condition is about 50 million."
   ]
  },
  {
   "cell_type": "code",
   "execution_count": 11,
   "metadata": {},
   "outputs": [
    {
     "data": {
      "text/plain": [
       "  message: Desired error not necessarily achieved due to precision loss.\n",
       "  success: False\n",
       "   status: 2\n",
       "      fun: 735.8348190241298\n",
       "        x: [-2.776e+02 -2.154e+02 ... -1.551e+03 -8.632e+02]\n",
       "      nit: 141\n",
       "      jac: [-7.629e-06 -3.052e-05 ...  8.392e-05  1.068e-04]\n",
       " hess_inv: [[ 3.048e-01 -1.633e-01 ...  4.869e-02 -2.901e-02]\n",
       "            [-1.633e-01  5.640e-01 ...  1.343e-02  2.755e-02]\n",
       "            ...\n",
       "            [ 4.869e-02  1.343e-02 ...  1.641e-01 -5.638e-02]\n",
       "            [-2.901e-02  2.755e-02 ... -5.638e-02  4.497e-02]]\n",
       "     nfev: 10535\n",
       "     njev: 215"
      ]
     },
     "execution_count": 11,
     "metadata": {},
     "output_type": "execute_result"
    }
   ],
   "source": [
    "res = minimize(f, initial_guess, bounds=None, options={'maxiter': 500})\n",
    "res"
   ]
  },
  {
   "cell_type": "code",
   "execution_count": 12,
   "metadata": {},
   "outputs": [
    {
     "name": "stdout",
     "output_type": "stream",
     "text": [
      "Ant 0:\tJac: -00.00, \t-00.00\n",
      "Ant 1:\tJac: -00.00, \t000.00\n",
      "Ant 2:\tJac: 000.00, \t000.00\n",
      "Ant 3:\tJac: -00.00, \t-00.00\n",
      "Ant 4:\tJac: 000.00, \t000.00\n",
      "Ant 5:\tJac: -00.00, \t-00.00\n",
      "Ant 6:\tJac: -00.00, \t000.00\n",
      "Ant 7:\tJac: 000.00, \t000.00\n",
      "Ant 8:\tJac: -00.00, \t-00.00\n",
      "Ant 9:\tJac: 000.00, \t000.00\n",
      "Ant 10:\tJac: 000.00, \t000.00\n",
      "Ant 11:\tJac: -00.00, \t000.00\n",
      "Ant 12:\tJac: 000.00, \t-00.00\n",
      "Ant 13:\tJac: -00.00, \t-00.00\n",
      "Ant 14:\tJac: 000.00, \t-00.00\n",
      "Ant 15:\tJac: 000.00, \t-00.00\n",
      "Ant 16:\tJac: -00.00, \t000.00\n",
      "Ant 17:\tJac: 000.00, \t000.00\n",
      "Ant 18:\tJac: -00.00, \t-00.00\n",
      "Ant 19:\tJac: -00.00, \t000.00\n",
      "Ant 20:\tJac: -00.00, \t-00.00\n",
      "Ant 21:\tJac: -00.00, \t000.00\n",
      "Ant 22:\tJac: -00.00, \t000.00\n",
      "Ant 23:\tJac: 000.00, \t000.00\n"
     ]
    }
   ],
   "source": [
    "err = res.jac.reshape((24,2))\n",
    "rms = err # np.sqrt(np.sum(err**2, axis=1))\n",
    "for i in range(24):\n",
    "    print(f\"Ant {i}:\\tJac: {rms[i,0]:06.2f}, \\t{rms[i,1]:06.2f}\")"
   ]
  },
  {
   "cell_type": "markdown",
   "metadata": {},
   "source": [
    "The optimized positions are now known. The final value of the function is 32. Far closer to zero than 3 million!\n",
    "\n",
    "We can recover the x,y coordinates by reshaping the array"
   ]
  },
  {
   "cell_type": "code",
   "execution_count": 13,
   "metadata": {},
   "outputs": [
    {
     "data": {
      "text/plain": [
       "array([[-2.77557139e+02, -2.15383995e+02],\n",
       "       [-5.48688094e+02, -7.34561101e+02],\n",
       "       [-4.28502876e+02, -1.22373107e+03],\n",
       "       [-1.06196642e+02, -1.54088966e+03],\n",
       "       [ 3.64073986e+02, -1.73335460e+03],\n",
       "       [ 9.18716776e+01, -2.61214476e+02],\n",
       "       [ 4.38847058e+02, -7.06995859e+02],\n",
       "       [ 1.06685875e+03, -7.82811209e+02],\n",
       "       [ 1.54352606e+03, -4.81716137e+02],\n",
       "       [ 1.76658113e+03, -1.81552016e+02],\n",
       "       [ 2.31160200e+02,  3.32099633e-01],\n",
       "       [ 8.61041461e+02,  2.53564707e+02],\n",
       "       [ 1.05566927e+03,  6.50095160e+02],\n",
       "       [ 1.00726216e+03,  1.15594897e+03],\n",
       "       [ 6.75916722e+02,  1.67167232e+03],\n",
       "       [ 1.00875342e+02,  3.74304361e+02],\n",
       "       [-1.20597328e-04,  9.39090104e+02],\n",
       "       [-3.98384455e+02,  1.23461012e+03],\n",
       "       [-8.52922731e+02,  1.28039924e+03],\n",
       "       [-1.33668589e+03,  1.18218955e+03],\n",
       "       [-3.05289138e+02,  2.00495408e+02],\n",
       "       [-1.03624745e+03,  2.26003629e+02],\n",
       "       [-1.42744812e+03, -1.76269987e+02],\n",
       "       [-1.55056533e+03, -8.63242979e+02]])"
      ]
     },
     "execution_count": 13,
     "metadata": {},
     "output_type": "execute_result"
    }
   ],
   "source": [
    "pos = res.x.reshape((24,2))\n",
    "pos"
   ]
  },
  {
   "cell_type": "code",
   "execution_count": 14,
   "metadata": {},
   "outputs": [
    {
     "data": {
      "image/png": "[encoded data removed]",
      "text/plain": [
       "<Figure size 1200x600 with 2 Axes>"
      ]
     },
     "metadata": {},
     "output_type": "display_data"
    }
   ],
   "source": [
    "fig, ax = plt.subplots(nrows=1, ncols=2, figsize=(12,6))\n",
    "\n",
    "\n",
    "ax[0].scatter(pos_i[:,0], pos_i[:,1], label='initial', color='blue')\n",
    "for i in range(0,pos_i.shape[0]):\n",
    "    ax[0].text(pos_i[i,0], pos_i[i,1],f\"{i}\", color='orange')\n",
    "ax[0].set_title('Initial Guess')\n",
    "ax[0].grid(True)\n",
    "ax[0].set_xlabel('x (mm)')\n",
    "ax[0].set_ylabel('y (mm)')\n",
    "\n",
    "ax[1].scatter(pos[:,0], pos[:,1], label='final', color='orange')\n",
    "for i in range(0,pos.shape[0]):\n",
    "    ax[1].text(pos[i,0], pos[i,1],f\"{i}\", color='blue')\n",
    "ax[1].set_title('Final Solution')\n",
    "ax[1].grid(True)\n",
    "ax[1].set_xlabel('x (mm)')\n",
    "ax[1].set_ylabel('y (mm)')\n",
    "plt.savefig('final_positions.png')\n",
    "plt.show()"
   ]
  },
  {
   "cell_type": "code",
   "execution_count": 15,
   "metadata": {},
   "outputs": [
    {
     "data": {
      "image/png": "[encoded data removed]",
      "text/plain": [
       "<Figure size 1200x1200 with 1 Axes>"
      ]
     },
     "metadata": {},
     "output_type": "display_data"
    }
   ],
   "source": [
    "# Differences plot\n",
    "diff = pos - pos_i[:,0:2]\n",
    "\n",
    "\n",
    "fig, ax = plt.subplots(figsize=(12,12))\n",
    "\n",
    "ax.scatter(diff[:,0], diff[:,1], color='red')\n",
    "\n",
    "for i in range(0,diff.shape[0]):\n",
    "    ax.text(diff[i,0], diff[i,1],f\"{i}\")\n",
    "\n",
    "ax.grid(True)\n",
    "ax.set_title(\"Differences from initial position\")\n",
    "ax.set_xlabel('x (mm)')\n",
    "ax.set_ylabel('y (mm)')\n",
    "plt.savefig('differences.png')\n",
    "plt.show()"
   ]
  },
  {
   "cell_type": "code",
   "execution_count": 16,
   "metadata": {},
   "outputs": [
    {
     "data": {
      "text/plain": [
       "A 0     1.323541\n",
       "A 1     2.863477\n",
       "A 2     1.584915\n",
       "A 3    -0.455188\n",
       "A 4     1.177016\n",
       "A 5     2.899635\n",
       "A 6     2.123720\n",
       "A 7    -0.753617\n",
       "A 8     0.948707\n",
       "A 9    -0.114302\n",
       "A 10    1.160438\n",
       "A 11   -0.399055\n",
       "A 12   -0.217227\n",
       "A 13   -1.769724\n",
       "A 14   -1.849491\n",
       "A 15    2.659115\n",
       "A 16   -0.909896\n",
       "A 17    2.294236\n",
       "A 18    8.473074\n",
       "A 19   -1.538934\n",
       "A 20    0.239465\n",
       "A 21    0.606625\n",
       "A 22   -1.709606\n",
       "A 23   -5.333470\n",
       "Name: 0, dtype: float64"
      ]
     },
     "execution_count": 16,
     "metadata": {},
     "output_type": "execute_result"
    }
   ],
   "source": [
    "# Residual plot\n",
    "rres = radius_residual(res.x)\n",
    "rres"
   ]
  },
  {
   "cell_type": "code",
   "execution_count": 17,
   "metadata": {},
   "outputs": [
    {
     "data": {
      "image/png": "[encoded data removed]",
      "text/plain": [
       "<Figure size 640x480 with 1 Axes>"
      ]
     },
     "metadata": {},
     "output_type": "display_data"
    }
   ],
   "source": [
    "# ij resdual\n",
    "ijres = m_ij_residual(res.x)\n",
    "plt.hist(ijres, bins='fd');\n",
    "plt.title(\"Histogram of residuals\")\n",
    "plt.xlabel(\"Residual (mm)\")\n",
    "plt.grid(True)\n",
    "plt.savefig(\"residual_histogram.png\")"
   ]
  },
  {
   "cell_type": "markdown",
   "metadata": {},
   "source": [
    "The API expects 3D coordinates (with a z value which is zero in this case). Therefore we add a column of zeros."
   ]
  },
  {
   "cell_type": "code",
   "execution_count": 18,
   "metadata": {},
   "outputs": [
    {
     "name": "stdout",
     "output_type": "stream",
     "text": [
      "95th percentile of residuals is 2.19 mm\n",
      " res[13,11] = 2.4\n",
      " res[18,1] = -2.7\n",
      " res[18,2] = -3.0\n",
      " res[18,3] = -2.3\n",
      " res[18,4] = -2.9\n",
      " res[18,5] = -3.7\n",
      " res[18,6] = -3.8\n",
      " res[18,8] = -2.5\n",
      " res[18,10] = -2.3\n",
      " res[18,11] = -2.2\n",
      " res[20,18] = -2.9\n",
      " res[23,1] = 2.3\n",
      " res[23,13] = 3.5\n",
      " res[23,14] = 2.4\n"
     ]
    }
   ],
   "source": [
    "absres = np.abs(ijres)\n",
    "p95 = np.percentile(absres, 95)\n",
    "\n",
    "print(f\"95th percentile of residuals is {p95:4.2f} mm\")\n",
    "ijres_matrix = np.zeros_like(m_ij)\n",
    "for r, i, j in zip(ijres, non_nan_indices[:,0], non_nan_indices[:,1]):\n",
    "    if np.abs(r) > p95 and i > j:\n",
    "        print(f\" res[{i},{j}] = {r:3.1f}\")\n",
    "    ijres_matrix[i,j] = r\n",
    "    \n"
   ]
  },
  {
   "cell_type": "markdown",
   "metadata": {},
   "source": [
    "## Output best estimates\n",
    "\n",
    "Write some json files..."
   ]
  },
  {
   "cell_type": "code",
   "execution_count": 19,
   "metadata": {},
   "outputs": [
    {
     "data": {
      "text/plain": [
       "array([[-0.278, -0.215,  0.   ],\n",
       "       [-0.549, -0.735,  0.   ],\n",
       "       [-0.429, -1.224,  0.   ],\n",
       "       [-0.106, -1.541,  0.   ],\n",
       "       [ 0.364, -1.733,  0.   ],\n",
       "       [ 0.092, -0.261,  0.   ],\n",
       "       [ 0.439, -0.707,  0.   ],\n",
       "       [ 1.067, -0.783,  0.   ],\n",
       "       [ 1.544, -0.482,  0.   ],\n",
       "       [ 1.767, -0.182,  0.   ],\n",
       "       [ 0.231,  0.   ,  0.   ],\n",
       "       [ 0.861,  0.254,  0.   ],\n",
       "       [ 1.056,  0.65 ,  0.   ],\n",
       "       [ 1.007,  1.156,  0.   ],\n",
       "       [ 0.676,  1.672,  0.   ],\n",
       "       [ 0.101,  0.374,  0.   ],\n",
       "       [-0.   ,  0.939,  0.   ],\n",
       "       [-0.398,  1.235,  0.   ],\n",
       "       [-0.853,  1.28 ,  0.   ],\n",
       "       [-1.337,  1.182,  0.   ],\n",
       "       [-0.305,  0.2  ,  0.   ],\n",
       "       [-1.036,  0.226,  0.   ],\n",
       "       [-1.427, -0.176,  0.   ],\n",
       "       [-1.551, -0.863,  0.   ]])"
      ]
     },
     "execution_count": 19,
     "metadata": {},
     "output_type": "execute_result"
    }
   ],
   "source": [
    "result = np.zeros((n_ant, 3))\n",
    "result[:,:-1] = np.round(pos/1000.0, 3)\n",
    "result"
   ]
  },
  {
   "cell_type": "code",
   "execution_count": 20,
   "metadata": {},
   "outputs": [
    {
     "name": "stdout",
     "output_type": "stream",
     "text": [
      "{\n",
      "    \"antenna_positions\": [\n",
      "        [\n",
      "            -0.278,\n",
      "            -0.215,\n",
      "            0.0\n",
      "        ],\n",
      "        [\n",
      "            -0.549,\n",
      "            -0.735,\n",
      "            0.0\n",
      "        ],\n",
      "        [\n",
      "            -0.429,\n",
      "            -1.224,\n",
      "            0.0\n",
      "        ],\n",
      "        [\n",
      "            -0.106,\n",
      "            -1.541,\n",
      "            0.0\n",
      "        ],\n",
      "        [\n",
      "            0.364,\n",
      "            -1.733,\n",
      "            0.0\n",
      "        ],\n",
      "        [\n",
      "            0.092,\n",
      "            -0.261,\n",
      "            0.0\n",
      "        ],\n",
      "        [\n",
      "            0.439,\n",
      "            -0.707,\n",
      "            0.0\n",
      "        ],\n",
      "        [\n",
      "            1.067,\n",
      "            -0.783,\n",
      "            0.0\n",
      "        ],\n",
      "        [\n",
      "            1.544,\n",
      "            -0.482,\n",
      "            0.0\n",
      "        ],\n",
      "        [\n",
      "            1.767,\n",
      "            -0.182,\n",
      "            0.0\n",
      "        ],\n",
      "        [\n",
      "            0.231,\n",
      "            0.0,\n",
      "            0.0\n",
      "        ],\n",
      "        [\n",
      "            0.861,\n",
      "            0.254,\n",
      "            0.0\n",
      "        ],\n",
      "        [\n",
      "            1.056,\n",
      "            0.65,\n",
      "            0.0\n",
      "        ],\n",
      "        [\n",
      "            1.007,\n",
      "            1.156,\n",
      "            0.0\n",
      "        ],\n",
      "        [\n",
      "            0.676,\n",
      "            1.672,\n",
      "            0.0\n",
      "        ],\n",
      "        [\n",
      "            0.101,\n",
      "            0.374,\n",
      "            0.0\n",
      "        ],\n",
      "        [\n",
      "            -0.0,\n",
      "            0.939,\n",
      "            0.0\n",
      "        ],\n",
      "        [\n",
      "            -0.398,\n",
      "            1.235,\n",
      "            0.0\n",
      "        ],\n",
      "        [\n",
      "            -0.853,\n",
      "            1.28,\n",
      "            0.0\n",
      "        ],\n",
      "        [\n",
      "            -1.337,\n",
      "            1.182,\n",
      "            0.0\n",
      "        ],\n",
      "        [\n",
      "            -0.305,\n",
      "            0.2,\n",
      "            0.0\n",
      "        ],\n",
      "        [\n",
      "            -1.036,\n",
      "            0.226,\n",
      "            0.0\n",
      "        ],\n",
      "        [\n",
      "            -1.427,\n",
      "            -0.176,\n",
      "            0.0\n",
      "        ],\n",
      "        [\n",
      "            -1.551,\n",
      "            -0.863,\n",
      "            0.0\n",
      "        ]\n",
      "    ]\n",
      "}\n"
     ]
    }
   ],
   "source": [
    "json_result = {}\n",
    "json_result[\"antenna_positions\"] = result.tolist()\n",
    "\n",
    "json_fname = f\"{site_name}_processed_antenna_positions.json\"\n",
    "f = open(json_fname, \"w\")\n",
    "f.write(json.dumps(json_result))\n",
    "f.close()\n",
    "\n",
    "pos_json = json.dumps(json_result, indent=4, separators=(',', ': '))\n",
    "print(pos_json)"
   ]
  },
  {
   "cell_type": "markdown",
   "metadata": {
    "collapsed": true
   },
   "source": [
    "The position file above is in a format suitable for uploading to the telescope api. Also for using as the calibrated_antenna_positions.json file in TART/software/containers/telescope_web_api/config_data.\n"
   ]
  },
  {
   "cell_type": "code",
   "execution_count": 21,
   "metadata": {},
   "outputs": [
    {
     "name": "stdout",
     "output_type": "stream",
     "text": [
      "tart_upload_antenna_positions --api https://api.elec.ac.nz/tart/za-hammanskraal --pw=xxxx --file za-hammanskraal_processed_antenna_positions.json\n"
     ]
    }
   ],
   "source": [
    "print(f\"tart_upload_antenna_positions --api https://api.elec.ac.nz/tart/{site_name} --pw=xxxx --file {json_fname}\")"
   ]
  },
  {
   "cell_type": "code",
   "execution_count": null,
   "metadata": {},
   "outputs": [],
   "source": []
  }
 ],
 "metadata": {
  "kernelspec": {
   "display_name": "Python 3 (ipykernel)",
   "language": "python",
   "name": "python3"
  },
  "language_info": {
   "codemirror_mode": {
    "name": "ipython",
    "version": 3
   },
   "file_extension": ".py",
   "mimetype": "text/x-python",
   "name": "python",
   "nbconvert_exporter": "python",
   "pygments_lexer": "ipython3",
   "version": "3.13.5"
  }
 },
 "nbformat": 4,
 "nbformat_minor": 2
}
