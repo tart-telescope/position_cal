{
 "cells": [
  {
   "cell_type": "markdown",
   "metadata": {},
   "source": [
    "# Hammanskraal, Antenna Position Calibration\n",
    "\n",
    "Author: Tim Molteno. tim@elec.ac.nz.\n",
    "\n",
    "The antennas are laid out on five spiral arms.  This notebook will use measurements to infer the actual layout of the antennas.\n",
    "\n",
    "The other reference point is the center of the array. This is assumed to be the point [0,0]. Make sure that a marker is present at this reference point at the same height as the level of the antennas (otherwise the distances will be wrong)."
   ]
  },
  {
   "cell_type": "code",
   "execution_count": 1,
   "metadata": {},
   "outputs": [],
   "source": [
    "import numpy as np\n",
    "from scipy.optimize import minimize "
   ]
  },
  {
   "cell_type": "code",
   "execution_count": 2,
   "metadata": {},
   "outputs": [],
   "source": [
    "site_name = 'za-hammanskraal'\n",
    "x0 = [0,0]\n",
    "global_rot_degrees = +1.62\n",
    "global_rot_index = 13"
   ]
  },
  {
   "cell_type": "code",
   "execution_count": 3,
   "metadata": {},
   "outputs": [
    {
     "data": {
      "text/plain": [
       "A 0      350.0\n",
       "A 1      920.0\n",
       "A 2     1295.0\n",
       "A 3     1540.0\n",
       "A 4     1765.0\n",
       "A 5      281.0\n",
       "A 6      830.0\n",
       "A 7     1310.0\n",
       "A 8     1611.0\n",
       "A 9     1770.0\n",
       "A 10     230.0\n",
       "A 11     891.0\n",
       "A 12    1235.0\n",
       "A 13    1526.0\n",
       "A 14    1800.0\n",
       "A 15     395.0\n",
       "A 16     930.0\n",
       "A 17    1302.0\n",
       "A 18    1560.0\n",
       "A 19    1771.0\n",
       "A 20     361.0\n",
       "A 21    1056.0\n",
       "A 22    1425.0\n",
       "A 23    1750.0\n",
       "Name: 0, dtype: float64"
      ]
     },
     "execution_count": 3,
     "metadata": {},
     "output_type": "execute_result"
    }
   ],
   "source": [
    "import pandas as pd\n",
    "\n",
    "cols = [f\"A {i}\" for i in range(24)]\n",
    "data = pd.read_excel('antenna_measurements.ods', \"Sheet1\", usecols=cols)\n",
    "radius = data.loc[0]\n",
    "radius"
   ]
  },
  {
   "cell_type": "code",
   "execution_count": null,
   "metadata": {},
   "outputs": [],
   "source": []
  },
  {
   "cell_type": "markdown",
   "metadata": {},
   "source": [
    "## Finding the antennas\n",
    "\n",
    "This is done by measuring the distance from each antenna to x0 as well as each other antenna. The distance $m_0$ are the measurements to $x_0$. The array m_ij are the distances between antennas."
   ]
  },
  {
   "cell_type": "code",
   "execution_count": 4,
   "metadata": {},
   "outputs": [],
   "source": [
    "n_ant = 24\n",
    "m_0 = np.zeros(n_ant)\n",
    "m_ij = np.zeros((n_ant,n_ant))\n",
    "\n",
    "radius = data.loc[0]\n",
    "\n",
    "for i in range(n_ant):\n",
    "    m_ij[i,:] = data.loc[i+1]"
   ]
  },
  {
   "cell_type": "markdown",
   "metadata": {},
   "source": [
    "The following are the measured distances from [x1, x0, x2] from the reference points in millimeters. Note that their order must be the same as the order of the variable called 'reference_points'. In this case, they are x1,x0,x2."
   ]
  },
  {
   "cell_type": "code",
   "execution_count": 5,
   "metadata": {},
   "outputs": [
    {
     "data": {
      "text/plain": [
       "array([[  nan,  585., 1010., 1330., 1640.,  371.,  861., 1449., 1835.,\n",
       "        2042.,  551., 1231., 1584., 1875., 2106.,  707., 1184., 1464.,\n",
       "        1630., 1745.,  415.,  880., 1140., 1405.],\n",
       "       [ 585.,   nan,  496.,  910., 1350.,  791.,  989., 1610., 2105.,\n",
       "        2380., 1079., 1722., 2120., 2447., 2693., 1297., 1757., 1984.,\n",
       "        2061., 2067.,  970., 1077., 1029.,  985.],\n",
       "       [1010.,  496.,   nan,  440.,  939., 1077., 1005., 1554., 2105.,\n",
       "        2427., 1381., 1954., 2388., 2769., 3086., 1691., 2197., 2465.,\n",
       "        2563., 2566., 1425., 1576., 1440., 1165.],\n",
       "       [1330.,  910.,  440.,   nan,  511., 1280.,  997., 1401., 1970.,\n",
       "        2320., 1572., 2034., 2482., 2910., 3301., 1935., 2477., 2794.,\n",
       "        2941., 2976., 1748., 1979., 1890., 1582.],\n",
       "       [1640., 1350.,  939.,  511.,   nan, 1481., 1020., 1184., 1720.,\n",
       "        2094., 1736., 2044., 2478., 2953., 3407., 2129., 2690., 3064.,\n",
       "        3271., 3359., 2038., 2401., 2366., 2092.],\n",
       "       [ 371.,  791., 1077., 1280., 1481.,   nan,  551., 1090., 1463.,\n",
       "        1669.,  302.,  928., 1330., 1686., 2019.,  653., 1204., 1589.,\n",
       "        1841., 2029.,  614., 1235., 1514., 1724.],\n",
       "       [ 861.,  989., 1005.,  997., 1020.,  551.,   nan,  623., 1122.,\n",
       "        1425.,  737., 1045., 1491., 1948., 2384., 1141., 1697., 2124.,\n",
       "        2394., 2584., 1169., 1746., 1931., 1977.],\n",
       "       [1449., 1610., 1554., 1401., 1184., 1090.,  623.,   nan,  557.,\n",
       "         915., 1134., 1040., 1423., 1925., 2465., 1504., 2011., 2487.,\n",
       "        2830., 3086., 1679., 2322., 2551., 2600.],\n",
       "       [1835., 2105., 2105., 1970., 1720., 1463., 1122.,  557.,   nan,\n",
       "         370., 1389.,  990., 1228., 1718., 2309., 1672., 2085., 2593.,\n",
       "        2988., 3315., 1962., 2671., 2976., 3095.],\n",
       "       [2042., 2380., 2427., 2320., 2094., 1669., 1425.,  915.,  370.,\n",
       "          nan, 1544.,  992., 1091., 1528., 2131., 1750., 2083., 2588.,\n",
       "        3014., 3378., 2100., 2825., 3176., 3364.],\n",
       "       [ 551., 1079., 1381., 1572., 1736.,  302.,  737., 1134., 1389.,\n",
       "        1544.,   nan,  667., 1046., 1380., 1717.,  402.,  955., 1390.,\n",
       "        1698., 1953.,  570., 1285., 1655., 1957.],\n",
       "       [1231., 1722., 1954., 2034., 2044.,  928., 1045., 1040.,  990.,\n",
       "         992.,  667.,   nan,  449.,  919., 1428.,  769., 1096., 1601.,\n",
       "        2015., 2379., 1160., 1895., 2317., 2643.],\n",
       "       [1584., 2120., 2388., 2482., 2478., 1330., 1491., 1423., 1228.,\n",
       "        1091., 1046.,  449.,   nan,  497., 1075.,  982., 1090., 1565.,\n",
       "        2023., 2440., 1425., 2125., 2600., 2991.],\n",
       "       [1875., 2447., 2769., 2910., 2953., 1686., 1948., 1925., 1718.,\n",
       "        1528., 1380.,  919.,  497.,   nan,  601., 1178., 1025., 1401.,\n",
       "        1866., 2335., 1614., 2235., 2760., 3234.],\n",
       "       [2106., 2693., 3086., 3301., 3407., 2019., 2384., 2465., 2309.,\n",
       "        2131., 1717., 1428., 1075.,  601.,   nan, 1401.,  988., 1154.,\n",
       "        1578., 2063., 1758., 2232., 2781., 3346.],\n",
       "       [ 707., 1297., 1691., 1935., 2129.,  653., 1141., 1504., 1672.,\n",
       "        1750.,  402.,  769.,  982., 1178., 1401.,   nan,  554.,  991.,\n",
       "        1330., 1638.,  446., 1150., 1618., 2050.],\n",
       "       [1184., 1757., 2197., 2477., 2690., 1204., 1697., 2011., 2085.,\n",
       "        2083.,  955., 1096., 1090., 1025.,  988.,  554.,   nan,  500.,\n",
       "         933., 1355.,  791., 1252., 1799., 2353.],\n",
       "       [1464., 1984., 2465., 2794., 3064., 1589., 2124., 2487., 2593.,\n",
       "        2588., 1390., 1601., 1565., 1401., 1154.,  991.,  500.,   nan,\n",
       "         464.,  931., 1048., 1201., 1748., 2385.],\n",
       "       [1630., 2061., 2563., 2941., 3271., 1841., 2394., 2830., 2988.,\n",
       "        3014., 1698., 2015., 2023., 1866., 1578., 1330.,  933.,  464.,\n",
       "          nan,  482., 1236., 1090., 1570., 2250.],\n",
       "       [1745., 2067., 2566., 2976., 3359., 2029., 2584., 3086., 3315.,\n",
       "        3378., 1953., 2379., 2440., 2335., 2063., 1638., 1355.,  931.,\n",
       "         482.,   nan, 1418.,  989., 1349., 2038.],\n",
       "       [ 415.,  970., 1425., 1748., 2038.,  614., 1169., 1679., 1962.,\n",
       "        2100.,  570., 1160., 1425., 1614., 1758.,  446.,  791., 1048.,\n",
       "        1236., 1418.,   nan,  729., 1172., 1618.],\n",
       "       [ 880., 1077., 1576., 1979., 2401., 1235., 1746., 2322., 2671.,\n",
       "        2825., 1285., 1895., 2125., 2235., 2232., 1150., 1252., 1201.,\n",
       "        1090.,  989.,  729.,   nan,  552., 1186.],\n",
       "       [1140., 1029., 1440., 1890., 2366., 1514., 1931., 2551., 2976.,\n",
       "        3176., 1655., 2317., 2600., 2760., 2781., 1618., 1799., 1748.,\n",
       "        1570., 1349., 1172.,  552.,   nan,  685.],\n",
       "       [1405.,  985., 1165., 1582., 2092., 1724., 1977., 2600., 3095.,\n",
       "        3364., 1957., 2643., 2991., 3234., 3346., 2050., 2353., 2385.,\n",
       "        2250., 2038., 1618., 1186.,  685.,   nan]])"
      ]
     },
     "execution_count": 5,
     "metadata": {},
     "output_type": "execute_result"
    }
   ],
   "source": [
    "for i in range(n_ant):\n",
    "    for j in range(n_ant):\n",
    "        if not np.isnan(m_ij[i,j]):\n",
    "            m_ij[j,i] = m_ij[i,j]\n",
    "\n",
    "m_ij\n"
   ]
  },
  {
   "cell_type": "markdown",
   "metadata": {},
   "source": [
    "## Plot the Initial Guess Points\n",
    "\n",
    "Initial Guesses are from JSON queried from the telescope API. These are converted to millimeters."
   ]
  },
  {
   "cell_type": "code",
   "execution_count": 6,
   "metadata": {
    "scrolled": true
   },
   "outputs": [],
   "source": [
    "import json\n",
    "import requests\n",
    "\n",
    "def get_data(path):\n",
    "    server = \"https://api.elec.ac.nz/tart/zm-cbu/\"\n",
    "\n",
    "    r = requests.get('{}/{}'.format(server, path))\n",
    "    return json.loads(r.text)\n",
    "\n",
    "def get_pos():\n",
    "    return np.array(get_data('api/v1/imaging/antenna_positions'))\n",
    "\n",
    "if True:\n",
    "    # with open('hammanskraal_antenna_positions_nonaligned.json', \"r\") as f:\n",
    "    with open('downloaded_postions.json', \"r\") as f:\n",
    "        data = f.read()\n",
    "    cal_json = json.loads(data)\n",
    "    current_pos = cal_json[\"ant_pos\"]\n",
    "    current_pos = np.array(current_pos)\n",
    "else:\n",
    "    current_pos = get_pos()\n",
    "    json_result = {}\n",
    "    json_result[\"antenna_positions\"] = current_pos.tolist()\n",
    "    print(json.dumps(json_result, indent=4, separators=(',', ': ')))\n"
   ]
  },
  {
   "cell_type": "code",
   "execution_count": 7,
   "metadata": {},
   "outputs": [
    {
     "data": {
      "text/plain": [
       "np.float64(90.0)"
      ]
     },
     "execution_count": 7,
     "metadata": {},
     "output_type": "execute_result"
    }
   ],
   "source": [
    "def geo_angle(x,y):\n",
    "    return 90 - np.degrees(np.arctan2(y,x))\n",
    "\n",
    "geo_angle(1,0)"
   ]
  },
  {
   "cell_type": "code",
   "execution_count": 8,
   "metadata": {},
   "outputs": [
    {
     "name": "stdout",
     "output_type": "stream",
     "text": [
      "0 : -77.98600748585734,-346.1548535502802, geo: 192.69632059726177\n",
      "1 : 44.15158494825704,-924.1621273058946, geo: 177.26478999980515\n",
      "2 : 449.0341428857233,-1220.6888786758414, geo: 159.80379992577303\n",
      "3 : 898.0827156950761,-1254.9726832763176, geo: 144.41175779045267\n",
      "4 : 1386.3890669185987,-1107.1690725126762, geo: 128.61083261164862\n",
      "5 : 244.99207469402924,-149.65254203358953, geo: 121.41852408413341\n",
      "6 : 795.2790735346701,-268.32106737607614, geo: 108.6440008741772\n",
      "7 : 1318.4528096665729,76.46037328131386, geo: 86.68099198306915\n",
      "8 : 1498.5184023182744,612.3459789314314, geo: 67.77339236827417\n",
      "9 : 1476.7807811967486,984.9053377294307, geo: 56.29959754026425\n",
      "10 : 181.17601788623338,148.78256128621808, geo: 50.607006011433214\n",
      "11 : 501.8350783680421,740.3590710725048, geo: 34.13046414667215\n",
      "12 : 400.53091498077475,1171.8604806651094, geo: 18.86994669124438\n",
      "13 : 40.11786845970304,1527.5688385896892, geo: 1.5043880477546736\n",
      "14 : -539.9877830277244,1715.4822045654707, geo: -17.47260366116697\n",
      "15 : -164.4799045058784,360.8273285295019, geo: -24.50544541212085\n",
      "16 : -597.025094132682,720.6532015996751, geo: -39.64004707849338\n",
      "17 : -1098.7493870368005,703.5437331724688, geo: -57.36802825515278\n",
      "18 : -1495.4482603498689,457.0990052675202, geo: -73.00369348313302\n",
      "19 : -1779.188383753701,60.55324199324549, geo: -88.05073674002173\n",
      "20 : -363.1184364591207,-38.496767442004426, geo: 263.948272501475\n",
      "21 : -945.7115383341845,-482.8640453187527, geo: 242.951925187279\n",
      "22 : -986.2238500469803,-1038.1115150110388, geo: 223.53171888050727\n",
      "23 : -643.4822551686282,-1636.3641365182443, geo: 201.46668920769346\n"
     ]
    },
    {
     "data": {
      "image/png": "[encoded data removed]",
      "text/plain": [
       "<Figure size 1200x1200 with 1 Axes>"
      ]
     },
     "metadata": {},
     "output_type": "display_data"
    }
   ],
   "source": [
    "def i_y(i):\n",
    "    return 2*i+1\n",
    "\n",
    "def i_x(i):\n",
    "    return 2*i\n",
    "\n",
    "\n",
    "initial_guess = np.zeros(2*n_ant)\n",
    "\n",
    "for i in range(n_ant):\n",
    "    x,y = current_pos[i][0:2]*1000\n",
    "    initial_guess[i_x(i)] = x\n",
    "    initial_guess[i_y(i)] = y\n",
    "    \n",
    "    print(f\"{i} : {x},{y}, geo: {geo_angle(x,y)}\")\n",
    "\n",
    "pos_i = initial_guess.reshape((24,2))\n",
    "#pos_i = current_pos*1000\n",
    "\n",
    "import matplotlib.pyplot as plt\n",
    "\n",
    "fig, ax = plt.subplots(figsize=(12,12))\n",
    "\n",
    "ax.scatter(pos_i[:,0], pos_i[:,1])\n",
    "for i in range(0,pos_i.shape[0]):\n",
    "    ax.text(pos_i[i,0], pos_i[i,1],f\"{i}\")\n",
    "\n",
    "ax.grid(True)\n",
    "ax.set_title('Initial positions')\n",
    "ax.set_xlabel('x (mm)')\n",
    "ax.set_ylabel('y (mm)')\n",
    "plt.savefig('initial_positions.png')\n",
    "plt.show()"
   ]
  },
  {
   "cell_type": "markdown",
   "metadata": {},
   "source": [
    "## Criteria for Optimality\n",
    "\n",
    "The function below is minimized when the positions (in variable x) are consistent with the measured distances m[i,j]. The initial value of this function is more than 3 million.\n",
    "\n",
    "Note that the x input is a 1D vector of with 48 entries as [p0.x, p0.y, p1.x, p1.y]"
   ]
  },
  {
   "cell_type": "code",
   "execution_count": 9,
   "metadata": {},
   "outputs": [
    {
     "data": {
      "text/plain": [
       "np.float64(90.0)"
      ]
     },
     "execution_count": 9,
     "metadata": {},
     "output_type": "execute_result"
    }
   ],
   "source": [
    "def geo_angle(x,y):\n",
    "    return 90 - np.degrees(np.arctan2(y,x))\n",
    "\n",
    "geo_angle(1,0)"
   ]
  },
  {
   "cell_type": "code",
   "execution_count": 10,
   "metadata": {},
   "outputs": [],
   "source": [
    "def dist(a,b):\n",
    "    return np.sqrt((a[0]-b[0])**2 + (a[1]-b[1])**2)\n",
    "\n",
    "\n",
    "def p(x, i):\n",
    "    return [x[i_x(i)],x[i_y(i)]]\n",
    "\n",
    "max_err = 4200\n",
    "def bounds():\n",
    "    ret = [(0,0)]*48\n",
    "    for i in range(n_ant):\n",
    "        _x,_y = pos_i[i,0], pos_i[i,1]\n",
    "        ret[i_x(i)] = (_x - max_err, _x + max_err)\n",
    "        ret[i_y(i)] = (_y - max_err, _y + max_err)\n",
    "    \n",
    "    return ret\n",
    "\n",
    "bnd = bounds()\n",
    "\n",
    "center = [0,0]\n",
    "\n",
    "def angle(x, i):\n",
    "    _x, _y = p(x, i)\n",
    "    return geo_angle(_x, _y)\n",
    "    \n",
    "def radius_model(x):\n",
    "    ret = []\n",
    "    \n",
    "    for i in range(n_ant):\n",
    "        p_i = p(x,i)\n",
    "        ret.append(dist(center, p_i))\n",
    "        \n",
    "    return np.array(ret)\n",
    "\n",
    "non_nan_ij = []\n",
    "non_nan_indices = []\n",
    "for i in range(n_ant):\n",
    "    for j in range(n_ant):\n",
    "        if not np.isnan(m_ij[i,j]):\n",
    "            non_nan_ij.append(m_ij[i,j])\n",
    "            non_nan_indices.append([i,j])\n",
    "non_nan_ij = np.array(non_nan_ij)\n",
    "non_nan_indices = np.array(non_nan_indices)\n",
    "\n",
    "def m_ij_model(x):\n",
    "    ret = []\n",
    "    for i in range(n_ant):\n",
    "        p_i = p(x,i)\n",
    "\n",
    "        for j in range(n_ant):\n",
    "            p_j = p(x,j)\n",
    "            if not np.isnan(m_ij[i,j]):\n",
    "                ret.append(dist(p_j, p_i))\n",
    "                \n",
    "    return np.array(ret)\n",
    "    \n",
    "def radius_residual(x):\n",
    "    predict = radius_model(x)\n",
    "    return (predict - radius)\n",
    "\n",
    "def m_ij_residual(x):\n",
    "    predict = m_ij_model(x)\n",
    "    return (predict - non_nan_ij)\n",
    "\n",
    "def rot_residual(x):\n",
    "    predict = angle(x, global_rot_index)\n",
    "    return (predict - global_rot_degrees)\n",
    "\n",
    "def f_old(x):\n",
    "    ret = 0\n",
    "    for i in range(n_ant):\n",
    "        p_i = p(x,i)\n",
    "        ret += (dist(center, p_i) - m_0[i])**2\n",
    "        for j in range(n_ant):\n",
    "            p_j = p(x,j)\n",
    "            if not np.isnan(m_ij[i,j]):\n",
    "                ret += (dist(p_j, p_i) - m_ij[i,j])**2\n",
    "    return ret\n",
    "\n",
    "def f(x):\n",
    "    # This is the final criterion for optimality. The sum of squared residuals.\n",
    "    ret = np.sum(radius_residual(x)**2)*10\n",
    "    ret += np.sum(m_ij_residual(x)**2)\n",
    "    ret += (rot_residual(x)**2)*100\n",
    "    return ret\n"
   ]
  },
  {
   "cell_type": "code",
   "execution_count": 11,
   "metadata": {},
   "outputs": [
    {
     "name": "stdout",
     "output_type": "stream",
     "text": [
      "34618.65395430492\n"
     ]
    }
   ],
   "source": [
    "print(f(initial_guess))"
   ]
  },
  {
   "cell_type": "markdown",
   "metadata": {},
   "source": [
    " We can see that the initial value of this optimality condition is quite large.s"
   ]
  },
  {
   "cell_type": "code",
   "execution_count": 12,
   "metadata": {},
   "outputs": [
    {
     "data": {
      "text/plain": [
       "  message: Desired error not necessarily achieved due to precision loss.\n",
       "  success: False\n",
       "   status: 2\n",
       "      fun: 5861.5926084840785\n",
       "        x: [-7.534e+01 -3.431e+02 ... -6.477e+02 -1.629e+03]\n",
       "      nit: 69\n",
       "      jac: [ 0.000e+00 -1.831e-04 ...  2.441e-04  6.714e-04]\n",
       " hess_inv: [[ 1.081e-01 -2.036e-02 ...  3.894e-01 -1.552e-01]\n",
       "            [-2.036e-02  2.143e-02 ... -8.937e-02  3.920e-02]\n",
       "            ...\n",
       "            [ 3.894e-01 -8.937e-02 ...  1.879e+00 -7.483e-01]\n",
       "            [-1.552e-01  3.920e-02 ... -7.483e-01  3.141e-01]]\n",
       "     nfev: 6283\n",
       "     njev: 128"
      ]
     },
     "execution_count": 12,
     "metadata": {},
     "output_type": "execute_result"
    }
   ],
   "source": [
    "res = minimize(f, initial_guess, bounds=None, options={'maxiter': 500})\n",
    "res"
   ]
  },
  {
   "cell_type": "code",
   "execution_count": 13,
   "metadata": {},
   "outputs": [
    {
     "name": "stdout",
     "output_type": "stream",
     "text": [
      "Ant 0:\tJac: 000.00, \t-00.00\n",
      "Ant 1:\tJac: 000.00, \t-00.00\n",
      "Ant 2:\tJac: 000.00, \t-00.00\n",
      "Ant 3:\tJac: -00.00, \t-00.00\n",
      "Ant 4:\tJac: -00.00, \t000.00\n",
      "Ant 5:\tJac: -00.00, \t000.00\n",
      "Ant 6:\tJac: 000.00, \t000.00\n",
      "Ant 7:\tJac: 000.00, \t000.00\n",
      "Ant 8:\tJac: 000.00, \t000.00\n",
      "Ant 9:\tJac: -00.00, \t-00.00\n",
      "Ant 10:\tJac: 000.00, \t-00.00\n",
      "Ant 11:\tJac: 000.00, \t000.00\n",
      "Ant 12:\tJac: -00.00, \t-00.00\n",
      "Ant 13:\tJac: -00.00, \t-00.00\n",
      "Ant 14:\tJac: 000.00, \t000.00\n",
      "Ant 15:\tJac: 000.00, \t000.00\n",
      "Ant 16:\tJac: -00.00, \t-00.00\n",
      "Ant 17:\tJac: -00.00, \t000.00\n",
      "Ant 18:\tJac: -00.00, \t-00.00\n",
      "Ant 19:\tJac: -00.00, \t-00.00\n",
      "Ant 20:\tJac: 000.00, \t000.00\n",
      "Ant 21:\tJac: 000.00, \t-00.00\n",
      "Ant 22:\tJac: 000.00, \t000.00\n",
      "Ant 23:\tJac: 000.00, \t000.00\n"
     ]
    }
   ],
   "source": [
    "err = res.jac.reshape((24,2))\n",
    "rms = err # np.sqrt(np.sum(err**2, axis=1))\n",
    "for i in range(24):\n",
    "    print(f\"Ant {i}:\\tJac: {rms[i,0]:06.2f}, \\t{rms[i,1]:06.2f}\")"
   ]
  },
  {
   "cell_type": "markdown",
   "metadata": {},
   "source": [
    "The optimized positions are now known. The final value of the function is 32. Far closer to zero than 3 million!\n",
    "\n",
    "We can recover the x,y coordinates by reshaping the array"
   ]
  },
  {
   "cell_type": "code",
   "execution_count": 14,
   "metadata": {},
   "outputs": [
    {
     "data": {
      "text/plain": [
       "array([[  -75.34137665,  -343.05780563],\n",
       "       [   41.04585286,  -918.94249608],\n",
       "       [  444.82555259, -1214.51248665],\n",
       "       [  886.35165014, -1260.90369354],\n",
       "       [ 1375.95382359, -1107.22080084],\n",
       "       [  242.58912982,  -149.94491162],\n",
       "       [  787.05742789,  -268.95860591],\n",
       "       [ 1310.29166273,    77.08171624],\n",
       "       [ 1492.41306416,   608.76969342],\n",
       "       [ 1473.84524316,   981.631352  ],\n",
       "       [  177.62250001,   147.88620494],\n",
       "       [  507.09479466,   737.01754775],\n",
       "       [  398.58223263,  1170.71703259],\n",
       "       [   43.16712856,  1526.25287442],\n",
       "       [ -531.86537827,  1714.98890976],\n",
       "       [ -163.35045934,   362.4238509 ],\n",
       "       [ -590.93117533,   721.5335581 ],\n",
       "       [-1094.98844137,   708.68212179],\n",
       "       [-1491.60454598,   460.78054722],\n",
       "       [-1773.70537675,    66.1780968 ],\n",
       "       [ -360.14831224,   -37.14218914],\n",
       "       [ -943.03728346,  -479.95159273],\n",
       "       [ -986.19747034, -1030.71496805],\n",
       "       [ -647.7137293 , -1628.84449245]])"
      ]
     },
     "execution_count": 14,
     "metadata": {},
     "output_type": "execute_result"
    }
   ],
   "source": [
    "pos = res.x.reshape((24,2))\n",
    "pos"
   ]
  },
  {
   "cell_type": "code",
   "execution_count": 15,
   "metadata": {},
   "outputs": [
    {
     "data": {
      "image/png": "[encoded data removed]",
      "text/plain": [
       "<Figure size 1200x600 with 2 Axes>"
      ]
     },
     "metadata": {},
     "output_type": "display_data"
    }
   ],
   "source": [
    "fig, ax = plt.subplots(nrows=1, ncols=2, figsize=(12,6))\n",
    "\n",
    "\n",
    "ax[0].scatter(pos_i[:,0], pos_i[:,1], label='initial', color='blue')\n",
    "for i in range(0,pos_i.shape[0]):\n",
    "    ax[0].text(pos_i[i,0], pos_i[i,1],f\"{i}\", color='orange')\n",
    "ax[0].set_title('Initial Guess')\n",
    "ax[0].grid(True)\n",
    "ax[0].set_xlabel('x (mm)')\n",
    "ax[0].set_ylabel('y (mm)')\n",
    "\n",
    "ax[1].scatter(pos[:,0], pos[:,1], label='final', color='orange')\n",
    "for i in range(0,pos.shape[0]):\n",
    "    ax[1].text(pos[i,0], pos[i,1],f\"{i}\", color='blue')\n",
    "ax[1].set_title('Final Solution')\n",
    "ax[1].grid(True)\n",
    "ax[1].set_xlabel('x (mm)')\n",
    "ax[1].set_ylabel('y (mm)')\n",
    "plt.savefig('final_positions.png')\n",
    "plt.show()"
   ]
  },
  {
   "cell_type": "markdown",
   "metadata": {},
   "source": [
    "![title](drone_view.jpeg)"
   ]
  },
  {
   "cell_type": "code",
   "execution_count": 16,
   "metadata": {},
   "outputs": [
    {
     "data": {
      "image/png": "[encoded data removed]",
      "text/plain": [
       "<Figure size 1200x1200 with 1 Axes>"
      ]
     },
     "metadata": {},
     "output_type": "display_data"
    }
   ],
   "source": [
    "# Differences plot\n",
    "diff = pos - pos_i[:,0:2]\n",
    "\n",
    "\n",
    "fig, ax = plt.subplots(figsize=(12,12))\n",
    "\n",
    "ax.scatter(diff[:,0], diff[:,1], color='red')\n",
    "\n",
    "for i in range(0,diff.shape[0]):\n",
    "    ax.text(diff[i,0], diff[i,1],f\"{i}\")\n",
    "\n",
    "ax.grid(True)\n",
    "ax.set_title(\"Differences from initial position\")\n",
    "ax.set_xlabel('x (mm)')\n",
    "ax.set_ylabel('y (mm)')\n",
    "plt.savefig('differences.png')\n",
    "plt.show()"
   ]
  },
  {
   "cell_type": "code",
   "execution_count": 17,
   "metadata": {},
   "outputs": [
    {
     "data": {
      "text/plain": [
       "A 0     1.233514\n",
       "A 1    -0.141275\n",
       "A 2    -1.589643\n",
       "A 3     1.264861\n",
       "A 4     1.121974\n",
       "A 5     4.189345\n",
       "A 6     1.744027\n",
       "A 7     2.556983\n",
       "A 8     0.799396\n",
       "A 9     0.824642\n",
       "A 10    1.127848\n",
       "A 11    3.617235\n",
       "A 12    1.707794\n",
       "A 13    0.863202\n",
       "A 14   -4.431081\n",
       "A 15    2.535433\n",
       "A 16    2.636226\n",
       "A 17    2.312093\n",
       "A 18    1.154328\n",
       "A 19    3.939521\n",
       "A 20    1.058488\n",
       "A 21    2.145949\n",
       "A 22    1.519820\n",
       "A 23    2.902580\n",
       "Name: 0, dtype: float64"
      ]
     },
     "execution_count": 17,
     "metadata": {},
     "output_type": "execute_result"
    }
   ],
   "source": [
    "# Residual plot\n",
    "rres = radius_residual(res.x)\n",
    "rres"
   ]
  },
  {
   "cell_type": "code",
   "execution_count": 18,
   "metadata": {},
   "outputs": [
    {
     "data": {
      "image/png": "[encoded data removed]",
      "text/plain": [
       "<Figure size 640x480 with 1 Axes>"
      ]
     },
     "metadata": {},
     "output_type": "display_data"
    }
   ],
   "source": [
    "# ij resdual\n",
    "ijres = m_ij_residual(res.x)\n",
    "plt.hist(ijres, bins='fd');\n",
    "plt.title(\"Histogram of residuals\")\n",
    "plt.xlabel(\"Residual (mm)\")\n",
    "plt.grid(True)\n",
    "plt.savefig(\"residual_histogram.png\")"
   ]
  },
  {
   "cell_type": "markdown",
   "metadata": {},
   "source": [
    "The API expects 3D coordinates (with a z value which is zero in this case). Therefore we add a column of zeros."
   ]
  },
  {
   "cell_type": "code",
   "execution_count": 19,
   "metadata": {
    "scrolled": true
   },
   "outputs": [
    {
     "name": "stdout",
     "output_type": "stream",
     "text": [
      "95th percentile of residuals is 5.09 mm\n",
      " res[23,11] = -10.3\n",
      " res[21,2] = -5.7\n",
      " res[11,4] = -5.3\n",
      " res[18,3] = -5.2\n",
      " res[22,17] = -5.2\n",
      " res[21,19] = 5.1\n",
      " res[11,9] = 5.2\n",
      " res[13,12] = 5.7\n",
      " res[6,5] = 6.3\n",
      " res[5,2] = 6.6\n",
      " res[16,14] = 7.2\n",
      " res[10,2] = 7.4\n",
      " res[11,10] = 8.0\n",
      " res[21,3] = 10.1\n"
     ]
    }
   ],
   "source": [
    "absres = np.abs(ijres)\n",
    "p95 = np.percentile(absres, 95)\n",
    "\n",
    "print(f\"95th percentile of residuals is {p95:4.2f} mm\")\n",
    "ijres_matrix = np.zeros_like(m_ij)\n",
    "big_res = []\n",
    "for r, i, j in zip(ijres, non_nan_indices[:,0], non_nan_indices[:,1]):\n",
    "    if np.abs(r) > p95 and i > j:\n",
    "        big_res.append([r,i,j])\n",
    "    ijres_matrix[i,j] = r\n",
    "\n",
    "for res in sorted(big_res):\n",
    "    r,i,j = res\n",
    "    print(f\" res[{i},{j}] = {r:3.1f}\")\n",
    "    "
   ]
  },
  {
   "cell_type": "markdown",
   "metadata": {},
   "source": [
    "## Output best estimates\n",
    "\n",
    "Write some json files..."
   ]
  },
  {
   "cell_type": "code",
   "execution_count": 20,
   "metadata": {},
   "outputs": [
    {
     "data": {
      "text/plain": [
       "array([[-0.075, -0.343,  0.   ],\n",
       "       [ 0.041, -0.919,  0.   ],\n",
       "       [ 0.445, -1.215,  0.   ],\n",
       "       [ 0.886, -1.261,  0.   ],\n",
       "       [ 1.376, -1.107,  0.   ],\n",
       "       [ 0.243, -0.15 ,  0.   ],\n",
       "       [ 0.787, -0.269,  0.   ],\n",
       "       [ 1.31 ,  0.077,  0.   ],\n",
       "       [ 1.492,  0.609,  0.   ],\n",
       "       [ 1.474,  0.982,  0.   ],\n",
       "       [ 0.178,  0.148,  0.   ],\n",
       "       [ 0.507,  0.737,  0.   ],\n",
       "       [ 0.399,  1.171,  0.   ],\n",
       "       [ 0.043,  1.526,  0.   ],\n",
       "       [-0.532,  1.715,  0.   ],\n",
       "       [-0.163,  0.362,  0.   ],\n",
       "       [-0.591,  0.722,  0.   ],\n",
       "       [-1.095,  0.709,  0.   ],\n",
       "       [-1.492,  0.461,  0.   ],\n",
       "       [-1.774,  0.066,  0.   ],\n",
       "       [-0.36 , -0.037,  0.   ],\n",
       "       [-0.943, -0.48 ,  0.   ],\n",
       "       [-0.986, -1.031,  0.   ],\n",
       "       [-0.648, -1.629,  0.   ]])"
      ]
     },
     "execution_count": 20,
     "metadata": {},
     "output_type": "execute_result"
    }
   ],
   "source": [
    "result = np.zeros((n_ant, 3))\n",
    "result[:,:-1] = np.round(pos/1000.0, 3)\n",
    "result"
   ]
  },
  {
   "cell_type": "code",
   "execution_count": 21,
   "metadata": {},
   "outputs": [
    {
     "name": "stdout",
     "output_type": "stream",
     "text": [
      "{\n",
      "    \"antenna_positions\": [\n",
      "        [\n",
      "            -0.075,\n",
      "            -0.343,\n",
      "            0.0\n",
      "        ],\n",
      "        [\n",
      "            0.041,\n",
      "            -0.919,\n",
      "            0.0\n",
      "        ],\n",
      "        [\n",
      "            0.445,\n",
      "            -1.215,\n",
      "            0.0\n",
      "        ],\n",
      "        [\n",
      "            0.886,\n",
      "            -1.261,\n",
      "            0.0\n",
      "        ],\n",
      "        [\n",
      "            1.376,\n",
      "            -1.107,\n",
      "            0.0\n",
      "        ],\n",
      "        [\n",
      "            0.243,\n",
      "            -0.15,\n",
      "            0.0\n",
      "        ],\n",
      "        [\n",
      "            0.787,\n",
      "            -0.269,\n",
      "            0.0\n",
      "        ],\n",
      "        [\n",
      "            1.31,\n",
      "            0.077,\n",
      "            0.0\n",
      "        ],\n",
      "        [\n",
      "            1.492,\n",
      "            0.609,\n",
      "            0.0\n",
      "        ],\n",
      "        [\n",
      "            1.474,\n",
      "            0.982,\n",
      "            0.0\n",
      "        ],\n",
      "        [\n",
      "            0.178,\n",
      "            0.148,\n",
      "            0.0\n",
      "        ],\n",
      "        [\n",
      "            0.507,\n",
      "            0.737,\n",
      "            0.0\n",
      "        ],\n",
      "        [\n",
      "            0.399,\n",
      "            1.171,\n",
      "            0.0\n",
      "        ],\n",
      "        [\n",
      "            0.043,\n",
      "            1.526,\n",
      "            0.0\n",
      "        ],\n",
      "        [\n",
      "            -0.532,\n",
      "            1.715,\n",
      "            0.0\n",
      "        ],\n",
      "        [\n",
      "            -0.163,\n",
      "            0.362,\n",
      "            0.0\n",
      "        ],\n",
      "        [\n",
      "            -0.591,\n",
      "            0.722,\n",
      "            0.0\n",
      "        ],\n",
      "        [\n",
      "            -1.095,\n",
      "            0.709,\n",
      "            0.0\n",
      "        ],\n",
      "        [\n",
      "            -1.492,\n",
      "            0.461,\n",
      "            0.0\n",
      "        ],\n",
      "        [\n",
      "            -1.774,\n",
      "            0.066,\n",
      "            0.0\n",
      "        ],\n",
      "        [\n",
      "            -0.36,\n",
      "            -0.037,\n",
      "            0.0\n",
      "        ],\n",
      "        [\n",
      "            -0.943,\n",
      "            -0.48,\n",
      "            0.0\n",
      "        ],\n",
      "        [\n",
      "            -0.986,\n",
      "            -1.031,\n",
      "            0.0\n",
      "        ],\n",
      "        [\n",
      "            -0.648,\n",
      "            -1.629,\n",
      "            0.0\n",
      "        ]\n",
      "    ]\n",
      "}\n"
     ]
    }
   ],
   "source": [
    "json_result = {}\n",
    "json_result[\"antenna_positions\"] = result.tolist()\n",
    "\n",
    "json_fname = f\"{site_name}_processed_antenna_positions.json\"\n",
    "f = open(json_fname, \"w\")\n",
    "f.write(json.dumps(json_result))\n",
    "f.close()\n",
    "\n",
    "pos_json = json.dumps(json_result, indent=4, separators=(',', ': '))\n",
    "print(pos_json)"
   ]
  },
  {
   "cell_type": "markdown",
   "metadata": {
    "collapsed": true
   },
   "source": [
    "The position file above is in a format suitable for uploading to the telescope api. Also for using as the calibrated_antenna_positions.json file in TART/software/containers/telescope_web_api/config_data.\n"
   ]
  },
  {
   "cell_type": "code",
   "execution_count": 22,
   "metadata": {},
   "outputs": [
    {
     "name": "stdout",
     "output_type": "stream",
     "text": [
      "tart_upload_antenna_positions --api https://api.elec.ac.nz/tart/za-hammanskraal --pw=xxxx --file za-hammanskraal_processed_antenna_positions.json\n"
     ]
    }
   ],
   "source": [
    "print(f\"tart_upload_antenna_positions --api https://api.elec.ac.nz/tart/{site_name} --pw=xxxx --file {json_fname}\")"
   ]
  }
 ],
 "metadata": {
  "kernelspec": {
   "display_name": "Python 3 (ipykernel)",
   "language": "python",
   "name": "python3"
  },
  "language_info": {
   "codemirror_mode": {
    "name": "ipython",
    "version": 3
   },
   "file_extension": ".py",
   "mimetype": "text/x-python",
   "name": "python",
   "nbconvert_exporter": "python",
   "pygments_lexer": "ipython3",
   "version": "3.13.5"
  }
 },
 "nbformat": 4,
 "nbformat_minor": 2
}
