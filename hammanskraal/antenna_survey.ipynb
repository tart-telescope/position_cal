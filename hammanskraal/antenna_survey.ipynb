{
 "cells": [
  {
   "cell_type": "markdown",
   "metadata": {},
   "source": [
    "# Hammanskraal, Antenna Position Calibration\n",
    "\n",
    "Author: Tim Molteno. tim@elec.ac.nz.\n",
    "\n",
    "The antennas are laid out on five spiral arms.  This notebook will use measurements to infer the actual layout of the antennas.\n",
    "\n",
    "The other reference point is the center of the array. This is assumed to be the point [0,0]. Make sure that a marker is present at this reference point at the same height as the level of the antennas (otherwise the distances will be wrong)."
   ]
  },
  {
   "cell_type": "code",
   "execution_count": 1,
   "metadata": {},
   "outputs": [],
   "source": [
    "import numpy as np\n",
    "from scipy.optimize import minimize "
   ]
  },
  {
   "cell_type": "code",
   "execution_count": 2,
   "metadata": {},
   "outputs": [],
   "source": [
    "site_name = 'za-hammanskraal'\n",
    "x0 = [0,0]\n",
    "global_rot_degrees = 180\n",
    "global_rot_index = 3"
   ]
  },
  {
   "cell_type": "code",
   "execution_count": 3,
   "metadata": {},
   "outputs": [
    {
     "data": {
      "text/plain": [
       "A 0      350.0\n",
       "A 1      914.0\n",
       "A 2     1295.0\n",
       "A 3     1545.0\n",
       "A 4     1770.0\n",
       "A 5      274.0\n",
       "A 6      830.0\n",
       "A 7     1324.0\n",
       "A 8     1616.0\n",
       "A 9     1776.0\n",
       "A 10     230.0\n",
       "A 11     898.0\n",
       "A 12    1240.0\n",
       "A 13    1535.0\n",
       "A 14    1805.0\n",
       "A 15     385.0\n",
       "A 16     940.0\n",
       "A 17    1295.0\n",
       "A 18    1530.0\n",
       "A 19    1786.0\n",
       "A 20     365.0\n",
       "A 21    1060.0\n",
       "A 22    1440.0\n",
       "A 23    1780.0\n",
       "Name: 0, dtype: float64"
      ]
     },
     "execution_count": 3,
     "metadata": {},
     "output_type": "execute_result"
    }
   ],
   "source": [
    "import pandas as pd\n",
    "\n",
    "cols = [f\"A {i}\" for i in range(24)]\n",
    "data = pd.read_excel('antenna_measurements.ods', \"Sheet1\", usecols=cols)\n",
    "radius = data.loc[0]\n",
    "radius"
   ]
  },
  {
   "cell_type": "code",
   "execution_count": null,
   "metadata": {},
   "outputs": [],
   "source": []
  },
  {
   "cell_type": "markdown",
   "metadata": {},
   "source": [
    "## Finding the antennas\n",
    "\n",
    "This is done by measuring the distance from each antenna to x0 as well as each other antenna. The distance $m_0$ are the measurements to $x_0$. The array m_ij are the distances between antennas."
   ]
  },
  {
   "cell_type": "code",
   "execution_count": 4,
   "metadata": {},
   "outputs": [],
   "source": [
    "n_ant = 24\n",
    "m_0 = np.zeros(n_ant)\n",
    "m_ij = np.zeros((n_ant,n_ant))\n",
    "\n",
    "radius = data.loc[0]\n",
    "\n",
    "for i in range(n_ant):\n",
    "    m_ij[i,:] = data.loc[i+1]"
   ]
  },
  {
   "cell_type": "markdown",
   "metadata": {},
   "source": [
    "The following are the measured distances from [x1, x0, x2] from the reference points in millimeters. Note that their order must be the same as the order of the variable called 'reference_points'. In this case, they are x1,x0,x2."
   ]
  },
  {
   "cell_type": "code",
   "execution_count": 5,
   "metadata": {},
   "outputs": [
    {
     "data": {
      "text/plain": [
       "array([[  nan,  594., 1020., 1335., 1645.,  379.,  874., 1456., 1845.,\n",
       "        2050.,  558., 1235., 1597., 1883., 2113.,  712., 1182., 1467.,\n",
       "        1623., 1743.,  419.,  880., 1144., 1411.],\n",
       "       [ 594.,   nan,  500.,  915., 1355.,  797.,  998., 1616., 2113.,\n",
       "        2385., 1080., 1725., 2130., 2467., 2700., 1302., 1765., 1988.,\n",
       "        2065., 2075.,  973., 1081., 1034.,  987.],\n",
       "       [1020.,  500.,   nan,  445.,  945., 1091., 1010., 1560., 2113.,\n",
       "        2436., 1400., 1965., 2400., 2782., 3095., 1695., 2200., 2471.,\n",
       "        2570., 2570., 1435., 1575., 1450., 1170.],\n",
       "       [1335.,  915.,  445.,   nan,  519., 1290., 1001., 1396., 1960.,\n",
       "        2308., 1574., 2026., 2470., 2915., 3298., 1935., 2477., 2797.,\n",
       "        2941., 2987., 1754., 2000., 1899., 1589.],\n",
       "       [1645., 1355.,  945.,  519.,   nan, 1493., 1035., 1190., 1725.,\n",
       "        2097., 1740., 2046., 2484., 2955., 3415., 2135., 2694., 3070.,\n",
       "        3279., 3375., 2050., 2414., 2375., 2095.],\n",
       "       [ 379.,  797., 1091., 1290., 1493.,   nan,  560., 1092., 1470.,\n",
       "        1683.,  305.,  915., 1330., 1695., 2035.,  655., 1210., 1590.,\n",
       "        1845., 2044.,  615., 1235., 1520., 1750.],\n",
       "       [ 874.,  998., 1010., 1001., 1035.,  560.,   nan,  630., 1128.,\n",
       "        1429.,  742., 1050., 1496., 1947., 2390., 1150., 1709., 2133.,\n",
       "        2408., 2600., 1183., 1758., 1943., 1978.],\n",
       "       [1456., 1616., 1560., 1396., 1190., 1092.,  630.,   nan,  565.,\n",
       "         924., 1145., 1050., 1430., 1935., 2477., 1510., 2020., 2499.,\n",
       "        2840., 3100., 1685., 2335., 2560., 2600.],\n",
       "       [1845., 2113., 2113., 1960., 1725., 1470., 1128.,  565.,   nan,\n",
       "         370., 1400., 1002., 1237., 1723., 2317., 1682., 2099., 2600.,\n",
       "        3000., 3320., 1972., 2680., 2988., 3104.],\n",
       "       [2050., 2385., 2436., 2308., 2097., 1683., 1429.,  924.,  370.,\n",
       "          nan, 1545., 1000., 1096., 1540., 2143., 1760., 2090., 2591.,\n",
       "        3020., 3380., 2099., 2825., 3183., 3379.],\n",
       "       [ 558., 1080., 1400., 1574., 1740.,  305.,  742., 1145., 1400.,\n",
       "        1545.,   nan,  677., 1048., 1385., 1723.,  403.,  965., 1396.,\n",
       "        1700., 1968.,  578., 1295., 1669., 1973.],\n",
       "       [1235., 1725., 1965., 2026., 2046.,  915., 1050., 1050., 1002.,\n",
       "        1000.,  677.,   nan,  432.,  890., 1425.,  765., 1101., 1603.,\n",
       "        2020., 2373., 1170., 1895., 2315., 2636.],\n",
       "       [1597., 2130., 2400., 2470., 2484., 1330., 1496., 1430., 1237.,\n",
       "        1096., 1048.,  432.,   nan,  505., 1085.,  987., 1098., 1572.,\n",
       "        2030., 2448., 1430., 2130., 2600., 2998.],\n",
       "       [1883., 2467., 2782., 2915., 2955., 1695., 1947., 1935., 1723.,\n",
       "        1540., 1385.,  890.,  505.,   nan,  610., 1185., 1034., 1410.,\n",
       "        1876., 2335., 1610., 2235., 2755., 3224.],\n",
       "       [2113., 2700., 3095., 3298., 3415., 2035., 2390., 2477., 2317.,\n",
       "        2143., 1723., 1425., 1085.,  610.,   nan, 1405., 1000., 1155.,\n",
       "        1576., 2067., 1763., 2238., 2788., 3350.],\n",
       "       [ 712., 1302., 1695., 1935., 2135.,  655., 1150., 1510., 1682.,\n",
       "        1760.,  403.,  765.,  987., 1185., 1405.,   nan,  560.,  995.,\n",
       "        1334., 1640.,  454., 1150., 1620., 2056.],\n",
       "       [1182., 1765., 2200., 2477., 2694., 1210., 1709., 2020., 2099.,\n",
       "        2090.,  965., 1101., 1098., 1034., 1000.,  560.,   nan,  503.,\n",
       "         936., 1352.,  800., 1259., 1808., 2365.],\n",
       "       [1467., 1988., 2471., 2797., 3070., 1590., 2133., 2499., 2600.,\n",
       "        2591., 1396., 1603., 1572., 1410., 1155.,  995.,  503.,   nan,\n",
       "         470.,  940., 1040., 1196., 1745., 2385.],\n",
       "       [1623., 2065., 2570., 2941., 3279., 1845., 2408., 2840., 3000.,\n",
       "        3020., 1700., 2020., 2030., 1876., 1576., 1334.,  936.,  470.,\n",
       "          nan,  490., 1240., 1090., 1585., 2260.],\n",
       "       [1743., 2075., 2570., 2987., 3375., 2044., 2600., 3100., 3320.,\n",
       "        3380., 1968., 2373., 2448., 2335., 2067., 1640., 1352.,  940.,\n",
       "         490.,   nan, 1415.,  996., 1355., 2035.],\n",
       "       [ 419.,  973., 1435., 1754., 2050.,  615., 1183., 1685., 1972.,\n",
       "        2099.,  578., 1170., 1430., 1610., 1763.,  454.,  800., 1040.,\n",
       "        1240., 1415.,   nan,  730., 1180., 1625.],\n",
       "       [ 880., 1081., 1575., 2000., 2414., 1235., 1758., 2335., 2680.,\n",
       "        2825., 1295., 1895., 2130., 2235., 2238., 1150., 1259., 1196.,\n",
       "        1090.,  996.,  730.,   nan,  560., 1194.],\n",
       "       [1144., 1034., 1450., 1899., 2375., 1520., 1943., 2560., 2988.,\n",
       "        3183., 1669., 2315., 2600., 2755., 2788., 1620., 1808., 1745.,\n",
       "        1585., 1355., 1180.,  560.,   nan,  690.],\n",
       "       [1411.,  987., 1170., 1589., 2095., 1750., 1978., 2600., 3104.,\n",
       "        3379., 1973., 2636., 2998., 3224., 3350., 2056., 2365., 2385.,\n",
       "        2260., 2035., 1625., 1194.,  690.,   nan]])"
      ]
     },
     "execution_count": 5,
     "metadata": {},
     "output_type": "execute_result"
    }
   ],
   "source": [
    "for i in range(n_ant):\n",
    "    for j in range(n_ant):\n",
    "        if not np.isnan(m_ij[i,j]):\n",
    "            m_ij[j,i] = m_ij[i,j]\n",
    "\n",
    "m_ij\n"
   ]
  },
  {
   "cell_type": "markdown",
   "metadata": {},
   "source": [
    "## Plot the Initial Guess Points\n",
    "\n",
    "Initial Guesses are from JSON queried from the telescope API. These are converted to millimeters."
   ]
  },
  {
   "cell_type": "code",
   "execution_count": 6,
   "metadata": {
    "scrolled": true
   },
   "outputs": [
    {
     "name": "stdout",
     "output_type": "stream",
     "text": [
      "{\n",
      "    \"antenna_positions\": [\n",
      "        [\n",
      "            0.21265862175004066,\n",
      "            0.2604866802647942,\n",
      "            0.0\n",
      "        ],\n",
      "        [\n",
      "            0.442807432858482,\n",
      "            0.7031383771387258,\n",
      "            0.0\n",
      "        ],\n",
      "        [\n",
      "            0.4481033444122767,\n",
      "            1.1179840753456787,\n",
      "            0.0\n",
      "        ],\n",
      "        [\n",
      "            0.31020764897177366,\n",
      "            1.4372046529702736,\n",
      "            0.0\n",
      "        ],\n",
      "        [\n",
      "            0.07448585598314927,\n",
      "            1.693218785998566,\n",
      "            0.0\n",
      "        ],\n",
      "        [\n",
      "            0.3129600074651546,\n",
      "            -0.12479196179005407,\n",
      "            0.0\n",
      "        ],\n",
      "        [\n",
      "            0.801683059413253,\n",
      "            -0.22134649816477026,\n",
      "            0.0\n",
      "        ],\n",
      "        [\n",
      "            1.2004714913484789,\n",
      "            -0.11132474324946381,\n",
      "            0.0\n",
      "        ],\n",
      "        [\n",
      "            1.467309295024204,\n",
      "            0.10894233674551676,\n",
      "            0.0\n",
      "        ],\n",
      "        [\n",
      "            1.6488618860604012,\n",
      "            0.4088550852042031,\n",
      "            0.0\n",
      "        ],\n",
      "        [\n",
      "            -0.022412636048796765,\n",
      "            -0.3366343323925,\n",
      "            0.0\n",
      "        ],\n",
      "        [\n",
      "            0.046487068242150056,\n",
      "            -0.8297041355123219,\n",
      "            0.0\n",
      "        ],\n",
      "        [\n",
      "            0.2806133043466542,\n",
      "            -1.1699171651974563,\n",
      "            0.0\n",
      "        ],\n",
      "        [\n",
      "            0.5754282332190818,\n",
      "            -1.349734176945359,\n",
      "            0.0\n",
      "        ],\n",
      "        [\n",
      "            0.916781294405724,\n",
      "            -1.4239708768889079,\n",
      "            0.0\n",
      "        ],\n",
      "        [\n",
      "            -0.32814316838272717,\n",
      "            -0.08228645723170465,\n",
      "            0.0\n",
      "        ],\n",
      "        [\n",
      "            -0.779513845796938,\n",
      "            -0.2972039101540683,\n",
      "            0.0\n",
      "        ],\n",
      "        [\n",
      "            -1.033918303280115,\n",
      "            -0.6209621100698239,\n",
      "            0.0\n",
      "        ],\n",
      "        [\n",
      "            -1.1164580552391579,\n",
      "            -0.9567420816978823,\n",
      "            0.0\n",
      "        ],\n",
      "        [\n",
      "            -1.0842119930238066,\n",
      "            -1.3045310859398274,\n",
      "            0.0\n",
      "        ],\n",
      "        [\n",
      "            -0.18247191917689698,\n",
      "            0.2908487557338005,\n",
      "            0.0\n",
      "        ],\n",
      "        [\n",
      "            -0.520133118426142,\n",
      "            0.6576796629943008,\n",
      "            0.0\n",
      "        ],\n",
      "        [\n",
      "            -0.9054088936774308,\n",
      "            0.8057187693294793,\n",
      "            0.0\n",
      "        ],\n",
      "        [\n",
      "            -1.2527226279470507,\n",
      "            0.7835113384179165,\n",
      "            0.0\n",
      "        ]\n",
      "    ]\n",
      "}\n"
     ]
    }
   ],
   "source": [
    "import json\n",
    "import requests\n",
    "\n",
    "def get_data(path):\n",
    "    server = \"https://api.elec.ac.nz/tart/zm-cbu/\"\n",
    "\n",
    "    r = requests.get('{}/{}'.format(server, path))\n",
    "    return json.loads(r.text)\n",
    "\n",
    "def get_pos():\n",
    "    return np.array(get_data('api/v1/imaging/antenna_positions'))\n",
    "\n",
    "if False:\n",
    "    with open('hammanskraal_antenna_positions_nonaligned.json', \"r\") as f:\n",
    "        data = f.read()\n",
    "    cal_json = json.loads(data)\n",
    "    current_pos = cal_json[\"ant_pos\"]\n",
    "    current_pos = np.array(current_pos)\n",
    "else:\n",
    "    current_pos = get_pos()\n",
    "    json_result = {}\n",
    "    json_result[\"antenna_positions\"] = current_pos.tolist()\n",
    "    print(json.dumps(json_result, indent=4, separators=(',', ': ')))\n"
   ]
  },
  {
   "cell_type": "code",
   "execution_count": 7,
   "metadata": {},
   "outputs": [
    {
     "name": "stdout",
     "output_type": "stream",
     "text": [
      "212.65862175004065 260.4866802647942\n",
      "442.807432858482 703.1383771387259\n",
      "448.1033444122767 1117.9840753456788\n",
      "310.20764897177366 1437.2046529702736\n",
      "74.48585598314928 1693.2187859985659\n",
      "312.9600074651546 -124.79196179005407\n",
      "801.683059413253 -221.34649816477025\n",
      "1200.4714913484788 -111.32474324946381\n",
      "1467.309295024204 108.94233674551676\n",
      "1648.8618860604013 408.8550852042031\n",
      "-22.412636048796767 -336.6343323925\n",
      "46.48706824215006 -829.704135512322\n",
      "280.6133043466542 -1169.9171651974561\n",
      "575.4282332190818 -1349.734176945359\n",
      "916.781294405724 -1423.970876888908\n",
      "-328.14316838272714 -82.28645723170465\n",
      "-779.5138457969381 -297.2039101540683\n",
      "-1033.918303280115 -620.9621100698239\n",
      "-1116.4580552391578 -956.7420816978823\n",
      "-1084.2119930238066 -1304.5310859398273\n",
      "-182.471919176897 290.8487557338005\n",
      "-520.133118426142 657.6796629943008\n",
      "-905.4088936774308 805.7187693294793\n",
      "-1252.7226279470508 783.5113384179166\n"
     ]
    },
    {
     "data": {
      "image/png": "[encoded data removed]",
      "text/plain": [
       "<Figure size 1200x1200 with 1 Axes>"
      ]
     },
     "metadata": {},
     "output_type": "display_data"
    }
   ],
   "source": [
    "def i_y(i):\n",
    "    return 2*i+1\n",
    "\n",
    "def i_x(i):\n",
    "    return 2*i\n",
    "\n",
    "\n",
    "initial_guess = np.zeros(2*n_ant)\n",
    "\n",
    "for i in range(n_ant):\n",
    "    x,y = current_pos[i][0:2]*1000\n",
    "    initial_guess[i_x(i)] = x\n",
    "    initial_guess[i_y(i)] = y\n",
    "    \n",
    "    print(x,y)\n",
    "initial_guess\n",
    "\n",
    "pos_i = current_pos*1000\n",
    "import matplotlib.pyplot as plt\n",
    "\n",
    "fig, ax = plt.subplots(figsize=(12,12))\n",
    "\n",
    "ax.scatter(pos_i[:,0], pos_i[:,1])\n",
    "for i in range(0,pos_i.shape[0]):\n",
    "    ax.text(pos_i[i,0], pos_i[i,1],f\"{i}\")\n",
    "\n",
    "ax.grid(True)\n",
    "ax.set_title('Initial positions')\n",
    "ax.set_xlabel('x (mm)')\n",
    "ax.set_ylabel('y (mm)')\n",
    "plt.savefig('initial_positions.png')\n",
    "plt.show()"
   ]
  },
  {
   "cell_type": "markdown",
   "metadata": {},
   "source": [
    "## Criteria for Optimality\n",
    "\n",
    "The function below is minimized when the positions (in variable x) are consistent with the measured distances m[i,j]. The initial value of this function is more than 3 million.\n",
    "\n",
    "Note that the x input is a 1D vector of with 48 entries as [p0.x, p0.y, p1.x, p1.y]"
   ]
  },
  {
   "cell_type": "code",
   "execution_count": 8,
   "metadata": {},
   "outputs": [
    {
     "data": {
      "text/plain": [
       "np.float64(90.0)"
      ]
     },
     "execution_count": 8,
     "metadata": {},
     "output_type": "execute_result"
    }
   ],
   "source": [
    "def geo_angle(x,y):\n",
    "    return 90 - np.degrees(np.arctan2(y,x))\n",
    "\n",
    "geo_angle(1,0)"
   ]
  },
  {
   "cell_type": "code",
   "execution_count": 9,
   "metadata": {},
   "outputs": [],
   "source": [
    "def dist(a,b):\n",
    "    return np.sqrt((a[0]-b[0])**2 + (a[1]-b[1])**2)\n",
    "\n",
    "\n",
    "def p(x, i):\n",
    "    return [x[i_x(i)],x[i_y(i)]]\n",
    "\n",
    "max_err = 4200\n",
    "def bounds():\n",
    "    ret = [(0,0)]*48\n",
    "    for i in range(n_ant):\n",
    "        _x,_y = pos_i[i,0], pos_i[i,1]\n",
    "        ret[i_x(i)] = (_x - max_err, _x + max_err)\n",
    "        ret[i_y(i)] = (_y - max_err, _y + max_err)\n",
    "    \n",
    "    return ret\n",
    "\n",
    "bnd = bounds()\n",
    "\n",
    "center = [0,0]\n",
    "\n",
    "def angle(x, i):\n",
    "    _x, _y = p(x, i)\n",
    "    return geo_angle(_x, _y)\n",
    "    \n",
    "def radius_model(x):\n",
    "    ret = []\n",
    "    \n",
    "    for i in range(n_ant):\n",
    "        p_i = p(x,i)\n",
    "        ret.append(dist(center, p_i))\n",
    "        \n",
    "    return np.array(ret)\n",
    "\n",
    "non_nan_ij = []\n",
    "non_nan_indices = []\n",
    "for i in range(n_ant):\n",
    "    for j in range(n_ant):\n",
    "        if not np.isnan(m_ij[i,j]):\n",
    "            non_nan_ij.append(m_ij[i,j])\n",
    "            non_nan_indices.append([i,j])\n",
    "non_nan_ij = np.array(non_nan_ij)\n",
    "non_nan_indices = np.array(non_nan_indices)\n",
    "\n",
    "def m_ij_model(x):\n",
    "    ret = []\n",
    "    for i in range(n_ant):\n",
    "        p_i = p(x,i)\n",
    "\n",
    "        for j in range(n_ant):\n",
    "            p_j = p(x,j)\n",
    "            if not np.isnan(m_ij[i,j]):\n",
    "                ret.append(dist(p_j, p_i))\n",
    "                \n",
    "    return np.array(ret)\n",
    "    \n",
    "def radius_residual(x):\n",
    "    predict = radius_model(x)\n",
    "    return (predict - radius)\n",
    "\n",
    "def m_ij_residual(x):\n",
    "    predict = m_ij_model(x)\n",
    "    return (predict - non_nan_ij)/10\n",
    "\n",
    "def rot_residual(x):\n",
    "    predict = angle(x, global_rot_index)\n",
    "    return (predict - global_rot_degrees)\n",
    "\n",
    "def f_old(x):\n",
    "    ret = 0\n",
    "    for i in range(n_ant):\n",
    "        p_i = p(x,i)\n",
    "        ret += (dist(center, p_i) - m_0[i])**2\n",
    "        for j in range(n_ant):\n",
    "            p_j = p(x,j)\n",
    "            if not np.isnan(m_ij[i,j]):\n",
    "                ret += (dist(p_j, p_i) - m_ij[i,j])**2\n",
    "    return ret\n",
    "\n",
    "def f(x):\n",
    "    # This is the final criterion for optimality. The sum of squared residuals.\n",
    "    ret = np.sum(radius_residual(x)**2)\n",
    "    ret += np.sum(m_ij_residual(x)**2)\n",
    "    ret += rot_residual(x)**2\n",
    "    return ret\n"
   ]
  },
  {
   "cell_type": "code",
   "execution_count": 10,
   "metadata": {},
   "outputs": [
    {
     "name": "stdout",
     "output_type": "stream",
     "text": [
      "1024588.5488659934\n"
     ]
    }
   ],
   "source": [
    "print(f(initial_guess))"
   ]
  },
  {
   "cell_type": "markdown",
   "metadata": {},
   "source": [
    " We can see that the initial value of this optimality condition is about 50 million."
   ]
  },
  {
   "cell_type": "code",
   "execution_count": 11,
   "metadata": {},
   "outputs": [
    {
     "data": {
      "text/plain": [
       "  message: Maximum number of iterations has been exceeded.\n",
       "  success: False\n",
       "   status: 1\n",
       "      fun: 906.2239411079256\n",
       "        x: [ 3.297e+02 -1.005e+02 ...  1.739e+03 -1.868e+02]\n",
       "      nit: 100\n",
       "      jac: [-6.131e-01 -5.578e-01 ...  1.190e+00  1.244e-02]\n",
       " hess_inv: [[ 3.887e+00  4.200e-01 ...  2.819e+00  3.016e+00]\n",
       "            [ 4.200e-01  5.387e+00 ...  7.618e-01  1.419e+01]\n",
       "            ...\n",
       "            [ 2.819e+00  7.618e-01 ...  4.323e+00  5.459e+00]\n",
       "            [ 3.016e+00  1.419e+01 ...  5.459e+00  6.700e+01]]\n",
       "     nfev: 5586\n",
       "     njev: 114"
      ]
     },
     "execution_count": 11,
     "metadata": {},
     "output_type": "execute_result"
    }
   ],
   "source": [
    "res = minimize(f, initial_guess, bounds=None, options={'maxiter': 100})\n",
    "res"
   ]
  },
  {
   "cell_type": "code",
   "execution_count": 12,
   "metadata": {},
   "outputs": [
    {
     "name": "stdout",
     "output_type": "stream",
     "text": [
      "Ant 0:\tJac: -00.61, \t-00.56\n",
      "Ant 1:\tJac: 001.29, \t-01.21\n",
      "Ant 2:\tJac: 000.09, \t-01.29\n",
      "Ant 3:\tJac: 001.19, \t-00.77\n",
      "Ant 4:\tJac: 001.07, \t-02.33\n",
      "Ant 5:\tJac: -00.70, \t000.52\n",
      "Ant 6:\tJac: -01.70, \t-00.69\n",
      "Ant 7:\tJac: 000.62, \t-01.84\n",
      "Ant 8:\tJac: -00.38, \t-01.52\n",
      "Ant 9:\tJac: -00.89, \t-00.66\n",
      "Ant 10:\tJac: -01.30, \t-00.39\n",
      "Ant 11:\tJac: -01.33, \t000.96\n",
      "Ant 12:\tJac: -01.98, \t-01.34\n",
      "Ant 13:\tJac: -01.44, \t-00.50\n",
      "Ant 14:\tJac: -00.66, \t001.63\n",
      "Ant 15:\tJac: 000.72, \t001.89\n",
      "Ant 16:\tJac: -01.36, \t001.66\n",
      "Ant 17:\tJac: 000.02, \t000.83\n",
      "Ant 18:\tJac: 000.93, \t000.94\n",
      "Ant 19:\tJac: 000.87, \t001.18\n",
      "Ant 20:\tJac: 001.36, \t000.10\n",
      "Ant 21:\tJac: 000.70, \t001.24\n",
      "Ant 22:\tJac: 001.02, \t000.67\n",
      "Ant 23:\tJac: 001.19, \t000.01\n"
     ]
    }
   ],
   "source": [
    "err = res.jac.reshape((24,2))\n",
    "rms = err # np.sqrt(np.sum(err**2, axis=1))\n",
    "for i in range(24):\n",
    "    print(f\"Ant {i}:\\tJac: {rms[i,0]:06.2f}, \\t{rms[i,1]:06.2f}\")"
   ]
  },
  {
   "cell_type": "markdown",
   "metadata": {},
   "source": [
    "The optimized positions are now known. The final value of the function is 32. Far closer to zero than 3 million!\n",
    "\n",
    "We can recover the x,y coordinates by reshaping the array"
   ]
  },
  {
   "cell_type": "code",
   "execution_count": 13,
   "metadata": {},
   "outputs": [
    {
     "data": {
      "text/plain": [
       "array([[  329.73711645,  -100.48005709],\n",
       "       [  790.54963161,  -474.41873211],\n",
       "       [  866.26771369,  -970.57026272],\n",
       "       [  689.30411308, -1385.24832292],\n",
       "       [  341.62612973, -1751.64067627],\n",
       "       [    5.11709594,  -294.69865462],\n",
       "       [ -141.52894225,  -839.44272813],\n",
       "       [ -679.49774238, -1151.14349275],\n",
       "       [-1240.80559523, -1066.98597338],\n",
       "       [-1563.57911024,  -875.11367218],\n",
       "       [ -230.1364373 ,  -102.21812744],\n",
       "       [ -902.80373567,  -114.25805549],\n",
       "       [-1240.78525491,   165.13164947],\n",
       "       [-1392.0535869 ,   648.34371656],\n",
       "       [-1290.57319721,  1256.56072037],\n",
       "       [ -256.098904  ,   305.43329422],\n",
       "       [ -383.85538986,   852.63564689],\n",
       "       [ -135.28279407,  1289.43442688],\n",
       "       [  267.98500079,  1528.81049237],\n",
       "       [  749.56298539,  1600.45886021],\n",
       "       [  191.33973618,   295.39661867],\n",
       "       [  849.99847241,   611.36066925],\n",
       "       [ 1363.09077273,   392.8500466 ],\n",
       "       [ 1739.29607481,  -186.83717648]])"
      ]
     },
     "execution_count": 13,
     "metadata": {},
     "output_type": "execute_result"
    }
   ],
   "source": [
    "pos = res.x.reshape((24,2))\n",
    "pos"
   ]
  },
  {
   "cell_type": "code",
   "execution_count": 14,
   "metadata": {},
   "outputs": [
    {
     "data": {
      "image/png": "[encoded data removed]",
      "text/plain": [
       "<Figure size 1200x600 with 2 Axes>"
      ]
     },
     "metadata": {},
     "output_type": "display_data"
    }
   ],
   "source": [
    "fig, ax = plt.subplots(nrows=1, ncols=2, figsize=(12,6))\n",
    "\n",
    "\n",
    "ax[0].scatter(pos_i[:,0], pos_i[:,1], label='initial', color='blue')\n",
    "for i in range(0,pos_i.shape[0]):\n",
    "    ax[0].text(pos_i[i,0], pos_i[i,1],f\"{i}\", color='orange')\n",
    "ax[0].set_title('Initial Guess')\n",
    "ax[0].grid(True)\n",
    "ax[0].set_xlabel('x (mm)')\n",
    "ax[0].set_ylabel('y (mm)')\n",
    "\n",
    "ax[1].scatter(pos[:,0], pos[:,1], label='final', color='orange')\n",
    "for i in range(0,pos.shape[0]):\n",
    "    ax[1].text(pos[i,0], pos[i,1],f\"{i}\", color='blue')\n",
    "ax[1].set_title('Final Solution')\n",
    "ax[1].grid(True)\n",
    "ax[1].set_xlabel('x (mm)')\n",
    "ax[1].set_ylabel('y (mm)')\n",
    "plt.savefig('final_positions.png')\n",
    "plt.show()"
   ]
  },
  {
   "cell_type": "code",
   "execution_count": 15,
   "metadata": {},
   "outputs": [
    {
     "data": {
      "image/png": "[encoded data removed]",
      "text/plain": [
       "<Figure size 1200x1200 with 1 Axes>"
      ]
     },
     "metadata": {},
     "output_type": "display_data"
    }
   ],
   "source": [
    "# Differences plot\n",
    "diff = pos - pos_i[:,0:2]\n",
    "\n",
    "\n",
    "fig, ax = plt.subplots(figsize=(12,12))\n",
    "\n",
    "ax.scatter(diff[:,0], diff[:,1], color='red')\n",
    "\n",
    "for i in range(0,diff.shape[0]):\n",
    "    ax.text(diff[i,0], diff[i,1],f\"{i}\")\n",
    "\n",
    "ax.grid(True)\n",
    "ax.set_title(\"Differences from initial position\")\n",
    "ax.set_xlabel('x (mm)')\n",
    "ax.set_ylabel('y (mm)')\n",
    "plt.savefig('differences.png')\n",
    "plt.show()"
   ]
  },
  {
   "cell_type": "code",
   "execution_count": 16,
   "metadata": {},
   "outputs": [
    {
     "data": {
      "text/plain": [
       "A 0    -0.529316\n",
       "A 1     0.797714\n",
       "A 2     0.593289\n",
       "A 3     0.227279\n",
       "A 4     1.464379\n",
       "A 5     2.074308\n",
       "A 6     2.128992\n",
       "A 7     1.273053\n",
       "A 8     2.047719\n",
       "A 9     1.581572\n",
       "A 10    2.181605\n",
       "A 11    1.200521\n",
       "A 12    1.172541\n",
       "A 13    0.063106\n",
       "A 14   -0.374377\n",
       "A 15    1.359271\n",
       "A 16   -0.494251\n",
       "A 17    0.151170\n",
       "A 18    2.212032\n",
       "A 19   -1.871020\n",
       "A 20   -1.304822\n",
       "A 21   -1.297599\n",
       "A 22   -2.142761\n",
       "A 23   -3.069758\n",
       "Name: 0, dtype: float64"
      ]
     },
     "execution_count": 16,
     "metadata": {},
     "output_type": "execute_result"
    }
   ],
   "source": [
    "# Residual plot\n",
    "rres = radius_residual(res.x)\n",
    "rres"
   ]
  },
  {
   "cell_type": "code",
   "execution_count": 17,
   "metadata": {},
   "outputs": [
    {
     "data": {
      "image/png": "[encoded data removed]",
      "text/plain": [
       "<Figure size 640x480 with 1 Axes>"
      ]
     },
     "metadata": {},
     "output_type": "display_data"
    }
   ],
   "source": [
    "# ij resdual\n",
    "ijres = m_ij_residual(res.x)\n",
    "plt.hist(ijres, bins='fd');\n",
    "plt.title(\"Histogram of residuals\")\n",
    "plt.xlabel(\"Residual (mm)\")\n",
    "plt.grid(True)\n",
    "plt.savefig(\"residual_histogram.png\")"
   ]
  },
  {
   "cell_type": "markdown",
   "metadata": {},
   "source": [
    "The API expects 3D coordinates (with a z value which is zero in this case). Therefore we add a column of zeros."
   ]
  },
  {
   "cell_type": "code",
   "execution_count": 18,
   "metadata": {},
   "outputs": [
    {
     "name": "stdout",
     "output_type": "stream",
     "text": [
      "95th percentile of residuals is 1.06 mm\n",
      " res[4,3] = -1.4\n",
      " res[11,3] = 1.1\n",
      " res[11,5] = 1.1\n",
      " res[11,7] = 1.1\n",
      " res[13,1] = -1.3\n",
      " res[13,11] = 1.6\n",
      " res[14,5] = -1.4\n",
      " res[16,2] = 1.1\n",
      " res[20,13] = 1.2\n",
      " res[22,12] = 1.4\n",
      " res[22,13] = 1.2\n",
      " res[23,5] = -1.2\n",
      " res[23,6] = 1.3\n",
      " res[23,13] = 1.7\n"
     ]
    }
   ],
   "source": [
    "absres = np.abs(ijres)\n",
    "p95 = np.percentile(absres, 95)\n",
    "\n",
    "print(f\"95th percentile of residuals is {p95:4.2f} mm\")\n",
    "ijres_matrix = np.zeros_like(m_ij)\n",
    "for r, i, j in zip(ijres, non_nan_indices[:,0], non_nan_indices[:,1]):\n",
    "    if np.abs(r) > p95 and i > j:\n",
    "        print(f\" res[{i},{j}] = {r:3.1f}\")\n",
    "    ijres_matrix[i,j] = r\n",
    "    \n"
   ]
  },
  {
   "cell_type": "markdown",
   "metadata": {},
   "source": [
    "## Output best estimates\n",
    "\n",
    "Write some json files..."
   ]
  },
  {
   "cell_type": "code",
   "execution_count": 19,
   "metadata": {},
   "outputs": [
    {
     "data": {
      "text/plain": [
       "array([[ 0.33 , -0.1  ,  0.   ],\n",
       "       [ 0.791, -0.474,  0.   ],\n",
       "       [ 0.866, -0.971,  0.   ],\n",
       "       [ 0.689, -1.385,  0.   ],\n",
       "       [ 0.342, -1.752,  0.   ],\n",
       "       [ 0.005, -0.295,  0.   ],\n",
       "       [-0.142, -0.839,  0.   ],\n",
       "       [-0.679, -1.151,  0.   ],\n",
       "       [-1.241, -1.067,  0.   ],\n",
       "       [-1.564, -0.875,  0.   ],\n",
       "       [-0.23 , -0.102,  0.   ],\n",
       "       [-0.903, -0.114,  0.   ],\n",
       "       [-1.241,  0.165,  0.   ],\n",
       "       [-1.392,  0.648,  0.   ],\n",
       "       [-1.291,  1.257,  0.   ],\n",
       "       [-0.256,  0.305,  0.   ],\n",
       "       [-0.384,  0.853,  0.   ],\n",
       "       [-0.135,  1.289,  0.   ],\n",
       "       [ 0.268,  1.529,  0.   ],\n",
       "       [ 0.75 ,  1.6  ,  0.   ],\n",
       "       [ 0.191,  0.295,  0.   ],\n",
       "       [ 0.85 ,  0.611,  0.   ],\n",
       "       [ 1.363,  0.393,  0.   ],\n",
       "       [ 1.739, -0.187,  0.   ]])"
      ]
     },
     "execution_count": 19,
     "metadata": {},
     "output_type": "execute_result"
    }
   ],
   "source": [
    "result = np.zeros((n_ant, 3))\n",
    "result[:,:-1] = np.round(pos/1000.0, 3)\n",
    "result"
   ]
  },
  {
   "cell_type": "code",
   "execution_count": 20,
   "metadata": {},
   "outputs": [
    {
     "name": "stdout",
     "output_type": "stream",
     "text": [
      "{\n",
      "    \"antenna_positions\": [\n",
      "        [\n",
      "            0.33,\n",
      "            -0.1,\n",
      "            0.0\n",
      "        ],\n",
      "        [\n",
      "            0.791,\n",
      "            -0.474,\n",
      "            0.0\n",
      "        ],\n",
      "        [\n",
      "            0.866,\n",
      "            -0.971,\n",
      "            0.0\n",
      "        ],\n",
      "        [\n",
      "            0.689,\n",
      "            -1.385,\n",
      "            0.0\n",
      "        ],\n",
      "        [\n",
      "            0.342,\n",
      "            -1.752,\n",
      "            0.0\n",
      "        ],\n",
      "        [\n",
      "            0.005,\n",
      "            -0.295,\n",
      "            0.0\n",
      "        ],\n",
      "        [\n",
      "            -0.142,\n",
      "            -0.839,\n",
      "            0.0\n",
      "        ],\n",
      "        [\n",
      "            -0.679,\n",
      "            -1.151,\n",
      "            0.0\n",
      "        ],\n",
      "        [\n",
      "            -1.241,\n",
      "            -1.067,\n",
      "            0.0\n",
      "        ],\n",
      "        [\n",
      "            -1.564,\n",
      "            -0.875,\n",
      "            0.0\n",
      "        ],\n",
      "        [\n",
      "            -0.23,\n",
      "            -0.102,\n",
      "            0.0\n",
      "        ],\n",
      "        [\n",
      "            -0.903,\n",
      "            -0.114,\n",
      "            0.0\n",
      "        ],\n",
      "        [\n",
      "            -1.241,\n",
      "            0.165,\n",
      "            0.0\n",
      "        ],\n",
      "        [\n",
      "            -1.392,\n",
      "            0.648,\n",
      "            0.0\n",
      "        ],\n",
      "        [\n",
      "            -1.291,\n",
      "            1.257,\n",
      "            0.0\n",
      "        ],\n",
      "        [\n",
      "            -0.256,\n",
      "            0.305,\n",
      "            0.0\n",
      "        ],\n",
      "        [\n",
      "            -0.384,\n",
      "            0.853,\n",
      "            0.0\n",
      "        ],\n",
      "        [\n",
      "            -0.135,\n",
      "            1.289,\n",
      "            0.0\n",
      "        ],\n",
      "        [\n",
      "            0.268,\n",
      "            1.529,\n",
      "            0.0\n",
      "        ],\n",
      "        [\n",
      "            0.75,\n",
      "            1.6,\n",
      "            0.0\n",
      "        ],\n",
      "        [\n",
      "            0.191,\n",
      "            0.295,\n",
      "            0.0\n",
      "        ],\n",
      "        [\n",
      "            0.85,\n",
      "            0.611,\n",
      "            0.0\n",
      "        ],\n",
      "        [\n",
      "            1.363,\n",
      "            0.393,\n",
      "            0.0\n",
      "        ],\n",
      "        [\n",
      "            1.739,\n",
      "            -0.187,\n",
      "            0.0\n",
      "        ]\n",
      "    ]\n",
      "}\n"
     ]
    }
   ],
   "source": [
    "json_result = {}\n",
    "json_result[\"antenna_positions\"] = result.tolist()\n",
    "\n",
    "json_fname = f\"{site_name}_processed_antenna_positions.json\"\n",
    "f = open(json_fname, \"w\")\n",
    "f.write(json.dumps(json_result))\n",
    "f.close()\n",
    "\n",
    "pos_json = json.dumps(json_result, indent=4, separators=(',', ': '))\n",
    "print(pos_json)"
   ]
  },
  {
   "cell_type": "markdown",
   "metadata": {
    "collapsed": true
   },
   "source": [
    "The position file above is in a format suitable for uploading to the telescope api. Also for using as the calibrated_antenna_positions.json file in TART/software/containers/telescope_web_api/config_data.\n"
   ]
  },
  {
   "cell_type": "code",
   "execution_count": 21,
   "metadata": {},
   "outputs": [
    {
     "ename": "SyntaxError",
     "evalue": "unterminated f-string literal (detected at line 1) (2882383258.py, line 1)",
     "output_type": "error",
     "traceback": [
      "\u001b[0;36m  Cell \u001b[0;32mIn[21], line 1\u001b[0;36m\u001b[0m\n\u001b[0;31m    print(f\"tart_upload_antenna_positions --api https://api.elec.ac.nz/tart/{site_name} --pw=xxxx --file {json_fname}\u001b[0m\n\u001b[0m          ^\u001b[0m\n\u001b[0;31mSyntaxError\u001b[0m\u001b[0;31m:\u001b[0m unterminated f-string literal (detected at line 1)\n"
     ]
    }
   ],
   "source": [
    "print(f\"tart_upload_antenna_positions --api https://api.elec.ac.nz/tart/{site_name} --pw=xxxx --file {json_fname}\n",
    "\")"
   ]
  },
  {
   "cell_type": "code",
   "execution_count": null,
   "metadata": {},
   "outputs": [],
   "source": []
  }
 ],
 "metadata": {
  "kernelspec": {
   "display_name": "Python 3 (ipykernel)",
   "language": "python",
   "name": "python3"
  },
  "language_info": {
   "codemirror_mode": {
    "name": "ipython",
    "version": 3
   },
   "file_extension": ".py",
   "mimetype": "text/x-python",
   "name": "python",
   "nbconvert_exporter": "python",
   "pygments_lexer": "ipython3",
   "version": "3.13.5"
  }
 },
 "nbformat": 4,
 "nbformat_minor": 2
}
