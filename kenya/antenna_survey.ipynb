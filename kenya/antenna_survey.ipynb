{
 "cells": [
  {
   "cell_type": "markdown",
   "metadata": {},
   "source": [
    "# Kenya Antenna Position Calibration\n",
    "\n",
    "Author: Tim Molteno. tim@elec.ac.nz.\n",
    "\n",
    "The antennas are laid out on five spiral arms.  This notebook will use measurements to infer the actual layout of the antennas.\n",
    "\n",
    "The other reference point is the center of the array. This is assumed to be the point [0,0]. Make sure that a marker is present at this reference point at the same height as the level of the antennas (otherwise the distances will be wrong)."
   ]
  },
  {
   "cell_type": "code",
   "execution_count": 1,
   "metadata": {},
   "outputs": [],
   "source": [
    "import numpy as np\n",
    "from scipy.optimize import minimize "
   ]
  },
  {
   "cell_type": "code",
   "execution_count": 2,
   "metadata": {},
   "outputs": [],
   "source": [
    "x0 = [0,0]\n",
    "global_rot_degrees = -77\n",
    "global_rot_index = 4"
   ]
  },
  {
   "cell_type": "code",
   "execution_count": 3,
   "metadata": {},
   "outputs": [
    {
     "data": {
      "text/plain": [
       "A 0      220.0\n",
       "A 1      820.0\n",
       "A 2     1190.0\n",
       "A 3     1527.0\n",
       "A 4     1700.0\n",
       "A 5      475.0\n",
       "A 6      804.0\n",
       "A 7     1185.0\n",
       "A 8     1444.0\n",
       "A 9     1695.0\n",
       "A 10     300.0\n",
       "A 11     918.0\n",
       "A 12    1153.0\n",
       "A 13    1530.0\n",
       "A 14    1695.0\n",
       "A 15     230.0\n",
       "A 16     755.0\n",
       "A 17    1208.0\n",
       "A 18    1517.0\n",
       "A 19    1683.0\n",
       "A 20     463.0\n",
       "A 21    1173.0\n",
       "A 22    1384.0\n",
       "A 23    1703.0\n",
       "Name: 0, dtype: float64"
      ]
     },
     "execution_count": 3,
     "metadata": {},
     "output_type": "execute_result"
    }
   ],
   "source": [
    "import pandas as pd\n",
    "\n",
    "cols = [f\"A {i}\" for i in range(24)]\n",
    "data = pd.read_excel('antenna_measurements.ods', \"Sheet1\", usecols=cols)\n",
    "radius = data.loc[0]\n",
    "radius"
   ]
  },
  {
   "cell_type": "code",
   "execution_count": null,
   "metadata": {},
   "outputs": [],
   "source": []
  },
  {
   "cell_type": "markdown",
   "metadata": {},
   "source": [
    "## Finding the antennas\n",
    "\n",
    "This is done by measuring the distance from each antenna to x0 as well as each other antenna. The distance $m_0$ are the measurements to $x_0$. The array m_ij are the distances between antennas."
   ]
  },
  {
   "cell_type": "code",
   "execution_count": 4,
   "metadata": {},
   "outputs": [],
   "source": [
    "n_ant = 24\n",
    "m_0 = np.zeros(n_ant)\n",
    "m_ij = np.zeros((n_ant,n_ant))\n",
    "\n",
    "radius = data.loc[0]\n",
    "\n",
    "for i in range(n_ant):\n",
    "    m_ij[i,:] = data.loc[i+1]"
   ]
  },
  {
   "cell_type": "markdown",
   "metadata": {},
   "source": [
    "The following are the measured distances from [x1, x0, x2] from the reference points in millimeters. Note that their order must be the same as the order of the variable called 'reference_points'. In this case, they are x1,x0,x2."
   ]
  },
  {
   "cell_type": "code",
   "execution_count": 5,
   "metadata": {},
   "outputs": [
    {
     "data": {
      "text/plain": [
       "array([[   0.,  599.,  995., 1356., 1546.,  475.,  800., 1209., 1493.,\n",
       "        1783.,  500., 1125., 1362., 1743., 1905.,  431.,  942., 1363.,\n",
       "        1634., 1780.,  435., 1050., 1245., 1531.],\n",
       "       [ 599.,   nan,  412.,  817., 1045.,  783.,  971., 1350., 1670.,\n",
       "        2014., 1054., 1660., 1911., 2333., 2506., 1014., 1500.,   nan,\n",
       "        2085., 2187.,  840., 1085., 1155., 1255.],\n",
       "       [ 995.,  412.,   nan,  429.,  675., 1015., 1075., 1403., 1715.,\n",
       "        2078., 1395., 1977.,   nan, 2670., 2866., 1400., 1895., 2275.,\n",
       "        2485., 2578., 1260., 1403., 1410., 1385.],\n",
       "       [1356.,  817.,  429.,   nan,  257., 1245., 1204., 1403., 1685.,\n",
       "        2054., 1683., 2207., 2463., 2920., 3127., 1755., 2268., 2671.,\n",
       "        2905.,   nan, 1661., 1830., 1826., 1743.],\n",
       "       [1546., 1045.,  675.,  257.,   nan, 1353., 1260., 1388., 1640.,\n",
       "        1998., 1812.,   nan, 2537., 3005., 3218., 1925., 2444., 2865.,\n",
       "          nan,   nan, 1883., 2083., 2080., 2000.],\n",
       "       [ 475.,  783., 1015., 1245., 1353.,   nan,  335.,  742., 1014.,\n",
       "        1307.,  485.,  974., 1221., 1675., 1872.,  683., 1200., 1670.,\n",
       "        1998., 2168.,  902., 1523., 1692., 1920.],\n",
       "       [ 800.,  971., 1075., 1204., 1260.,  335.,   nan,  415.,  725.,\n",
       "        1050.,  745., 1059., 1303., 1775., 2000., 1005., 1483., 1970.,\n",
       "        2311., 2499., 1230., 1843., 1985., 2177.],\n",
       "       [1209., 1350., 1403., 1403., 1388.,  742.,  415.,   nan,  320.,\n",
       "         680., 1055., 1170., 1375., 1845., 2091., 1345., 1804., 2290.,\n",
       "        2644., 2849., 1637., 2263., 2402., 2586.],\n",
       "       [1493., 1670., 1715., 1685., 1640., 1014.,  725.,  320.,   nan,\n",
       "         365., 1255., 1218., 1378., 1826., 2080., 1563., 1983., 2465.,\n",
       "        2835., 3065., 1900., 2543., 2712., 2910.],\n",
       "       [1783., 2014., 2078., 2054., 1998., 1307., 1050.,  680.,  365.,\n",
       "          nan, 1460., 1272., 1360., 1741., 1990., 1790., 2140., 2595.,\n",
       "        2989., 3220., 2155., 2837., 3007., 3220.],\n",
       "       [ 500., 1054., 1395., 1683., 1812.,  485.,  745., 1055., 1255.,\n",
       "        1460.,   nan,  623.,  865., 1278., 1468.,  322.,  764., 1247.,\n",
       "        1605., 1800.,  723., 1455., 1670., 2002.],\n",
       "       [1125., 1660., 1977., 2207.,   nan,  974., 1059., 1170., 1218.,\n",
       "        1272.,  623.,   nan,  262.,  729.,  963.,  830.,  954., 1383.,\n",
       "        1790., 2028., 1303., 2030., 2262., 2616.],\n",
       "       [1362., 1911.,   nan, 2463., 2537., 1221., 1303., 1375., 1378.,\n",
       "        1360.,  865.,  262.,   nan,  475.,  722., 1039., 1053., 1415.,\n",
       "        1822., 2070., 1487., 2214., 2453., 2826.],\n",
       "       [1743., 2333., 2670., 2920., 3005., 1675., 1775., 1845., 1826.,\n",
       "        1741., 1278.,  729.,  475.,   nan,  255., 1370., 1191., 1420.,\n",
       "        1793., 2045., 1793., 2470., 2721., 3131.],\n",
       "       [1905., 2506., 2866., 3127., 3218., 1872., 2000., 2091., 2080.,\n",
       "        1990., 1468.,  963.,  722.,  255.,   nan, 1510., 1255., 1398.,\n",
       "        1737., 1989., 1905., 2557., 2805., 3235.],\n",
       "       [ 431., 1014., 1400., 1755., 1925.,  683., 1005., 1345., 1563.,\n",
       "        1790.,  322.,  830., 1039., 1370., 1510.,   nan,  528.,  982.,\n",
       "        1318., 1506.,  450., 1195., 1423., 1795.],\n",
       "       [ 942., 1500., 1895., 2268., 2444., 1200., 1483., 1804., 1983.,\n",
       "        2140.,  764.,  954., 1053., 1191., 1255.,  528.,   nan,  485.,\n",
       "         868., 1094.,  713., 1305., 1560., 1991.],\n",
       "       [1363.,   nan, 2275., 2671., 2865., 1670., 1970., 2290., 2465.,\n",
       "        2595., 1247., 1383., 1415., 1420., 1398.,  982.,  485.,   nan,\n",
       "         398.,  655., 1010., 1380., 1625., 2081.],\n",
       "       [1634., 2085., 2485., 2905.,   nan, 1998., 2311., 2644., 2835.,\n",
       "        2989., 1605., 1790., 1822., 1793., 1737., 1318.,  868.,  398.,\n",
       "          nan,   nan, 1254., 1385., 1615., 2068.],\n",
       "       [1780., 2187., 2578.,   nan,   nan, 2168., 2499., 2849., 3065.,\n",
       "        3220., 1800., 2028., 2070., 2045., 1989., 1506., 1094.,  655.,\n",
       "          nan,   nan, 1370., 1360., 1555., 1993.],\n",
       "       [ 435.,  840., 1260., 1661., 1883.,  902., 1230., 1637., 1900.,\n",
       "        2155.,  723., 1303., 1487., 1793., 1905.,  450.,  713., 1010.,\n",
       "        1254., 1370.,   nan,  738.,  962., 1333.],\n",
       "       [1050., 1085., 1403., 1830., 2083., 1523., 1843., 2263., 2543.,\n",
       "        2837., 1455., 2030., 2214., 2470., 2557., 1195., 1305., 1380.,\n",
       "        1385., 1360.,  738.,   nan,  253.,  709.],\n",
       "       [1245., 1155., 1410., 1826., 2080., 1692., 1985., 2402., 2712.,\n",
       "        3007., 1670., 2262., 2453., 2721., 2805., 1423., 1560., 1625.,\n",
       "        1615., 1555.,  962.,  253.,   nan,  460.],\n",
       "       [1531., 1255., 1385., 1743., 2000., 1920., 2177., 2586., 2910.,\n",
       "        3220., 2002., 2616., 2826., 3131., 3235., 1795., 1991., 2081.,\n",
       "        2068., 1993., 1333.,  709.,  460.,   nan]])"
      ]
     },
     "execution_count": 5,
     "metadata": {},
     "output_type": "execute_result"
    }
   ],
   "source": [
    "for i in range(n_ant):\n",
    "    for j in range(n_ant):\n",
    "        if not np.isnan(m_ij[i,j]):\n",
    "            m_ij[j,i] = m_ij[i,j]\n",
    "\n",
    "m_ij\n"
   ]
  },
  {
   "cell_type": "markdown",
   "metadata": {},
   "source": [
    "## Plot the Initial Guess Points\n",
    "\n",
    "Initial Guesses are from JSON queried from the telescope API. These are converted to millimeters."
   ]
  },
  {
   "cell_type": "code",
   "execution_count": 6,
   "metadata": {
    "scrolled": true
   },
   "outputs": [],
   "source": [
    "import json\n",
    "import requests\n",
    "\n",
    "def get_data(path):\n",
    "    server = \"https://api.elec.ac.nz/tart/tart-kenya/\"\n",
    "\n",
    "    r = requests.get('{}/{}'.format(server, path))\n",
    "    return json.loads(r.text)\n",
    "\n",
    "def get_pos():\n",
    "    return np.array(get_data('api/v1/imaging/antenna_positions'))\n",
    "\n",
    "if True:\n",
    "    with open('kenya_antenna_positions_nonaligned.json', \"r\") as f:\n",
    "        data = f.read()\n",
    "    cal_json = json.loads(data)\n",
    "    current_pos = cal_json[\"ant_pos\"]\n",
    "    current_pos = np.array(current_pos)\n",
    "else:\n",
    "    current_pos = get_pos()\n",
    "    json_result = {}\n",
    "    json_result[\"antenna_positions\"] = current_pos.tolist()\n",
    "    print(json.dumps(json_result, indent=4, separators=(',', ': ')))\n"
   ]
  },
  {
   "cell_type": "code",
   "execution_count": 7,
   "metadata": {},
   "outputs": [
    {
     "name": "stdout",
     "output_type": "stream",
     "text": [
      "2.221387794985407 216.98375617711417\n",
      "114.7327731349125 800.8395865757088\n",
      "359.38221050938336 1132.9843852473732\n",
      "743.429443130555 1335.523663894854\n",
      "998.3028561200841 1375.287645443299\n",
      "468.53775294434473 126.13362948559819\n",
      "801.0061154488853 137.93474419900514\n",
      "1196.9123090669038 3.224298442720886\n",
      "1435.1605508779662 -206.5084265793185\n",
      "1615.9384858114165 -523.0435572356404\n",
      "173.4143534602567 -249.01923493774888\n",
      "395.7974732995988 -834.6439566532431\n",
      "383.3580392842967 -1089.2928122659628\n",
      "181.23946501725314 -1520.3322201262563\n",
      "0.4771585711655332 -1699.6200949953645\n",
      "-135.55150095499266 -182.2371798574895\n",
      "-512.5078647525777 -549.0709319021248\n",
      "-976.8510998581446 -706.8486894546801\n",
      "-1373.9889472790292 -648.0689713782642\n",
      "-1602.0836442848347 -534.9109954477997\n",
      "-426.4610658159062 160.1693174744637\n",
      "-956.8870381688517 669.9329325188512\n",
      "-1029.3955261340893 914.5168625913689\n",
      "-999.7519794504333 1373.4571918795655\n"
     ]
    },
    {
     "data": {
      "image/png": "[encoded data removed]",
      "text/plain": [
       "<Figure size 1200x1200 with 1 Axes>"
      ]
     },
     "metadata": {},
     "output_type": "display_data"
    }
   ],
   "source": [
    "def i_y(i):\n",
    "    return 2*i+1\n",
    "\n",
    "def i_x(i):\n",
    "    return 2*i\n",
    "\n",
    "\n",
    "initial_guess = np.zeros(2*n_ant)\n",
    "\n",
    "for i in range(n_ant):\n",
    "    x,y = current_pos[i][0:2]*1000\n",
    "    initial_guess[i_x(i)] = x\n",
    "    initial_guess[i_y(i)] = y\n",
    "    \n",
    "    print(x,y)\n",
    "initial_guess\n",
    "\n",
    "pos_i = current_pos*1000\n",
    "import matplotlib.pyplot as plt\n",
    "\n",
    "fig, ax = plt.subplots(figsize=(12,12))\n",
    "\n",
    "ax.scatter(pos_i[:,0], pos_i[:,1])\n",
    "for i in range(0,pos_i.shape[0]):\n",
    "    ax.text(pos_i[i,0], pos_i[i,1],f\"{i}\")\n",
    "\n",
    "ax.grid(True)\n",
    "ax.set_title('Initial positions')\n",
    "ax.set_xlabel('x (mm)')\n",
    "ax.set_ylabel('y (mm)')\n",
    "plt.savefig('initial_positions.png')\n",
    "plt.show()"
   ]
  },
  {
   "cell_type": "markdown",
   "metadata": {},
   "source": [
    "## Criteria for Optimality\n",
    "\n",
    "The function below is minimized when the positions (in variable x) are consistent with the measured distances m[i,j]. The initial value of this function is more than 3 million.\n",
    "\n",
    "Note that the x input is a 1D vector of with 48 entries as [p0.x, p0.y, p1.x, p1.y]"
   ]
  },
  {
   "cell_type": "code",
   "execution_count": null,
   "metadata": {},
   "outputs": [],
   "source": [
    "def geo_angle(x,y):\n",
    "    return 90 - np.degrees(np.arctan2(y,x))\n",
    "\n",
    "geo_angle(1,0)"
   ]
  },
  {
   "cell_type": "code",
   "execution_count": 8,
   "metadata": {},
   "outputs": [],
   "source": [
    "def dist(a,b):\n",
    "    return np.sqrt((a[0]-b[0])**2 + (a[1]-b[1])**2)\n",
    "\n",
    "\n",
    "def p(x, i):\n",
    "    return [x[i_x(i)],x[i_y(i)]]\n",
    "\n",
    "max_err = 4200\n",
    "def bounds():\n",
    "    ret = [(0,0)]*48\n",
    "    for i in range(n_ant):\n",
    "        _x,_y = pos_i[i,0], pos_i[i,1]\n",
    "        ret[i_x(i)] = (_x - max_err, _x + max_err)\n",
    "        ret[i_y(i)] = (_y - max_err, _y + max_err)\n",
    "    \n",
    "    return ret\n",
    "\n",
    "bnd = bounds()\n",
    "\n",
    "center = [0,0]\n",
    "\n",
    "def angle(x, i):\n",
    "    _x, _y = p(x, i)\n",
    "    return geo_angle(_x, _y)\n",
    "    \n",
    "def radius_model(x):\n",
    "    ret = []\n",
    "    \n",
    "    for i in range(n_ant):\n",
    "        p_i = p(x,i)\n",
    "        ret.append(dist(center, p_i))\n",
    "        \n",
    "    return np.array(ret)\n",
    "\n",
    "non_nan_ij = []\n",
    "non_nan_indices = []\n",
    "for i in range(n_ant):\n",
    "    for j in range(n_ant):\n",
    "        if not np.isnan(m_ij[i,j]):\n",
    "            non_nan_ij.append(m_ij[i,j])\n",
    "            non_nan_indices.append([i,j])\n",
    "non_nan_ij = np.array(non_nan_ij)\n",
    "non_nan_indices = np.array(non_nan_indices)\n",
    "\n",
    "def m_ij_model(x):\n",
    "    ret = []\n",
    "    for i in range(n_ant):\n",
    "        p_i = p(x,i)\n",
    "\n",
    "        for j in range(n_ant):\n",
    "            p_j = p(x,j)\n",
    "            if not np.isnan(m_ij[i,j]):\n",
    "                ret.append(dist(p_j, p_i))\n",
    "                \n",
    "    return np.array(ret)\n",
    "    \n",
    "def radius_residual(x):\n",
    "    predict = radius_model(x)\n",
    "    return predict - radius\n",
    "\n",
    "def m_ij_residual(x):\n",
    "    predict = m_ij_model(x)\n",
    "    return predict - non_nan_ij\n",
    "\n",
    "def rot_residual(x):\n",
    "    predict = angle(x, global_rot_index)\n",
    "    return predict - global_rot_degrees\n",
    "\n",
    "def f_old(x):\n",
    "    ret = 0\n",
    "    for i in range(n_ant):\n",
    "        p_i = p(x,i)\n",
    "        ret += (dist(center, p_i) - m_0[i])**2\n",
    "        for j in range(n_ant):\n",
    "            p_j = p(x,j)\n",
    "            if not np.isnan(m_ij[i,j]):\n",
    "                ret += (dist(p_j, p_i) - m_ij[i,j])**2\n",
    "    return ret\n",
    "\n",
    "def f(x):\n",
    "    # This is the final criterion for optimality. The sum of squared residuals.\n",
    "    ret = np.sum(radius_residual(x)**2)\n",
    "    ret += np.sum(m_ij_residual(x)**2)\n",
    "    ret += rot_residual(x)**2\n",
    "    return ret\n"
   ]
  },
  {
   "cell_type": "code",
   "execution_count": 9,
   "metadata": {},
   "outputs": [
    {
     "data": {
      "text/plain": [
       "np.float64(-90.0)"
      ]
     },
     "execution_count": 9,
     "metadata": {},
     "output_type": "execute_result"
    }
   ],
   "source": [
    "geo_angle(-1,0)"
   ]
  },
  {
   "cell_type": "code",
   "execution_count": 10,
   "metadata": {},
   "outputs": [
    {
     "name": "stdout",
     "output_type": "stream",
     "text": [
      "40125.06672592051\n"
     ]
    }
   ],
   "source": [
    "print(f(initial_guess))"
   ]
  },
  {
   "cell_type": "markdown",
   "metadata": {},
   "source": [
    "We can see that the initial value of this optimality condition is about seven million."
   ]
  },
  {
   "cell_type": "code",
   "execution_count": 11,
   "metadata": {},
   "outputs": [
    {
     "data": {
      "text/plain": [
       "  message: Desired error not necessarily achieved due to precision loss.\n",
       "  success: False\n",
       "   status: 2\n",
       "      fun: 18541.24322304791\n",
       "        x: [-2.019e+02 -8.714e+01 ... -8.839e+02 -1.458e+03]\n",
       "      nit: 378\n",
       "      jac: [ 1.221e-03 -4.883e-04 ... -6.104e-03 -1.270e-02]\n",
       " hess_inv: [[ 5.248e-02 -2.848e-02 ...  1.110e-01 -6.388e-02]\n",
       "            [-2.848e-02  1.170e-01 ... -3.809e-01  2.748e-01]\n",
       "            ...\n",
       "            [ 1.110e-01 -3.809e-01 ...  1.749e+00 -1.186e+00]\n",
       "            [-6.388e-02  2.748e-01 ... -1.186e+00  8.467e-01]]\n",
       "     nfev: 24414\n",
       "     njev: 498"
      ]
     },
     "execution_count": 11,
     "metadata": {},
     "output_type": "execute_result"
    }
   ],
   "source": [
    "res = minimize(f, initial_guess, bounds=None, options={'maxiter': 1000})\n",
    "res"
   ]
  },
  {
   "cell_type": "code",
   "execution_count": 12,
   "metadata": {},
   "outputs": [
    {
     "name": "stdout",
     "output_type": "stream",
     "text": [
      "Ant 0:\tJac: 000.00, \t-00.00\n",
      "Ant 1:\tJac: -00.01, \t-00.01\n",
      "Ant 2:\tJac: 000.00, \t000.01\n",
      "Ant 3:\tJac: 000.00, \t-00.00\n",
      "Ant 4:\tJac: -00.00, \t000.01\n",
      "Ant 5:\tJac: 000.01, \t-00.01\n",
      "Ant 6:\tJac: 000.00, \t000.01\n",
      "Ant 7:\tJac: 000.00, \t000.01\n",
      "Ant 8:\tJac: -00.00, \t000.01\n",
      "Ant 9:\tJac: -00.01, \t000.01\n",
      "Ant 10:\tJac: 000.01, \t-00.01\n",
      "Ant 11:\tJac: 000.01, \t-00.00\n",
      "Ant 12:\tJac: -00.00, \t000.00\n",
      "Ant 13:\tJac: 000.01, \t-00.01\n",
      "Ant 14:\tJac: 000.00, \t000.00\n",
      "Ant 15:\tJac: 000.01, \t000.00\n",
      "Ant 16:\tJac: 000.00, \t-00.00\n",
      "Ant 17:\tJac: 000.00, \t-00.01\n",
      "Ant 18:\tJac: -00.01, \t000.01\n",
      "Ant 19:\tJac: 000.02, \t000.01\n",
      "Ant 20:\tJac: 000.00, \t-00.01\n",
      "Ant 21:\tJac: -00.01, \t-00.01\n",
      "Ant 22:\tJac: -00.00, \t000.00\n",
      "Ant 23:\tJac: -00.01, \t-00.01\n"
     ]
    }
   ],
   "source": [
    "err = res.jac.reshape((24,2))\n",
    "rms = err # np.sqrt(np.sum(err**2, axis=1))\n",
    "for i in range(24):\n",
    "    print(f\"Ant {i}:\\tJac: {rms[i,0]:06.2f}, \\t{rms[i,1]:06.2f}\")"
   ]
  },
  {
   "cell_type": "markdown",
   "metadata": {},
   "source": [
    "The optimized positions are now known. The final value of the function is 32. Far closer to zero than 3 million!\n",
    "\n",
    "We can recover the x,y coordinates by reshaping the array"
   ]
  },
  {
   "cell_type": "code",
   "execution_count": 13,
   "metadata": {},
   "outputs": [
    {
     "data": {
      "text/plain": [
       "array([[ -201.90633896,   -87.13686606],\n",
       "       [ -790.35125939,  -212.85385794],\n",
       "       [-1188.21242814,  -108.31614423],\n",
       "       [-1523.29487061,   162.64748048],\n",
       "       [-1654.54104543,   383.54270623],\n",
       "       [ -298.39036109,   378.97257551],\n",
       "       [ -440.02545065,   679.98669244],\n",
       "       [ -473.61727726,  1095.31161052],\n",
       "       [ -368.97659103,  1397.19094157],\n",
       "       [ -142.92267244,  1686.64374386],\n",
       "       [  158.35041996,   252.88306259],\n",
       "       [  616.19633842,   683.72069216],\n",
       "       [  857.11208764,   770.15872216],\n",
       "       [ 1333.72230422,   751.55734055],\n",
       "       [ 1564.69040374,   651.90363193],\n",
       "       [  224.8437581 ,   -57.39479079],\n",
       "       [  708.86677689,  -267.12137362],\n",
       "       [ 1026.99604296,  -634.91015051],\n",
       "       [ 1130.35676521, -1022.13290058],\n",
       "       [ 1106.28989654, -1283.12287402],\n",
       "       [   18.10694455,  -462.98451711],\n",
       "       [ -248.61799367, -1148.94718792],\n",
       "       [ -448.48019699, -1308.39906466],\n",
       "       [ -883.90264101, -1457.89388947]])"
      ]
     },
     "execution_count": 13,
     "metadata": {},
     "output_type": "execute_result"
    }
   ],
   "source": [
    "pos = res.x.reshape((24,2))\n",
    "pos"
   ]
  },
  {
   "cell_type": "code",
   "execution_count": 14,
   "metadata": {},
   "outputs": [
    {
     "data": {
      "image/png": "[encoded data removed]",
      "text/plain": [
       "<Figure size 1200x1200 with 1 Axes>"
      ]
     },
     "metadata": {},
     "output_type": "display_data"
    }
   ],
   "source": [
    "fig, ax = plt.subplots(figsize=(12,12))\n",
    "\n",
    "ax.scatter(pos_i[:,0], pos_i[:,1], label='initial', color='blue')\n",
    "ax.scatter(pos[:,0], pos[:,1], label='final', color='orange')\n",
    "\n",
    "for i in range(0,pos_i.shape[0]):\n",
    "    ax.text(pos_i[i,0], pos_i[i,1],f\"{i}\", color='orange')\n",
    "\n",
    "for i in range(0,pos.shape[0]):\n",
    "    ax.text(pos[i,0], pos[i,1],f\"{i}\", color='blue')\n",
    "\n",
    "ax.grid(True)\n",
    "ax.set_title('Final Solution')\n",
    "ax.set_xlabel('x (mm)')\n",
    "ax.set_ylabel('y (mm)')\n",
    "ax.legend()\n",
    "plt.savefig('final_positions.png')\n",
    "plt.show()"
   ]
  },
  {
   "cell_type": "code",
   "execution_count": 15,
   "metadata": {},
   "outputs": [
    {
     "data": {
      "image/png": "[encoded data removed]",
      "text/plain": [
       "<Figure size 1200x1200 with 1 Axes>"
      ]
     },
     "metadata": {},
     "output_type": "display_data"
    }
   ],
   "source": [
    "# Differences plot\n",
    "diff = pos - pos_i[:,0:2]\n",
    "\n",
    "\n",
    "fig, ax = plt.subplots(figsize=(12,12))\n",
    "\n",
    "ax.scatter(diff[:,0], diff[:,1], color='red')\n",
    "\n",
    "for i in range(0,diff.shape[0]):\n",
    "    ax.text(diff[i,0], diff[i,1],f\"{i}\")\n",
    "\n",
    "ax.grid(True)\n",
    "ax.set_title(\"Differences from initial position\")\n",
    "ax.set_xlabel('x (mm)')\n",
    "ax.set_xlabel('y (mm)')\n",
    "plt.savefig('differences.png')\n",
    "plt.show()"
   ]
  },
  {
   "cell_type": "code",
   "execution_count": 16,
   "metadata": {},
   "outputs": [
    {
     "data": {
      "text/plain": [
       "A 0     -0.093194\n",
       "A 1     -1.488010\n",
       "A 2      3.139205\n",
       "A 3      4.953480\n",
       "A 4     -1.585716\n",
       "A 5      7.345333\n",
       "A 6      5.940923\n",
       "A 7      8.323447\n",
       "A 8      1.090396\n",
       "A 9     -2.311603\n",
       "A 10    -1.629930\n",
       "A 11     2.419422\n",
       "A 12    -0.704210\n",
       "A 13     0.899612\n",
       "A 14     0.061770\n",
       "A 15     2.053609\n",
       "A 16     2.526195\n",
       "A 17    -0.592955\n",
       "A 18     6.962625\n",
       "A 19    11.190557\n",
       "A 20     0.338456\n",
       "A 21     2.538407\n",
       "A 22    -0.872168\n",
       "A 23     1.915972\n",
       "Name: 0, dtype: float64"
      ]
     },
     "execution_count": 16,
     "metadata": {},
     "output_type": "execute_result"
    }
   ],
   "source": [
    "# Residual plot\n",
    "rres = radius_residual(res.x)\n",
    "rres"
   ]
  },
  {
   "cell_type": "code",
   "execution_count": 17,
   "metadata": {},
   "outputs": [
    {
     "data": {
      "image/png": "[encoded data removed]",
      "text/plain": [
       "<Figure size 640x480 with 1 Axes>"
      ]
     },
     "metadata": {},
     "output_type": "display_data"
    }
   ],
   "source": [
    "# ij resdual\n",
    "ijres = m_ij_residual(res.x)\n",
    "plt.hist(ijres, bins='fd');\n",
    "plt.title(\"Histogram of residuals\")\n",
    "plt.xlabel(\"Residual (mm)\")\n",
    "plt.grid(True)\n",
    "plt.savefig(\"residual_histogram.png\")"
   ]
  },
  {
   "cell_type": "markdown",
   "metadata": {},
   "source": [
    "The API expects 3D coordinates (with a z value which is zero in this case). Therefore we add a column of zeros."
   ]
  },
  {
   "cell_type": "code",
   "execution_count": 18,
   "metadata": {},
   "outputs": [
    {
     "name": "stdout",
     "output_type": "stream",
     "text": [
      "95th percentile of residuals is 9.83 mm\n",
      " res[3,0] = -11.2\n",
      " res[4,0] = -19.0\n",
      " res[5,1] = -13.4\n",
      " res[6,1] = -11.9\n",
      " res[6,2] = 11.8\n",
      " res[9,5] = 9.9\n",
      " res[10,5] = -11.2\n",
      " res[10,6] = -9.8\n",
      " res[11,5] = -10.0\n",
      " res[11,9] = -14.2\n",
      " res[14,0] = 10.0\n",
      " res[14,2] = -10.1\n",
      " res[14,4] = 12.4\n",
      " res[14,5] = 11.0\n",
      " res[14,11] = -14.0\n",
      " res[15,1] = 13.0\n",
      " res[15,2] = 14.0\n",
      " res[15,6] = -12.1\n",
      " res[16,0] = -13.6\n",
      " res[17,0] = -17.5\n",
      " res[18,7] = 12.4\n",
      " res[18,8] = 11.2\n",
      " res[20,17] = 13.4\n",
      " res[21,0] = 12.8\n",
      " res[22,18] = -10.4\n",
      " res[23,9] = 10.7\n",
      " res[23,20] = 9.9\n"
     ]
    }
   ],
   "source": [
    "absres = np.abs(ijres)\n",
    "p95 = np.percentile(absres, 90)\n",
    "\n",
    "print(f\"95th percentile of residuals is {p95:4.2f} mm\")\n",
    "ijres_matrix = np.zeros_like(m_ij)\n",
    "for r, i, j in zip(ijres, non_nan_indices[:,0], non_nan_indices[:,1]):\n",
    "    if np.abs(r) > p95 and i > j:\n",
    "        print(f\" res[{i},{j}] = {r:3.1f}\")\n",
    "    ijres_matrix[i,j] = r\n",
    "    \n"
   ]
  },
  {
   "cell_type": "markdown",
   "metadata": {},
   "source": [
    "## Output best estimates\n",
    "\n",
    "Write some json files..."
   ]
  },
  {
   "cell_type": "code",
   "execution_count": 19,
   "metadata": {},
   "outputs": [
    {
     "data": {
      "text/plain": [
       "array([[-0.202, -0.087,  0.   ],\n",
       "       [-0.79 , -0.213,  0.   ],\n",
       "       [-1.188, -0.108,  0.   ],\n",
       "       [-1.523,  0.163,  0.   ],\n",
       "       [-1.655,  0.384,  0.   ],\n",
       "       [-0.298,  0.379,  0.   ],\n",
       "       [-0.44 ,  0.68 ,  0.   ],\n",
       "       [-0.474,  1.095,  0.   ],\n",
       "       [-0.369,  1.397,  0.   ],\n",
       "       [-0.143,  1.687,  0.   ],\n",
       "       [ 0.158,  0.253,  0.   ],\n",
       "       [ 0.616,  0.684,  0.   ],\n",
       "       [ 0.857,  0.77 ,  0.   ],\n",
       "       [ 1.334,  0.752,  0.   ],\n",
       "       [ 1.565,  0.652,  0.   ],\n",
       "       [ 0.225, -0.057,  0.   ],\n",
       "       [ 0.709, -0.267,  0.   ],\n",
       "       [ 1.027, -0.635,  0.   ],\n",
       "       [ 1.13 , -1.022,  0.   ],\n",
       "       [ 1.106, -1.283,  0.   ],\n",
       "       [ 0.018, -0.463,  0.   ],\n",
       "       [-0.249, -1.149,  0.   ],\n",
       "       [-0.448, -1.308,  0.   ],\n",
       "       [-0.884, -1.458,  0.   ]])"
      ]
     },
     "execution_count": 19,
     "metadata": {},
     "output_type": "execute_result"
    }
   ],
   "source": [
    "result = np.zeros((n_ant, 3))\n",
    "result[:,:-1] = np.round(pos/1000.0, 3)\n",
    "result"
   ]
  },
  {
   "cell_type": "code",
   "execution_count": 20,
   "metadata": {},
   "outputs": [
    {
     "name": "stdout",
     "output_type": "stream",
     "text": [
      "{\n",
      "    \"antenna_positions\": [\n",
      "        [\n",
      "            -0.202,\n",
      "            -0.087,\n",
      "            0.0\n",
      "        ],\n",
      "        [\n",
      "            -0.79,\n",
      "            -0.213,\n",
      "            0.0\n",
      "        ],\n",
      "        [\n",
      "            -1.188,\n",
      "            -0.108,\n",
      "            0.0\n",
      "        ],\n",
      "        [\n",
      "            -1.523,\n",
      "            0.163,\n",
      "            0.0\n",
      "        ],\n",
      "        [\n",
      "            -1.655,\n",
      "            0.384,\n",
      "            0.0\n",
      "        ],\n",
      "        [\n",
      "            -0.298,\n",
      "            0.379,\n",
      "            0.0\n",
      "        ],\n",
      "        [\n",
      "            -0.44,\n",
      "            0.68,\n",
      "            0.0\n",
      "        ],\n",
      "        [\n",
      "            -0.474,\n",
      "            1.095,\n",
      "            0.0\n",
      "        ],\n",
      "        [\n",
      "            -0.369,\n",
      "            1.397,\n",
      "            0.0\n",
      "        ],\n",
      "        [\n",
      "            -0.143,\n",
      "            1.687,\n",
      "            0.0\n",
      "        ],\n",
      "        [\n",
      "            0.158,\n",
      "            0.253,\n",
      "            0.0\n",
      "        ],\n",
      "        [\n",
      "            0.616,\n",
      "            0.684,\n",
      "            0.0\n",
      "        ],\n",
      "        [\n",
      "            0.857,\n",
      "            0.77,\n",
      "            0.0\n",
      "        ],\n",
      "        [\n",
      "            1.334,\n",
      "            0.752,\n",
      "            0.0\n",
      "        ],\n",
      "        [\n",
      "            1.565,\n",
      "            0.652,\n",
      "            0.0\n",
      "        ],\n",
      "        [\n",
      "            0.225,\n",
      "            -0.057,\n",
      "            0.0\n",
      "        ],\n",
      "        [\n",
      "            0.709,\n",
      "            -0.267,\n",
      "            0.0\n",
      "        ],\n",
      "        [\n",
      "            1.027,\n",
      "            -0.635,\n",
      "            0.0\n",
      "        ],\n",
      "        [\n",
      "            1.13,\n",
      "            -1.022,\n",
      "            0.0\n",
      "        ],\n",
      "        [\n",
      "            1.106,\n",
      "            -1.283,\n",
      "            0.0\n",
      "        ],\n",
      "        [\n",
      "            0.018,\n",
      "            -0.463,\n",
      "            0.0\n",
      "        ],\n",
      "        [\n",
      "            -0.249,\n",
      "            -1.149,\n",
      "            0.0\n",
      "        ],\n",
      "        [\n",
      "            -0.448,\n",
      "            -1.308,\n",
      "            0.0\n",
      "        ],\n",
      "        [\n",
      "            -0.884,\n",
      "            -1.458,\n",
      "            0.0\n",
      "        ]\n",
      "    ]\n",
      "}\n"
     ]
    }
   ],
   "source": [
    "json_result = {}\n",
    "json_result[\"antenna_positions\"] = result.tolist()\n",
    "\n",
    "f = open(\"kenya_processed_antenna_positions.json\", \"w\")\n",
    "f.write(json.dumps(json_result))\n",
    "f.close()\n",
    "\n",
    "pos_json = json.dumps(json_result, indent=4, separators=(',', ': '))\n",
    "print(pos_json)"
   ]
  },
  {
   "cell_type": "markdown",
   "metadata": {
    "collapsed": true
   },
   "source": [
    "The position file above is in a format suitable for uploading to the telescope api. Also for using as the calibrated_antenna_positions.json file in TART/software/containers/telescope_web_api/config_data.\n",
    "\n",
    "\n",
    "    tart_upload_antenna_positions --api https://tart.elec.ac.nz/rhodes --pw=xxxx --file biust_antenna_positions.json\n"
   ]
  },
  {
   "cell_type": "code",
   "execution_count": null,
   "metadata": {},
   "outputs": [],
   "source": []
  }
 ],
 "metadata": {
  "kernelspec": {
   "display_name": "Python 3 (ipykernel)",
   "language": "python",
   "name": "python3"
  },
  "language_info": {
   "codemirror_mode": {
    "name": "ipython",
    "version": 3
   },
   "file_extension": ".py",
   "mimetype": "text/x-python",
   "name": "python",
   "nbconvert_exporter": "python",
   "pygments_lexer": "ipython3",
   "version": "3.13.2"
  }
 },
 "nbformat": 4,
 "nbformat_minor": 2
}
