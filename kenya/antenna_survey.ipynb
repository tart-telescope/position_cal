{
 "cells": [
  {
   "cell_type": "markdown",
   "metadata": {},
   "source": [
    "# Kenya Antenna Position Calibration\n",
    "\n",
    "Author: Tim Molteno. tim@elec.ac.nz.\n",
    "\n",
    "The antennas are laid out on five spiral arms.  This notebook will use measurements to infer the actual layout of the antennas.\n",
    "\n",
    "The other reference point is the center of the array. This is assumed to be the point [0,0]. Make sure that a marker is present at this reference point at the same height as the level of the antennas (otherwise the distances will be wrong)."
   ]
  },
  {
   "cell_type": "code",
   "execution_count": 1,
   "metadata": {},
   "outputs": [],
   "source": [
    "import numpy as np\n",
    "from scipy.optimize import minimize "
   ]
  },
  {
   "cell_type": "code",
   "execution_count": 2,
   "metadata": {},
   "outputs": [],
   "source": [
    "x0 = [0,0]\n",
    "global_rot_degrees = -77\n",
    "global_rot_index = 4"
   ]
  },
  {
   "cell_type": "code",
   "execution_count": 3,
   "metadata": {},
   "outputs": [
    {
     "data": {
      "text/plain": [
       "A 0      220.0\n",
       "A 1      820.0\n",
       "A 2     1190.0\n",
       "A 3     1527.0\n",
       "A 4     1700.0\n",
       "A 5      475.0\n",
       "A 6      804.0\n",
       "A 7     1185.0\n",
       "A 8     1444.0\n",
       "A 9     1695.0\n",
       "A 10     300.0\n",
       "A 11     918.0\n",
       "A 12    1153.0\n",
       "A 13    1530.0\n",
       "A 14    1695.0\n",
       "A 15     230.0\n",
       "A 16     755.0\n",
       "A 17    1208.0\n",
       "A 18    1517.0\n",
       "A 19    1693.0\n",
       "A 20     463.0\n",
       "A 21    1173.0\n",
       "A 22    1384.0\n",
       "A 23    1703.0\n",
       "Name: 0, dtype: float64"
      ]
     },
     "execution_count": 3,
     "metadata": {},
     "output_type": "execute_result"
    }
   ],
   "source": [
    "import pandas as pd\n",
    "\n",
    "cols = [f\"A {i}\" for i in range(24)]\n",
    "data = pd.read_excel('antenna_measurements.ods', \"Sheet1\", usecols=cols)\n",
    "radius = data.loc[0]\n",
    "radius"
   ]
  },
  {
   "cell_type": "code",
   "execution_count": null,
   "metadata": {},
   "outputs": [],
   "source": []
  },
  {
   "cell_type": "markdown",
   "metadata": {},
   "source": [
    "## Finding the antennas\n",
    "\n",
    "This is done by measuring the distance from each antenna to x0 as well as each other antenna. The distance $m_0$ are the measurements to $x_0$. The array m_ij are the distances between antennas."
   ]
  },
  {
   "cell_type": "code",
   "execution_count": 4,
   "metadata": {},
   "outputs": [],
   "source": [
    "n_ant = 24\n",
    "m_0 = np.zeros(n_ant)\n",
    "m_ij = np.zeros((n_ant,n_ant))\n",
    "\n",
    "radius = data.loc[0]\n",
    "\n",
    "for i in range(n_ant):\n",
    "    m_ij[i,:] = data.loc[i+1]"
   ]
  },
  {
   "cell_type": "markdown",
   "metadata": {},
   "source": [
    "The following are the measured distances from [x1, x0, x2] from the reference points in millimeters. Note that their order must be the same as the order of the variable called 'reference_points'. In this case, they are x1,x0,x2."
   ]
  },
  {
   "cell_type": "code",
   "execution_count": 5,
   "metadata": {},
   "outputs": [
    {
     "data": {
      "text/plain": [
       "array([[   0.,  599.,  995., 1356.,   nan,  475.,  800., 1209., 1493.,\n",
       "        1783.,  500., 1125., 1362., 1743., 1905.,  431.,  942.,   nan,\n",
       "        1634., 1780.,  435., 1050., 1245., 1531.],\n",
       "       [ 599.,   nan,  412.,  817., 1045.,  783.,  971., 1350., 1670.,\n",
       "        2014., 1054., 1660., 1911., 2333., 2506., 1014., 1500.,   nan,\n",
       "        2085., 2187.,  840., 1085., 1155., 1255.],\n",
       "       [ 995.,  412.,   nan,  429.,  675., 1015., 1075., 1403., 1715.,\n",
       "        2078., 1395., 1977.,   nan, 2670., 2866.,   nan, 1895., 2275.,\n",
       "        2485., 2578., 1260., 1403., 1410., 1385.],\n",
       "       [1356.,  817.,  429.,   nan,  257., 1245., 1204., 1403., 1685.,\n",
       "        2054., 1683., 2207., 2463., 2920., 3127., 1755., 2268., 2671.,\n",
       "        2905.,   nan, 1661., 1830., 1826., 1743.],\n",
       "       [  nan, 1045.,  675.,  257.,   nan, 1353., 1260., 1388., 1640.,\n",
       "        1998., 1812.,   nan, 2537., 3005., 3218., 1925., 2444., 2865.,\n",
       "          nan,   nan, 1883., 2083., 2080., 2000.],\n",
       "       [ 475.,  783., 1015., 1245., 1353.,   nan,  335.,  742., 1014.,\n",
       "        1307.,  485.,  974., 1221., 1675., 1872.,  683., 1200., 1670.,\n",
       "        1998., 2168.,  902., 1523., 1692., 1920.],\n",
       "       [ 800.,  971., 1075., 1204., 1260.,  335.,   nan,  415.,  725.,\n",
       "        1050.,  745., 1059., 1303., 1775., 2000., 1005., 1483., 1970.,\n",
       "        2311., 2499., 1230., 1843., 1985., 2177.],\n",
       "       [1209., 1350., 1403., 1403., 1388.,  742.,  415.,   nan,  320.,\n",
       "         680., 1055., 1170., 1375., 1845., 2091., 1345., 1804., 2290.,\n",
       "        2644., 2849., 1637., 2263., 2402., 2586.],\n",
       "       [1493., 1670., 1715., 1685., 1640., 1014.,  725.,  320.,   nan,\n",
       "         365., 1255., 1218., 1378., 1826., 2080., 1563., 1983., 2465.,\n",
       "        2835., 3065., 1900., 2543., 2712., 2910.],\n",
       "       [1783., 2014., 2078., 2054., 1998., 1307., 1050.,  680.,  365.,\n",
       "          nan, 1460., 1272., 1360., 1741., 1990., 1790., 2140., 2595.,\n",
       "        2989., 3220., 2155., 2837., 3007., 3220.],\n",
       "       [ 500., 1054., 1395., 1683., 1812.,  485.,  745., 1055., 1255.,\n",
       "        1460.,   nan,  623.,  865., 1278., 1468.,  322.,  764., 1247.,\n",
       "        1605., 1800.,  723., 1455., 1670., 2002.],\n",
       "       [1125., 1660., 1977., 2207.,   nan,  974., 1059., 1170., 1218.,\n",
       "        1272.,  623.,   nan,  262.,  729.,  963.,  830.,  954., 1383.,\n",
       "        1790., 2028., 1303., 2030., 2262., 2616.],\n",
       "       [1362., 1911.,   nan, 2463., 2537., 1221., 1303., 1375., 1378.,\n",
       "        1360.,  865.,  262.,   nan,  475.,  722., 1039., 1053., 1415.,\n",
       "        1822., 2070., 1487., 2214., 2453., 2826.],\n",
       "       [1743., 2333., 2670., 2920., 3005., 1675., 1775., 1845., 1826.,\n",
       "        1741., 1278.,  729.,  475.,   nan,  255., 1370., 1191., 1420.,\n",
       "        1793., 2045., 1793., 2470., 2721., 3131.],\n",
       "       [1905., 2506., 2866., 3127., 3218., 1872., 2000., 2091., 2080.,\n",
       "        1990., 1468.,  963.,  722.,  255.,   nan, 1510., 1255., 1398.,\n",
       "        1737., 1989., 1905., 2557., 2805., 3235.],\n",
       "       [ 431., 1014.,   nan, 1755., 1925.,  683., 1005., 1345., 1563.,\n",
       "        1790.,  322.,  830., 1039., 1370., 1510.,   nan,  528.,  982.,\n",
       "        1318., 1506.,  450., 1195., 1423., 1795.],\n",
       "       [ 942., 1500., 1895., 2268., 2444., 1200., 1483., 1804., 1983.,\n",
       "        2140.,  764.,  954., 1053., 1191., 1255.,  528.,   nan,  485.,\n",
       "         868., 1094.,  713., 1305., 1560., 1991.],\n",
       "       [  nan,   nan, 2275., 2671., 2865., 1670., 1970., 2290., 2465.,\n",
       "        2595., 1247., 1383., 1415., 1420., 1398.,  982.,  485.,   nan,\n",
       "         398.,  655., 1010., 1380., 1625., 2081.],\n",
       "       [1634., 2085., 2485., 2905.,   nan, 1998., 2311., 2644., 2835.,\n",
       "        2989., 1605., 1790., 1822., 1793., 1737., 1318.,  868.,  398.,\n",
       "          nan,   nan, 1254., 1385., 1615., 2068.],\n",
       "       [1780., 2187., 2578.,   nan,   nan, 2168., 2499., 2849., 3065.,\n",
       "        3220., 1800., 2028., 2070., 2045., 1989., 1506., 1094.,  655.,\n",
       "          nan,   nan, 1370., 1360., 1555., 1993.],\n",
       "       [ 435.,  840., 1260., 1661., 1883.,  902., 1230., 1637., 1900.,\n",
       "        2155.,  723., 1303., 1487., 1793., 1905.,  450.,  713., 1010.,\n",
       "        1254., 1370.,   nan,  738.,  962., 1333.],\n",
       "       [1050., 1085., 1403., 1830., 2083., 1523., 1843., 2263., 2543.,\n",
       "        2837., 1455., 2030., 2214., 2470., 2557., 1195., 1305., 1380.,\n",
       "        1385., 1360.,  738.,   nan,  253.,  709.],\n",
       "       [1245., 1155., 1410., 1826., 2080., 1692., 1985., 2402., 2712.,\n",
       "        3007., 1670., 2262., 2453., 2721., 2805., 1423., 1560., 1625.,\n",
       "        1615., 1555.,  962.,  253.,   nan,  460.],\n",
       "       [1531., 1255., 1385., 1743., 2000., 1920., 2177., 2586., 2910.,\n",
       "        3220., 2002., 2616., 2826., 3131., 3235., 1795., 1991., 2081.,\n",
       "        2068., 1993., 1333.,  709.,  460.,   nan]])"
      ]
     },
     "execution_count": 5,
     "metadata": {},
     "output_type": "execute_result"
    }
   ],
   "source": [
    "for i in range(n_ant):\n",
    "    for j in range(n_ant):\n",
    "        if not np.isnan(m_ij[i,j]):\n",
    "            m_ij[j,i] = m_ij[i,j]\n",
    "\n",
    "m_ij\n"
   ]
  },
  {
   "cell_type": "markdown",
   "metadata": {},
   "source": [
    "## Plot the Initial Guess Points\n",
    "\n",
    "Initial Guesses are from JSON queried from the telescope API. These are converted to millimeters."
   ]
  },
  {
   "cell_type": "code",
   "execution_count": 6,
   "metadata": {
    "scrolled": true
   },
   "outputs": [],
   "source": [
    "import json\n",
    "import requests\n",
    "\n",
    "def get_data(path):\n",
    "    server = \"https://api.elec.ac.nz/tart/tart-kenya/\"\n",
    "\n",
    "    r = requests.get('{}/{}'.format(server, path))\n",
    "    return json.loads(r.text)\n",
    "\n",
    "def get_pos():\n",
    "    return np.array(get_data('api/v1/imaging/antenna_positions'))\n",
    "\n",
    "if True:\n",
    "    with open('kenya_antenna_positions_nonaligned.json', \"r\") as f:\n",
    "        data = f.read()\n",
    "    cal_json = json.loads(data)\n",
    "    current_pos = cal_json[\"ant_pos\"]\n",
    "    current_pos = np.array(current_pos)\n",
    "else:\n",
    "    current_pos = get_pos()\n",
    "    json_result = {}\n",
    "    json_result[\"antenna_positions\"] = current_pos.tolist()\n",
    "    print(json.dumps(json_result, indent=4, separators=(',', ': ')))\n"
   ]
  },
  {
   "cell_type": "code",
   "execution_count": 7,
   "metadata": {},
   "outputs": [
    {
     "name": "stdout",
     "output_type": "stream",
     "text": [
      "2.221387794985407 216.98375617711417\n",
      "114.7327731349125 800.8395865757088\n",
      "359.38221050938336 1132.9843852473732\n",
      "743.429443130555 1335.523663894854\n",
      "998.3028561200841 1375.287645443299\n",
      "468.53775294434473 126.13362948559819\n",
      "801.0061154488853 137.93474419900514\n",
      "1196.9123090669038 3.224298442720886\n",
      "1435.1605508779662 -206.5084265793185\n",
      "1615.9384858114165 -523.0435572356404\n",
      "173.4143534602567 -249.01923493774888\n",
      "395.7974732995988 -834.6439566532431\n",
      "383.3580392842967 -1089.2928122659628\n",
      "181.23946501725314 -1520.3322201262563\n",
      "0.4771585711655332 -1699.6200949953645\n",
      "-135.55150095499266 -182.2371798574895\n",
      "-512.5078647525777 -549.0709319021248\n",
      "-976.8510998581446 -706.8486894546801\n",
      "-1373.9889472790292 -648.0689713782642\n",
      "-1602.0836442848347 -534.9109954477997\n",
      "-426.4610658159062 160.1693174744637\n",
      "-956.8870381688517 669.9329325188512\n",
      "-1029.3955261340893 914.5168625913689\n",
      "-999.7519794504333 1373.4571918795655\n"
     ]
    },
    {
     "data": {
      "image/png": "[encoded data removed]",
      "text/plain": [
       "<Figure size 1200x1200 with 1 Axes>"
      ]
     },
     "metadata": {},
     "output_type": "display_data"
    }
   ],
   "source": [
    "def i_y(i):\n",
    "    return 2*i+1\n",
    "\n",
    "def i_x(i):\n",
    "    return 2*i\n",
    "\n",
    "\n",
    "initial_guess = np.zeros(2*n_ant)\n",
    "\n",
    "for i in range(n_ant):\n",
    "    x,y = current_pos[i][0:2]*1000\n",
    "    initial_guess[i_x(i)] = x\n",
    "    initial_guess[i_y(i)] = y\n",
    "    \n",
    "    print(x,y)\n",
    "initial_guess\n",
    "\n",
    "pos_i = current_pos*1000\n",
    "import matplotlib.pyplot as plt\n",
    "\n",
    "fig, ax = plt.subplots(figsize=(12,12))\n",
    "\n",
    "ax.scatter(pos_i[:,0], pos_i[:,1])\n",
    "for i in range(0,pos_i.shape[0]):\n",
    "    ax.text(pos_i[i,0], pos_i[i,1],f\"{i}\")\n",
    "\n",
    "ax.grid(True)\n",
    "ax.set_title('Initial positions')\n",
    "ax.set_xlabel('x (mm)')\n",
    "ax.set_ylabel('y (mm)')\n",
    "plt.savefig('initial_positions.png')\n",
    "plt.show()"
   ]
  },
  {
   "cell_type": "markdown",
   "metadata": {},
   "source": [
    "## Criteria for Optimality\n",
    "\n",
    "The function below is minimized when the positions (in variable x) are consistent with the measured distances m[i,j]. The initial value of this function is more than 3 million.\n",
    "\n",
    "Note that the x input is a 1D vector of with 48 entries as [p0.x, p0.y, p1.x, p1.y]"
   ]
  },
  {
   "cell_type": "code",
   "execution_count": 8,
   "metadata": {},
   "outputs": [
    {
     "data": {
      "text/plain": [
       "np.float64(90.0)"
      ]
     },
     "execution_count": 8,
     "metadata": {},
     "output_type": "execute_result"
    }
   ],
   "source": [
    "def geo_angle(x,y):\n",
    "    return 90 - np.degrees(np.arctan2(y,x))\n",
    "\n",
    "geo_angle(1,0)"
   ]
  },
  {
   "cell_type": "code",
   "execution_count": 9,
   "metadata": {},
   "outputs": [],
   "source": [
    "def dist(a,b):\n",
    "    return np.sqrt((a[0]-b[0])**2 + (a[1]-b[1])**2)\n",
    "\n",
    "\n",
    "def p(x, i):\n",
    "    return [x[i_x(i)],x[i_y(i)]]\n",
    "\n",
    "max_err = 4200\n",
    "def bounds():\n",
    "    ret = [(0,0)]*48\n",
    "    for i in range(n_ant):\n",
    "        _x,_y = pos_i[i,0], pos_i[i,1]\n",
    "        ret[i_x(i)] = (_x - max_err, _x + max_err)\n",
    "        ret[i_y(i)] = (_y - max_err, _y + max_err)\n",
    "    \n",
    "    return ret\n",
    "\n",
    "bnd = bounds()\n",
    "\n",
    "center = [0,0]\n",
    "\n",
    "def angle(x, i):\n",
    "    _x, _y = p(x, i)\n",
    "    return geo_angle(_x, _y)\n",
    "    \n",
    "def radius_model(x):\n",
    "    ret = []\n",
    "    \n",
    "    for i in range(n_ant):\n",
    "        p_i = p(x,i)\n",
    "        ret.append(dist(center, p_i))\n",
    "        \n",
    "    return np.array(ret)\n",
    "\n",
    "non_nan_ij = []\n",
    "non_nan_indices = []\n",
    "for i in range(n_ant):\n",
    "    for j in range(n_ant):\n",
    "        if not np.isnan(m_ij[i,j]):\n",
    "            non_nan_ij.append(m_ij[i,j])\n",
    "            non_nan_indices.append([i,j])\n",
    "non_nan_ij = np.array(non_nan_ij)\n",
    "non_nan_indices = np.array(non_nan_indices)\n",
    "\n",
    "def m_ij_model(x):\n",
    "    ret = []\n",
    "    for i in range(n_ant):\n",
    "        p_i = p(x,i)\n",
    "\n",
    "        for j in range(n_ant):\n",
    "            p_j = p(x,j)\n",
    "            if not np.isnan(m_ij[i,j]):\n",
    "                ret.append(dist(p_j, p_i))\n",
    "                \n",
    "    return np.array(ret)\n",
    "    \n",
    "def radius_residual(x):\n",
    "    predict = radius_model(x)\n",
    "    return predict - radius\n",
    "\n",
    "def m_ij_residual(x):\n",
    "    predict = m_ij_model(x)\n",
    "    return predict - non_nan_ij\n",
    "\n",
    "def rot_residual(x):\n",
    "    predict = angle(x, global_rot_index)\n",
    "    return predict - global_rot_degrees\n",
    "\n",
    "def f_old(x):\n",
    "    ret = 0\n",
    "    for i in range(n_ant):\n",
    "        p_i = p(x,i)\n",
    "        ret += (dist(center, p_i) - m_0[i])**2\n",
    "        for j in range(n_ant):\n",
    "            p_j = p(x,j)\n",
    "            if not np.isnan(m_ij[i,j]):\n",
    "                ret += (dist(p_j, p_i) - m_ij[i,j])**2\n",
    "    return ret\n",
    "\n",
    "def f(x):\n",
    "    # This is the final criterion for optimality. The sum of squared residuals.\n",
    "    ret = np.sum(radius_residual(x)**2)\n",
    "    ret += np.sum(m_ij_residual(x)**2)\n",
    "    # ret += rot_residual(x)**2\n",
    "    return ret\n"
   ]
  },
  {
   "cell_type": "code",
   "execution_count": 10,
   "metadata": {},
   "outputs": [
    {
     "name": "stdout",
     "output_type": "stream",
     "text": [
      "26045.830791218385\n"
     ]
    }
   ],
   "source": [
    "print(f(initial_guess))"
   ]
  },
  {
   "cell_type": "markdown",
   "metadata": {},
   "source": [
    "We can see that the initial value of this optimality condition is about seven million."
   ]
  },
  {
   "cell_type": "code",
   "execution_count": 11,
   "metadata": {},
   "outputs": [
    {
     "data": {
      "text/plain": [
       "  message: Desired error not necessarily achieved due to precision loss.\n",
       "  success: False\n",
       "   status: 2\n",
       "      fun: 16518.059349813015\n",
       "        x: [-3.149e+00  2.199e+02 ... -1.004e+03  1.378e+03]\n",
       "      nit: 75\n",
       "      jac: [ 2.441e-03  1.221e-03 ...  2.441e-04 -2.441e-04]\n",
       " hess_inv: [[ 2.264e-02 -8.589e-03 ...  5.520e-03 -1.023e-02]\n",
       "            [-8.589e-03  3.014e-02 ... -2.304e-03  1.539e-02]\n",
       "            ...\n",
       "            [ 5.520e-03 -2.304e-03 ...  2.779e-02  3.604e-03]\n",
       "            [-1.023e-02  1.539e-02 ...  3.604e-03  4.308e-02]]\n",
       "     nfev: 5292\n",
       "     njev: 108"
      ]
     },
     "execution_count": 11,
     "metadata": {},
     "output_type": "execute_result"
    }
   ],
   "source": [
    "res = minimize(f, initial_guess, bounds=None, options={'maxiter': 1000})\n",
    "res"
   ]
  },
  {
   "cell_type": "code",
   "execution_count": 12,
   "metadata": {},
   "outputs": [
    {
     "name": "stdout",
     "output_type": "stream",
     "text": [
      "Ant 0:\tJac: 000.00, \t000.00\n",
      "Ant 1:\tJac: 000.00, \t000.00\n",
      "Ant 2:\tJac: 000.00, \t000.00\n",
      "Ant 3:\tJac: 000.00, \t000.00\n",
      "Ant 4:\tJac: -00.00, \t-00.00\n",
      "Ant 5:\tJac: -00.00, \t-00.00\n",
      "Ant 6:\tJac: 000.00, \t000.00\n",
      "Ant 7:\tJac: 000.00, \t000.00\n",
      "Ant 8:\tJac: -00.00, \t-00.00\n",
      "Ant 9:\tJac: 000.00, \t-00.00\n",
      "Ant 10:\tJac: -00.00, \t000.00\n",
      "Ant 11:\tJac: -00.00, \t-00.00\n",
      "Ant 12:\tJac: 000.00, \t000.00\n",
      "Ant 13:\tJac: 000.00, \t000.00\n",
      "Ant 14:\tJac: -00.00, \t-00.00\n",
      "Ant 15:\tJac: -00.00, \t-00.00\n",
      "Ant 16:\tJac: -00.00, \t000.00\n",
      "Ant 17:\tJac: -00.00, \t-00.00\n",
      "Ant 18:\tJac: 000.00, \t-00.00\n",
      "Ant 19:\tJac: -00.00, \t000.00\n",
      "Ant 20:\tJac: 000.00, \t-00.00\n",
      "Ant 21:\tJac: 000.00, \t000.00\n",
      "Ant 22:\tJac: -00.00, \t-00.00\n",
      "Ant 23:\tJac: 000.00, \t-00.00\n"
     ]
    }
   ],
   "source": [
    "err = res.jac.reshape((24,2))\n",
    "rms = err # np.sqrt(np.sum(err**2, axis=1))\n",
    "for i in range(24):\n",
    "    print(f\"Ant {i}:\\tJac: {rms[i,0]:06.2f}, \\t{rms[i,1]:06.2f}\")"
   ]
  },
  {
   "cell_type": "markdown",
   "metadata": {},
   "source": [
    "The optimized positions are now known. The final value of the function is 32. Far closer to zero than 3 million!\n",
    "\n",
    "We can recover the x,y coordinates by reshaping the array"
   ]
  },
  {
   "cell_type": "code",
   "execution_count": 13,
   "metadata": {},
   "outputs": [
    {
     "data": {
      "text/plain": [
       "array([[   -3.14879142,   219.87079314],\n",
       "       [  108.28020365,   810.93034585],\n",
       "       [  358.76486104,  1138.56381912],\n",
       "       [  737.94895581,  1341.89630584],\n",
       "       [  991.4940923 ,  1376.66813425],\n",
       "       [  464.0591203 ,   128.53908003],\n",
       "       [  796.42971755,   142.81977237],\n",
       "       [ 1192.47599229,    13.28217693],\n",
       "       [ 1430.45858186,  -199.89323436],\n",
       "       [ 1610.05236987,  -520.25000348],\n",
       "       [  171.28083837,  -243.96562034],\n",
       "       [  391.73534751,  -832.73406107],\n",
       "       [  378.25779287, -1088.48616153],\n",
       "       [  176.81957793, -1520.79281466],\n",
       "       [   -4.40506697, -1695.27799019],\n",
       "       [ -140.94196471,  -186.61919093],\n",
       "       [ -521.11089207,  -550.75785673],\n",
       "       [ -982.68673799,  -700.69181091],\n",
       "       [-1380.32838601,  -647.59393838],\n",
       "       [-1612.01369112,  -524.68089357],\n",
       "       [ -434.70841912,   162.06440799],\n",
       "       [ -964.34972   ,   673.19131584],\n",
       "       [-1034.18709624,   919.13503266],\n",
       "       [-1003.81283834,  1378.48780489]])"
      ]
     },
     "execution_count": 13,
     "metadata": {},
     "output_type": "execute_result"
    }
   ],
   "source": [
    "pos = res.x.reshape((24,2))\n",
    "pos"
   ]
  },
  {
   "cell_type": "code",
   "execution_count": 14,
   "metadata": {},
   "outputs": [
    {
     "data": {
      "image/png": "[encoded data removed]",
      "text/plain": [
       "<Figure size 1200x1200 with 1 Axes>"
      ]
     },
     "metadata": {},
     "output_type": "display_data"
    }
   ],
   "source": [
    "fig, ax = plt.subplots(figsize=(12,12))\n",
    "\n",
    "ax.scatter(pos_i[:,0], pos_i[:,1], label='initial', color='blue')\n",
    "ax.scatter(pos[:,0], pos[:,1], label='final', color='orange')\n",
    "\n",
    "for i in range(0,pos_i.shape[0]):\n",
    "    ax.text(pos_i[i,0], pos_i[i,1],f\"{i}\", color='orange')\n",
    "\n",
    "for i in range(0,pos.shape[0]):\n",
    "    ax.text(pos[i,0], pos[i,1],f\"{i}\", color='blue')\n",
    "\n",
    "ax.grid(True)\n",
    "ax.set_title('Final Solution')\n",
    "ax.set_xlabel('x (mm)')\n",
    "ax.set_ylabel('y (mm)')\n",
    "ax.legend()\n",
    "plt.savefig('final_positions.png')\n",
    "plt.show()"
   ]
  },
  {
   "cell_type": "code",
   "execution_count": 15,
   "metadata": {},
   "outputs": [
    {
     "data": {
      "image/png": "[encoded data removed]",
      "text/plain": [
       "<Figure size 1200x1200 with 1 Axes>"
      ]
     },
     "metadata": {},
     "output_type": "display_data"
    }
   ],
   "source": [
    "# Differences plot\n",
    "diff = pos - pos_i[:,0:2]\n",
    "\n",
    "\n",
    "fig, ax = plt.subplots(figsize=(12,12))\n",
    "\n",
    "ax.scatter(diff[:,0], diff[:,1], color='red')\n",
    "\n",
    "for i in range(0,diff.shape[0]):\n",
    "    ax.text(diff[i,0], diff[i,1],f\"{i}\")\n",
    "\n",
    "ax.grid(True)\n",
    "ax.set_title(\"Differences from initial position\")\n",
    "ax.set_xlabel('x (mm)')\n",
    "ax.set_ylabel('y (mm)')\n",
    "plt.savefig('differences.png')\n",
    "plt.show()"
   ]
  },
  {
   "cell_type": "code",
   "execution_count": 16,
   "metadata": {},
   "outputs": [
    {
     "data": {
      "text/plain": [
       "A 0    -0.106661\n",
       "A 1    -1.872487\n",
       "A 2     3.750307\n",
       "A 3     4.422331\n",
       "A 4    -3.451832\n",
       "A 5     6.532099\n",
       "A 6     5.133971\n",
       "A 7     7.549961\n",
       "A 8     0.357663\n",
       "A 9    -2.980881\n",
       "A 10   -1.912178\n",
       "A 11    2.273111\n",
       "A 12   -0.662774\n",
       "A 13    1.037540\n",
       "A 14    0.283713\n",
       "A 15    3.861839\n",
       "A 16    3.215523\n",
       "A 17   -1.085654\n",
       "A 18    7.691563\n",
       "A 19    2.251657\n",
       "A 20    0.935644\n",
       "A 21    3.076924\n",
       "A 22   -0.398844\n",
       "A 23    2.247443\n",
       "Name: 0, dtype: float64"
      ]
     },
     "execution_count": 16,
     "metadata": {},
     "output_type": "execute_result"
    }
   ],
   "source": [
    "# Residual plot\n",
    "rres = radius_residual(res.x)\n",
    "rres"
   ]
  },
  {
   "cell_type": "code",
   "execution_count": 17,
   "metadata": {},
   "outputs": [
    {
     "data": {
      "image/png": "[encoded data removed]",
      "text/plain": [
       "<Figure size 640x480 with 1 Axes>"
      ]
     },
     "metadata": {},
     "output_type": "display_data"
    }
   ],
   "source": [
    "# ij resdual\n",
    "ijres = m_ij_residual(res.x)\n",
    "plt.hist(ijres, bins='fd');\n",
    "plt.title(\"Histogram of residuals\")\n",
    "plt.xlabel(\"Residual (mm)\")\n",
    "plt.grid(True)\n",
    "plt.savefig(\"residual_histogram.png\")"
   ]
  },
  {
   "cell_type": "markdown",
   "metadata": {},
   "source": [
    "The API expects 3D coordinates (with a z value which is zero in this case). Therefore we add a column of zeros."
   ]
  },
  {
   "cell_type": "code",
   "execution_count": 18,
   "metadata": {},
   "outputs": [
    {
     "name": "stdout",
     "output_type": "stream",
     "text": [
      "95th percentile of residuals is 11.22 mm\n",
      " res[3,0] = -11.3\n",
      " res[5,1] = -13.4\n",
      " res[6,1] = -11.9\n",
      " res[6,2] = 12.7\n",
      " res[11,9] = -14.2\n",
      " res[14,4] = 11.3\n",
      " res[14,11] = -13.8\n",
      " res[15,1] = 14.2\n",
      " res[15,6] = -11.4\n",
      " res[16,0] = -13.5\n",
      " res[18,7] = 12.3\n",
      " res[20,17] = 12.1\n",
      " res[21,0] = 12.7\n"
     ]
    }
   ],
   "source": [
    "absres = np.abs(ijres)\n",
    "p95 = np.percentile(absres, 95)\n",
    "\n",
    "print(f\"95th percentile of residuals is {p95:4.2f} mm\")\n",
    "ijres_matrix = np.zeros_like(m_ij)\n",
    "for r, i, j in zip(ijres, non_nan_indices[:,0], non_nan_indices[:,1]):\n",
    "    if np.abs(r) > p95 and i > j:\n",
    "        print(f\" res[{i},{j}] = {r:3.1f}\")\n",
    "    ijres_matrix[i,j] = r\n",
    "    \n"
   ]
  },
  {
   "cell_type": "markdown",
   "metadata": {},
   "source": [
    "## Output best estimates\n",
    "\n",
    "Write some json files..."
   ]
  },
  {
   "cell_type": "code",
   "execution_count": 19,
   "metadata": {},
   "outputs": [
    {
     "data": {
      "text/plain": [
       "array([[-0.003,  0.22 ,  0.   ],\n",
       "       [ 0.108,  0.811,  0.   ],\n",
       "       [ 0.359,  1.139,  0.   ],\n",
       "       [ 0.738,  1.342,  0.   ],\n",
       "       [ 0.991,  1.377,  0.   ],\n",
       "       [ 0.464,  0.129,  0.   ],\n",
       "       [ 0.796,  0.143,  0.   ],\n",
       "       [ 1.192,  0.013,  0.   ],\n",
       "       [ 1.43 , -0.2  ,  0.   ],\n",
       "       [ 1.61 , -0.52 ,  0.   ],\n",
       "       [ 0.171, -0.244,  0.   ],\n",
       "       [ 0.392, -0.833,  0.   ],\n",
       "       [ 0.378, -1.088,  0.   ],\n",
       "       [ 0.177, -1.521,  0.   ],\n",
       "       [-0.004, -1.695,  0.   ],\n",
       "       [-0.141, -0.187,  0.   ],\n",
       "       [-0.521, -0.551,  0.   ],\n",
       "       [-0.983, -0.701,  0.   ],\n",
       "       [-1.38 , -0.648,  0.   ],\n",
       "       [-1.612, -0.525,  0.   ],\n",
       "       [-0.435,  0.162,  0.   ],\n",
       "       [-0.964,  0.673,  0.   ],\n",
       "       [-1.034,  0.919,  0.   ],\n",
       "       [-1.004,  1.378,  0.   ]])"
      ]
     },
     "execution_count": 19,
     "metadata": {},
     "output_type": "execute_result"
    }
   ],
   "source": [
    "result = np.zeros((n_ant, 3))\n",
    "result[:,:-1] = np.round(pos/1000.0, 3)\n",
    "result"
   ]
  },
  {
   "cell_type": "code",
   "execution_count": 20,
   "metadata": {},
   "outputs": [
    {
     "name": "stdout",
     "output_type": "stream",
     "text": [
      "{\n",
      "    \"antenna_positions\": [\n",
      "        [\n",
      "            -0.003,\n",
      "            0.22,\n",
      "            0.0\n",
      "        ],\n",
      "        [\n",
      "            0.108,\n",
      "            0.811,\n",
      "            0.0\n",
      "        ],\n",
      "        [\n",
      "            0.359,\n",
      "            1.139,\n",
      "            0.0\n",
      "        ],\n",
      "        [\n",
      "            0.738,\n",
      "            1.342,\n",
      "            0.0\n",
      "        ],\n",
      "        [\n",
      "            0.991,\n",
      "            1.377,\n",
      "            0.0\n",
      "        ],\n",
      "        [\n",
      "            0.464,\n",
      "            0.129,\n",
      "            0.0\n",
      "        ],\n",
      "        [\n",
      "            0.796,\n",
      "            0.143,\n",
      "            0.0\n",
      "        ],\n",
      "        [\n",
      "            1.192,\n",
      "            0.013,\n",
      "            0.0\n",
      "        ],\n",
      "        [\n",
      "            1.43,\n",
      "            -0.2,\n",
      "            0.0\n",
      "        ],\n",
      "        [\n",
      "            1.61,\n",
      "            -0.52,\n",
      "            0.0\n",
      "        ],\n",
      "        [\n",
      "            0.171,\n",
      "            -0.244,\n",
      "            0.0\n",
      "        ],\n",
      "        [\n",
      "            0.392,\n",
      "            -0.833,\n",
      "            0.0\n",
      "        ],\n",
      "        [\n",
      "            0.378,\n",
      "            -1.088,\n",
      "            0.0\n",
      "        ],\n",
      "        [\n",
      "            0.177,\n",
      "            -1.521,\n",
      "            0.0\n",
      "        ],\n",
      "        [\n",
      "            -0.004,\n",
      "            -1.695,\n",
      "            0.0\n",
      "        ],\n",
      "        [\n",
      "            -0.141,\n",
      "            -0.187,\n",
      "            0.0\n",
      "        ],\n",
      "        [\n",
      "            -0.521,\n",
      "            -0.551,\n",
      "            0.0\n",
      "        ],\n",
      "        [\n",
      "            -0.983,\n",
      "            -0.701,\n",
      "            0.0\n",
      "        ],\n",
      "        [\n",
      "            -1.38,\n",
      "            -0.648,\n",
      "            0.0\n",
      "        ],\n",
      "        [\n",
      "            -1.612,\n",
      "            -0.525,\n",
      "            0.0\n",
      "        ],\n",
      "        [\n",
      "            -0.435,\n",
      "            0.162,\n",
      "            0.0\n",
      "        ],\n",
      "        [\n",
      "            -0.964,\n",
      "            0.673,\n",
      "            0.0\n",
      "        ],\n",
      "        [\n",
      "            -1.034,\n",
      "            0.919,\n",
      "            0.0\n",
      "        ],\n",
      "        [\n",
      "            -1.004,\n",
      "            1.378,\n",
      "            0.0\n",
      "        ]\n",
      "    ]\n",
      "}\n"
     ]
    }
   ],
   "source": [
    "json_result = {}\n",
    "json_result[\"antenna_positions\"] = result.tolist()\n",
    "\n",
    "f = open(\"kenya_processed_antenna_positions.json\", \"w\")\n",
    "f.write(json.dumps(json_result))\n",
    "f.close()\n",
    "\n",
    "pos_json = json.dumps(json_result, indent=4, separators=(',', ': '))\n",
    "print(pos_json)"
   ]
  },
  {
   "cell_type": "markdown",
   "metadata": {
    "collapsed": true
   },
   "source": [
    "The position file above is in a format suitable for uploading to the telescope api. Also for using as the calibrated_antenna_positions.json file in TART/software/containers/telescope_web_api/config_data.\n",
    "\n",
    "\n",
    "    tart_upload_antenna_positions --api https://tart.elec.ac.nz/rhodes --pw=xxxx --file biust_antenna_positions.json\n"
   ]
  },
  {
   "cell_type": "code",
   "execution_count": null,
   "metadata": {},
   "outputs": [],
   "source": []
  }
 ],
 "metadata": {
  "kernelspec": {
   "display_name": "Python 3 (ipykernel)",
   "language": "python",
   "name": "python3"
  },
  "language_info": {
   "codemirror_mode": {
    "name": "ipython",
    "version": 3
   },
   "file_extension": ".py",
   "mimetype": "text/x-python",
   "name": "python",
   "nbconvert_exporter": "python",
   "pygments_lexer": "ipython3",
   "version": "3.13.2"
  }
 },
 "nbformat": 4,
 "nbformat_minor": 2
}
