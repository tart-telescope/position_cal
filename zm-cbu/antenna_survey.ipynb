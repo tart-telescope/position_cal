{
 "cells": [
  {
   "cell_type": "markdown",
   "metadata": {},
   "source": [
    "# Copperbelt University Zambia, Antenna Position Calibration\n",
    "\n",
    "Author: Tim Molteno. tim@elec.ac.nz.\n",
    "\n",
    "The antennas are laid out on five spiral arms.  This notebook will use measurements to infer the actual layout of the antennas.\n",
    "\n",
    "The other reference point is the center of the array. This is assumed to be the point [0,0]. Make sure that a marker is present at this reference point at the same height as the level of the antennas (otherwise the distances will be wrong)."
   ]
  },
  {
   "cell_type": "code",
   "execution_count": 1,
   "metadata": {},
   "outputs": [],
   "source": [
    "import numpy as np\n",
    "from scipy.optimize import minimize "
   ]
  },
  {
   "cell_type": "code",
   "execution_count": 2,
   "metadata": {},
   "outputs": [],
   "source": [
    "site_name = 'zm_cbu'\n",
    "x0 = [0,0]\n",
    "global_rot_degrees = 0\n",
    "global_rot_index = 3"
   ]
  },
  {
   "cell_type": "code",
   "execution_count": 3,
   "metadata": {},
   "outputs": [
    {
     "data": {
      "text/plain": [
       "A 0      335.0\n",
       "A 1      831.0\n",
       "A 2     1205.0\n",
       "A 3     1475.0\n",
       "A 4     1695.0\n",
       "A 5      340.0\n",
       "A 6      834.0\n",
       "A 7     1205.0\n",
       "A 8     1473.0\n",
       "A 9     1698.0\n",
       "A 10     338.0\n",
       "A 11     831.0\n",
       "A 12    1205.0\n",
       "A 13    1467.0\n",
       "A 14    1698.0\n",
       "A 15     340.0\n",
       "A 16     835.0\n",
       "A 17    1206.0\n",
       "A 18    1471.0\n",
       "A 19    1696.0\n",
       "A 20     345.0\n",
       "A 21     840.0\n",
       "A 22    1214.0\n",
       "A 23    1479.0\n",
       "Name: 0, dtype: float64"
      ]
     },
     "execution_count": 3,
     "metadata": {},
     "output_type": "execute_result"
    }
   ],
   "source": [
    "import pandas as pd\n",
    "\n",
    "cols = [f\"A {i}\" for i in range(24)]\n",
    "data = pd.read_excel('antenna_measurements.ods', \"Sheet1\", usecols=cols)*10\n",
    "radius = data.loc[0]\n",
    "radius"
   ]
  },
  {
   "cell_type": "code",
   "execution_count": null,
   "metadata": {},
   "outputs": [],
   "source": []
  },
  {
   "cell_type": "markdown",
   "metadata": {},
   "source": [
    "## Finding the antennas\n",
    "\n",
    "This is done by measuring the distance from each antenna to x0 as well as each other antenna. The distance $m_0$ are the measurements to $x_0$. The array m_ij are the distances between antennas."
   ]
  },
  {
   "cell_type": "code",
   "execution_count": 4,
   "metadata": {},
   "outputs": [],
   "source": [
    "n_ant = 24\n",
    "m_0 = np.zeros(n_ant)\n",
    "m_ij = np.zeros((n_ant,n_ant))\n",
    "\n",
    "radius = data.loc[0]\n",
    "\n",
    "for i in range(n_ant):\n",
    "    m_ij[i,:] = data.loc[i+1]"
   ]
  },
  {
   "cell_type": "markdown",
   "metadata": {},
   "source": [
    "The following are the measured distances from [x1, x0, x2] from the reference points in millimeters. Note that their order must be the same as the order of the variable called 'reference_points'. In this case, they are x1,x0,x2."
   ]
  },
  {
   "cell_type": "code",
   "execution_count": 5,
   "metadata": {},
   "outputs": [
    {
     "data": {
      "text/plain": [
       "array([[  nan,  500.,  890., 1182., 1440.,  398.,  760., 1055., 1262.,\n",
       "        1440.,  641., 1102., 1432., 1651., 1825.,  641., 1138., 1527.,\n",
       "        1804., 2033.,  392.,  834., 1243., 1555.],\n",
       "       [ 500.,   nan,  415.,  745., 1055.,  837.,  992., 1113., 1185.,\n",
       "        1241., 1139., 1583., 1880., 2057., 2178., 1101., 1579., 1983.,\n",
       "        2278., 2522.,  750.,  964., 1351., 1696.],\n",
       "       [ 890.,  415.,   nan,  347.,  685., 1247., 1384., 1440., 1435.,\n",
       "        1395., 1528., 1985., 2294., 2470., 2584., 1430., 1874., 2285.,\n",
       "        2600., 2865., 1039., 1072., 1389., 1732.],\n",
       "       [1182.,  745.,  347.,   nan,  350., 1561., 1729., 1787., 1761.,\n",
       "        1688., 1804., 2282., 2607., 2798., 2924., 1649., 2048., 2457.,\n",
       "        2788., 3076., 1247., 1139., 1370., 1692.],\n",
       "       [1440., 1055.,  685.,  350.,   nan, 1833., 2049., 2127., 2110.,\n",
       "        2032., 2032., 2524., 2871., 3085., 3229., 1820., 2165., 2567.,\n",
       "        2907., 3214., 1425., 1195., 1322., 1610.],\n",
       "       [ 398.,  837., 1247., 1561., 1833.,   nan,  500.,  888., 1180.,\n",
       "        1440.,  397.,  754., 1046., 1252., 1431.,  643., 1107., 1436.,\n",
       "        1655., 1830.,  647., 1143., 1532., 1810.],\n",
       "       [ 760.,  992., 1384., 1729., 2049.,  500.,   nan,  415.,  741.,\n",
       "        1055.,  833.,  970., 1083., 1151., 1206., 1134., 1584., 1879.,\n",
       "        2057., 2171., 1111., 1588., 1992., 2283.],\n",
       "       [1055., 1113., 1440., 1787., 2127.,  888.,  415.,   nan,  348.,\n",
       "         690., 1243., 1363., 1402., 1387., 1346., 1529., 1988., 2293.,\n",
       "        2462., 2578., 1440., 1884., 2300., 2612.],\n",
       "       [1262., 1185., 1435., 1761., 2110., 1180.,  741.,  348.,   nan,\n",
       "         350., 1554., 1703., 1744., 1710., 1627., 1806., 2283., 2605.,\n",
       "        2797., 2918., 1660., 2062., 2473., 2804.],\n",
       "       [1440., 1241., 1395., 1688., 2032., 1440., 1055.,  690.,  350.,\n",
       "          nan, 1830., 2024., 2088., 2060., 1974., 2037., 2528., 2874.,\n",
       "        3080., 3227., 1834., 2179., 2586., 2929.],\n",
       "       [ 641., 1139., 1528., 1804., 2032.,  397.,  833., 1243., 1554.,\n",
       "        1830.,   nan,  500.,  888., 1174., 1440.,  397.,  759., 1050.,\n",
       "        1259., 1436.,  648., 1112., 1444., 1664.],\n",
       "       [1102., 1583., 1985., 2282., 2524.,  754.,  970., 1363., 1703.,\n",
       "        2024.,  500.,   nan,  415.,  742., 1055.,  836.,  983., 1100.,\n",
       "        1170., 1226., 1144., 1593., 1892., 2072.],\n",
       "       [1432., 1880., 2294., 2607., 2871., 1046., 1083., 1402., 1744.,\n",
       "        2088.,  888.,  415.,   nan,  345.,  685., 1246., 1373., 1424.,\n",
       "        1414., 1371., 1532., 1995., 2304., 2485.],\n",
       "       [1651., 2057., 2470., 2798., 3085., 1252., 1151., 1387., 1710.,\n",
       "        2060., 1174.,  742.,  345.,   nan,  350., 1557., 1715., 1766.,\n",
       "        1736., 1659., 1803., 2287., 2615., 2810.],\n",
       "       [1825., 2178., 2584., 2924., 3229., 1431., 1206., 1346., 1627.,\n",
       "        1974., 1440., 1055.,  685.,  350.,   nan, 1829., 2036., 2110.,\n",
       "        2082., 2005., 2037., 2530., 2879., 3095.],\n",
       "       [ 641., 1101., 1430., 1649., 1820.,  643., 1134., 1529., 1806.,\n",
       "        2037.,  397.,  836., 1246., 1557., 1829.,   nan,  500.,  886.,\n",
       "        1178., 1440.,  401.,  765., 1058., 1265.],\n",
       "       [1138., 1579., 1874., 2048., 2165., 1107., 1584., 1988., 2283.,\n",
       "        2528.,  759.,  983., 1373., 1715., 2036.,  500.,   nan,  415.,\n",
       "         740., 1052.,  837.,  989., 1109., 1180.],\n",
       "       [1527., 1983., 2285., 2457., 2567., 1436., 1879., 2293., 2605.,\n",
       "        2874., 1050., 1100., 1424., 1766., 2110.,  886.,  415.,   nan,\n",
       "         345.,  685., 1247., 1377., 1432., 1420.],\n",
       "       [1804., 2278., 2600., 2788., 2907., 1655., 2057., 2462., 2797.,\n",
       "        3080., 1259., 1170., 1414., 1736., 2082., 1178.,  740.,  345.,\n",
       "          nan,  350., 1559., 1716., 1775., 1745.],\n",
       "       [2033., 2522., 2865., 3076., 3214., 1830., 2171., 2578., 2918.,\n",
       "        3227., 1436., 1226., 1371., 1659., 2005., 1440., 1052.,  685.,\n",
       "         350.,   nan, 1833., 2042., 2117., 2093.],\n",
       "       [ 392.,  750., 1039., 1247., 1425.,  647., 1111., 1440., 1660.,\n",
       "        1834.,  648., 1144., 1532., 1803., 2037.,  401.,  837., 1247.,\n",
       "        1559., 1833.,   nan,  500.,  886., 1177.],\n",
       "       [ 834.,  964., 1072., 1139., 1195., 1143., 1588., 1884., 2062.,\n",
       "        2179., 1112., 1593., 1995., 2287., 2530.,  765.,  989., 1377.,\n",
       "        1716., 2042.,  500.,   nan,  415.,  745.],\n",
       "       [1243., 1351., 1389., 1370., 1322., 1532., 1992., 2300., 2473.,\n",
       "        2586., 1444., 1892., 2304., 2615., 2879., 1058., 1109., 1432.,\n",
       "        1775., 2117.,  886.,  415.,   nan,  347.],\n",
       "       [1555., 1696., 1732., 1692., 1610., 1810., 2283., 2612., 2804.,\n",
       "        2929., 1664., 2072., 2485., 2810., 3095., 1265., 1180., 1420.,\n",
       "        1745., 2093., 1177.,  745.,  347.,   nan]])"
      ]
     },
     "execution_count": 5,
     "metadata": {},
     "output_type": "execute_result"
    }
   ],
   "source": [
    "for i in range(n_ant):\n",
    "    for j in range(n_ant):\n",
    "        if not np.isnan(m_ij[i,j]):\n",
    "            m_ij[j,i] = m_ij[i,j]\n",
    "\n",
    "m_ij\n"
   ]
  },
  {
   "cell_type": "markdown",
   "metadata": {},
   "source": [
    "## Plot the Initial Guess Points\n",
    "\n",
    "Initial Guesses are from JSON queried from the telescope API. These are converted to millimeters."
   ]
  },
  {
   "cell_type": "code",
   "execution_count": 6,
   "metadata": {
    "scrolled": true
   },
   "outputs": [],
   "source": [
    "import json\n",
    "import requests\n",
    "\n",
    "def get_data(path):\n",
    "    server = \"https://api.elec.ac.nz/tart/zm-cbu/\"\n",
    "\n",
    "    r = requests.get('{}/{}'.format(server, path))\n",
    "    return json.loads(r.text)\n",
    "\n",
    "def get_pos():\n",
    "    return np.array(get_data('api/v1/imaging/antenna_positions'))\n",
    "\n",
    "if True:\n",
    "    with open('cbu_antenna_positions_nonaligned.json', \"r\") as f:\n",
    "        data = f.read()\n",
    "    cal_json = json.loads(data)\n",
    "    current_pos = cal_json[\"ant_pos\"]\n",
    "    current_pos = np.array(current_pos)\n",
    "else:\n",
    "    current_pos = get_pos()\n",
    "    json_result = {}\n",
    "    json_result[\"antenna_positions\"] = current_pos.tolist()\n",
    "    print(json.dumps(json_result, indent=4, separators=(',', ': ')))\n"
   ]
  },
  {
   "cell_type": "code",
   "execution_count": 7,
   "metadata": {},
   "outputs": [
    {
     "name": "stdout",
     "output_type": "stream",
     "text": [
      "2.221387794985407 216.98375617711417\n",
      "114.7327731349125 800.8395865757088\n",
      "359.38221050938336 1132.9843852473732\n",
      "743.429443130555 1335.523663894854\n",
      "998.3028561200841 1375.287645443299\n",
      "468.53775294434473 126.13362948559819\n",
      "801.0061154488853 137.93474419900514\n",
      "1196.9123090669038 3.224298442720886\n",
      "1435.1605508779662 -206.5084265793185\n",
      "1615.9384858114165 -523.0435572356404\n",
      "173.4143534602567 -249.01923493774888\n",
      "395.7974732995988 -834.6439566532431\n",
      "383.3580392842967 -1089.2928122659628\n",
      "181.23946501725314 -1520.3322201262563\n",
      "0.4771585711655332 -1699.6200949953645\n",
      "-135.55150095499266 -182.2371798574895\n",
      "-512.5078647525777 -549.0709319021248\n",
      "-976.8510998581446 -706.8486894546801\n",
      "-1373.9889472790292 -648.0689713782642\n",
      "-1602.0836442848347 -534.9109954477997\n",
      "-426.4610658159062 160.1693174744637\n",
      "-956.8870381688517 669.9329325188512\n",
      "-1029.3955261340893 914.5168625913689\n",
      "-999.7519794504333 1373.4571918795655\n"
     ]
    },
    {
     "data": {
      "image/png": "[encoded data removed]",
      "text/plain": [
       "<Figure size 1200x1200 with 1 Axes>"
      ]
     },
     "metadata": {},
     "output_type": "display_data"
    }
   ],
   "source": [
    "def i_y(i):\n",
    "    return 2*i+1\n",
    "\n",
    "def i_x(i):\n",
    "    return 2*i\n",
    "\n",
    "\n",
    "initial_guess = np.zeros(2*n_ant)\n",
    "\n",
    "for i in range(n_ant):\n",
    "    x,y = current_pos[i][0:2]*1000\n",
    "    initial_guess[i_x(i)] = x\n",
    "    initial_guess[i_y(i)] = y\n",
    "    \n",
    "    print(x,y)\n",
    "initial_guess\n",
    "\n",
    "pos_i = current_pos*1000\n",
    "import matplotlib.pyplot as plt\n",
    "\n",
    "fig, ax = plt.subplots(figsize=(12,12))\n",
    "\n",
    "ax.scatter(pos_i[:,0], pos_i[:,1])\n",
    "for i in range(0,pos_i.shape[0]):\n",
    "    ax.text(pos_i[i,0], pos_i[i,1],f\"{i}\")\n",
    "\n",
    "ax.grid(True)\n",
    "ax.set_title('Initial positions')\n",
    "ax.set_xlabel('x (mm)')\n",
    "ax.set_ylabel('y (mm)')\n",
    "plt.savefig('initial_positions.png')\n",
    "plt.show()"
   ]
  },
  {
   "cell_type": "markdown",
   "metadata": {},
   "source": [
    "## Criteria for Optimality\n",
    "\n",
    "The function below is minimized when the positions (in variable x) are consistent with the measured distances m[i,j]. The initial value of this function is more than 3 million.\n",
    "\n",
    "Note that the x input is a 1D vector of with 48 entries as [p0.x, p0.y, p1.x, p1.y]"
   ]
  },
  {
   "cell_type": "code",
   "execution_count": 8,
   "metadata": {},
   "outputs": [
    {
     "data": {
      "text/plain": [
       "np.float64(90.0)"
      ]
     },
     "execution_count": 8,
     "metadata": {},
     "output_type": "execute_result"
    }
   ],
   "source": [
    "def geo_angle(x,y):\n",
    "    return 90 - np.degrees(np.arctan2(y,x))\n",
    "\n",
    "geo_angle(1,0)"
   ]
  },
  {
   "cell_type": "code",
   "execution_count": 9,
   "metadata": {},
   "outputs": [],
   "source": [
    "def dist(a,b):\n",
    "    return np.sqrt((a[0]-b[0])**2 + (a[1]-b[1])**2)\n",
    "\n",
    "\n",
    "def p(x, i):\n",
    "    return [x[i_x(i)],x[i_y(i)]]\n",
    "\n",
    "max_err = 4200\n",
    "def bounds():\n",
    "    ret = [(0,0)]*48\n",
    "    for i in range(n_ant):\n",
    "        _x,_y = pos_i[i,0], pos_i[i,1]\n",
    "        ret[i_x(i)] = (_x - max_err, _x + max_err)\n",
    "        ret[i_y(i)] = (_y - max_err, _y + max_err)\n",
    "    \n",
    "    return ret\n",
    "\n",
    "bnd = bounds()\n",
    "\n",
    "center = [0,0]\n",
    "\n",
    "def angle(x, i):\n",
    "    _x, _y = p(x, i)\n",
    "    return geo_angle(_x, _y)\n",
    "    \n",
    "def radius_model(x):\n",
    "    ret = []\n",
    "    \n",
    "    for i in range(n_ant):\n",
    "        p_i = p(x,i)\n",
    "        ret.append(dist(center, p_i))\n",
    "        \n",
    "    return np.array(ret)\n",
    "\n",
    "non_nan_ij = []\n",
    "non_nan_indices = []\n",
    "for i in range(n_ant):\n",
    "    for j in range(n_ant):\n",
    "        if not np.isnan(m_ij[i,j]):\n",
    "            non_nan_ij.append(m_ij[i,j])\n",
    "            non_nan_indices.append([i,j])\n",
    "non_nan_ij = np.array(non_nan_ij)\n",
    "non_nan_indices = np.array(non_nan_indices)\n",
    "\n",
    "def m_ij_model(x):\n",
    "    ret = []\n",
    "    for i in range(n_ant):\n",
    "        p_i = p(x,i)\n",
    "\n",
    "        for j in range(n_ant):\n",
    "            p_j = p(x,j)\n",
    "            if not np.isnan(m_ij[i,j]):\n",
    "                ret.append(dist(p_j, p_i))\n",
    "                \n",
    "    return np.array(ret)\n",
    "    \n",
    "def radius_residual(x):\n",
    "    predict = radius_model(x)\n",
    "    return predict - radius\n",
    "\n",
    "def m_ij_residual(x):\n",
    "    predict = m_ij_model(x)\n",
    "    return predict - non_nan_ij\n",
    "\n",
    "def rot_residual(x):\n",
    "    predict = angle(x, global_rot_index)\n",
    "    return predict - global_rot_degrees\n",
    "\n",
    "def f_old(x):\n",
    "    ret = 0\n",
    "    for i in range(n_ant):\n",
    "        p_i = p(x,i)\n",
    "        ret += (dist(center, p_i) - m_0[i])**2\n",
    "        for j in range(n_ant):\n",
    "            p_j = p(x,j)\n",
    "            if not np.isnan(m_ij[i,j]):\n",
    "                ret += (dist(p_j, p_i) - m_ij[i,j])**2\n",
    "    return ret\n",
    "\n",
    "def f(x):\n",
    "    # This is the final criterion for optimality. The sum of squared residuals.\n",
    "    ret = np.sum(radius_residual(x)**2)\n",
    "    ret += np.sum(m_ij_residual(x)**2)\n",
    "    ret += rot_residual(x)**2\n",
    "    return ret\n"
   ]
  },
  {
   "cell_type": "code",
   "execution_count": 10,
   "metadata": {},
   "outputs": [
    {
     "name": "stdout",
     "output_type": "stream",
     "text": [
      "50606200.67100136\n"
     ]
    }
   ],
   "source": [
    "print(f(initial_guess))"
   ]
  },
  {
   "cell_type": "markdown",
   "metadata": {},
   "source": [
    " We can see that the initial value of this optimality condition is about 50 million."
   ]
  },
  {
   "cell_type": "code",
   "execution_count": 11,
   "metadata": {},
   "outputs": [
    {
     "data": {
      "text/plain": [
       "  message: Maximum number of iterations has been exceeded.\n",
       "  success: False\n",
       "   status: 1\n",
       "      fun: 1283.4586696674485\n",
       "        x: [ 2.263e+02  2.488e+02 ... -1.210e+03  8.477e+02]\n",
       "      nit: 100\n",
       "      jac: [ 5.115e-02  6.374e-01 ... -3.269e+00  2.882e+00]\n",
       " hess_inv: [[ 6.057e-01 -5.066e-01 ...  1.925e+00  2.676e+00]\n",
       "            [-5.066e-01  5.243e-01 ... -1.739e+00 -2.429e+00]\n",
       "            ...\n",
       "            [ 1.925e+00 -1.739e+00 ...  6.581e+00  9.266e+00]\n",
       "            [ 2.676e+00 -2.429e+00 ...  9.266e+00  1.321e+01]]\n",
       "     nfev: 6223\n",
       "     njev: 127"
      ]
     },
     "execution_count": 11,
     "metadata": {},
     "output_type": "execute_result"
    }
   ],
   "source": [
    "res = minimize(f, initial_guess, bounds=None, options={'maxiter': 100})\n",
    "res"
   ]
  },
  {
   "cell_type": "code",
   "execution_count": 12,
   "metadata": {},
   "outputs": [
    {
     "name": "stdout",
     "output_type": "stream",
     "text": [
      "Ant 0:\tJac: 000.05, \t000.64\n",
      "Ant 1:\tJac: 000.87, \t001.81\n",
      "Ant 2:\tJac: 000.83, \t002.98\n",
      "Ant 3:\tJac: 001.14, \t003.87\n",
      "Ant 4:\tJac: 000.25, \t004.54\n",
      "Ant 5:\tJac: 000.87, \t-00.10\n",
      "Ant 6:\tJac: 001.80, \t-00.29\n",
      "Ant 7:\tJac: 002.95, \t-00.06\n",
      "Ant 8:\tJac: 004.07, \t-00.14\n",
      "Ant 9:\tJac: 004.44, \t000.73\n",
      "Ant 10:\tJac: 000.01, \t-00.40\n",
      "Ant 11:\tJac: 000.11, \t-01.93\n",
      "Ant 12:\tJac: 000.61, \t-02.97\n",
      "Ant 13:\tJac: 000.97, \t-03.84\n",
      "Ant 14:\tJac: 001.69, \t-04.32\n",
      "Ant 15:\tJac: -00.63, \t-00.18\n",
      "Ant 16:\tJac: -01.77, \t-00.76\n",
      "Ant 17:\tJac: -02.67, \t-01.43\n",
      "Ant 18:\tJac: -03.58, \t-02.06\n",
      "Ant 19:\tJac: -03.82, \t-03.23\n",
      "Ant 20:\tJac: -00.86, \t000.86\n",
      "Ant 21:\tJac: -01.56, \t001.26\n",
      "Ant 22:\tJac: -02.40, \t002.11\n",
      "Ant 23:\tJac: -03.27, \t002.88\n"
     ]
    }
   ],
   "source": [
    "err = res.jac.reshape((24,2))\n",
    "rms = err # np.sqrt(np.sum(err**2, axis=1))\n",
    "for i in range(24):\n",
    "    print(f\"Ant {i}:\\tJac: {rms[i,0]:06.2f}, \\t{rms[i,1]:06.2f}\")"
   ]
  },
  {
   "cell_type": "markdown",
   "metadata": {},
   "source": [
    "The optimized positions are now known. The final value of the function is 32. Far closer to zero than 3 million!\n",
    "\n",
    "We can recover the x,y coordinates by reshaping the array"
   ]
  },
  {
   "cell_type": "code",
   "execution_count": 13,
   "metadata": {},
   "outputs": [
    {
     "data": {
      "text/plain": [
       "array([[  226.27245388,   248.78428153],\n",
       "       [  478.70307484,   679.32358852],\n",
       "       [  505.64011845,  1092.71318409],\n",
       "       [  385.00796311,  1418.83779124],\n",
       "       [  162.9444784 ,  1687.36985385],\n",
       "       [  306.24035522,  -140.5037481 ],\n",
       "       [  789.11539662,  -262.79905953],\n",
       "       [ 1193.14747182,  -174.04513881],\n",
       "       [ 1471.4534469 ,    31.89224222],\n",
       "       [ 1667.65524284,   322.20064494],\n",
       "       [  -39.87827631,  -334.56662045],\n",
       "       [    2.77375479,  -830.95447944],\n",
       "       [  219.44779327, -1183.15249206],\n",
       "       [  503.61396759, -1377.60042894],\n",
       "       [  841.01505351, -1469.90342199],\n",
       "       [ -331.8631103 ,   -65.07141927],\n",
       "       [ -793.85039665,  -255.72971607],\n",
       "       [-1064.96611073,  -566.1273356 ],\n",
       "       [-1164.67918181,  -897.27306422],\n",
       "       [-1150.84229839, -1246.1037847 ],\n",
       "       [ -166.68356679,   300.05843992],\n",
       "       [ -484.96456269,   683.73187822],\n",
       "       [ -862.467732  ,   851.53311246],\n",
       "       [-1210.0536286 ,   847.69550999]])"
      ]
     },
     "execution_count": 13,
     "metadata": {},
     "output_type": "execute_result"
    }
   ],
   "source": [
    "pos = res.x.reshape((24,2))\n",
    "pos"
   ]
  },
  {
   "cell_type": "code",
   "execution_count": 14,
   "metadata": {},
   "outputs": [
    {
     "data": {
      "image/png": "[encoded data removed]",
      "text/plain": [
       "<Figure size 1200x1200 with 1 Axes>"
      ]
     },
     "metadata": {},
     "output_type": "display_data"
    }
   ],
   "source": [
    "fig, ax = plt.subplots(figsize=(12,12))\n",
    "\n",
    "ax.scatter(pos_i[:,0], pos_i[:,1], label='initial', color='blue')\n",
    "ax.scatter(pos[:,0], pos[:,1], label='final', color='orange')\n",
    "\n",
    "for i in range(0,pos_i.shape[0]):\n",
    "    ax.text(pos_i[i,0], pos_i[i,1],f\"{i}\", color='orange')\n",
    "\n",
    "for i in range(0,pos.shape[0]):\n",
    "    ax.text(pos[i,0], pos[i,1],f\"{i}\", color='blue')\n",
    "\n",
    "ax.grid(True)\n",
    "ax.set_title('Final Solution')\n",
    "ax.set_xlabel('x (mm)')\n",
    "ax.set_ylabel('y (mm)')\n",
    "ax.legend()\n",
    "plt.savefig('final_positions.png')\n",
    "plt.show()"
   ]
  },
  {
   "cell_type": "code",
   "execution_count": 15,
   "metadata": {},
   "outputs": [
    {
     "data": {
      "image/png": "[encoded data removed]",
      "text/plain": [
       "<Figure size 1200x1200 with 1 Axes>"
      ]
     },
     "metadata": {},
     "output_type": "display_data"
    }
   ],
   "source": [
    "# Differences plot\n",
    "diff = pos - pos_i[:,0:2]\n",
    "\n",
    "\n",
    "fig, ax = plt.subplots(figsize=(12,12))\n",
    "\n",
    "ax.scatter(diff[:,0], diff[:,1], color='red')\n",
    "\n",
    "for i in range(0,diff.shape[0]):\n",
    "    ax.text(diff[i,0], diff[i,1],f\"{i}\")\n",
    "\n",
    "ax.grid(True)\n",
    "ax.set_title(\"Differences from initial position\")\n",
    "ax.set_xlabel('x (mm)')\n",
    "ax.set_ylabel('y (mm)')\n",
    "plt.savefig('differences.png')\n",
    "plt.show()"
   ]
  },
  {
   "cell_type": "code",
   "execution_count": 16,
   "metadata": {},
   "outputs": [
    {
     "data": {
      "text/plain": [
       "A 0     1.292792\n",
       "A 1     0.045830\n",
       "A 2    -0.967595\n",
       "A 3    -4.853133\n",
       "A 4     0.219138\n",
       "A 5    -3.066092\n",
       "A 6    -2.275012\n",
       "A 7     0.774689\n",
       "A 8    -1.200978\n",
       "A 9     0.495589\n",
       "A 10   -1.065139\n",
       "A 11   -0.040891\n",
       "A 12   -1.668311\n",
       "A 13   -0.231453\n",
       "A 14   -4.505864\n",
       "A 15   -1.817485\n",
       "A 16   -0.975936\n",
       "A 17    0.089954\n",
       "A 18   -0.769900\n",
       "A 19    0.234842\n",
       "A 20   -1.753035\n",
       "A 21   -1.739952\n",
       "A 22   -1.993717\n",
       "A 23   -1.563889\n",
       "Name: 0, dtype: float64"
      ]
     },
     "execution_count": 16,
     "metadata": {},
     "output_type": "execute_result"
    }
   ],
   "source": [
    "# Residual plot\n",
    "rres = radius_residual(res.x)\n",
    "rres"
   ]
  },
  {
   "cell_type": "code",
   "execution_count": 17,
   "metadata": {},
   "outputs": [
    {
     "data": {
      "image/png": "[encoded data removed]",
      "text/plain": [
       "<Figure size 640x480 with 1 Axes>"
      ]
     },
     "metadata": {},
     "output_type": "display_data"
    }
   ],
   "source": [
    "# ij resdual\n",
    "ijres = m_ij_residual(res.x)\n",
    "plt.hist(ijres, bins='fd');\n",
    "plt.title(\"Histogram of residuals\")\n",
    "plt.xlabel(\"Residual (mm)\")\n",
    "plt.grid(True)\n",
    "plt.savefig(\"residual_histogram.png\")"
   ]
  },
  {
   "cell_type": "markdown",
   "metadata": {},
   "source": [
    "The API expects 3D coordinates (with a z value which is zero in this case). Therefore we add a column of zeros."
   ]
  },
  {
   "cell_type": "code",
   "execution_count": 18,
   "metadata": {},
   "outputs": [
    {
     "name": "stdout",
     "output_type": "stream",
     "text": [
      "95th percentile of residuals is 3.28 mm\n",
      " res[9,7] = -3.4\n",
      " res[11,2] = 3.3\n",
      " res[11,7] = -3.4\n",
      " res[15,6] = 4.3\n",
      " res[18,7] = 4.3\n",
      " res[18,9] = 3.7\n",
      " res[18,14] = 3.8\n",
      " res[19,6] = 3.9\n",
      " res[20,0] = 4.3\n",
      " res[20,13] = 3.6\n",
      " res[21,9] = 3.8\n",
      " res[21,18] = 4.9\n",
      " res[23,6] = 3.9\n",
      " res[23,9] = -3.7\n"
     ]
    }
   ],
   "source": [
    "absres = np.abs(ijres)\n",
    "p95 = np.percentile(absres, 95)\n",
    "\n",
    "print(f\"95th percentile of residuals is {p95:4.2f} mm\")\n",
    "ijres_matrix = np.zeros_like(m_ij)\n",
    "for r, i, j in zip(ijres, non_nan_indices[:,0], non_nan_indices[:,1]):\n",
    "    if np.abs(r) > p95 and i > j:\n",
    "        print(f\" res[{i},{j}] = {r:3.1f}\")\n",
    "    ijres_matrix[i,j] = r\n",
    "    \n"
   ]
  },
  {
   "cell_type": "markdown",
   "metadata": {},
   "source": [
    "## Output best estimates\n",
    "\n",
    "Write some json files..."
   ]
  },
  {
   "cell_type": "code",
   "execution_count": 19,
   "metadata": {},
   "outputs": [
    {
     "data": {
      "text/plain": [
       "array([[ 0.226,  0.249,  0.   ],\n",
       "       [ 0.479,  0.679,  0.   ],\n",
       "       [ 0.506,  1.093,  0.   ],\n",
       "       [ 0.385,  1.419,  0.   ],\n",
       "       [ 0.163,  1.687,  0.   ],\n",
       "       [ 0.306, -0.141,  0.   ],\n",
       "       [ 0.789, -0.263,  0.   ],\n",
       "       [ 1.193, -0.174,  0.   ],\n",
       "       [ 1.471,  0.032,  0.   ],\n",
       "       [ 1.668,  0.322,  0.   ],\n",
       "       [-0.04 , -0.335,  0.   ],\n",
       "       [ 0.003, -0.831,  0.   ],\n",
       "       [ 0.219, -1.183,  0.   ],\n",
       "       [ 0.504, -1.378,  0.   ],\n",
       "       [ 0.841, -1.47 ,  0.   ],\n",
       "       [-0.332, -0.065,  0.   ],\n",
       "       [-0.794, -0.256,  0.   ],\n",
       "       [-1.065, -0.566,  0.   ],\n",
       "       [-1.165, -0.897,  0.   ],\n",
       "       [-1.151, -1.246,  0.   ],\n",
       "       [-0.167,  0.3  ,  0.   ],\n",
       "       [-0.485,  0.684,  0.   ],\n",
       "       [-0.862,  0.852,  0.   ],\n",
       "       [-1.21 ,  0.848,  0.   ]])"
      ]
     },
     "execution_count": 19,
     "metadata": {},
     "output_type": "execute_result"
    }
   ],
   "source": [
    "result = np.zeros((n_ant, 3))\n",
    "result[:,:-1] = np.round(pos/1000.0, 3)\n",
    "result"
   ]
  },
  {
   "cell_type": "code",
   "execution_count": 20,
   "metadata": {},
   "outputs": [
    {
     "name": "stdout",
     "output_type": "stream",
     "text": [
      "{\n",
      "    \"antenna_positions\": [\n",
      "        [\n",
      "            0.226,\n",
      "            0.249,\n",
      "            0.0\n",
      "        ],\n",
      "        [\n",
      "            0.479,\n",
      "            0.679,\n",
      "            0.0\n",
      "        ],\n",
      "        [\n",
      "            0.506,\n",
      "            1.093,\n",
      "            0.0\n",
      "        ],\n",
      "        [\n",
      "            0.385,\n",
      "            1.419,\n",
      "            0.0\n",
      "        ],\n",
      "        [\n",
      "            0.163,\n",
      "            1.687,\n",
      "            0.0\n",
      "        ],\n",
      "        [\n",
      "            0.306,\n",
      "            -0.141,\n",
      "            0.0\n",
      "        ],\n",
      "        [\n",
      "            0.789,\n",
      "            -0.263,\n",
      "            0.0\n",
      "        ],\n",
      "        [\n",
      "            1.193,\n",
      "            -0.174,\n",
      "            0.0\n",
      "        ],\n",
      "        [\n",
      "            1.471,\n",
      "            0.032,\n",
      "            0.0\n",
      "        ],\n",
      "        [\n",
      "            1.668,\n",
      "            0.322,\n",
      "            0.0\n",
      "        ],\n",
      "        [\n",
      "            -0.04,\n",
      "            -0.335,\n",
      "            0.0\n",
      "        ],\n",
      "        [\n",
      "            0.003,\n",
      "            -0.831,\n",
      "            0.0\n",
      "        ],\n",
      "        [\n",
      "            0.219,\n",
      "            -1.183,\n",
      "            0.0\n",
      "        ],\n",
      "        [\n",
      "            0.504,\n",
      "            -1.378,\n",
      "            0.0\n",
      "        ],\n",
      "        [\n",
      "            0.841,\n",
      "            -1.47,\n",
      "            0.0\n",
      "        ],\n",
      "        [\n",
      "            -0.332,\n",
      "            -0.065,\n",
      "            0.0\n",
      "        ],\n",
      "        [\n",
      "            -0.794,\n",
      "            -0.256,\n",
      "            0.0\n",
      "        ],\n",
      "        [\n",
      "            -1.065,\n",
      "            -0.566,\n",
      "            0.0\n",
      "        ],\n",
      "        [\n",
      "            -1.165,\n",
      "            -0.897,\n",
      "            0.0\n",
      "        ],\n",
      "        [\n",
      "            -1.151,\n",
      "            -1.246,\n",
      "            0.0\n",
      "        ],\n",
      "        [\n",
      "            -0.167,\n",
      "            0.3,\n",
      "            0.0\n",
      "        ],\n",
      "        [\n",
      "            -0.485,\n",
      "            0.684,\n",
      "            0.0\n",
      "        ],\n",
      "        [\n",
      "            -0.862,\n",
      "            0.852,\n",
      "            0.0\n",
      "        ],\n",
      "        [\n",
      "            -1.21,\n",
      "            0.848,\n",
      "            0.0\n",
      "        ]\n",
      "    ]\n",
      "}\n"
     ]
    }
   ],
   "source": [
    "json_result = {}\n",
    "json_result[\"antenna_positions\"] = result.tolist()\n",
    "\n",
    "f = open(\"cbu_processed_antenna_positions.json\", \"w\")\n",
    "f.write(json.dumps(json_result))\n",
    "f.close()\n",
    "\n",
    "pos_json = json.dumps(json_result, indent=4, separators=(',', ': '))\n",
    "print(pos_json)"
   ]
  },
  {
   "cell_type": "markdown",
   "metadata": {
    "collapsed": true
   },
   "source": [
    "The position file above is in a format suitable for uploading to the telescope api. Also for using as the calibrated_antenna_positions.json file in TART/software/containers/telescope_web_api/config_data.\n",
    "\n",
    "\n",
    "    tart_upload_antenna_positions --api https://api.elec.ac.nz/tart/zm-cbu --pw=xxxx --file cbu_processed_antenna_positions.json\n"
   ]
  },
  {
   "cell_type": "code",
   "execution_count": null,
   "metadata": {},
   "outputs": [],
   "source": []
  }
 ],
 "metadata": {
  "kernelspec": {
   "display_name": "Python 3 (ipykernel)",
   "language": "python",
   "name": "python3"
  },
  "language_info": {
   "codemirror_mode": {
    "name": "ipython",
    "version": 3
   },
   "file_extension": ".py",
   "mimetype": "text/x-python",
   "name": "python",
   "nbconvert_exporter": "python",
   "pygments_lexer": "ipython3",
   "version": "3.13.3"
  }
 },
 "nbformat": 4,
 "nbformat_minor": 2
}
