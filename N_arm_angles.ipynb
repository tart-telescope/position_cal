{
 "cells": [
  {
   "cell_type": "markdown",
   "metadata": {},
   "source": [
    "# N-arm Antenna Position Calibration\n",
    "\n",
    "Author: Tim Molteno. tim@elec.ac.nz.\n",
    "\n",
    "The antennas are laid out on N arms which are placed approximately equally apart.  This notebook will use measurements to infer the actual layout of the antennas.\n",
    "\n",
    "We assume that one arm is known to point in a certain direction. This is usually found by a separate calibration step by signting along arms to convenient geographic locations.\n",
    "\n",
    "The other reference point is the center of the array. This is assumed to be the point [0,0]. Make sure that a marker is present at this reference point at the same height as the level of the antennas (otherwise the distances will be wrong)."
   ]
  },
  {
   "cell_type": "code",
   "execution_count": 1,
   "metadata": {},
   "outputs": [],
   "source": [
    "import numpy as np\n",
    "from scipy.optimize import minimize "
   ]
  },
  {
   "cell_type": "code",
   "execution_count": 2,
   "metadata": {},
   "outputs": [],
   "source": [
    "x0 = [0,0]\n",
    "\n",
    "known_angles = [(5, -101.92)]   # Geographic angle of one of the arms.\n",
    "#known_angles = [(1, 0)]   # Geographic angle of one of the arms."
   ]
  },
  {
   "cell_type": "code",
   "execution_count": 3,
   "metadata": {},
   "outputs": [
    {
     "data": {
      "text/plain": [
       "A 0      695.0\n",
       "A 1     2555.0\n",
       "A 2     1120.0\n",
       "A 3     2045.0\n",
       "A 4     1730.0\n",
       "A 5     1813.0\n",
       "A 6     2575.0\n",
       "A 7      260.0\n",
       "A 8      565.0\n",
       "A 9      943.0\n",
       "A 10    2565.0\n",
       "A 11     680.0\n",
       "A 12    1530.0\n",
       "A 13    1204.0\n",
       "A 14    1944.0\n",
       "A 15     875.0\n",
       "A 16    2570.0\n",
       "A 17     350.0\n",
       "A 18    2285.0\n",
       "A 19    1280.0\n",
       "A 20    2530.0\n",
       "A 21    2233.0\n",
       "A 22    1810.0\n",
       "A 23    1283.0\n",
       "Name: 0, dtype: float64"
      ]
     },
     "execution_count": 3,
     "metadata": {},
     "output_type": "execute_result"
    }
   ],
   "source": [
    "# pip install pandas\n",
    "# pip install odfpy\n",
    "\n",
    "import pandas as pd\n",
    "\n",
    "N_ant = 24\n",
    "N_arms = 5\n",
    "\n",
    "cols = [f\"A {i}\" for i in range(N_ant)]\n",
    "data = pd.read_excel('antenna_measurements.ods', \"Sheet1\", usecols=cols)\n",
    "radius = data.loc[0]\n",
    "radius"
   ]
  },
  {
   "cell_type": "code",
   "execution_count": null,
   "metadata": {},
   "outputs": [],
   "source": []
  },
  {
   "cell_type": "markdown",
   "metadata": {},
   "source": [
    "## Finding the antennas\n",
    "\n",
    "This is done by measuring the distance from each antenna to x0 as well as each other antenna. The distance $m_0$ are the measurements to $x_0$. The array m_ij are the distances between antennas."
   ]
  },
  {
   "cell_type": "code",
   "execution_count": 4,
   "metadata": {},
   "outputs": [],
   "source": [
    "m_0 = np.zeros(N_ant)\n",
    "m_ij = np.zeros((N_ant,N_ant))\n",
    "\n",
    "radius = data.loc[0]\n",
    "\n",
    "for i in range(N_ant):\n",
    "    m_ij[i,:] = data.loc[i+1]"
   ]
  },
  {
   "cell_type": "markdown",
   "metadata": {},
   "source": [
    "The following are the measured distances from [x1, x0, x2] from the reference points in millimeters. Note that their order must be the same as the order of the variable called 'reference_points'. In this case, they are x1,x0,x2."
   ]
  },
  {
   "cell_type": "code",
   "execution_count": 5,
   "metadata": {},
   "outputs": [],
   "source": [
    "for i in range(N_ant):\n",
    "    for j in range(N_ant):\n",
    "        if not np.isnan(m_ij[i,j]):\n",
    "            m_ij[j,i] = float(\"nan\") # m_ij[i,j]"
   ]
  },
  {
   "cell_type": "markdown",
   "metadata": {},
   "source": [
    "## Plot the Initial Guess Points\n",
    "\n",
    "Initial Guesses are from JSON queried from the telescope API. These are converted to millimeters."
   ]
  },
  {
   "cell_type": "code",
   "execution_count": 6,
   "metadata": {},
   "outputs": [],
   "source": [
    "def get_angle(x,y):\n",
    "    ang = np.arctan2(y,x)\n",
    "    return np.rad2deg(np.unwrap([np.pi/2.-ang])[0])\n",
    "\n",
    "def get_xy(r, theta):\n",
    "    rad = np.radians(theta)\n",
    "    x = r*np.sin(rad)\n",
    "    y = r*np.cos(rad)\n",
    "    return x,y\n",
    "\n",
    "for theta in np.arange(0,360, 10):\n",
    "    x,y = get_xy(1, theta)\n",
    "    th2 = get_angle(x,y)\n",
    "    x2, y2 = get_xy(1, th2)\n",
    "    if np.abs(x2 - x) > 1e-6:\n",
    "        print(x2,x)"
   ]
  },
  {
   "cell_type": "code",
   "execution_count": 7,
   "metadata": {
    "scrolled": true
   },
   "outputs": [
    {
     "name": "stdout",
     "output_type": "stream",
     "text": [
      "{'C/N': 2.158123728118006, 'arm_degrees': [0.0, 72.0, 144.0, 216.0, 288.0], 'arms': [[0.6529630237476174, 2.504432694886343, 1.073494591195416, 2.0005486285280463, 1.693181081287429], [1.7817801673973575, 2.5479706468791354, 0.24027311461115142, 0.5448087496619634, 0.9209845465458897], [2.54993417924799, 0.7030967569347759, 1.5336789571128613, 1.2116849949441444, 1.932751799958924], [0.8609740214161916, 2.5468131744184697, 0.3521255703988069, 2.2409579872406376, 1.2609873402646041], [2.4973866033909307, 2.191993817667368, 1.7956789837968319, 1.2717328395565333]], 'entropy': 3.8594732373100027, 'fov_degrees': 160.0, 'num_arms': 5, 'penalty': 0.05830674870939684, 'radius': 2.55, 'radius_lower': 0.20000000298023224, 'res_arcmin': 180.0, 'spacing': 0.30000001192092896}\n",
      "0.0 [0.6529630237476174, 2.504432694886343, 1.073494591195416, 2.0005486285280463, 1.693181081287429]\n",
      "72.0 [1.7817801673973575, 2.5479706468791354, 0.24027311461115142, 0.5448087496619634, 0.9209845465458897]\n",
      "144.0 [2.54993417924799, 0.7030967569347759, 1.5336789571128613, 1.2116849949441444, 1.932751799958924]\n",
      "216.0 [0.8609740214161916, 2.5468131744184697, 0.3521255703988069, 2.2409579872406376, 1.2609873402646041]\n",
      "288.0 [2.4973866033909307, 2.191993817667368, 1.7956789837968319, 1.2717328395565333]\n"
     ]
    }
   ],
   "source": [
    "import requests\n",
    "import json    \n",
    "\n",
    "def get_data(path):\n",
    "    server = \"https://tart.elec.ac.nz/rhodes\"\n",
    "\n",
    "    r = requests.get('{}/{}'.format(server, path))\n",
    "    return json.loads(r.text)\n",
    "\n",
    "def get_pos():\n",
    "    return np.array(get_data('api/v1/imaging/antenna_positions'))\n",
    "\n",
    "if True:\n",
    "    with open('rhodes_24_opt.json', \"r\") as f:\n",
    "        data = f.read()\n",
    "    cal_json = json.loads(data)\n",
    "    print(cal_json)\n",
    "    arm_angles = np.array(cal_json['arm_degrees'])\n",
    "    narms = cal_json['num_arms']\n",
    "    arms = cal_json['arms']\n",
    "    current_pos = []\n",
    "    for arm_angle,arm in zip(arm_angles, arms):\n",
    "        print(arm_angle, arm)\n",
    "        r = np.array(arm)\n",
    "        arm_x, arm_y = get_xy(r, arm_angle)\n",
    "        for x,y in zip(arm_x, arm_y):\n",
    "            current_pos.append([x,y])\n",
    "    current_pos = np.array(current_pos)\n",
    "else:\n",
    "    current_pos = get_pos()\n",
    "    json_result = {}\n",
    "    json_result[\"antenna_positions\"] = current_pos.tolist()\n",
    "    print(json.dumps(json_result, indent=4, separators=(',', ': ')))"
   ]
  },
  {
   "cell_type": "markdown",
   "metadata": {},
   "source": [
    "## Parameter Mapping\n",
    "\n",
    "The parameters will be 24 radius measurements and three angle measurements. The first arm is assumed to be at angle zero. The first task is to get these parameters from the initial position estimate."
   ]
  },
  {
   "cell_type": "code",
   "execution_count": 8,
   "metadata": {},
   "outputs": [
    {
     "name": "stdout",
     "output_type": "stream",
     "text": [
      "Arm Angles: [    0.          4125.29612494  8250.59224988 12375.88837483\n",
      " 16501.18449977]\n",
      "[array([0, 1, 2, 3, 4]), array([5, 6, 7, 8, 9]), array([10, 11, 12, 13, 14]), array([15, 16, 17, 18, 19]), array([20, 21, 22, 23])]\n",
      "[0 0 0 0 0 1 1 1 1 1 2 2 2 2 2 3 3 3 3 3 4 4 4 4]\n"
     ]
    }
   ],
   "source": [
    "N_arm = 5\n",
    "N_ant = 24\n",
    "\n",
    "arm_angles = np.degrees(arm_angles)\n",
    "print(f\"Arm Angles: {arm_angles}\")\n",
    "\n",
    "arm_angle_indices = np.zeros(N_ant, dtype=int)\n",
    "arms = np.array_split(np.arange(N_ant, dtype=int), N_arm)\n",
    "print(arms)\n",
    "for i in range(N_arm):\n",
    "    arm_angle_indices[arms[i]] = i\n",
    "\n",
    "print(arm_angle_indices)\n",
    "\n",
    "def split_param(x):\n",
    "    arm_angles = x[0:N_arm]\n",
    "    radii = x[N_arm:N_ant+N_arm]\n",
    "    \n",
    "    return arm_angles, radii\n",
    "\n",
    "def p(x, i): # Coordinates for the ith antenna from parameters x\n",
    "    arm_angles, radii = split_param(x)\n",
    "    \n",
    "    r = radii[i]\n",
    "    ai = arm_angle_indices[i]\n",
    "    \n",
    "    x,y = get_xy(r, arm_angles[ai])\n",
    "    return [x,y]"
   ]
  },
  {
   "cell_type": "code",
   "execution_count": 9,
   "metadata": {},
   "outputs": [],
   "source": [
    "def plot_ant(ax, p):\n",
    "    for i in range(0,p.shape[0]):\n",
    "        #print(p[i])\n",
    "        ax.text(pos_i[i,0], pos_i[i,1],f\"{i}\")"
   ]
  },
  {
   "cell_type": "code",
   "execution_count": 10,
   "metadata": {},
   "outputs": [
    {
     "name": "stdout",
     "output_type": "stream",
     "text": [
      "Arm angle index 0, 0.0\n",
      "Arm angle index 0, 0.0\n",
      "Arm angle index 0, 0.0\n",
      "Arm angle index 0, 0.0\n",
      "Arm angle index 0, 0.0\n",
      "Arm angle index 1, 72.0\n",
      "Arm angle index 1, 72.0\n",
      "Arm angle index 1, 72.0\n",
      "Arm angle index 1, 72.0\n",
      "Arm angle index 1, 72.0\n",
      "Arm angle index 2, 144.0\n",
      "Arm angle index 2, 144.0\n",
      "Arm angle index 2, 144.0\n",
      "Arm angle index 2, 144.0\n",
      "Arm angle index 2, 144.0\n",
      "Arm angle index 3, 216.0\n",
      "Arm angle index 3, 216.0\n",
      "Arm angle index 3, 216.0\n",
      "Arm angle index 3, 216.0\n",
      "Arm angle index 3, 216.0\n",
      "Arm angle index 4, -72.00000000000003\n",
      "Arm angle index 4, -72.00000000000003\n",
      "Arm angle index 4, -72.00000000000003\n",
      "Arm angle index 4, -72.00000000000003\n",
      "initial arm angles: [  0.  72. 144. 216. -72.]\n"
     ]
    },
    {
     "data": {
      "image/png": "[encoded data removed]",
      "text/plain": [
       "<Figure size 1200x1200 with 1 Axes>"
      ]
     },
     "metadata": {},
     "output_type": "display_data"
    }
   ],
   "source": [
    "n_param = N_ant + N_arm\n",
    "\n",
    "initial_guess = np.zeros(n_param)\n",
    "initial_arm_angles = np.zeros(N_arm)\n",
    "for i in range(N_ant):\n",
    "    x,y = current_pos[i][0:2]*1000\n",
    "    \n",
    "    r = np.sqrt(x**2 + y**2)\n",
    "    theta = get_angle(x,y)\n",
    "    \n",
    "    ai = arm_angle_indices[i]\n",
    "    print(f\"Arm angle index {ai}, {theta}\")\n",
    "    initial_guess[ai] = theta\n",
    "    initial_guess[N_arm+i] = r\n",
    "    initial_arm_angles[ai] = theta\n",
    "    \n",
    "    # print(x,y, r, theta)\n",
    "print(f\"initial arm angles: {initial_arm_angles}\")\n",
    "pos_i = current_pos*1000\n",
    "import matplotlib.pyplot as plt\n",
    "\n",
    "fig, ax = plt.subplots(figsize=(12,12))\n",
    "\n",
    "ax.scatter(pos_i[:,0], pos_i[:,1])\n",
    "plot_ant(ax, pos_i)\n",
    "ax.grid(True)\n",
    "ax.set_title('Initial positions')\n",
    "ax.set_xlabel('x (mm)')\n",
    "ax.set_ylabel('y (mm)')\n",
    "plt.savefig('initial_positions.png')\n",
    "plt.show()"
   ]
  },
  {
   "cell_type": "markdown",
   "metadata": {},
   "source": [
    "## Criteria for Optimality\n",
    "\n",
    "The function below is minimized when the positions (in variable x) are consistent with the measured distances m[i,j]. The initial value of this function is more than 3 million.\n",
    "\n",
    "Note that the x input is a 1D vector of with 48 entries as [p0.x, p0.y, p1.x, p1.y]"
   ]
  },
  {
   "cell_type": "code",
   "execution_count": 11,
   "metadata": {},
   "outputs": [
    {
     "data": {
      "text/plain": [
       "array([   0.        ,   72.        ,  144.        ,  216.        ,\n",
       "        -72.        ,  652.96302375, 2504.43269489, 1073.4945912 ,\n",
       "       2000.54862853, 1693.18108129, 1781.7801674 , 2547.97064688,\n",
       "        240.27311461,  544.80874966,  920.98454655, 2549.93417925,\n",
       "        703.09675693, 1533.67895711, 1211.68499494, 1932.75179996,\n",
       "        860.97402142, 2546.81317442,  352.1255704 , 2240.95798724,\n",
       "       1260.98734026, 2497.38660339, 2191.99381767, 1795.6789838 ,\n",
       "       1271.73283956])"
      ]
     },
     "execution_count": 11,
     "metadata": {},
     "output_type": "execute_result"
    }
   ],
   "source": [
    "initial_guess"
   ]
  },
  {
   "cell_type": "code",
   "execution_count": 12,
   "metadata": {},
   "outputs": [
    {
     "name": "stdout",
     "output_type": "stream",
     "text": [
      "206763.70538856348\n"
     ]
    }
   ],
   "source": [
    "def dist(a,b):\n",
    "    return np.sqrt((a[0]-b[0])**2 + (a[1]-b[1])**2)\n",
    "\n",
    "center = [0,0]\n",
    "\n",
    "def radius_model(x):\n",
    "    ret = []\n",
    "    \n",
    "    for i in range(N_ant):\n",
    "        p_i = p(x,i)\n",
    "        ret.append(dist(center, p_i))\n",
    "        \n",
    "    return np.array(ret)\n",
    "\n",
    "non_nan_ij = []\n",
    "non_nan_indices = []\n",
    "for i in range(N_ant):\n",
    "    for j in range(N_ant):\n",
    "        if not np.isnan(m_ij[i,j]):\n",
    "            non_nan_ij.append(m_ij[i,j])\n",
    "            non_nan_indices.append([i,j])\n",
    "non_nan_ij = np.array(non_nan_ij)\n",
    "non_nan_indices = np.array(non_nan_indices)\n",
    "\n",
    "def m_ij_model(x):\n",
    "    ret = []\n",
    "    for i in range(N_ant):\n",
    "        p_i = p(x,i)\n",
    "\n",
    "        for j in range(N_ant):\n",
    "            p_j = p(x,j)\n",
    "            if not np.isnan(m_ij[i,j]):\n",
    "                ret.append(dist(p_j, p_i))\n",
    "                \n",
    "    return np.array(ret)\n",
    "    \n",
    "def radius_residual(x):\n",
    "    predict = radius_model(x)\n",
    "    return predict - radius\n",
    "\n",
    "def m_ij_residual(x):\n",
    "    predict = m_ij_model(x)\n",
    "    return predict - non_nan_ij\n",
    "\n",
    "\n",
    "def f(x):\n",
    "    ret = 0\n",
    "    for i in range(N_ant):\n",
    "        p_i = p(x,i)\n",
    "        ret += (dist(center, p_i) - m_0[i])**2\n",
    "        for j in range(N_ant):\n",
    "            p_j = p(x,j)\n",
    "            if not np.isnan(m_ij[i,j]):\n",
    "                ret += (dist(p_j, p_i) - m_ij[i,j])**2\n",
    "    return ret\n",
    "\n",
    "def f(x):\n",
    "    # This is the final criterion for optimality. The sum of squared residuals.\n",
    "    ret = np.sum(radius_residual(x)**2)\n",
    "    ret += np.sum(m_ij_residual(x)**2)\n",
    "    #ret += (100*x[0])**2\n",
    "    return ret\n",
    "\n",
    "print(f(initial_guess))"
   ]
  },
  {
   "cell_type": "markdown",
   "metadata": {},
   "source": [
    "We can see that the initial value of this optimality condition is about 600,000."
   ]
  },
  {
   "cell_type": "code",
   "execution_count": 13,
   "metadata": {},
   "outputs": [
    {
     "data": {
      "text/plain": [
       "  message: CONVERGENCE: REL_REDUCTION_OF_F_<=_FACTR*EPSMCH\n",
       "  success: True\n",
       "   status: 0\n",
       "      fun: 11075.590661259279\n",
       "        x: [-3.042e+01  4.174e+01 ...  1.814e+03  1.285e+03]\n",
       "      nit: 206\n",
       "      jac: [ 4.529e-02 -2.383e-01 ... -4.202e-02 -7.258e-02]\n",
       "     nfev: 6720\n",
       "     njev: 224\n",
       " hess_inv: <29x29 LbfgsInvHessProduct with dtype=float64>"
      ]
     },
     "execution_count": 13,
     "metadata": {},
     "output_type": "execute_result"
    }
   ],
   "source": [
    "bnd = [[0, 5000]]*n_param\n",
    "\n",
    "\n",
    "for i in range(N_arm):\n",
    "    bnd[i] = [-360, 360]\n",
    "    \n",
    "eps = 0.01\n",
    "for i, theta in known_angles:\n",
    "    bnd[i-1] = [theta - eps, theta + eps]\n",
    "\n",
    "res = minimize(f, initial_guess, bounds=bnd, tol=1e-8)\n",
    "res"
   ]
  },
  {
   "cell_type": "code",
   "execution_count": 14,
   "metadata": {},
   "outputs": [
    {
     "name": "stdout",
     "output_type": "stream",
     "text": [
      "  Arm 0:\tJac: 000.05\n",
      "  Arm 1:\tJac: -00.24\n",
      "  Arm 2:\tJac: -00.00\n",
      "  Arm 3:\tJac: 000.32\n",
      "  Arm 4:\tJac: -00.12\n",
      "Antennas\n",
      "  Ant 0:\tJac: 000.08\n",
      "  Ant 1:\tJac: 000.08\n",
      "  Ant 2:\tJac: 000.02\n",
      "  Ant 3:\tJac: -00.02\n",
      "  Ant 4:\tJac: -00.04\n",
      "  Ant 5:\tJac: 000.01\n",
      "  Ant 6:\tJac: 000.07\n",
      "  Ant 7:\tJac: -00.01\n",
      "  Ant 8:\tJac: 000.02\n",
      "  Ant 9:\tJac: 000.04\n",
      "  Ant 10:\tJac: 000.02\n",
      "  Ant 11:\tJac: -00.02\n",
      "  Ant 12:\tJac: -00.01\n",
      "  Ant 13:\tJac: 000.02\n",
      "  Ant 14:\tJac: 000.03\n",
      "  Ant 15:\tJac: -00.00\n",
      "  Ant 16:\tJac: 000.05\n",
      "  Ant 17:\tJac: 000.03\n",
      "  Ant 18:\tJac: 000.05\n",
      "  Ant 19:\tJac: -00.00\n",
      "  Ant 20:\tJac: -00.01\n",
      "  Ant 21:\tJac: -00.08\n",
      "  Ant 22:\tJac: -00.04\n",
      "  Ant 23:\tJac: -00.07\n"
     ]
    }
   ],
   "source": [
    "res_arm_angles, res_radii = split_param(res.jac)\n",
    "for i in range(N_arm):\n",
    "    print(f\"  Arm {i}:\\tJac: {res_arm_angles[i]:06.2f}\")\n",
    "\n",
    "print(\"Antennas\")\n",
    "for i in range(N_ant):\n",
    "    print(f\"  Ant {i}:\\tJac: {res_radii[i]:06.2f}\")"
   ]
  },
  {
   "cell_type": "markdown",
   "metadata": {},
   "source": [
    "The optimized positions are now known. The final value of the function is 32. Far closer to zero than 3 million!\n",
    "\n",
    "We can recover the x,y coordinates by reshaping the array"
   ]
  },
  {
   "cell_type": "code",
   "execution_count": 15,
   "metadata": {},
   "outputs": [
    {
     "name": "stdout",
     "output_type": "stream",
     "text": [
      "[ -30.42368555   41.74204269  113.88410989  186.13895322 -101.91491341]\n",
      "[ 699.09857919 2556.33678015 1119.68112769 2046.8841318  1731.27609755\n",
      " 1818.43662215 2575.23176785  266.39219647  566.24696307  945.01983059\n",
      " 2563.29230217  680.59080234 1527.72090086 1208.76012468 1943.68692084\n",
      "  872.2148087  2576.11984748  347.2240881  2300.36554448 1271.34341768\n",
      " 2529.6060034  2234.75346893 1813.76955576 1285.49606538]\n"
     ]
    }
   ],
   "source": [
    "arm_angles, radii = split_param(res.x)\n",
    "print(arm_angles)\n",
    "print(radii)"
   ]
  },
  {
   "cell_type": "code",
   "execution_count": 16,
   "metadata": {},
   "outputs": [],
   "source": [
    "arm_angles, radii = split_param(res.x)\n",
    "\n",
    "pos = np.array([p(res.x, i) for i in range(N_ant)])"
   ]
  },
  {
   "cell_type": "code",
   "execution_count": 17,
   "metadata": {},
   "outputs": [
    {
     "data": {
      "image/png": "[encoded data removed]",
      "text/plain": [
       "<Figure size 1200x1200 with 1 Axes>"
      ]
     },
     "metadata": {},
     "output_type": "display_data"
    }
   ],
   "source": [
    "fig, ax = plt.subplots(figsize=(12,12))\n",
    "\n",
    "ax.scatter(pos_i[:,0], pos_i[:,1], label='initial')\n",
    "ax.scatter(pos[:,0], pos[:,1], label='final')\n",
    "plot_ant(ax, pos_i)\n",
    "plot_ant(ax, pos)\n",
    "\n",
    "ax.grid(True)\n",
    "ax.set_title('Final Solution')\n",
    "ax.set_xlabel('x (mm)')\n",
    "ax.set_ylabel('y (mm)')\n",
    "ax.legend()\n",
    "plt.savefig('final_positions.png')\n",
    "plt.show()"
   ]
  },
  {
   "cell_type": "code",
   "execution_count": 18,
   "metadata": {
    "scrolled": true
   },
   "outputs": [
    {
     "data": {
      "image/png": "[encoded data removed]",
      "text/plain": [
       "<Figure size 1200x1200 with 1 Axes>"
      ]
     },
     "metadata": {},
     "output_type": "display_data"
    }
   ],
   "source": [
    "# Differences plot\n",
    "diff = pos - pos_i[:,0:2]\n",
    "\n",
    "\n",
    "fig, ax = plt.subplots(figsize=(12,12))\n",
    "\n",
    "ax.scatter(diff[:,0], diff[:,1], color='red')\n",
    "\n",
    "for i in range(0,diff.shape[0]):\n",
    "    ax.text(diff[i,0], diff[i,1],f\"{i}\")\n",
    "\n",
    "ax.grid(True)\n",
    "ax.set_title(\"Differences from initial position\")\n",
    "ax.set_xlabel('x (mm)')\n",
    "ax.set_xlabel('y (mm)')\n",
    "plt.savefig('differences.png')\n",
    "plt.show()"
   ]
  },
  {
   "cell_type": "code",
   "execution_count": 19,
   "metadata": {},
   "outputs": [
    {
     "data": {
      "text/plain": [
       "A 0      4.098579\n",
       "A 1      1.336780\n",
       "A 2     -0.318872\n",
       "A 3      1.884132\n",
       "A 4      1.276098\n",
       "A 5      5.436622\n",
       "A 6      0.231768\n",
       "A 7      6.392196\n",
       "A 8      1.246963\n",
       "A 9      2.019831\n",
       "A 10    -1.707698\n",
       "A 11     0.590802\n",
       "A 12    -2.279099\n",
       "A 13     4.760125\n",
       "A 14    -0.313079\n",
       "A 15    -2.785191\n",
       "A 16     6.119847\n",
       "A 17    -2.775912\n",
       "A 18    15.365544\n",
       "A 19    -8.656582\n",
       "A 20    -0.393997\n",
       "A 21     1.753469\n",
       "A 22     3.769556\n",
       "A 23     2.496065\n",
       "Name: 0, dtype: float64"
      ]
     },
     "execution_count": 19,
     "metadata": {},
     "output_type": "execute_result"
    }
   ],
   "source": [
    "# Residual plot\n",
    "rres = radius_residual(res.x)\n",
    "rres"
   ]
  },
  {
   "cell_type": "code",
   "execution_count": 20,
   "metadata": {},
   "outputs": [
    {
     "data": {
      "image/png": "[encoded data removed]",
      "text/plain": [
       "<Figure size 640x480 with 1 Axes>"
      ]
     },
     "metadata": {},
     "output_type": "display_data"
    }
   ],
   "source": [
    "# ij resdual\n",
    "ijres = m_ij_residual(res.x)\n",
    "plt.hist(ijres, bins='fd');\n",
    "plt.title(\"Histogram of residuals\")\n",
    "plt.xlabel(\"Residual (mm)\")\n",
    "plt.grid(True)\n",
    "plt.savefig(\"residual_histogram.png\")"
   ]
  },
  {
   "cell_type": "markdown",
   "metadata": {},
   "source": [
    "The API expects 3D coordinates (with a z value which is zero in this case). Therefore we add a column of zeros."
   ]
  },
  {
   "cell_type": "code",
   "execution_count": 21,
   "metadata": {},
   "outputs": [
    {
     "name": "stdout",
     "output_type": "stream",
     "text": [
      "95th percentile of residuals is 12.52 mm\n",
      " res[0,18] = 13.0\n",
      " res[2,18] = 13.5\n",
      " res[10,7] = 36.5\n",
      " res[18,8] = 13.4\n",
      " res[18,15] = 13.2\n",
      " res[19,18] = -71.0\n",
      " res[23,2] = -38.5\n"
     ]
    }
   ],
   "source": [
    "absres = np.abs(ijres)\n",
    "p95 = np.percentile(absres, 95)\n",
    "\n",
    "print(f\"95th percentile of residuals is {p95:4.2f} mm\")\n",
    "ijres_matrix = np.zeros_like(m_ij)\n",
    "for r, i, j in zip(ijres, non_nan_indices[:,0], non_nan_indices[:,1]):\n",
    "    if np.abs(r) > p95:\n",
    "        print(f\" res[{i},{j}] = {r:3.1f}\")\n",
    "    ijres_matrix[i,j] = r\n",
    "    \n"
   ]
  },
  {
   "cell_type": "markdown",
   "metadata": {},
   "source": [
    "## Output best estimates\n",
    "\n",
    "Write some json files..."
   ]
  },
  {
   "cell_type": "code",
   "execution_count": 22,
   "metadata": {},
   "outputs": [
    {
     "data": {
      "text/plain": [
       "array([[-0.354,  0.603,  0.   ],\n",
       "       [-1.295,  2.204,  0.   ],\n",
       "       [-0.567,  0.966,  0.   ],\n",
       "       [-1.037,  1.765,  0.   ],\n",
       "       [-0.877,  1.493,  0.   ],\n",
       "       [ 1.211,  1.357,  0.   ],\n",
       "       [ 1.715,  1.922,  0.   ],\n",
       "       [ 0.177,  0.199,  0.   ],\n",
       "       [ 0.377,  0.423,  0.   ],\n",
       "       [ 0.629,  0.705,  0.   ],\n",
       "       [ 2.344, -1.038,  0.   ],\n",
       "       [ 0.622, -0.276,  0.   ],\n",
       "       [ 1.397, -0.619,  0.   ],\n",
       "       [ 1.105, -0.489,  0.   ],\n",
       "       [ 1.777, -0.787,  0.   ],\n",
       "       [-0.093, -0.867,  0.   ],\n",
       "       [-0.275, -2.561,  0.   ],\n",
       "       [-0.037, -0.345,  0.   ],\n",
       "       [-0.246, -2.287,  0.   ],\n",
       "       [-0.136, -1.264,  0.   ],\n",
       "       [-2.475, -0.522,  0.   ],\n",
       "       [-2.187, -0.461,  0.   ],\n",
       "       [-1.775, -0.374,  0.   ],\n",
       "       [-1.258, -0.265,  0.   ]])"
      ]
     },
     "execution_count": 22,
     "metadata": {},
     "output_type": "execute_result"
    }
   ],
   "source": [
    "result = np.zeros((N_ant, 3))\n",
    "result[:,:-1] = np.round(pos/1000.0, 3)\n",
    "result"
   ]
  },
  {
   "cell_type": "code",
   "execution_count": 23,
   "metadata": {},
   "outputs": [
    {
     "name": "stdout",
     "output_type": "stream",
     "text": [
      "{\n",
      "    \"antenna_positions\": [\n",
      "        [\n",
      "            -0.354,\n",
      "            0.603,\n",
      "            0.0\n",
      "        ],\n",
      "        [\n",
      "            -1.295,\n",
      "            2.204,\n",
      "            0.0\n",
      "        ],\n",
      "        [\n",
      "            -0.567,\n",
      "            0.966,\n",
      "            0.0\n",
      "        ],\n",
      "        [\n",
      "            -1.037,\n",
      "            1.765,\n",
      "            0.0\n",
      "        ],\n",
      "        [\n",
      "            -0.877,\n",
      "            1.493,\n",
      "            0.0\n",
      "        ],\n",
      "        [\n",
      "            1.211,\n",
      "            1.357,\n",
      "            0.0\n",
      "        ],\n",
      "        [\n",
      "            1.715,\n",
      "            1.922,\n",
      "            0.0\n",
      "        ],\n",
      "        [\n",
      "            0.177,\n",
      "            0.199,\n",
      "            0.0\n",
      "        ],\n",
      "        [\n",
      "            0.377,\n",
      "            0.423,\n",
      "            0.0\n",
      "        ],\n",
      "        [\n",
      "            0.629,\n",
      "            0.705,\n",
      "            0.0\n",
      "        ],\n",
      "        [\n",
      "            2.344,\n",
      "            -1.038,\n",
      "            0.0\n",
      "        ],\n",
      "        [\n",
      "            0.622,\n",
      "            -0.276,\n",
      "            0.0\n",
      "        ],\n",
      "        [\n",
      "            1.397,\n",
      "            -0.619,\n",
      "            0.0\n",
      "        ],\n",
      "        [\n",
      "            1.105,\n",
      "            -0.489,\n",
      "            0.0\n",
      "        ],\n",
      "        [\n",
      "            1.777,\n",
      "            -0.787,\n",
      "            0.0\n",
      "        ],\n",
      "        [\n",
      "            -0.093,\n",
      "            -0.867,\n",
      "            0.0\n",
      "        ],\n",
      "        [\n",
      "            -0.275,\n",
      "            -2.561,\n",
      "            0.0\n",
      "        ],\n",
      "        [\n",
      "            -0.037,\n",
      "            -0.345,\n",
      "            0.0\n",
      "        ],\n",
      "        [\n",
      "            -0.246,\n",
      "            -2.287,\n",
      "            0.0\n",
      "        ],\n",
      "        [\n",
      "            -0.136,\n",
      "            -1.264,\n",
      "            0.0\n",
      "        ],\n",
      "        [\n",
      "            -2.475,\n",
      "            -0.522,\n",
      "            0.0\n",
      "        ],\n",
      "        [\n",
      "            -2.187,\n",
      "            -0.461,\n",
      "            0.0\n",
      "        ],\n",
      "        [\n",
      "            -1.775,\n",
      "            -0.374,\n",
      "            0.0\n",
      "        ],\n",
      "        [\n",
      "            -1.258,\n",
      "            -0.265,\n",
      "            0.0\n",
      "        ]\n",
      "    ]\n",
      "}\n"
     ]
    }
   ],
   "source": [
    "json_result = {}\n",
    "json_result[\"antenna_positions\"] = result.tolist()\n",
    "print(json.dumps(json_result, indent=4, separators=(',', ': ')))\n",
    "\n",
    "f = open(\"rhodes_antenna_positions.nonaligned.json\", \"w\")\n",
    "f.write(json.dumps(json_result))\n",
    "f.close()\n"
   ]
  },
  {
   "cell_type": "markdown",
   "metadata": {
    "collapsed": true
   },
   "source": [
    "The position file above is in a format suitable for uploading to the telescope api. There is a tool for this in the 'tart_tools' python package. Also for using as the calibrated_antenna_positions.json file in TART/software/containers/telescope_web_api/config_data.\n",
    "\n",
    "\n",
    "    tart_upload_antenna_positions --api https://tart.elec.ac.nz/rhodes --file rhodes_antenna_positions.json --pw=xxxx\n"
   ]
  },
  {
   "cell_type": "code",
   "execution_count": null,
   "metadata": {},
   "outputs": [],
   "source": []
  }
 ],
 "metadata": {
  "kernelspec": {
   "display_name": "Python 3 (ipykernel)",
   "language": "python",
   "name": "python3"
  },
  "language_info": {
   "codemirror_mode": {
    "name": "ipython",
    "version": 3
   },
   "file_extension": ".py",
   "mimetype": "text/x-python",
   "name": "python",
   "nbconvert_exporter": "python",
   "pygments_lexer": "ipython3",
   "version": "3.11.8"
  }
 },
 "nbformat": 4,
 "nbformat_minor": 2
}
