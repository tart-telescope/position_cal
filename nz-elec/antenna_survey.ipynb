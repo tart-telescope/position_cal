{
 "cells": [
  {
   "cell_type": "markdown",
   "metadata": {},
   "source": [
    "# Antenna Position Calibration\n",
    "\n",
    "Author: Tim Molteno. tim@elec.ac.nz.\n",
    "\n",
    "The antennas are laid out on five spiral arms.  This notebook will use measurements to infer the actual layout of the antennas.\n",
    "\n",
    "The other reference point is the center of the array. This is assumed to be the point [0,0]. Make sure that a marker is present at this reference point at the same height as the level of the antennas (otherwise the distances will be wrong)."
   ]
  },
  {
   "cell_type": "code",
   "execution_count": 1,
   "metadata": {},
   "outputs": [],
   "source": [
    "import numpy as np\n",
    "from scipy.optimize import minimize\n",
    "\n",
    "# pip install numpy scipy pandas odfpy"
   ]
  },
  {
   "cell_type": "code",
   "execution_count": 2,
   "metadata": {},
   "outputs": [],
   "source": [
    "site_name = 'nz-elec'\n",
    "x0 = [0,0]\n",
    "global_rot_degrees = +1.62\n",
    "global_rot_index = 0"
   ]
  },
  {
   "cell_type": "code",
   "execution_count": 3,
   "metadata": {},
   "outputs": [
    {
     "data": {
      "text/plain": [
       "A 0      332.0\n",
       "A 1      870.0\n",
       "A 2     1210.0\n",
       "A 3     1450.0\n",
       "A 4     1645.0\n",
       "A 5      335.0\n",
       "A 6      872.0\n",
       "A 7     1210.0\n",
       "A 8     1452.0\n",
       "A 9     1650.0\n",
       "A 10     337.0\n",
       "A 11     872.0\n",
       "A 12    1214.0\n",
       "A 13    1455.0\n",
       "A 14    1650.0\n",
       "A 15     337.0\n",
       "A 16     872.0\n",
       "A 17    1212.0\n",
       "A 18    1455.0\n",
       "A 19    1655.0\n",
       "A 20     332.0\n",
       "A 21     867.0\n",
       "A 22    1210.0\n",
       "A 23    1450.0\n",
       "Name: 0, dtype: float64"
      ]
     },
     "execution_count": 3,
     "metadata": {},
     "output_type": "execute_result"
    }
   ],
   "source": [
    "import pandas as pd\n",
    "\n",
    "cols = [f\"A {i}\" for i in range(24)]\n",
    "data = pd.read_excel('antenna_measurements.ods', \"Sheet1\", usecols=cols)\n",
    "radius = data.loc[0]\n",
    "radius"
   ]
  },
  {
   "cell_type": "code",
   "execution_count": null,
   "metadata": {},
   "outputs": [],
   "source": []
  },
  {
   "cell_type": "markdown",
   "metadata": {},
   "source": [
    "## Finding the antennas\n",
    "\n",
    "This is done by measuring the distance from each antenna to x0 as well as each other antenna. The distance $m_0$ are the measurements to $x_0$. The array m_ij are the distances between antennas."
   ]
  },
  {
   "cell_type": "code",
   "execution_count": 4,
   "metadata": {},
   "outputs": [],
   "source": [
    "n_ant = 24\n",
    "m_0 = np.zeros(n_ant)\n",
    "m_ij = np.zeros((n_ant,n_ant))\n",
    "\n",
    "radius = data.loc[0]\n",
    "\n",
    "for i in range(n_ant):\n",
    "    m_ij[i,:] = data.loc[i+1]"
   ]
  },
  {
   "cell_type": "markdown",
   "metadata": {},
   "source": [
    "The following are the measured distances from [x1, x0, x2] from the reference points in millimeters. Note that their order must be the same as the order of the variable called 'reference_points'. In this case, they are x1,x0,x2."
   ]
  },
  {
   "cell_type": "code",
   "execution_count": 5,
   "metadata": {},
   "outputs": [
    {
     "data": {
      "text/plain": [
       "array([[  nan,   nan,   nan,   nan, 1414.,   nan,   nan,   nan,   nan,\n",
       "        1810.,   nan,   nan,   nan,   nan, 1986.,   nan,   nan,   nan,\n",
       "          nan, 1760.,   nan,   nan,   nan, 1212.],\n",
       "       [  nan,   nan,   nan,   nan, 1004.,   nan,   nan,   nan,   nan,\n",
       "          nan,   nan,   nan,   nan,   nan, 2522.,   nan,   nan,   nan,\n",
       "          nan, 2153.,   nan,   nan,   nan, 1120.],\n",
       "       [  nan,   nan,   nan,   nan,  650.,   nan,   nan,   nan,   nan,\n",
       "        2077.,   nan,   nan,   nan,   nan, 2836.,   nan,   nan,   nan,\n",
       "          nan, 2543.,   nan,   nan,   nan, 1375.],\n",
       "       [  nan,   nan,   nan,   nan,  323.,   nan,   nan,   nan,   nan,\n",
       "        2036.,   nan,   nan,   nan,   nan, 3026.,   nan,   nan,   nan,\n",
       "          nan, 2866.,   nan,   nan,   nan, 1695.],\n",
       "       [1414., 1004.,  650.,  323.,   nan, 1374., 1153., 1328., 1622.,\n",
       "        1944., 1759., 2153., 2544., 2867., 3142., 1987., 2522., 2836.,\n",
       "        3025., 3142., 1807., 2026., 2070., 2017.],\n",
       "       [  nan,   nan,   nan,   nan, 1374.,   nan,   nan,   nan,   nan,\n",
       "        1415.,   nan,   nan,   nan,   nan, 1811.,   nan,   nan,   nan,\n",
       "          nan, 1988.,   nan,   nan,   nan, 1611.],\n",
       "       [  nan,   nan,   nan,   nan, 1153.,   nan,   nan,   nan,   nan,\n",
       "        1006.,   nan,   nan,   nan,   nan, 2030.,   nan,   nan,   nan,\n",
       "          nan, 2521.,   nan,   nan,   nan, 2060.],\n",
       "       [  nan,   nan,   nan,   nan, 1328.,   nan,   nan,   nan,   nan,\n",
       "         651.,   nan,   nan,   nan,   nan, 2076.,   nan,   nan,   nan,\n",
       "          nan, 2835.,   nan,   nan,   nan, 2444.],\n",
       "       [  nan,   nan,   nan,   nan, 1622.,   nan,   nan,   nan,   nan,\n",
       "         324.,   nan,   nan,   nan,   nan, 2035.,   nan,   nan,   nan,\n",
       "          nan, 3024.,   nan,   nan,   nan, 2766.],\n",
       "       [1810.,   nan, 2077., 2036., 1944., 1415., 1006.,  651.,  324.,\n",
       "          nan, 1375., 1153., 1326., 1620., 1942., 1760., 2151., 2541.,\n",
       "        2864., 3141., 1988., 2521., 2836., 3022.],\n",
       "       [  nan,   nan,   nan,   nan, 1759.,   nan,   nan,   nan,   nan,\n",
       "        1375.,   nan,   nan,   nan,   nan, 1415.,   nan,   nan,   nan,\n",
       "          nan, 1808.,  640., 1182., 1540., 1790.],\n",
       "       [  nan,   nan,   nan,   nan, 2153.,   nan,   nan,   nan,   nan,\n",
       "        1153.,   nan,   nan,   nan,   nan, 1005.,   nan,   nan,   nan,\n",
       "          nan, 2026., 1133., 1658., 2036., 2308.],\n",
       "       [  nan,   nan,   nan,   nan, 2544.,   nan,   nan,   nan,   nan,\n",
       "        1326.,   nan,   nan,   nan,   nan,  651.,   nan,   nan,   nan,\n",
       "          nan, 2072., 1423., 1917., 2307., 2600.],\n",
       "       [  nan,   nan,   nan,   nan, 2867.,   nan,   nan,   nan,   nan,\n",
       "        1620.,   nan,   nan,   nan,   nan,  324.,   nan,   nan,   nan,\n",
       "          nan, 2030., 1616., 2063., 2459., 2769.],\n",
       "       [1986., 2522., 2836., 3026., 3142., 1811., 2030., 2076., 2035.,\n",
       "        1942., 1415., 1005.,  651.,  324.,   nan, 1375., 1150., 1322.,\n",
       "        1616., 1937., 1760., 2152., 2545., 2868.],\n",
       "       [  nan,   nan,   nan,   nan, 1987.,   nan,   nan,   nan,   nan,\n",
       "        1760.,   nan,   nan,   nan,   nan, 1375.,   nan,   nan,   nan,\n",
       "          nan, 1413.,  395.,  890., 1277., 1567.],\n",
       "       [  nan,   nan,   nan,   nan, 2522.,   nan,   nan,   nan,   nan,\n",
       "        2151.,   nan,   nan,   nan,   nan, 1150.,   nan,   nan,   nan,\n",
       "          nan, 1004.,  774., 1027., 1407., 1740.],\n",
       "       [  nan,   nan,   nan,   nan, 2836.,   nan,   nan,   nan,   nan,\n",
       "        2541.,   nan,   nan,   nan,   nan, 1322.,   nan,   nan,   nan,\n",
       "          nan,  650., 1035., 1102., 1431., 1765.],\n",
       "       [  nan,   nan,   nan,   nan, 3025.,   nan,   nan,   nan,   nan,\n",
       "        2864.,   nan,   nan,   nan,   nan, 1616.,   nan,   nan,   nan,\n",
       "          nan,  323., 1220., 1133., 1395., 1716.],\n",
       "       [1760., 2153., 2543., 2866., 3142., 1988., 2521., 2835., 3024.,\n",
       "        3141., 1808., 2026., 2072., 2030., 1937., 1413., 1004.,  650.,\n",
       "         323.,   nan, 1375., 1156., 1332., 1626.],\n",
       "       [  nan,   nan,   nan,   nan, 1807.,   nan,   nan,   nan,   nan,\n",
       "        1988.,  640., 1133., 1423., 1616., 1760.,  395.,  774., 1035.,\n",
       "        1220., 1375.,   nan,  542.,  905., 1180.],\n",
       "       [  nan,   nan,   nan,   nan, 2026.,   nan,   nan,   nan,   nan,\n",
       "        2521., 1182., 1658., 1917., 2063., 2152.,  890., 1027., 1102.,\n",
       "        1133., 1156.,  542.,   nan,   nan,  715.],\n",
       "       [  nan,   nan,   nan,   nan, 2070.,   nan,   nan,   nan,   nan,\n",
       "        2836., 1540., 2036., 2307., 2459., 2545., 1277., 1407., 1431.,\n",
       "        1395., 1332.,  905.,   nan,   nan,  333.],\n",
       "       [1212., 1120., 1375., 1695., 2017., 1611., 2060., 2444., 2766.,\n",
       "        3022., 1790., 2308., 2600., 2769., 2868., 1567., 1740., 1765.,\n",
       "        1716., 1626., 1180.,  715.,  333.,   nan]])"
      ]
     },
     "execution_count": 5,
     "metadata": {},
     "output_type": "execute_result"
    }
   ],
   "source": [
    "for i in range(n_ant):\n",
    "    for j in range(n_ant):\n",
    "        if not np.isnan(m_ij[i,j]):\n",
    "            m_ij[j,i] = m_ij[i,j]\n",
    "\n",
    "m_ij\n"
   ]
  },
  {
   "cell_type": "markdown",
   "metadata": {},
   "source": [
    "## Plot the Initial Guess Points\n",
    "\n",
    "Initial Guesses are from JSON queried from the telescope API. These are converted to millimeters."
   ]
  },
  {
   "cell_type": "code",
   "execution_count": 6,
   "metadata": {
    "scrolled": true
   },
   "outputs": [],
   "source": [
    "import json\n",
    "import requests\n",
    "\n",
    "def get_data(path):\n",
    "    server = \"https://api.elec.ac.nz/tart/zm-cbu/\"\n",
    "\n",
    "    r = requests.get('{}/{}'.format(server, path))\n",
    "    return json.loads(r.text)\n",
    "\n",
    "def get_pos():\n",
    "    return np.array(get_data('api/v1/imaging/antenna_positions'))\n",
    "\n",
    "if True:\n",
    "    # with open('hammanskraal_antenna_positions_nonaligned.json', \"r\") as f:\n",
    "    with open('antenna_positions.json', \"r\") as f:\n",
    "        data = f.read()\n",
    "    cal_json = json.loads(data)\n",
    "    current_pos = cal_json[\"ant_pos\"]\n",
    "    current_pos = np.array(current_pos)\n",
    "else:\n",
    "    current_pos = get_pos()\n",
    "    json_result = {}\n",
    "    json_result[\"antenna_positions\"] = current_pos.tolist()\n",
    "    print(json.dumps(json_result, indent=4, separators=(',', ': ')))\n"
   ]
  },
  {
   "cell_type": "code",
   "execution_count": 7,
   "metadata": {},
   "outputs": [
    {
     "data": {
      "text/plain": [
       "np.float64(90.0)"
      ]
     },
     "execution_count": 7,
     "metadata": {},
     "output_type": "execute_result"
    }
   ],
   "source": [
    "def geo_angle(x,y):\n",
    "    return 90 - np.degrees(np.arctan2(y,x))\n",
    "\n",
    "geo_angle(1,0)"
   ]
  },
  {
   "cell_type": "code",
   "execution_count": 8,
   "metadata": {},
   "outputs": [
    {
     "name": "stdout",
     "output_type": "stream",
     "text": [
      "0 : 24.297791417833842,334.4784842338742, geo: 4.1548853566467585\n",
      "1 : 213.71926230888775,844.0758184249547, geo: 14.208627642522075\n",
      "2 : 516.8456754781338,1095.6349690995446, geo: 25.254734471213013\n",
      "3 : 838.9968993937326,1186.1662475709518, geo: 35.27246204327492\n",
      "4 : 1161.7307530146684,1171.0382410000295, geo: 44.77139744611332\n",
      "5 : 325.61637246504023,80.25096302152869, geo: 76.15488535664676\n",
      "6 : 868.8066914389415,57.5746753575925, geo: 86.20862764252209\n",
      "7 : 1201.7248740349035,-152.97962249921977, geo: 97.25473447121303\n",
      "8 : 1387.375439302275,-431.38793966645335, geo: 107.27246204327493\n",
      "9 : 1472.7180955034303,-743.0008853031206, geo: 116.77139744611328\n",
      "10 : 176.9441940590064,-284.8806614566585, geo: 148.15488535664676\n",
      "11 : 323.23280265372046,-808.4927121627212, geo: 158.20862764252206\n",
      "12 : 225.86114180162303,-1190.1815753901901, geo: 169.254734471213\n",
      "13 : 18.448277251890204,-1452.7786566216087, geo: 179.2724620432749\n",
      "14 : -251.54091414653467,-1630.2380417886209, geo: 188.77139744611333\n",
      "15 : -216.25884642461705,-256.31689453929573, geo: 220.15488535664676\n",
      "16 : -669.0378331200553,-557.25065113074, geo: 230.2086276425221\n",
      "17 : -1062.1350116636404,-582.5930438758136, geo: 241.25473447121303\n",
      "18 : -1375.9737769267265,-466.4786482561131, geo: 251.27246204327494\n",
      "19 : -1628.1789300072076,-264.54163427531796, geo: 260.7713974461133\n",
      "20 : -310.5995115172635,126.46810874055123, geo: -67.8451146433533\n",
      "21 : -736.7209232814945,464.0928695109142, geo: -57.79137235747791\n",
      "22 : -882.296679651019,830.1192726656786, geo: -46.745265528787\n",
      "23 : -868.8468390211726,1164.4789969732244, geo: -36.72753795672506\n"
     ]
    },
    {
     "data": {
      "image/png": "[encoded data removed]",
      "text/plain": [
       "<Figure size 1200x1200 with 1 Axes>"
      ]
     },
     "metadata": {},
     "output_type": "display_data"
    }
   ],
   "source": [
    "def i_y(i):\n",
    "    return 2*i+1\n",
    "\n",
    "def i_x(i):\n",
    "    return 2*i\n",
    "\n",
    "\n",
    "initial_guess = np.zeros(2*n_ant)\n",
    "\n",
    "for i in range(n_ant):\n",
    "    x,y = current_pos[i][0:2]*1000\n",
    "    initial_guess[i_x(i)] = x\n",
    "    initial_guess[i_y(i)] = y\n",
    "    \n",
    "    print(f\"{i} : {x},{y}, geo: {geo_angle(x,y)}\")\n",
    "\n",
    "pos_i = initial_guess.reshape((24,2))\n",
    "#pos_i = current_pos*1000\n",
    "\n",
    "import matplotlib.pyplot as plt\n",
    "\n",
    "fig, ax = plt.subplots(figsize=(12,12))\n",
    "\n",
    "ax.scatter(pos_i[:,0], pos_i[:,1])\n",
    "for i in range(0,pos_i.shape[0]):\n",
    "    ax.text(pos_i[i,0], pos_i[i,1],f\"{i}\")\n",
    "\n",
    "ax.grid(True)\n",
    "ax.set_title('Initial positions')\n",
    "ax.set_xlabel('x (mm)')\n",
    "ax.set_ylabel('y (mm)')\n",
    "plt.savefig('initial_positions.png')\n",
    "plt.show()"
   ]
  },
  {
   "cell_type": "markdown",
   "metadata": {},
   "source": [
    "## Criteria for Optimality\n",
    "\n",
    "The function below is minimized when the positions (in variable x) are consistent with the measured distances m[i,j]. The initial value of this function is more than 3 million.\n",
    "\n",
    "Note that the x input is a 1D vector of with 48 entries as [p0.x, p0.y, p1.x, p1.y]"
   ]
  },
  {
   "cell_type": "code",
   "execution_count": 9,
   "metadata": {},
   "outputs": [
    {
     "data": {
      "text/plain": [
       "np.float64(90.0)"
      ]
     },
     "execution_count": 9,
     "metadata": {},
     "output_type": "execute_result"
    }
   ],
   "source": [
    "def geo_angle(x,y):\n",
    "    return 90 - np.degrees(np.arctan2(y,x))\n",
    "\n",
    "geo_angle(1,0)"
   ]
  },
  {
   "cell_type": "code",
   "execution_count": 10,
   "metadata": {},
   "outputs": [],
   "source": [
    "def dist(a,b):\n",
    "    return np.sqrt((a[0]-b[0])**2 + (a[1]-b[1])**2)\n",
    "\n",
    "\n",
    "def p(x, i):\n",
    "    return [x[i_x(i)],x[i_y(i)]]\n",
    "\n",
    "max_err = 4200\n",
    "def bounds():\n",
    "    ret = [(0,0)]*48\n",
    "    for i in range(n_ant):\n",
    "        _x,_y = pos_i[i,0], pos_i[i,1]\n",
    "        ret[i_x(i)] = (_x - max_err, _x + max_err)\n",
    "        ret[i_y(i)] = (_y - max_err, _y + max_err)\n",
    "    \n",
    "    return ret\n",
    "\n",
    "bnd = bounds()\n",
    "\n",
    "center = [0,0]\n",
    "\n",
    "def angle(x, i):\n",
    "    _x, _y = p(x, i)\n",
    "    return geo_angle(_x, _y)\n",
    "    \n",
    "def radius_model(x):\n",
    "    ret = []\n",
    "    \n",
    "    for i in range(n_ant):\n",
    "        p_i = p(x,i)\n",
    "        ret.append(dist(center, p_i))\n",
    "        \n",
    "    return np.array(ret)\n",
    "\n",
    "non_nan_ij = []\n",
    "non_nan_indices = []\n",
    "for i in range(n_ant):\n",
    "    for j in range(n_ant):\n",
    "        if not np.isnan(m_ij[i,j]):\n",
    "            non_nan_ij.append(m_ij[i,j])\n",
    "            non_nan_indices.append([i,j])\n",
    "non_nan_ij = np.array(non_nan_ij)\n",
    "non_nan_indices = np.array(non_nan_indices)\n",
    "\n",
    "def m_ij_model(x):\n",
    "    ret = []\n",
    "    for i in range(n_ant):\n",
    "        p_i = p(x,i)\n",
    "\n",
    "        for j in range(n_ant):\n",
    "            p_j = p(x,j)\n",
    "            if not np.isnan(m_ij[i,j]):\n",
    "                ret.append(dist(p_j, p_i))\n",
    "                \n",
    "    return np.array(ret)\n",
    "    \n",
    "def radius_residual(x):\n",
    "    predict = radius_model(x)\n",
    "    return (predict - radius)\n",
    "\n",
    "def m_ij_residual(x):\n",
    "    predict = m_ij_model(x)\n",
    "    return (predict - non_nan_ij)\n",
    "\n",
    "def rot_residual(x):\n",
    "    predict = angle(x, global_rot_index)\n",
    "    return (predict - global_rot_degrees)\n",
    "\n",
    "def f_old(x):\n",
    "    ret = 0\n",
    "    for i in range(n_ant):\n",
    "        p_i = p(x,i)\n",
    "        ret += (dist(center, p_i) - m_0[i])**2\n",
    "        for j in range(n_ant):\n",
    "            p_j = p(x,j)\n",
    "            if not np.isnan(m_ij[i,j]):\n",
    "                ret += (dist(p_j, p_i) - m_ij[i,j])**2\n",
    "    return ret\n",
    "\n",
    "def f(x):\n",
    "    # This is the final criterion for optimality. The sum of squared residuals.\n",
    "    ret = np.sum(radius_residual(x)**2)*10\n",
    "    ret += np.sum(m_ij_residual(x)**2)\n",
    "    ret += (rot_residual(x)**2)*100\n",
    "    return ret\n"
   ]
  },
  {
   "cell_type": "code",
   "execution_count": 11,
   "metadata": {},
   "outputs": [
    {
     "name": "stdout",
     "output_type": "stream",
     "text": [
      "6399.8462486961225\n"
     ]
    }
   ],
   "source": [
    "print(f(initial_guess))"
   ]
  },
  {
   "cell_type": "markdown",
   "metadata": {},
   "source": [
    " We can see that the initial value of this optimality condition is quite large.s"
   ]
  },
  {
   "cell_type": "code",
   "execution_count": 12,
   "metadata": {},
   "outputs": [
    {
     "data": {
      "text/plain": [
       "  message: Desired error not necessarily achieved due to precision loss.\n",
       "  success: False\n",
       "   status: 2\n",
       "      fun: 1204.8440366628943\n",
       "        x: [ 9.412e+00  3.328e+02 ... -9.005e+02  1.138e+03]\n",
       "      nit: 64\n",
       "      jac: [ 1.831e-04 -4.730e-04 ...  8.392e-04 -1.678e-03]\n",
       " hess_inv: [[ 6.399e-02 -1.036e-03 ...  1.308e-02  5.730e-03]\n",
       "            [-1.036e-03  3.543e-02 ... -4.830e-04  1.978e-03]\n",
       "            ...\n",
       "            [ 1.308e-02 -4.830e-04 ...  7.153e-02  4.446e-02]\n",
       "            [ 5.730e-03  1.978e-03 ...  4.446e-02  5.335e-02]]\n",
       "     nfev: 7614\n",
       "     njev: 155"
      ]
     },
     "execution_count": 12,
     "metadata": {},
     "output_type": "execute_result"
    }
   ],
   "source": [
    "res = minimize(f, initial_guess, bounds=None, options={'maxiter': 500})\n",
    "res"
   ]
  },
  {
   "cell_type": "code",
   "execution_count": 13,
   "metadata": {},
   "outputs": [
    {
     "name": "stdout",
     "output_type": "stream",
     "text": [
      "Ant 0:\tJac: 000.00, \t-00.00\n",
      "Ant 1:\tJac: -00.00, \t000.00\n",
      "Ant 2:\tJac: 000.00, \t000.00\n",
      "Ant 3:\tJac: -00.00, \t-00.00\n",
      "Ant 4:\tJac: -00.00, \t-00.00\n",
      "Ant 5:\tJac: 000.00, \t-00.00\n",
      "Ant 6:\tJac: -00.00, \t-00.00\n",
      "Ant 7:\tJac: -00.00, \t000.00\n",
      "Ant 8:\tJac: 000.00, \t000.00\n",
      "Ant 9:\tJac: -00.00, \t000.00\n",
      "Ant 10:\tJac: -00.00, \t-00.00\n",
      "Ant 11:\tJac: -00.00, \t-00.00\n",
      "Ant 12:\tJac: 000.00, \t000.00\n",
      "Ant 13:\tJac: 000.00, \t000.00\n",
      "Ant 14:\tJac: 000.00, \t000.00\n",
      "Ant 15:\tJac: 000.00, \t000.00\n",
      "Ant 16:\tJac: -00.00, \t000.00\n",
      "Ant 17:\tJac: 000.00, \t000.00\n",
      "Ant 18:\tJac: 000.00, \t000.00\n",
      "Ant 19:\tJac: 000.00, \t000.00\n",
      "Ant 20:\tJac: -00.00, \t-00.00\n",
      "Ant 21:\tJac: 000.00, \t000.00\n",
      "Ant 22:\tJac: 000.00, \t-00.00\n",
      "Ant 23:\tJac: 000.00, \t-00.00\n"
     ]
    }
   ],
   "source": [
    "err = res.jac.reshape((24,2))\n",
    "rms = err # np.sqrt(np.sum(err**2, axis=1))\n",
    "for i in range(24):\n",
    "    print(f\"Ant {i}:\\tJac: {rms[i,0]:06.2f}, \\t{rms[i,1]:06.2f}\")"
   ]
  },
  {
   "cell_type": "markdown",
   "metadata": {},
   "source": [
    "The optimized positions are now known. The final value of the function is 32. Far closer to zero than 3 million!\n",
    "\n",
    "We can recover the x,y coordinates by reshaping the array"
   ]
  },
  {
   "cell_type": "code",
   "execution_count": 14,
   "metadata": {},
   "outputs": [
    {
     "data": {
      "text/plain": [
       "array([[    9.41201467,   332.81108587],\n",
       "       [  182.08688733,   850.97513884],\n",
       "       [  475.85428545,  1112.65345986],\n",
       "       [  794.46880645,  1214.07400744],\n",
       "       [ 1118.93437277,  1210.78455778],\n",
       "       [  322.58740948,    91.50292419],\n",
       "       [  867.71186562,    85.56252882],\n",
       "       [ 1204.48871568,  -113.13182636],\n",
       "       [ 1400.96078879,  -386.92634613],\n",
       "       [ 1497.8701925 ,  -696.43506663],\n",
       "       [  187.30604199,  -280.78033629],\n",
       "       [  349.73597135,  -799.83415236],\n",
       "       [  264.89272652, -1185.15464965],\n",
       "       [   66.13055199, -1454.69974916],\n",
       "       [ -199.89290659, -1640.86601643],\n",
       "       [ -207.94065132,  -266.06270087],\n",
       "       [ -649.9929627 ,  -582.59171146],\n",
       "       [-1041.56929391,  -621.96232046],\n",
       "       [-1360.63708099,  -516.23887009],\n",
       "       [-1621.14330534,  -324.38276078],\n",
       "       [ -314.60156534,   114.55916666],\n",
       "       [ -750.2484908 ,   438.76729238],\n",
       "       [ -907.41222559,   802.01865491],\n",
       "       [ -900.45444297,  1138.02391962]])"
      ]
     },
     "execution_count": 14,
     "metadata": {},
     "output_type": "execute_result"
    }
   ],
   "source": [
    "pos = res.x.reshape((24,2))\n",
    "pos"
   ]
  },
  {
   "cell_type": "code",
   "execution_count": 15,
   "metadata": {},
   "outputs": [
    {
     "data": {
      "image/png": "[encoded data removed]",
      "text/plain": [
       "<Figure size 1200x600 with 2 Axes>"
      ]
     },
     "metadata": {},
     "output_type": "display_data"
    }
   ],
   "source": [
    "fig, ax = plt.subplots(nrows=1, ncols=2, figsize=(12,6))\n",
    "\n",
    "\n",
    "ax[0].scatter(pos_i[:,0], pos_i[:,1], label='initial', color='blue')\n",
    "for i in range(0,pos_i.shape[0]):\n",
    "    ax[0].text(pos_i[i,0], pos_i[i,1],f\"{i}\", color='orange')\n",
    "ax[0].set_title('Initial Guess')\n",
    "ax[0].grid(True)\n",
    "ax[0].set_xlabel('x (mm)')\n",
    "ax[0].set_ylabel('y (mm)')\n",
    "\n",
    "ax[1].scatter(pos[:,0], pos[:,1], label='final', color='orange')\n",
    "for i in range(0,pos.shape[0]):\n",
    "    ax[1].text(pos[i,0], pos[i,1],f\"{i}\", color='blue')\n",
    "ax[1].set_title('Final Solution')\n",
    "ax[1].grid(True)\n",
    "ax[1].set_xlabel('x (mm)')\n",
    "ax[1].set_ylabel('y (mm)')\n",
    "plt.savefig('final_positions.png')\n",
    "plt.show()"
   ]
  },
  {
   "cell_type": "markdown",
   "metadata": {},
   "source": [
    "![title](drone_view.jpeg)"
   ]
  },
  {
   "cell_type": "code",
   "execution_count": 16,
   "metadata": {},
   "outputs": [
    {
     "data": {
      "image/png": "[encoded data removed]",
      "text/plain": [
       "<Figure size 1200x1200 with 1 Axes>"
      ]
     },
     "metadata": {},
     "output_type": "display_data"
    }
   ],
   "source": [
    "# Differences plot\n",
    "diff = pos - pos_i[:,0:2]\n",
    "\n",
    "\n",
    "fig, ax = plt.subplots(figsize=(12,12))\n",
    "\n",
    "ax.scatter(diff[:,0], diff[:,1], color='red')\n",
    "\n",
    "for i in range(0,diff.shape[0]):\n",
    "    ax.text(diff[i,0], diff[i,1],f\"{i}\")\n",
    "\n",
    "ax.grid(True)\n",
    "ax.set_title(\"Differences from initial position\")\n",
    "ax.set_xlabel('x (mm)')\n",
    "ax.set_ylabel('y (mm)')\n",
    "plt.savefig('differences.png')\n",
    "plt.show()"
   ]
  },
  {
   "cell_type": "code",
   "execution_count": 17,
   "metadata": {},
   "outputs": [
    {
     "data": {
      "text/plain": [
       "A 0     0.944147\n",
       "A 1     0.238083\n",
       "A 2     0.138431\n",
       "A 3     0.915704\n",
       "A 4     3.639856\n",
       "A 5     0.313915\n",
       "A 6    -0.079804\n",
       "A 7    -0.209987\n",
       "A 8     1.410860\n",
       "A 9     1.858625\n",
       "A 10    0.522074\n",
       "A 11    0.954707\n",
       "A 12    0.396846\n",
       "A 13    1.202119\n",
       "A 14    2.996811\n",
       "A 15    0.681322\n",
       "A 16    0.871098\n",
       "A 17    1.137965\n",
       "A 18    0.278612\n",
       "A 19   -1.721502\n",
       "A 20    2.810316\n",
       "A 21    2.131483\n",
       "A 22    1.045362\n",
       "A 23    1.177675\n",
       "Name: 0, dtype: float64"
      ]
     },
     "execution_count": 17,
     "metadata": {},
     "output_type": "execute_result"
    }
   ],
   "source": [
    "# Residual plot\n",
    "rres = radius_residual(res.x)\n",
    "rres"
   ]
  },
  {
   "cell_type": "code",
   "execution_count": 18,
   "metadata": {},
   "outputs": [
    {
     "data": {
      "image/png": "[encoded data removed]",
      "text/plain": [
       "<Figure size 640x480 with 1 Axes>"
      ]
     },
     "metadata": {},
     "output_type": "display_data"
    }
   ],
   "source": [
    "# ij resdual\n",
    "ijres = m_ij_residual(res.x)\n",
    "plt.hist(ijres, bins='fd');\n",
    "plt.title(\"Histogram of residuals\")\n",
    "plt.xlabel(\"Residual (mm)\")\n",
    "plt.grid(True)\n",
    "plt.savefig(\"residual_histogram.png\")"
   ]
  },
  {
   "cell_type": "markdown",
   "metadata": {},
   "source": [
    "The API expects 3D coordinates (with a z value which is zero in this case). Therefore we add a column of zeros."
   ]
  },
  {
   "cell_type": "code",
   "execution_count": 19,
   "metadata": {
    "scrolled": true
   },
   "outputs": [
    {
     "name": "stdout",
     "output_type": "stream",
     "text": [
      "95th percentile of residuals is 3.26 mm\n",
      " res[23,8] = -5.2\n",
      " res[21,4] = -3.7\n",
      " res[20,19] = 3.3\n",
      " res[23,4] = 3.7\n",
      " res[23,19] = 4.3\n",
      " res[23,7] = 4.7\n"
     ]
    }
   ],
   "source": [
    "absres = np.abs(ijres)\n",
    "p95 = np.percentile(absres, 95)\n",
    "\n",
    "print(f\"95th percentile of residuals is {p95:4.2f} mm\")\n",
    "ijres_matrix = np.zeros_like(m_ij)\n",
    "big_res = []\n",
    "for r, i, j in zip(ijres, non_nan_indices[:,0], non_nan_indices[:,1]):\n",
    "    if np.abs(r) > p95 and i > j:\n",
    "        big_res.append([r,i,j])\n",
    "    ijres_matrix[i,j] = r\n",
    "\n",
    "for res in sorted(big_res):\n",
    "    r,i,j = res\n",
    "    print(f\" res[{i},{j}] = {r:3.1f}\")\n",
    "    "
   ]
  },
  {
   "cell_type": "markdown",
   "metadata": {},
   "source": [
    "## Output best estimates\n",
    "\n",
    "Write some json files..."
   ]
  },
  {
   "cell_type": "code",
   "execution_count": 20,
   "metadata": {},
   "outputs": [
    {
     "data": {
      "text/plain": [
       "array([[ 0.009,  0.333,  0.   ],\n",
       "       [ 0.182,  0.851,  0.   ],\n",
       "       [ 0.476,  1.113,  0.   ],\n",
       "       [ 0.794,  1.214,  0.   ],\n",
       "       [ 1.119,  1.211,  0.   ],\n",
       "       [ 0.323,  0.092,  0.   ],\n",
       "       [ 0.868,  0.086,  0.   ],\n",
       "       [ 1.204, -0.113,  0.   ],\n",
       "       [ 1.401, -0.387,  0.   ],\n",
       "       [ 1.498, -0.696,  0.   ],\n",
       "       [ 0.187, -0.281,  0.   ],\n",
       "       [ 0.35 , -0.8  ,  0.   ],\n",
       "       [ 0.265, -1.185,  0.   ],\n",
       "       [ 0.066, -1.455,  0.   ],\n",
       "       [-0.2  , -1.641,  0.   ],\n",
       "       [-0.208, -0.266,  0.   ],\n",
       "       [-0.65 , -0.583,  0.   ],\n",
       "       [-1.042, -0.622,  0.   ],\n",
       "       [-1.361, -0.516,  0.   ],\n",
       "       [-1.621, -0.324,  0.   ],\n",
       "       [-0.315,  0.115,  0.   ],\n",
       "       [-0.75 ,  0.439,  0.   ],\n",
       "       [-0.907,  0.802,  0.   ],\n",
       "       [-0.9  ,  1.138,  0.   ]])"
      ]
     },
     "execution_count": 20,
     "metadata": {},
     "output_type": "execute_result"
    }
   ],
   "source": [
    "result = np.zeros((n_ant, 3))\n",
    "result[:,:-1] = np.round(pos/1000.0, 3)\n",
    "result"
   ]
  },
  {
   "cell_type": "code",
   "execution_count": 21,
   "metadata": {},
   "outputs": [
    {
     "name": "stdout",
     "output_type": "stream",
     "text": [
      "{\n",
      "    \"antenna_positions\": [\n",
      "        [\n",
      "            0.009,\n",
      "            0.333,\n",
      "            0.0\n",
      "        ],\n",
      "        [\n",
      "            0.182,\n",
      "            0.851,\n",
      "            0.0\n",
      "        ],\n",
      "        [\n",
      "            0.476,\n",
      "            1.113,\n",
      "            0.0\n",
      "        ],\n",
      "        [\n",
      "            0.794,\n",
      "            1.214,\n",
      "            0.0\n",
      "        ],\n",
      "        [\n",
      "            1.119,\n",
      "            1.211,\n",
      "            0.0\n",
      "        ],\n",
      "        [\n",
      "            0.323,\n",
      "            0.092,\n",
      "            0.0\n",
      "        ],\n",
      "        [\n",
      "            0.868,\n",
      "            0.086,\n",
      "            0.0\n",
      "        ],\n",
      "        [\n",
      "            1.204,\n",
      "            -0.113,\n",
      "            0.0\n",
      "        ],\n",
      "        [\n",
      "            1.401,\n",
      "            -0.387,\n",
      "            0.0\n",
      "        ],\n",
      "        [\n",
      "            1.498,\n",
      "            -0.696,\n",
      "            0.0\n",
      "        ],\n",
      "        [\n",
      "            0.187,\n",
      "            -0.281,\n",
      "            0.0\n",
      "        ],\n",
      "        [\n",
      "            0.35,\n",
      "            -0.8,\n",
      "            0.0\n",
      "        ],\n",
      "        [\n",
      "            0.265,\n",
      "            -1.185,\n",
      "            0.0\n",
      "        ],\n",
      "        [\n",
      "            0.066,\n",
      "            -1.455,\n",
      "            0.0\n",
      "        ],\n",
      "        [\n",
      "            -0.2,\n",
      "            -1.641,\n",
      "            0.0\n",
      "        ],\n",
      "        [\n",
      "            -0.208,\n",
      "            -0.266,\n",
      "            0.0\n",
      "        ],\n",
      "        [\n",
      "            -0.65,\n",
      "            -0.583,\n",
      "            0.0\n",
      "        ],\n",
      "        [\n",
      "            -1.042,\n",
      "            -0.622,\n",
      "            0.0\n",
      "        ],\n",
      "        [\n",
      "            -1.361,\n",
      "            -0.516,\n",
      "            0.0\n",
      "        ],\n",
      "        [\n",
      "            -1.621,\n",
      "            -0.324,\n",
      "            0.0\n",
      "        ],\n",
      "        [\n",
      "            -0.315,\n",
      "            0.115,\n",
      "            0.0\n",
      "        ],\n",
      "        [\n",
      "            -0.75,\n",
      "            0.439,\n",
      "            0.0\n",
      "        ],\n",
      "        [\n",
      "            -0.907,\n",
      "            0.802,\n",
      "            0.0\n",
      "        ],\n",
      "        [\n",
      "            -0.9,\n",
      "            1.138,\n",
      "            0.0\n",
      "        ]\n",
      "    ]\n",
      "}\n"
     ]
    }
   ],
   "source": [
    "json_result = {}\n",
    "json_result[\"antenna_positions\"] = result.tolist()\n",
    "\n",
    "json_fname = f\"{site_name}_processed_antenna_positions.json\"\n",
    "f = open(json_fname, \"w\")\n",
    "f.write(json.dumps(json_result))\n",
    "f.close()\n",
    "\n",
    "pos_json = json.dumps(json_result, indent=4, separators=(',', ': '))\n",
    "print(pos_json)"
   ]
  },
  {
   "cell_type": "markdown",
   "metadata": {
    "collapsed": true,
    "jupyter": {
     "outputs_hidden": true
    }
   },
   "source": [
    "The position file above is in a format suitable for uploading to the telescope api. Also for using as the calibrated_antenna_positions.json file in TART/software/containers/telescope_web_api/config_data.\n"
   ]
  },
  {
   "cell_type": "code",
   "execution_count": 22,
   "metadata": {},
   "outputs": [
    {
     "name": "stdout",
     "output_type": "stream",
     "text": [
      "tart_upload_antenna_positions --api https://api.elec.ac.nz/tart/nz-elec --pw=xxxx --file nz-elec_processed_antenna_positions.json\n"
     ]
    }
   ],
   "source": [
    "print(f\"tart_upload_antenna_positions --api https://api.elec.ac.nz/tart/{site_name} --pw=xxxx --file {json_fname}\")"
   ]
  }
 ],
 "metadata": {
  "kernelspec": {
   "display_name": "Python 3 (ipykernel)",
   "language": "python",
   "name": "python3"
  },
  "language_info": {
   "codemirror_mode": {
    "name": "ipython",
    "version": 3
   },
   "file_extension": ".py",
   "mimetype": "text/x-python",
   "name": "python",
   "nbconvert_exporter": "python",
   "pygments_lexer": "ipython3",
   "version": "3.13.5"
  }
 },
 "nbformat": 4,
 "nbformat_minor": 4
}
