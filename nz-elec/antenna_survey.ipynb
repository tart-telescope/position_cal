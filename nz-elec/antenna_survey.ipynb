{
 "cells": [
  {
   "cell_type": "markdown",
   "metadata": {},
   "source": [
    "# Antenna Position Calibration\n",
    "\n",
    "Author: Tim Molteno. tim@elec.ac.nz.\n",
    "\n",
    "The antennas are laid out on five spiral arms.  This notebook will use measurements to infer the actual layout of the antennas.\n",
    "\n",
    "The other reference point is the center of the array. This is assumed to be the point [0,0]. Make sure that a marker is present at this reference point at the same height as the level of the antennas (otherwise the distances will be wrong)."
   ]
  },
  {
   "cell_type": "code",
   "execution_count": 1,
   "metadata": {},
   "outputs": [],
   "source": [
    "import numpy as np\n",
    "from scipy.optimize import minimize\n",
    "\n",
    "# pip install numpy scipy pandas odfpy"
   ]
  },
  {
   "cell_type": "code",
   "execution_count": 2,
   "metadata": {},
   "outputs": [],
   "source": [
    "site_name = 'nz-elec'\n",
    "x0 = [0,0]\n",
    "global_rot_degrees = +10.173\n",
    "global_rot_index = 0"
   ]
  },
  {
   "cell_type": "code",
   "execution_count": 3,
   "metadata": {},
   "outputs": [
    {
     "data": {
      "text/plain": [
       "A 0      332.0\n",
       "A 1      870.0\n",
       "A 2     1210.0\n",
       "A 3     1450.0\n",
       "A 4     1645.0\n",
       "A 5      335.0\n",
       "A 6      872.0\n",
       "A 7     1210.0\n",
       "A 8     1452.0\n",
       "A 9     1650.0\n",
       "A 10     337.0\n",
       "A 11     872.0\n",
       "A 12    1214.0\n",
       "A 13    1455.0\n",
       "A 14    1650.0\n",
       "A 15     337.0\n",
       "A 16     872.0\n",
       "A 17    1212.0\n",
       "A 18    1455.0\n",
       "A 19    1655.0\n",
       "A 20     332.0\n",
       "A 21     867.0\n",
       "A 22    1210.0\n",
       "A 23    1450.0\n",
       "Name: 0, dtype: float64"
      ]
     },
     "execution_count": 3,
     "metadata": {},
     "output_type": "execute_result"
    }
   ],
   "source": [
    "import pandas as pd\n",
    "\n",
    "cols = [f\"A {i}\" for i in range(24)]\n",
    "data = pd.read_excel('antenna_measurements.ods', \"Sheet1\", usecols=cols)\n",
    "radius = data.loc[0]\n",
    "radius"
   ]
  },
  {
   "cell_type": "code",
   "execution_count": null,
   "metadata": {},
   "outputs": [],
   "source": []
  },
  {
   "cell_type": "markdown",
   "metadata": {},
   "source": [
    "## Finding the antennas\n",
    "\n",
    "This is done by measuring the distance from each antenna to x0 as well as each other antenna. The distance $m_0$ are the measurements to $x_0$. The array m_ij are the distances between antennas."
   ]
  },
  {
   "cell_type": "code",
   "execution_count": 4,
   "metadata": {},
   "outputs": [],
   "source": [
    "n_ant = 24\n",
    "m_0 = np.zeros(n_ant)\n",
    "m_ij = np.zeros((n_ant,n_ant))\n",
    "\n",
    "radius = data.loc[0]\n",
    "\n",
    "for i in range(n_ant):\n",
    "    m_ij[i,:] = data.loc[i+1]"
   ]
  },
  {
   "cell_type": "markdown",
   "metadata": {},
   "source": [
    "The following are the measured distances from [x1, x0, x2] from the reference points in millimeters. Note that their order must be the same as the order of the variable called 'reference_points'. In this case, they are x1,x0,x2."
   ]
  },
  {
   "cell_type": "code",
   "execution_count": 5,
   "metadata": {},
   "outputs": [
    {
     "data": {
      "text/plain": [
       "array([[  nan,   nan,   nan,   nan, 1414.,   nan,   nan,   nan,   nan,\n",
       "        1810.,   nan,   nan,   nan,   nan, 1986.,   nan,   nan,   nan,\n",
       "          nan, 1760.,   nan,   nan,   nan, 1212.],\n",
       "       [  nan,   nan,   nan,   nan, 1004.,   nan,   nan,   nan,   nan,\n",
       "          nan,   nan,   nan,   nan,   nan, 2522.,   nan,   nan,   nan,\n",
       "          nan, 2153.,   nan,   nan,   nan, 1120.],\n",
       "       [  nan,   nan,   nan,   nan,  650.,   nan,   nan,   nan,   nan,\n",
       "        2077.,   nan,   nan,   nan,   nan, 2836.,   nan,   nan,   nan,\n",
       "          nan, 2543.,   nan,   nan,   nan, 1375.],\n",
       "       [  nan,   nan,   nan,   nan,  323.,   nan,   nan,   nan,   nan,\n",
       "        2036.,   nan,   nan,   nan,   nan, 3026.,   nan,   nan,   nan,\n",
       "          nan, 2866.,   nan,   nan,   nan, 1695.],\n",
       "       [1414., 1004.,  650.,  323.,   nan, 1374., 1153., 1328., 1622.,\n",
       "        1944., 1759., 2153., 2544., 2867., 3142., 1987., 2522., 2836.,\n",
       "        3025., 3142., 1807., 2026., 2070., 2017.],\n",
       "       [  nan,   nan,   nan,   nan, 1374.,   nan,   nan,   nan,   nan,\n",
       "        1415.,   nan,   nan,   nan,   nan, 1811.,   nan,   nan,   nan,\n",
       "          nan, 1988.,   nan,   nan,   nan, 1611.],\n",
       "       [  nan,   nan,   nan,   nan, 1153.,   nan,   nan,   nan,   nan,\n",
       "        1006.,   nan,   nan,   nan,   nan, 2030.,   nan,   nan,   nan,\n",
       "          nan, 2521.,   nan,   nan,   nan, 2060.],\n",
       "       [  nan,   nan,   nan,   nan, 1328.,   nan,   nan,   nan,   nan,\n",
       "         651.,   nan,   nan,   nan,   nan, 2076.,   nan,   nan,   nan,\n",
       "          nan, 2835.,   nan,   nan,   nan, 2444.],\n",
       "       [  nan,   nan,   nan,   nan, 1622.,   nan,   nan,   nan,   nan,\n",
       "         324.,   nan,   nan,   nan,   nan, 2035.,   nan,   nan,   nan,\n",
       "          nan, 3024.,   nan,   nan,   nan, 2766.],\n",
       "       [1810.,   nan, 2077., 2036., 1944., 1415., 1006.,  651.,  324.,\n",
       "          nan, 1375., 1153., 1326., 1620., 1942., 1760., 2151., 2541.,\n",
       "        2864., 3141., 1988., 2521., 2836., 3022.],\n",
       "       [  nan,   nan,   nan,   nan, 1759.,   nan,   nan,   nan,   nan,\n",
       "        1375.,   nan,   nan,   nan,   nan, 1415.,   nan,   nan,   nan,\n",
       "          nan, 1808.,  640., 1182., 1540., 1790.],\n",
       "       [  nan,   nan,   nan,   nan, 2153.,   nan,   nan,   nan,   nan,\n",
       "        1153.,   nan,   nan,   nan,   nan, 1005.,   nan,   nan,   nan,\n",
       "          nan, 2026., 1133., 1658., 2036., 2308.],\n",
       "       [  nan,   nan,   nan,   nan, 2544.,   nan,   nan,   nan,   nan,\n",
       "        1326.,   nan,   nan,   nan,   nan,  651.,   nan,   nan,   nan,\n",
       "          nan, 2072., 1423., 1917., 2307., 2600.],\n",
       "       [  nan,   nan,   nan,   nan, 2867.,   nan,   nan,   nan,   nan,\n",
       "        1620.,   nan,   nan,   nan,   nan,  324.,   nan,   nan,   nan,\n",
       "          nan, 2030., 1616., 2063., 2459., 2769.],\n",
       "       [1986., 2522., 2836., 3026., 3142., 1811., 2030., 2076., 2035.,\n",
       "        1942., 1415., 1005.,  651.,  324.,   nan, 1375., 1150., 1322.,\n",
       "        1616., 1937., 1760., 2152., 2545., 2868.],\n",
       "       [  nan,   nan,   nan,   nan, 1987.,   nan,   nan,   nan,   nan,\n",
       "        1760.,   nan,   nan,   nan,   nan, 1375.,   nan,   nan,   nan,\n",
       "          nan, 1413.,  395.,  890., 1277., 1567.],\n",
       "       [  nan,   nan,   nan,   nan, 2522.,   nan,   nan,   nan,   nan,\n",
       "        2151.,   nan,   nan,   nan,   nan, 1150.,   nan,   nan,   nan,\n",
       "          nan, 1004.,  774., 1027., 1407., 1740.],\n",
       "       [  nan,   nan,   nan,   nan, 2836.,   nan,   nan,   nan,   nan,\n",
       "        2541.,   nan,   nan,   nan,   nan, 1322.,   nan,   nan,   nan,\n",
       "          nan,  650., 1035., 1102., 1431., 1765.],\n",
       "       [  nan,   nan,   nan,   nan, 3025.,   nan,   nan,   nan,   nan,\n",
       "        2864.,   nan,   nan,   nan,   nan, 1616.,   nan,   nan,   nan,\n",
       "          nan,  323., 1220., 1133., 1395., 1716.],\n",
       "       [1760., 2153., 2543., 2866., 3142., 1988., 2521., 2835., 3024.,\n",
       "        3141., 1808., 2026., 2072., 2030., 1937., 1413., 1004.,  650.,\n",
       "         323.,   nan, 1375., 1156., 1332., 1626.],\n",
       "       [  nan,   nan,   nan,   nan, 1807.,   nan,   nan,   nan,   nan,\n",
       "        1988.,  640., 1133., 1423., 1616., 1760.,  395.,  774., 1035.,\n",
       "        1220., 1375.,   nan,  542.,  905., 1180.],\n",
       "       [  nan,   nan,   nan,   nan, 2026.,   nan,   nan,   nan,   nan,\n",
       "        2521., 1182., 1658., 1917., 2063., 2152.,  890., 1027., 1102.,\n",
       "        1133., 1156.,  542.,   nan,   nan,  715.],\n",
       "       [  nan,   nan,   nan,   nan, 2070.,   nan,   nan,   nan,   nan,\n",
       "        2836., 1540., 2036., 2307., 2459., 2545., 1277., 1407., 1431.,\n",
       "        1395., 1332.,  905.,   nan,   nan,  333.],\n",
       "       [1212., 1120., 1375., 1695., 2017., 1611., 2060., 2444., 2766.,\n",
       "        3022., 1790., 2308., 2600., 2769., 2868., 1567., 1740., 1765.,\n",
       "        1716., 1626., 1180.,  715.,  333.,   nan]])"
      ]
     },
     "execution_count": 5,
     "metadata": {},
     "output_type": "execute_result"
    }
   ],
   "source": [
    "for i in range(n_ant):\n",
    "    for j in range(n_ant):\n",
    "        if not np.isnan(m_ij[i,j]):\n",
    "            m_ij[j,i] = m_ij[i,j]\n",
    "\n",
    "m_ij\n"
   ]
  },
  {
   "cell_type": "markdown",
   "metadata": {},
   "source": [
    "## Plot the Initial Guess Points\n",
    "\n",
    "Initial Guesses are from JSON queried from the telescope API. These are converted to millimeters."
   ]
  },
  {
   "cell_type": "code",
   "execution_count": 6,
   "metadata": {
    "scrolled": true
   },
   "outputs": [],
   "source": [
    "import json\n",
    "import requests\n",
    "\n",
    "def get_data(path):\n",
    "    server = \"https://api.elec.ac.nz/tart/zm-cbu/\"\n",
    "\n",
    "    r = requests.get('{}/{}'.format(server, path))\n",
    "    return json.loads(r.text)\n",
    "\n",
    "def get_pos():\n",
    "    return np.array(get_data('api/v1/imaging/antenna_positions'))\n",
    "\n",
    "if True:\n",
    "    # with open('hammanskraal_antenna_positions_nonaligned.json', \"r\") as f:\n",
    "    with open('antenna_positions.json', \"r\") as f:\n",
    "        data = f.read()\n",
    "    cal_json = json.loads(data)\n",
    "    current_pos = cal_json[\"ant_pos\"]\n",
    "    current_pos = np.array(current_pos)\n",
    "else:\n",
    "    current_pos = get_pos()\n",
    "    json_result = {}\n",
    "    json_result[\"antenna_positions\"] = current_pos.tolist()\n",
    "    print(json.dumps(json_result, indent=4, separators=(',', ': ')))\n"
   ]
  },
  {
   "cell_type": "code",
   "execution_count": 7,
   "metadata": {},
   "outputs": [
    {
     "data": {
      "text/plain": [
       "np.float64(90.0)"
      ]
     },
     "execution_count": 7,
     "metadata": {},
     "output_type": "execute_result"
    }
   ],
   "source": [
    "def geo_angle(x,y):\n",
    "    return 90 - np.degrees(np.arctan2(y,x))\n",
    "\n",
    "geo_angle(1,0)"
   ]
  },
  {
   "cell_type": "code",
   "execution_count": 8,
   "metadata": {},
   "outputs": [
    {
     "name": "stdout",
     "output_type": "stream",
     "text": [
      "0 : 24.297791417833842,334.4784842338742, geo: 4.1548853566467585\n",
      "1 : 213.71926230888775,844.0758184249547, geo: 14.208627642522075\n",
      "2 : 516.8456754781338,1095.6349690995446, geo: 25.254734471213013\n",
      "3 : 838.9968993937326,1186.1662475709518, geo: 35.27246204327492\n",
      "4 : 1161.7307530146684,1171.0382410000295, geo: 44.77139744611332\n",
      "5 : 325.61637246504023,80.25096302152869, geo: 76.15488535664676\n",
      "6 : 868.8066914389415,57.5746753575925, geo: 86.20862764252209\n",
      "7 : 1201.7248740349035,-152.97962249921977, geo: 97.25473447121303\n",
      "8 : 1387.375439302275,-431.38793966645335, geo: 107.27246204327493\n",
      "9 : 1472.7180955034303,-743.0008853031206, geo: 116.77139744611328\n",
      "10 : 176.9441940590064,-284.8806614566585, geo: 148.15488535664676\n",
      "11 : 323.23280265372046,-808.4927121627212, geo: 158.20862764252206\n",
      "12 : 225.86114180162303,-1190.1815753901901, geo: 169.254734471213\n",
      "13 : 18.448277251890204,-1452.7786566216087, geo: 179.2724620432749\n",
      "14 : -251.54091414653467,-1630.2380417886209, geo: 188.77139744611333\n",
      "15 : -216.25884642461705,-256.31689453929573, geo: 220.15488535664676\n",
      "16 : -669.0378331200553,-557.25065113074, geo: 230.2086276425221\n",
      "17 : -1062.1350116636404,-582.5930438758136, geo: 241.25473447121303\n",
      "18 : -1375.9737769267265,-466.4786482561131, geo: 251.27246204327494\n",
      "19 : -1628.1789300072076,-264.54163427531796, geo: 260.7713974461133\n",
      "20 : -310.5995115172635,126.46810874055123, geo: -67.8451146433533\n",
      "21 : -736.7209232814945,464.0928695109142, geo: -57.79137235747791\n",
      "22 : -882.296679651019,830.1192726656786, geo: -46.745265528787\n",
      "23 : -868.8468390211726,1164.4789969732244, geo: -36.72753795672506\n"
     ]
    },
    {
     "data": {
      "image/png": "[encoded data removed]",
      "text/plain": [
       "<Figure size 1200x1200 with 1 Axes>"
      ]
     },
     "metadata": {},
     "output_type": "display_data"
    }
   ],
   "source": [
    "def i_y(i):\n",
    "    return 2*i+1\n",
    "\n",
    "def i_x(i):\n",
    "    return 2*i\n",
    "\n",
    "\n",
    "initial_guess = np.zeros(2*n_ant)\n",
    "\n",
    "for i in range(n_ant):\n",
    "    x,y = current_pos[i][0:2]*1000\n",
    "    initial_guess[i_x(i)] = x\n",
    "    initial_guess[i_y(i)] = y\n",
    "    \n",
    "    print(f\"{i} : {x},{y}, geo: {geo_angle(x,y)}\")\n",
    "\n",
    "pos_i = initial_guess.reshape((24,2))\n",
    "#pos_i = current_pos*1000\n",
    "\n",
    "import matplotlib.pyplot as plt\n",
    "\n",
    "fig, ax = plt.subplots(figsize=(12,12))\n",
    "\n",
    "ax.scatter(pos_i[:,0], pos_i[:,1])\n",
    "for i in range(0,pos_i.shape[0]):\n",
    "    ax.text(pos_i[i,0], pos_i[i,1],f\"{i}\")\n",
    "\n",
    "ax.grid(True)\n",
    "ax.set_title('Initial positions')\n",
    "ax.set_xlabel('x (mm)')\n",
    "ax.set_ylabel('y (mm)')\n",
    "plt.savefig('initial_positions.png')\n",
    "plt.show()"
   ]
  },
  {
   "cell_type": "markdown",
   "metadata": {},
   "source": [
    "## Criteria for Optimality\n",
    "\n",
    "The function below is minimized when the positions (in variable x) are consistent with the measured distances m[i,j]. The initial value of this function is more than 3 million.\n",
    "\n",
    "Note that the x input is a 1D vector of with 48 entries as [p0.x, p0.y, p1.x, p1.y]"
   ]
  },
  {
   "cell_type": "code",
   "execution_count": 9,
   "metadata": {},
   "outputs": [
    {
     "data": {
      "text/plain": [
       "np.float64(90.0)"
      ]
     },
     "execution_count": 9,
     "metadata": {},
     "output_type": "execute_result"
    }
   ],
   "source": [
    "def geo_angle(x,y):\n",
    "    return 90 - np.degrees(np.arctan2(y,x))\n",
    "\n",
    "geo_angle(1,0)"
   ]
  },
  {
   "cell_type": "code",
   "execution_count": 10,
   "metadata": {},
   "outputs": [],
   "source": [
    "def dist(a,b):\n",
    "    return np.sqrt((a[0]-b[0])**2 + (a[1]-b[1])**2)\n",
    "\n",
    "\n",
    "def p(x, i):\n",
    "    return [x[i_x(i)],x[i_y(i)]]\n",
    "\n",
    "max_err = 4200\n",
    "def bounds():\n",
    "    ret = [(0,0)]*48\n",
    "    for i in range(n_ant):\n",
    "        _x,_y = pos_i[i,0], pos_i[i,1]\n",
    "        ret[i_x(i)] = (_x - max_err, _x + max_err)\n",
    "        ret[i_y(i)] = (_y - max_err, _y + max_err)\n",
    "    \n",
    "    return ret\n",
    "\n",
    "bnd = bounds()\n",
    "\n",
    "center = [0,0]\n",
    "\n",
    "def angle(x, i):\n",
    "    _x, _y = p(x, i)\n",
    "    return geo_angle(_x, _y)\n",
    "    \n",
    "def radius_model(x):\n",
    "    ret = []\n",
    "    \n",
    "    for i in range(n_ant):\n",
    "        p_i = p(x,i)\n",
    "        ret.append(dist(center, p_i))\n",
    "        \n",
    "    return np.array(ret)\n",
    "\n",
    "non_nan_ij = []\n",
    "non_nan_indices = []\n",
    "for i in range(n_ant):\n",
    "    for j in range(n_ant):\n",
    "        if not np.isnan(m_ij[i,j]):\n",
    "            non_nan_ij.append(m_ij[i,j])\n",
    "            non_nan_indices.append([i,j])\n",
    "non_nan_ij = np.array(non_nan_ij)\n",
    "non_nan_indices = np.array(non_nan_indices)\n",
    "\n",
    "def m_ij_model(x):\n",
    "    ret = []\n",
    "    for i in range(n_ant):\n",
    "        p_i = p(x,i)\n",
    "\n",
    "        for j in range(n_ant):\n",
    "            p_j = p(x,j)\n",
    "            if not np.isnan(m_ij[i,j]):\n",
    "                ret.append(dist(p_j, p_i))\n",
    "                \n",
    "    return np.array(ret)\n",
    "    \n",
    "def radius_residual(x):\n",
    "    predict = radius_model(x)\n",
    "    return (predict - radius)\n",
    "\n",
    "def m_ij_residual(x):\n",
    "    predict = m_ij_model(x)\n",
    "    return (predict - non_nan_ij)\n",
    "\n",
    "def rot_residual(x):\n",
    "    predict = angle(x, global_rot_index)\n",
    "    return (predict - global_rot_degrees)\n",
    "\n",
    "def f_old(x):\n",
    "    ret = 0\n",
    "    for i in range(n_ant):\n",
    "        p_i = p(x,i)\n",
    "        ret += (dist(center, p_i) - m_0[i])**2\n",
    "        for j in range(n_ant):\n",
    "            p_j = p(x,j)\n",
    "            if not np.isnan(m_ij[i,j]):\n",
    "                ret += (dist(p_j, p_i) - m_ij[i,j])**2\n",
    "    return ret\n",
    "\n",
    "def f(x):\n",
    "    # This is the final criterion for optimality. The sum of squared residuals.\n",
    "    ret = np.sum(radius_residual(x)**2)*10\n",
    "    ret += np.sum(m_ij_residual(x)**2)\n",
    "    ret += (rot_residual(x)**2)*100\n",
    "    return ret\n"
   ]
  },
  {
   "cell_type": "code",
   "execution_count": 11,
   "metadata": {},
   "outputs": [
    {
     "name": "stdout",
     "output_type": "stream",
     "text": [
      "9379.052257616178\n"
     ]
    }
   ],
   "source": [
    "print(f(initial_guess))"
   ]
  },
  {
   "cell_type": "markdown",
   "metadata": {},
   "source": [
    " We can see that the initial value of this optimality condition is quite large.s"
   ]
  },
  {
   "cell_type": "code",
   "execution_count": 12,
   "metadata": {},
   "outputs": [
    {
     "data": {
      "text/plain": [
       "  message: Desired error not necessarily achieved due to precision loss.\n",
       "  success: False\n",
       "   status: 2\n",
       "      fun: 1204.8440340367472\n",
       "        x: [ 5.880e+01  3.277e+02 ... -7.212e+02  1.259e+03]\n",
       "      nit: 93\n",
       "      jac: [ 1.678e-04  9.155e-05 ...  6.409e-04  1.678e-04]\n",
       " hess_inv: [[ 4.508e-02 -4.945e-03 ... -3.513e-04  1.093e-03]\n",
       "            [-4.945e-03  2.911e-02 ... -4.862e-04 -1.107e-03]\n",
       "            ...\n",
       "            [-3.513e-04 -4.862e-04 ...  5.492e-03 -2.977e-04]\n",
       "            [ 1.093e-03 -1.107e-03 ... -2.977e-04  5.701e-03]]\n",
       "     nfev: 8881\n",
       "     njev: 181"
      ]
     },
     "execution_count": 12,
     "metadata": {},
     "output_type": "execute_result"
    }
   ],
   "source": [
    "res = minimize(f, initial_guess, bounds=None, options={'maxiter': 500})\n",
    "res"
   ]
  },
  {
   "cell_type": "code",
   "execution_count": 13,
   "metadata": {},
   "outputs": [
    {
     "name": "stdout",
     "output_type": "stream",
     "text": [
      "Ant 0:\tJac: 000.00, \t000.00\n",
      "Ant 1:\tJac: 000.00, \t000.00\n",
      "Ant 2:\tJac: -00.00, \t000.00\n",
      "Ant 3:\tJac: 000.00, \t000.00\n",
      "Ant 4:\tJac: 000.00, \t000.00\n",
      "Ant 5:\tJac: 000.00, \t000.00\n",
      "Ant 6:\tJac: -00.00, \t-00.00\n",
      "Ant 7:\tJac: -00.00, \t-00.00\n",
      "Ant 8:\tJac: 000.00, \t000.00\n",
      "Ant 9:\tJac: 000.00, \t000.00\n",
      "Ant 10:\tJac: 000.00, \t000.00\n",
      "Ant 11:\tJac: 000.00, \t000.00\n",
      "Ant 12:\tJac: 000.00, \t000.00\n",
      "Ant 13:\tJac: 000.00, \t-00.00\n",
      "Ant 14:\tJac: 000.00, \t000.00\n",
      "Ant 15:\tJac: -00.00, \t-00.00\n",
      "Ant 16:\tJac: 000.00, \t-00.00\n",
      "Ant 17:\tJac: 000.00, \t000.00\n",
      "Ant 18:\tJac: 000.00, \t000.00\n",
      "Ant 19:\tJac: -00.00, \t-00.00\n",
      "Ant 20:\tJac: 000.00, \t000.00\n",
      "Ant 21:\tJac: -00.00, \t-00.00\n",
      "Ant 22:\tJac: -00.00, \t-00.00\n",
      "Ant 23:\tJac: 000.00, \t000.00\n"
     ]
    }
   ],
   "source": [
    "err = res.jac.reshape((24,2))\n",
    "rms = err # np.sqrt(np.sum(err**2, axis=1))\n",
    "for i in range(24):\n",
    "    print(f\"Ant {i}:\\tJac: {rms[i,0]:06.2f}, \\t{rms[i,1]:06.2f}\")"
   ]
  },
  {
   "cell_type": "markdown",
   "metadata": {},
   "source": [
    "The optimized positions are now known. The final value of the function is 32. Far closer to zero than 3 million!\n",
    "\n",
    "We can recover the x,y coordinates by reshaping the array"
   ]
  },
  {
   "cell_type": "code",
   "execution_count": 14,
   "metadata": {},
   "outputs": [
    {
     "data": {
      "text/plain": [
       "array([[   58.80477099,   327.70993725],\n",
       "       [  306.62401255,   814.42985315],\n",
       "       [  636.04241629,  1029.50710566],\n",
       "       [  966.19756871,  1082.41334307],\n",
       "       [ 1286.56525679,  1030.90407925],\n",
       "       [  332.60851531,    42.50820137],\n",
       "       [  870.7870182 ,   -44.44029956],\n",
       "       [ 1174.26730138,  -291.01246933],\n",
       "       [ 1327.83382947,  -590.98248807],\n",
       "       [ 1377.63350694,  -911.46194688],\n",
       "       [  143.4636414 ,  -305.51487132],\n",
       "       [  226.89042678,  -842.95353479],\n",
       "       [   85.68319523, -1211.37037574],\n",
       "       [ -150.95660888, -1448.35661032],\n",
       "       [ -441.70925647, -1592.88779475],\n",
       "       [ -245.19851072,  -232.1775151 ],\n",
       "       [ -729.41054314,  -479.44156375],\n",
       "       [-1122.48740116,  -460.13673888],\n",
       "       [-1422.28284368,  -308.13542353],\n",
       "       [-1651.35786009,   -79.66904944],\n",
       "       [ -294.06475855,   160.07452441],\n",
       "       [ -676.64852692,   545.46891916],\n",
       "       [ -778.03944356,   928.05471152],\n",
       "       [ -721.18628517,  1259.28829603]])"
      ]
     },
     "execution_count": 14,
     "metadata": {},
     "output_type": "execute_result"
    }
   ],
   "source": [
    "pos = res.x.reshape((24,2))\n",
    "pos"
   ]
  },
  {
   "cell_type": "code",
   "execution_count": 15,
   "metadata": {},
   "outputs": [
    {
     "data": {
      "image/png": "[encoded data removed]",
      "text/plain": [
       "<Figure size 1200x600 with 2 Axes>"
      ]
     },
     "metadata": {},
     "output_type": "display_data"
    }
   ],
   "source": [
    "fig, ax = plt.subplots(nrows=1, ncols=2, figsize=(12,6))\n",
    "\n",
    "\n",
    "ax[0].scatter(pos_i[:,0], pos_i[:,1], label='initial', color='blue')\n",
    "for i in range(0,pos_i.shape[0]):\n",
    "    ax[0].text(pos_i[i,0], pos_i[i,1],f\"{i}\", color='orange')\n",
    "ax[0].set_title('Initial Guess')\n",
    "ax[0].grid(True)\n",
    "ax[0].set_xlabel('x (mm)')\n",
    "ax[0].set_ylabel('y (mm)')\n",
    "\n",
    "ax[1].scatter(pos[:,0], pos[:,1], label='final', color='orange')\n",
    "for i in range(0,pos.shape[0]):\n",
    "    ax[1].text(pos[i,0], pos[i,1],f\"{i}\", color='blue')\n",
    "ax[1].set_title('Final Solution')\n",
    "ax[1].grid(True)\n",
    "ax[1].set_xlabel('x (mm)')\n",
    "ax[1].set_ylabel('y (mm)')\n",
    "plt.savefig('final_positions.png')\n",
    "plt.show()"
   ]
  },
  {
   "cell_type": "markdown",
   "metadata": {},
   "source": [
    "![title](drone_view.jpeg)"
   ]
  },
  {
   "cell_type": "code",
   "execution_count": 16,
   "metadata": {},
   "outputs": [
    {
     "data": {
      "image/png": "[encoded data removed]",
      "text/plain": [
       "<Figure size 1200x1200 with 1 Axes>"
      ]
     },
     "metadata": {},
     "output_type": "display_data"
    }
   ],
   "source": [
    "# Differences plot\n",
    "diff = pos - pos_i[:,0:2]\n",
    "\n",
    "\n",
    "fig, ax = plt.subplots(figsize=(12,12))\n",
    "\n",
    "ax.scatter(diff[:,0], diff[:,1], color='red')\n",
    "\n",
    "for i in range(0,diff.shape[0]):\n",
    "    ax.text(diff[i,0], diff[i,1],f\"{i}\")\n",
    "\n",
    "ax.grid(True)\n",
    "ax.set_title(\"Differences from initial position\")\n",
    "ax.set_xlabel('x (mm)')\n",
    "ax.set_ylabel('y (mm)')\n",
    "plt.savefig('differences.png')\n",
    "plt.show()"
   ]
  },
  {
   "cell_type": "code",
   "execution_count": 17,
   "metadata": {},
   "outputs": [
    {
     "data": {
      "text/plain": [
       "A 0     0.944146\n",
       "A 1     0.238054\n",
       "A 2     0.138354\n",
       "A 3     0.915706\n",
       "A 4     3.639858\n",
       "A 5     0.313841\n",
       "A 6    -0.079722\n",
       "A 7    -0.209955\n",
       "A 8     1.410809\n",
       "A 9     1.858638\n",
       "A 10    0.522078\n",
       "A 11    0.954711\n",
       "A 12    0.396886\n",
       "A 13    1.202173\n",
       "A 14    2.996852\n",
       "A 15    0.681371\n",
       "A 16    0.871098\n",
       "A 17    1.137991\n",
       "A 18    0.278642\n",
       "A 19   -1.721457\n",
       "A 20    2.810298\n",
       "A 21    2.131504\n",
       "A 22    1.045384\n",
       "A 23    1.177684\n",
       "Name: 0, dtype: float64"
      ]
     },
     "execution_count": 17,
     "metadata": {},
     "output_type": "execute_result"
    }
   ],
   "source": [
    "# Residual plot\n",
    "rres = radius_residual(res.x)\n",
    "rres"
   ]
  },
  {
   "cell_type": "code",
   "execution_count": 18,
   "metadata": {},
   "outputs": [
    {
     "data": {
      "image/png": "[encoded data removed]",
      "text/plain": [
       "<Figure size 640x480 with 1 Axes>"
      ]
     },
     "metadata": {},
     "output_type": "display_data"
    }
   ],
   "source": [
    "# ij resdual\n",
    "ijres = m_ij_residual(res.x)\n",
    "plt.hist(ijres, bins='fd');\n",
    "plt.title(\"Histogram of residuals\")\n",
    "plt.xlabel(\"Residual (mm)\")\n",
    "plt.grid(True)\n",
    "plt.savefig(\"residual_histogram.png\")"
   ]
  },
  {
   "cell_type": "markdown",
   "metadata": {},
   "source": [
    "The API expects 3D coordinates (with a z value which is zero in this case). Therefore we add a column of zeros."
   ]
  },
  {
   "cell_type": "code",
   "execution_count": 19,
   "metadata": {
    "scrolled": true
   },
   "outputs": [
    {
     "name": "stdout",
     "output_type": "stream",
     "text": [
      "95th percentile of residuals is 3.26 mm\n",
      " res[23,8] = -5.2\n",
      " res[21,4] = -3.7\n",
      " res[20,19] = 3.3\n",
      " res[23,4] = 3.7\n",
      " res[23,19] = 4.3\n",
      " res[23,7] = 4.7\n"
     ]
    }
   ],
   "source": [
    "absres = np.abs(ijres)\n",
    "p95 = np.percentile(absres, 95)\n",
    "\n",
    "print(f\"95th percentile of residuals is {p95:4.2f} mm\")\n",
    "ijres_matrix = np.zeros_like(m_ij)\n",
    "big_res = []\n",
    "for r, i, j in zip(ijres, non_nan_indices[:,0], non_nan_indices[:,1]):\n",
    "    if np.abs(r) > p95 and i > j:\n",
    "        big_res.append([r,i,j])\n",
    "    ijres_matrix[i,j] = r\n",
    "\n",
    "for res in sorted(big_res):\n",
    "    r,i,j = res\n",
    "    print(f\" res[{i},{j}] = {r:3.1f}\")\n",
    "    "
   ]
  },
  {
   "cell_type": "markdown",
   "metadata": {},
   "source": [
    "## Output best estimates\n",
    "\n",
    "Write some json files..."
   ]
  },
  {
   "cell_type": "code",
   "execution_count": 20,
   "metadata": {},
   "outputs": [
    {
     "data": {
      "text/plain": [
       "array([[ 0.059,  0.328,  0.   ],\n",
       "       [ 0.307,  0.814,  0.   ],\n",
       "       [ 0.636,  1.03 ,  0.   ],\n",
       "       [ 0.966,  1.082,  0.   ],\n",
       "       [ 1.287,  1.031,  0.   ],\n",
       "       [ 0.333,  0.043,  0.   ],\n",
       "       [ 0.871, -0.044,  0.   ],\n",
       "       [ 1.174, -0.291,  0.   ],\n",
       "       [ 1.328, -0.591,  0.   ],\n",
       "       [ 1.378, -0.911,  0.   ],\n",
       "       [ 0.143, -0.306,  0.   ],\n",
       "       [ 0.227, -0.843,  0.   ],\n",
       "       [ 0.086, -1.211,  0.   ],\n",
       "       [-0.151, -1.448,  0.   ],\n",
       "       [-0.442, -1.593,  0.   ],\n",
       "       [-0.245, -0.232,  0.   ],\n",
       "       [-0.729, -0.479,  0.   ],\n",
       "       [-1.122, -0.46 ,  0.   ],\n",
       "       [-1.422, -0.308,  0.   ],\n",
       "       [-1.651, -0.08 ,  0.   ],\n",
       "       [-0.294,  0.16 ,  0.   ],\n",
       "       [-0.677,  0.545,  0.   ],\n",
       "       [-0.778,  0.928,  0.   ],\n",
       "       [-0.721,  1.259,  0.   ]])"
      ]
     },
     "execution_count": 20,
     "metadata": {},
     "output_type": "execute_result"
    }
   ],
   "source": [
    "result = np.zeros((n_ant, 3))\n",
    "result[:,:-1] = np.round(pos/1000.0, 3)\n",
    "result"
   ]
  },
  {
   "cell_type": "code",
   "execution_count": 21,
   "metadata": {},
   "outputs": [
    {
     "name": "stdout",
     "output_type": "stream",
     "text": [
      "{\n",
      "    \"antenna_positions\": [\n",
      "        [\n",
      "            0.059,\n",
      "            0.328,\n",
      "            0.0\n",
      "        ],\n",
      "        [\n",
      "            0.307,\n",
      "            0.814,\n",
      "            0.0\n",
      "        ],\n",
      "        [\n",
      "            0.636,\n",
      "            1.03,\n",
      "            0.0\n",
      "        ],\n",
      "        [\n",
      "            0.966,\n",
      "            1.082,\n",
      "            0.0\n",
      "        ],\n",
      "        [\n",
      "            1.287,\n",
      "            1.031,\n",
      "            0.0\n",
      "        ],\n",
      "        [\n",
      "            0.333,\n",
      "            0.043,\n",
      "            0.0\n",
      "        ],\n",
      "        [\n",
      "            0.871,\n",
      "            -0.044,\n",
      "            0.0\n",
      "        ],\n",
      "        [\n",
      "            1.174,\n",
      "            -0.291,\n",
      "            0.0\n",
      "        ],\n",
      "        [\n",
      "            1.328,\n",
      "            -0.591,\n",
      "            0.0\n",
      "        ],\n",
      "        [\n",
      "            1.378,\n",
      "            -0.911,\n",
      "            0.0\n",
      "        ],\n",
      "        [\n",
      "            0.143,\n",
      "            -0.306,\n",
      "            0.0\n",
      "        ],\n",
      "        [\n",
      "            0.227,\n",
      "            -0.843,\n",
      "            0.0\n",
      "        ],\n",
      "        [\n",
      "            0.086,\n",
      "            -1.211,\n",
      "            0.0\n",
      "        ],\n",
      "        [\n",
      "            -0.151,\n",
      "            -1.448,\n",
      "            0.0\n",
      "        ],\n",
      "        [\n",
      "            -0.442,\n",
      "            -1.593,\n",
      "            0.0\n",
      "        ],\n",
      "        [\n",
      "            -0.245,\n",
      "            -0.232,\n",
      "            0.0\n",
      "        ],\n",
      "        [\n",
      "            -0.729,\n",
      "            -0.479,\n",
      "            0.0\n",
      "        ],\n",
      "        [\n",
      "            -1.122,\n",
      "            -0.46,\n",
      "            0.0\n",
      "        ],\n",
      "        [\n",
      "            -1.422,\n",
      "            -0.308,\n",
      "            0.0\n",
      "        ],\n",
      "        [\n",
      "            -1.651,\n",
      "            -0.08,\n",
      "            0.0\n",
      "        ],\n",
      "        [\n",
      "            -0.294,\n",
      "            0.16,\n",
      "            0.0\n",
      "        ],\n",
      "        [\n",
      "            -0.677,\n",
      "            0.545,\n",
      "            0.0\n",
      "        ],\n",
      "        [\n",
      "            -0.778,\n",
      "            0.928,\n",
      "            0.0\n",
      "        ],\n",
      "        [\n",
      "            -0.721,\n",
      "            1.259,\n",
      "            0.0\n",
      "        ]\n",
      "    ]\n",
      "}\n"
     ]
    }
   ],
   "source": [
    "json_result = {}\n",
    "json_result[\"antenna_positions\"] = result.tolist()\n",
    "\n",
    "json_fname = f\"{site_name}_processed_antenna_positions.json\"\n",
    "f = open(json_fname, \"w\")\n",
    "f.write(json.dumps(json_result))\n",
    "f.close()\n",
    "\n",
    "pos_json = json.dumps(json_result, indent=4, separators=(',', ': '))\n",
    "print(pos_json)"
   ]
  },
  {
   "cell_type": "markdown",
   "metadata": {
    "collapsed": true,
    "jupyter": {
     "outputs_hidden": true
    }
   },
   "source": [
    "The position file above is in a format suitable for uploading to the telescope api. Also for using as the calibrated_antenna_positions.json file in TART/software/containers/telescope_web_api/config_data.\n"
   ]
  },
  {
   "cell_type": "code",
   "execution_count": 22,
   "metadata": {},
   "outputs": [
    {
     "name": "stdout",
     "output_type": "stream",
     "text": [
      "tart_upload_antenna_positions --api https://api.elec.ac.nz/tart/nz-elec --pw=xxxx --file nz-elec_processed_antenna_positions.json\n"
     ]
    }
   ],
   "source": [
    "print(f\"tart_upload_antenna_positions --api https://api.elec.ac.nz/tart/{site_name} --pw=xxxx --file {json_fname}\")"
   ]
  }
 ],
 "metadata": {
  "kernelspec": {
   "display_name": "Python 3 (ipykernel)",
   "language": "python",
   "name": "python3"
  },
  "language_info": {
   "codemirror_mode": {
    "name": "ipython",
    "version": 3
   },
   "file_extension": ".py",
   "mimetype": "text/x-python",
   "name": "python",
   "nbconvert_exporter": "python",
   "pygments_lexer": "ipython3",
   "version": "3.13.5"
  }
 },
 "nbformat": 4,
 "nbformat_minor": 4
}
