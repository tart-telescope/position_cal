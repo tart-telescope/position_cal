{
 "cells": [
  {
   "cell_type": "markdown",
   "metadata": {},
   "source": [
    "# Botswana Antenna Position Calibration\n",
    "\n",
    "Author: Tim Molteno. tim@elec.ac.nz.\n",
    "\n",
    "The antennas are laid out on five spiral arms.  This notebook will use measurements to infer the actual layout of the antennas.\n",
    "\n",
    "The other reference point is the center of the array. This is assumed to be the point [0,0]. Make sure that a marker is present at this reference point at the same height as the level of the antennas (otherwise the distances will be wrong)."
   ]
  },
  {
   "cell_type": "code",
   "execution_count": 1,
   "metadata": {},
   "outputs": [],
   "source": [
    "import numpy as np\n",
    "from scipy.optimize import minimize "
   ]
  },
  {
   "cell_type": "code",
   "execution_count": 2,
   "metadata": {},
   "outputs": [],
   "source": [
    "x0 = [0,0]\n",
    "global_rot_degrees = -35.07826156287494"
   ]
  },
  {
   "cell_type": "code",
   "execution_count": 3,
   "metadata": {},
   "outputs": [
    {
     "data": {
      "text/plain": [
       "A 0      315.0\n",
       "A 1      805.0\n",
       "A 2     1188.0\n",
       "A 3     1407.0\n",
       "A 4     1677.0\n",
       "A 5      314.0\n",
       "A 6      802.0\n",
       "A 7     1179.0\n",
       "A 8     1400.0\n",
       "A 9     1668.0\n",
       "A 10     313.0\n",
       "A 11     800.0\n",
       "A 12    1183.0\n",
       "A 13    1405.0\n",
       "A 14    1674.0\n",
       "A 15     315.0\n",
       "A 16     800.0\n",
       "A 17    1177.0\n",
       "A 18    1397.0\n",
       "A 19    1665.0\n",
       "A 20     320.0\n",
       "A 21     810.0\n",
       "A 22    1188.0\n",
       "A 23    1410.0\n",
       "Name: 0, dtype: float64"
      ]
     },
     "execution_count": 3,
     "metadata": {},
     "output_type": "execute_result"
    }
   ],
   "source": [
    "# pip install pandas\n",
    "# pip install odfpy\n",
    "\n",
    "import pandas as pd\n",
    "\n",
    "#pd.read_excel('three_arm_measurements.ods', engine='odf')\n",
    "cols = [f\"A {i}\" for i in range(24)]\n",
    "data = pd.read_excel('antenna_measurements.ods', \"Sheet1\", usecols=cols)\n",
    "radius = data.loc[0]\n",
    "radius"
   ]
  },
  {
   "cell_type": "code",
   "execution_count": null,
   "metadata": {},
   "outputs": [],
   "source": []
  },
  {
   "cell_type": "markdown",
   "metadata": {},
   "source": [
    "## Finding the antennas\n",
    "\n",
    "This is done by measuring the distance from each antenna to x0 as well as each other antenna. The distance $m_0$ are the measurements to $x_0$. The array m_ij are the distances between antennas."
   ]
  },
  {
   "cell_type": "code",
   "execution_count": 4,
   "metadata": {},
   "outputs": [],
   "source": [
    "n_ant = 24\n",
    "m_0 = np.zeros(24)\n",
    "m_ij = np.zeros((24,24))\n",
    "\n",
    "radius = data.loc[0]\n",
    "\n",
    "for i in range(24):\n",
    "    m_ij[i,:] = data.loc[i+1]"
   ]
  },
  {
   "cell_type": "markdown",
   "metadata": {},
   "source": [
    "The following are the measured distances from [x1, x0, x2] from the reference points in millimeters. Note that their order must be the same as the order of the variable called 'reference_points'. In this case, they are x1,x0,x2."
   ]
  },
  {
   "cell_type": "code",
   "execution_count": 5,
   "metadata": {},
   "outputs": [
    {
     "data": {
      "text/plain": [
       "array([[  nan,  498.,  893., 1130., 1438.,  390.,  833., 1245., 1503.,\n",
       "        1825.,  610., 1097., 1495., 1730., 1992.,  600., 1055., 1399.,\n",
       "        1570., 1790.,   nan,   nan,   nan,   nan],\n",
       "       [ 498.,   nan,  419.,  690., 1055.,  747.,  998., 1396., 1679.,\n",
       "        2048., 1065., 1540., 1950., 2198., 2481., 1100., 1530., 1830.,\n",
       "        1970., 2130.,   nan,   nan,   nan,   nan],\n",
       "       [ 893.,  419.,   nan,  285.,  675., 1054., 1133., 1470., 1752.,\n",
       "        2160., 1400., 1846., 2265., 2529., 2838., 1499., 1940., 2240.,\n",
       "        2390., 2535.,   nan,   nan,   nan,   nan],\n",
       "       [1130.,  690.,  285.,   nan,  409., 1230., 1195., 1474., 1745.,\n",
       "        2154., 1580., 1994., 2415., 2689., 3020., 1720., 2190., 2505.,\n",
       "        2660., 2810.,   nan,   nan,   nan,   nan],\n",
       "       [1438., 1055.,  675.,  409.,   nan, 1441., 1267., 1437., 1676.,\n",
       "        2090., 1794., 2145., 2559., 2840., 3197., 1999., 2470., 2820.,\n",
       "        3001., 3170.,   nan,   nan,   nan,   nan],\n",
       "       [ 390.,  747., 1054., 1230., 1441.,   nan,  495.,   nan,   nan,\n",
       "          nan,  360.,  800., 1220., 1480., 1800.,  600., 1100., 1490.,\n",
       "        1720., 2000.,   nan,   nan,   nan,   nan],\n",
       "       [ 833.,  998., 1133., 1195., 1267.,  495.,   nan,  422.,   nan,\n",
       "          nan,  705.,  909., 1305., 1590., 1966., 1005., 1525., 1850.,\n",
       "        2180., 2470.,   nan,   nan,   nan,   nan],\n",
       "       [1245., 1396., 1470., 1474., 1437.,   nan,  422.,   nan,  288.,\n",
       "          nan, 1090., 1015., 1338., 1617., 2017., 1375., 1810., 2240.,\n",
       "        2500., 2820.,   nan,   nan,   nan,   nan],\n",
       "       [1503., 1679., 1752., 1745., 1676.,   nan,   nan,  288.,   nan,\n",
       "          nan, 1186., 1075., 1420., 1584., 1985., 1560., 1960., 2375.,\n",
       "        2650., 3000.,   nan,   nan,   nan,   nan],\n",
       "       [1825., 2048., 2160., 2154., 2090.,   nan,   nan,   nan,   nan,\n",
       "         405., 1405., 1152., 1268., 1490., 1882., 1760., 2100., 2500.,\n",
       "        2790., 3060.,   nan,   nan,   nan,   nan],\n",
       "       [ 610., 1065., 1400., 1580., 1794.,  360.,  705., 1090., 1186.,\n",
       "        1405.,   nan,   nan,   nan,   nan,   nan,  380.,  821., 1240.,\n",
       "        1150.,   nan,   nan,   nan,   nan,   nan],\n",
       "       [1097., 1540., 1846., 1994., 2145.,  800.,  909., 1015., 1075.,\n",
       "        1152.,   nan,   nan,   nan,   nan,   nan,  730.,  950., 1353.,\n",
       "        1630.,   nan,   nan,   nan,   nan,   nan],\n",
       "       [1495., 1950., 2265., 2415., 2559., 1220., 1305., 1338., 1420.,\n",
       "        1268.,   nan,   nan,   nan,   nan,   nan, 1030., 1074., 1396.,\n",
       "        1680.,   nan,   nan,   nan,   nan,   nan],\n",
       "       [1730., 2198., 2529., 2689., 2840., 1480., 1590., 1617., 1584.,\n",
       "        1490.,   nan,   nan,   nan,   nan,  405., 1205., 1138., 1395.,\n",
       "        1665., 2050.,   nan,   nan,   nan,   nan],\n",
       "       [1992., 2481., 2838., 3020., 3197., 1800., 1966., 2017., 1985.,\n",
       "        1882.,   nan,   nan,   nan,  405.,   nan, 1420., 1207., 1350.,\n",
       "        1582., 1980.,   nan,   nan,   nan,   nan],\n",
       "       [ 600., 1100., 1499., 1720., 1999.,  600., 1005., 1375., 1560.,\n",
       "        1760.,  380.,  730., 1030., 1205., 1420.,   nan,  492.,  890.,\n",
       "        1130., 1441.,  375.,  817., 1235., 1495.],\n",
       "       [1055., 1530., 1940., 2190., 2470., 1100., 1525., 1810., 1960.,\n",
       "        2100.,  821.,  950., 1074., 1138., 1207.,  492.,   nan,  415.,\n",
       "         695., 1050.,  735.,  950., 1346., 1633.],\n",
       "       [1399., 1830., 2240., 2505., 2820., 1490., 1850., 2240., 2375.,\n",
       "        2500., 1240., 1353., 1396., 1395., 1350.,  890.,  415.,   nan,\n",
       "         287.,  680., 1034., 1065., 1390., 1671.],\n",
       "       [1570., 1970., 2390., 2660., 3001., 1720., 2180., 2500., 2650.,\n",
       "        2790., 1150., 1630., 1680., 1665., 1582., 1130.,  695.,  287.,\n",
       "          nan,  406., 1210., 1130., 1384., 1648.],\n",
       "       [1790., 2130., 2535., 2810., 3170., 2000., 2470., 2820., 3000.,\n",
       "        3060.,   nan,   nan,   nan, 2050., 1980., 1441., 1050.,  680.,\n",
       "         406.,   nan, 1427., 1200., 1338., 1560.],\n",
       "       [  nan,   nan,   nan,   nan,   nan,   nan,   nan,   nan,   nan,\n",
       "          nan,   nan,   nan,   nan,   nan,   nan,  375.,  735., 1034.,\n",
       "        1210., 1427.,   nan,  496.,  891., 1133.],\n",
       "       [  nan,   nan,   nan,   nan,   nan,   nan,   nan,   nan,   nan,\n",
       "          nan,   nan,   nan,   nan,   nan,   nan,  817.,  950., 1065.,\n",
       "        1130., 1200.,  496.,   nan,  422.,  696.],\n",
       "       [  nan,   nan,   nan,   nan,   nan,   nan,   nan,   nan,   nan,\n",
       "          nan,   nan,   nan,   nan,   nan,   nan, 1235., 1346., 1390.,\n",
       "        1384., 1338.,  891.,  422.,   nan,  284.],\n",
       "       [  nan,   nan,   nan,   nan,   nan,   nan,   nan,   nan,   nan,\n",
       "          nan,   nan,   nan,   nan,   nan,   nan, 1495., 1633., 1671.,\n",
       "        1648., 1560., 1133.,  696.,  284.,   nan]])"
      ]
     },
     "execution_count": 5,
     "metadata": {},
     "output_type": "execute_result"
    }
   ],
   "source": [
    "for i in range(n_ant):\n",
    "    for j in range(n_ant):\n",
    "        if not np.isnan(m_ij[i,j]):\n",
    "            m_ij[j,i] = m_ij[i,j]\n",
    "\n",
    "m_ij\n"
   ]
  },
  {
   "cell_type": "markdown",
   "metadata": {},
   "source": [
    "## Plot the Initial Guess Points\n",
    "\n",
    "Initial Guesses are from JSON queried from the telescope API. These are converted to millimeters."
   ]
  },
  {
   "cell_type": "code",
   "execution_count": 6,
   "metadata": {
    "scrolled": true
   },
   "outputs": [
    {
     "name": "stdout",
     "output_type": "stream",
     "text": [
      "{'C/N': 4.677630203205553, 'ant_pos': [[0.014002541343213675, 0.3100014609128154, 0.0], [0.23513248980941379, 0.7631201118529664, 0.0], [0.7206185568638982, 0.9374574815521081, 0.0], [1.1155339451367217, 0.8483140185087698, 0.0], [1.380817476325609, 0.6822252314869799, 0.0], [0.29915593270164126, 0.08247851151396529, 0.0], [0.7984302903744532, 0.012192796685930565, 0.0], [1.11425842711267, -0.39565868096508, 0.0], [1.1515135220166703, -0.7987923793850056, 0.0], [1.0755308183012016, -1.1024162681528404, 0.0], [0.17088599300257679, -0.2590269374556853, 0.0], [0.25832456728944647, -0.7555845490831442, 0.0], [-0.03196897665727074, -1.1819879943324785, 0.0], [-0.4038594500253187, -1.341994858923104, 0.0], [-0.7161028746674791, -1.3635559549562533, 0.0], [-0.19354258082477208, -0.24256596286337204, 0.0], [-0.6387769276604661, -0.47916972939357677, 0.0], [-1.1340163412724154, -0.33485007382670995, 0.0], [-1.4011123888101569, -0.03060605615709238, 0.0], [-1.5181067342872097, 0.259692342427555, 0.0], [-0.29050188622265966, 0.10911292789227643, 0.0], [-0.6531104198128471, 0.45944136993782425, 0.0], [-0.6688916660468823, 0.9750392675721602, 0.0], [-0.4620756283179156, 1.323079275956433, 0.0]], 'arm_degrees': [0.0, 72.0, 144.0, 216.0, 288.0], 'arms': [[0.06018561058259264, 0.3985247455490364, 0.873823521384143, 1.2275329104692474, 1.4825551058773048], [0.06018561058259264, 0.3985247455490364, 0.873823521384143, 1.2275329104692474, 1.4825551058773048], [0.06018561058259264, 0.3985247455490364, 0.873823521384143, 1.2275329104692474, 1.4825551058773048], [0.06018561058259264, 0.3985247455490364, 0.873823521384143, 1.2275329104692474, 1.4825551058773048], [0.06018561058259264, 0.3985247455490364, 0.873823521384143, 1.2275329104692474]], 'curve': 68.754, 'entropy': 20.137748178941834, 'fov_degrees': 150.0, 'identical-arms': 1, 'num_ant': 24, 'num_arms': 5, 'peak_db': 13.834675857934077, 'penalty': 7.283903208863772e-36, 'radius': 1.6, 'radius_lower': 0.0010000000474974513, 'res_arcmin': 90.0, 'spacing': 0.23000000417232513, 'x_unconstrained': [-0.020401002793227124, 0.3966300489229369, 0.8738775480955068, 1.229974121418768, 1.5195150529557948]}\n"
     ]
    },
    {
     "data": {
      "text/plain": [
       "''"
      ]
     },
     "execution_count": 6,
     "metadata": {},
     "output_type": "execute_result"
    }
   ],
   "source": [
    "import json\n",
    "import requests\n",
    "\n",
    "def get_data(path):\n",
    "    server = \"https://api.elec.ac.nz/tart/bw-biust/\"\n",
    "\n",
    "    r = requests.get('{}/{}'.format(server, path))\n",
    "    return json.loads(r.text)\n",
    "\n",
    "def get_pos():\n",
    "    return np.array(get_data('api/v1/imaging/antenna_positions'))\n",
    "\n",
    "if True:\n",
    "    with open('ispiral_24/ispiral_24_opt.json', \"r\") as f:\n",
    "        data = f.read()\n",
    "    cal_json = json.loads(data)\n",
    "    print(cal_json)\n",
    "    current_pos = cal_json['ant_pos']\n",
    "    current_pos = np.array(current_pos)\n",
    "else:\n",
    "    current_pos = get_pos()\n",
    "    json_result = {}\n",
    "    json_result[\"antenna_positions\"] = current_pos.tolist()\n",
    "    print(json.dumps(json_result, indent=4, separators=(',', ': ')))\n",
    "\n",
    "''"
   ]
  },
  {
   "cell_type": "code",
   "execution_count": 7,
   "metadata": {},
   "outputs": [
    {
     "name": "stdout",
     "output_type": "stream",
     "text": [
      "14.002541343213675 310.0014609128154\n",
      "235.13248980941378 763.1201118529664\n",
      "720.6185568638982 937.4574815521081\n",
      "1115.5339451367217 848.3140185087698\n",
      "1380.8174763256088 682.2252314869799\n",
      "299.15593270164123 82.47851151396529\n",
      "798.4302903744532 12.192796685930565\n",
      "1114.25842711267 -395.65868096508\n",
      "1151.5135220166703 -798.7923793850056\n",
      "1075.5308183012016 -1102.4162681528405\n",
      "170.88599300257678 -259.0269374556853\n",
      "258.32456728944646 -755.5845490831442\n",
      "-31.96897665727074 -1181.9879943324784\n",
      "-403.8594500253187 -1341.9948589231042\n",
      "-716.1028746674791 -1363.5559549562533\n",
      "-193.54258082477207 -242.56596286337205\n",
      "-638.7769276604661 -479.16972939357674\n",
      "-1134.0163412724153 -334.85007382670995\n",
      "-1401.112388810157 -30.60605615709238\n",
      "-1518.1067342872097 259.692342427555\n",
      "-290.50188622265966 109.11292789227643\n",
      "-653.1104198128471 459.4413699378243\n",
      "-668.8916660468823 975.0392675721602\n",
      "-462.0756283179156 1323.0792759564329\n"
     ]
    },
    {
     "data": {
      "image/png": "[encoded data removed]",
      "text/plain": [
       "<Figure size 1200x1200 with 1 Axes>"
      ]
     },
     "metadata": {},
     "output_type": "display_data"
    }
   ],
   "source": [
    "def i_y(i):\n",
    "    return 2*i+1\n",
    "\n",
    "def i_x(i):\n",
    "    return 2*i\n",
    "\n",
    "\n",
    "initial_guess = np.zeros(2*n_ant)\n",
    "\n",
    "for i in range(n_ant):\n",
    "    x,y = current_pos[i][0:2]*1000\n",
    "    initial_guess[i_x(i)] = x\n",
    "    initial_guess[i_y(i)] = y\n",
    "    \n",
    "    print(x,y)\n",
    "initial_guess\n",
    "\n",
    "pos_i = current_pos*1000\n",
    "import matplotlib.pyplot as plt\n",
    "\n",
    "fig, ax = plt.subplots(figsize=(12,12))\n",
    "\n",
    "ax.scatter(pos_i[:,0], pos_i[:,1])\n",
    "for i in range(0,pos_i.shape[0]):\n",
    "    ax.text(pos_i[i,0], pos_i[i,1],f\"{i}\")\n",
    "\n",
    "ax.grid(True)\n",
    "ax.set_title('Initial positions')\n",
    "ax.set_xlabel('x (mm)')\n",
    "ax.set_ylabel('y (mm)')\n",
    "plt.savefig('initial_positions.png')\n",
    "plt.show()"
   ]
  },
  {
   "cell_type": "markdown",
   "metadata": {},
   "source": [
    "## Criteria for Optimality\n",
    "\n",
    "The function below is minimized when the positions (in variable x) are consistent with the measured distances m[i,j]. The initial value of this function is more than 3 million.\n",
    "\n",
    "Note that the x input is a 1D vector of with 48 entries as [p0.x, p0.y, p1.x, p1.y]"
   ]
  },
  {
   "cell_type": "code",
   "execution_count": 22,
   "metadata": {},
   "outputs": [
    {
     "name": "stdout",
     "output_type": "stream",
     "text": [
      "7315776.720801368\n"
     ]
    }
   ],
   "source": [
    "def dist(a,b):\n",
    "    return np.sqrt((a[0]-b[0])**2 + (a[1]-b[1])**2)\n",
    "\n",
    "\n",
    "def p(x, i):\n",
    "    return [x[i_x(i)],x[i_y(i)]]\n",
    "\n",
    "max_err = 1200\n",
    "def bounds():\n",
    "    ret = [(0,0)]*48\n",
    "    for i in range(24):\n",
    "        _x,_y = pos_i[i,0], pos_i[i,1]\n",
    "        ret[i_x(i)] = (_x - max_err, _x + max_err)\n",
    "        ret[i_y(i)] = (_y - max_err, _y + max_err)\n",
    "    # x-component of the north arm set to zero.\n",
    "    #for i in [0,1,2,3,4]:\n",
    "    #    xval = pos_i[i,0]\n",
    "    #    ret[i_x(i)] = ( - 2, + 2)\n",
    "    \n",
    "    return ret\n",
    "\n",
    "bnd = bounds()\n",
    "\n",
    "center = [0,0]\n",
    "\n",
    "def angle(x, i):\n",
    "    _x, _y = p(x, i)\n",
    "    return np.degrees(np.arctan2(_y,_x))\n",
    "    \n",
    "def radius_model(x):\n",
    "    ret = []\n",
    "    \n",
    "    for i in range(n_ant):\n",
    "        p_i = p(x,i)\n",
    "        ret.append(dist(center, p_i))\n",
    "        \n",
    "    return np.array(ret)\n",
    "\n",
    "non_nan_ij = []\n",
    "non_nan_indices = []\n",
    "for i in range(n_ant):\n",
    "    for j in range(n_ant):\n",
    "        if not np.isnan(m_ij[i,j]):\n",
    "            non_nan_ij.append(m_ij[i,j])\n",
    "            non_nan_indices.append([i,j])\n",
    "non_nan_ij = np.array(non_nan_ij)\n",
    "non_nan_indices = np.array(non_nan_indices)\n",
    "\n",
    "def m_ij_model(x):\n",
    "    ret = []\n",
    "    for i in range(n_ant):\n",
    "        p_i = p(x,i)\n",
    "\n",
    "        for j in range(n_ant):\n",
    "            p_j = p(x,j)\n",
    "            if not np.isnan(m_ij[i,j]):\n",
    "                ret.append(dist(p_j, p_i))\n",
    "                \n",
    "    return np.array(ret)\n",
    "    \n",
    "def radius_residual(x):\n",
    "    predict = radius_model(x)\n",
    "    return predict - radius\n",
    "\n",
    "def m_ij_residual(x):\n",
    "    predict = m_ij_model(x)\n",
    "    return predict - non_nan_ij\n",
    "\n",
    "def rot_residual(x):\n",
    "    predict = angle(x, 0)\n",
    "    return predict - 0\n",
    "\n",
    "def f_old(x):\n",
    "    ret = 0\n",
    "    for i in range(n_ant):\n",
    "        p_i = p(x,i)\n",
    "        ret += (dist(center, p_i) - m_0[i])**2\n",
    "        for j in range(n_ant):\n",
    "            p_j = p(x,j)\n",
    "            if not np.isnan(m_ij[i,j]):\n",
    "                ret += (dist(p_j, p_i) - m_ij[i,j])**2\n",
    "    return ret\n",
    "\n",
    "def f(x):\n",
    "    # This is the final criterion for optimality. The sum of squared residuals.\n",
    "    ret = np.sum(radius_residual(x)**2)\n",
    "    ret += np.sum(m_ij_residual(x)**2)\n",
    "    ret += rot_residual(x)**2\n",
    "    return ret\n",
    "\n",
    "print(f(initial_guess))"
   ]
  },
  {
   "cell_type": "markdown",
   "metadata": {},
   "source": [
    "We can see that the initial value of this optimality condition is about 600,000."
   ]
  },
  {
   "cell_type": "code",
   "execution_count": 23,
   "metadata": {},
   "outputs": [
    {
     "data": {
      "text/plain": [
       "  message: CONVERGENCE: REL_REDUCTION_OF_F_<=_FACTR*EPSMCH\n",
       "  success: True\n",
       "   status: 0\n",
       "      fun: 404619.55179859704\n",
       "        x: [ 3.005e+02  1.079e+02 ...  5.916e+02  1.286e+03]\n",
       "      nit: 187\n",
       "      jac: [ 8.265e-01  1.659e+00 ...  2.276e+00  1.572e-01]\n",
       "     nfev: 10437\n",
       "     njev: 213\n",
       " hess_inv: <48x48 LbfgsInvHessProduct with dtype=float64>"
      ]
     },
     "execution_count": 23,
     "metadata": {},
     "output_type": "execute_result"
    }
   ],
   "source": [
    "res = minimize(f, initial_guess, bounds=bnd)\n",
    "res"
   ]
  },
  {
   "cell_type": "code",
   "execution_count": 24,
   "metadata": {},
   "outputs": [
    {
     "name": "stdout",
     "output_type": "stream",
     "text": [
      "Ant 0:\tJac: 000.83, \t001.66\n",
      "Ant 1:\tJac: 002.54, \t001.76\n",
      "Ant 2:\tJac: 005.55, \t000.42\n",
      "Ant 3:\tJac: 001.37, \t-00.38\n",
      "Ant 4:\tJac: 004.89, \t-04.10\n",
      "Ant 5:\tJac: 001.62, \t000.95\n",
      "Ant 6:\tJac: 001.59, \t-01.19\n",
      "Ant 7:\tJac: 001.04, \t-03.01\n",
      "Ant 8:\tJac: -00.02, \t-03.95\n",
      "Ant 9:\tJac: 002.08, \t-05.94\n",
      "Ant 10:\tJac: 000.55, \t001.43\n",
      "Ant 11:\tJac: -01.37, \t-00.88\n",
      "Ant 12:\tJac: -03.82, \t-00.92\n",
      "Ant 13:\tJac: -04.88, \t-02.25\n",
      "Ant 14:\tJac: -06.70, \t-02.82\n",
      "Ant 15:\tJac: 000.28, \t-00.26\n",
      "Ant 16:\tJac: -02.74, \t001.35\n",
      "Ant 17:\tJac: -06.82, \t004.66\n",
      "Ant 18:\tJac: -04.02, \t002.10\n",
      "Ant 19:\tJac: -04.85, \t005.61\n",
      "Ant 20:\tJac: -02.13, \t-01.46\n",
      "Ant 21:\tJac: -02.12, \t002.51\n",
      "Ant 22:\tJac: 001.09, \t001.62\n",
      "Ant 23:\tJac: 002.28, \t000.16\n"
     ]
    }
   ],
   "source": [
    "err = res.jac.reshape((24,2))\n",
    "rms = err # np.sqrt(np.sum(err**2, axis=1))\n",
    "for i in range(24):\n",
    "    print(f\"Ant {i}:\\tJac: {rms[i,0]:06.2f}, \\t{rms[i,1]:06.2f}\")"
   ]
  },
  {
   "cell_type": "markdown",
   "metadata": {},
   "source": [
    "The optimized positions are now known. The final value of the function is 32. Far closer to zero than 3 million!\n",
    "\n",
    "We can recover the x,y coordinates by reshaping the array"
   ]
  },
  {
   "cell_type": "code",
   "execution_count": 25,
   "metadata": {},
   "outputs": [
    {
     "data": {
      "text/plain": [
       "array([[  300.4593281 ,   107.85602011],\n",
       "       [  790.02963401,   173.7386493 ],\n",
       "       [ 1188.15451811,    44.80145461],\n",
       "       [ 1400.09263028,  -142.1246549 ],\n",
       "       [ 1600.44215103,  -493.89873714],\n",
       "       [  180.98512904,  -264.3720152 ],\n",
       "       [  346.82991293,  -714.00865049],\n",
       "       [  320.8899756 , -1143.74106518],\n",
       "       [  196.8615829 , -1393.66185362],\n",
       "       [ -121.99134364, -1659.68827661],\n",
       "       [ -196.0784027 ,  -219.00204096],\n",
       "       [ -542.00868457,  -599.68983351],\n",
       "       [ -959.96811994,  -703.77404174],\n",
       "       [-1233.54561943,  -687.01211799],\n",
       "       [-1597.04709751,  -514.42721139],\n",
       "       [ -304.03717049,    89.26248636],\n",
       "       [ -734.75054975,   338.13679013],\n",
       "       [ -965.22141464,   682.00484229],\n",
       "       [-1014.41857329,   949.169935  ],\n",
       "       [ -976.2506039 ,  1353.7755787 ],\n",
       "       [    3.23265163,   314.14481629],\n",
       "       [   95.32583397,   801.6619398 ],\n",
       "       [  349.60044992,  1137.02734765],\n",
       "       [  591.55746212,  1286.24357554]])"
      ]
     },
     "execution_count": 25,
     "metadata": {},
     "output_type": "execute_result"
    }
   ],
   "source": [
    "pos = res.x.reshape((24,2))\n",
    "pos"
   ]
  },
  {
   "cell_type": "code",
   "execution_count": 27,
   "metadata": {},
   "outputs": [
    {
     "data": {
      "image/png": "[encoded data removed]",
      "text/plain": [
       "<Figure size 1200x1200 with 1 Axes>"
      ]
     },
     "metadata": {},
     "output_type": "display_data"
    }
   ],
   "source": [
    "fig, ax = plt.subplots(figsize=(12,12))\n",
    "\n",
    "ax.scatter(pos_i[:,0], pos_i[:,1], label='initial')\n",
    "ax.scatter(pos[:,0], pos[:,1], label='final')\n",
    "\n",
    "ax.grid(True)\n",
    "ax.set_title('Final Solution')\n",
    "ax.set_xlabel('x (mm)')\n",
    "ax.set_ylabel('y (mm)')\n",
    "ax.legend()\n",
    "plt.savefig('final_positions.png')\n",
    "plt.show()"
   ]
  },
  {
   "cell_type": "code",
   "execution_count": 13,
   "metadata": {},
   "outputs": [
    {
     "data": {
      "image/png": "[encoded data removed]",
      "text/plain": [
       "<Figure size 1200x1200 with 1 Axes>"
      ]
     },
     "metadata": {},
     "output_type": "display_data"
    }
   ],
   "source": [
    "# Differences plot\n",
    "diff = pos - pos_i[:,0:2]\n",
    "\n",
    "\n",
    "fig, ax = plt.subplots(figsize=(12,12))\n",
    "\n",
    "ax.scatter(diff[:,0], diff[:,1], color='red')\n",
    "\n",
    "for i in range(0,diff.shape[0]):\n",
    "    ax.text(diff[i,0], diff[i,1],f\"{i}\")\n",
    "\n",
    "ax.grid(True)\n",
    "ax.set_title(\"Differences from initial position\")\n",
    "ax.set_xlabel('x (mm)')\n",
    "ax.set_xlabel('y (mm)')\n",
    "plt.savefig('differences.png')\n",
    "plt.show()"
   ]
  },
  {
   "cell_type": "code",
   "execution_count": 14,
   "metadata": {},
   "outputs": [
    {
     "data": {
      "text/plain": [
       "A 0      4.837127\n",
       "A 1      4.440816\n",
       "A 2      1.413082\n",
       "A 3      0.691678\n",
       "A 4     -1.879646\n",
       "A 5      6.275556\n",
       "A 6     -8.487790\n",
       "A 7      8.464843\n",
       "A 8      6.958900\n",
       "A 9     -4.498822\n",
       "A 10   -19.624033\n",
       "A 11     7.623900\n",
       "A 12     6.560613\n",
       "A 13     6.181327\n",
       "A 14     3.095061\n",
       "A 15     1.595907\n",
       "A 16     8.583471\n",
       "A 17     4.647242\n",
       "A 18    -7.833437\n",
       "A 19     4.083266\n",
       "A 20    -5.583641\n",
       "A 21    -2.642519\n",
       "A 22     1.768788\n",
       "A 23     6.219188\n",
       "Name: 0, dtype: float64"
      ]
     },
     "execution_count": 14,
     "metadata": {},
     "output_type": "execute_result"
    }
   ],
   "source": [
    "# Residual plot\n",
    "rres = radius_residual(res.x)\n",
    "rres"
   ]
  },
  {
   "cell_type": "code",
   "execution_count": 15,
   "metadata": {},
   "outputs": [
    {
     "data": {
      "image/png": "[encoded data removed]",
      "text/plain": [
       "<Figure size 640x480 with 1 Axes>"
      ]
     },
     "metadata": {},
     "output_type": "display_data"
    }
   ],
   "source": [
    "# ij resdual\n",
    "ijres = m_ij_residual(res.x)\n",
    "plt.hist(ijres, bins='fd');\n",
    "plt.title(\"Histogram of residuals\")\n",
    "plt.xlabel(\"Residual (mm)\")\n",
    "plt.grid(True)\n",
    "plt.savefig(\"residual_histogram.png\")"
   ]
  },
  {
   "cell_type": "markdown",
   "metadata": {},
   "source": [
    "The API expects 3D coordinates (with a z value which is zero in this case). Therefore we add a column of zeros."
   ]
  },
  {
   "cell_type": "code",
   "execution_count": 16,
   "metadata": {},
   "outputs": [
    {
     "name": "stdout",
     "output_type": "stream",
     "text": [
      "95th percentile of residuals is 32.82 mm\n",
      " res[6,17] = 65.7\n",
      " res[8,10] = 52.5\n",
      " res[8,12] = -73.1\n",
      " res[9,9] = -405.0\n",
      " res[9,10] = 37.4\n",
      " res[9,19] = 72.1\n",
      " res[10,8] = 52.5\n",
      " res[10,9] = 37.4\n",
      " res[10,15] = -53.3\n",
      " res[10,16] = -46.0\n",
      " res[10,17] = -55.4\n",
      " res[10,18] = 276.3\n",
      " res[12,8] = -73.1\n",
      " res[15,10] = -53.3\n",
      " res[16,10] = -46.0\n",
      " res[17,6] = 65.7\n",
      " res[17,10] = -55.4\n",
      " res[18,10] = 276.3\n",
      " res[19,9] = 72.1\n"
     ]
    }
   ],
   "source": [
    "absres = np.abs(ijres)\n",
    "p95 = np.percentile(absres, 95)\n",
    "\n",
    "print(f\"95th percentile of residuals is {p95:4.2f} mm\")\n",
    "ijres_matrix = np.zeros_like(m_ij)\n",
    "for r, i, j in zip(ijres, non_nan_indices[:,0], non_nan_indices[:,1]):\n",
    "    if np.abs(r) > p95:\n",
    "        print(f\" res[{i},{j}] = {r:3.1f}\")\n",
    "    ijres_matrix[i,j] = r\n",
    "    \n"
   ]
  },
  {
   "cell_type": "raw",
   "metadata": {},
   "source": [
    "## Output best estimates\n",
    "\n",
    "Write some json files..."
   ]
  },
  {
   "cell_type": "code",
   "execution_count": 17,
   "metadata": {},
   "outputs": [
    {
     "data": {
      "text/plain": [
       "array([[ 0.122,  0.296,  0.   ],\n",
       "       [ 0.402,  0.702,  0.   ],\n",
       "       [ 0.765,  0.911,  0.   ],\n",
       "       [ 1.046,  0.942,  0.   ],\n",
       "       [ 1.441,  0.854,  0.   ],\n",
       "       [ 0.317, -0.043,  0.   ],\n",
       "       [ 0.762, -0.222,  0.   ],\n",
       "       [ 1.063, -0.53 ,  0.   ],\n",
       "       [ 1.164, -0.79 ,  0.   ],\n",
       "       [ 1.147, -1.205,  0.   ],\n",
       "       [ 0.03 , -0.292,  0.   ],\n",
       "       [ 0.08 , -0.804,  0.   ],\n",
       "       [-0.124, -1.183,  0.   ],\n",
       "       [-0.32 , -1.374,  0.   ],\n",
       "       [-0.692, -1.527,  0.   ],\n",
       "       [-0.27 , -0.165,  0.   ],\n",
       "       [-0.744, -0.316,  0.   ],\n",
       "       [-1.154, -0.256,  0.   ],\n",
       "       [-1.385, -0.112,  0.   ],\n",
       "       [-1.658,  0.188,  0.   ],\n",
       "       [-0.23 ,  0.214,  0.   ],\n",
       "       [-0.529,  0.61 ,  0.   ],\n",
       "       [-0.607,  1.024,  0.   ],\n",
       "       [-0.555,  1.303,  0.   ]])"
      ]
     },
     "execution_count": 17,
     "metadata": {},
     "output_type": "execute_result"
    }
   ],
   "source": [
    "result = np.zeros((n_ant, 3))\n",
    "result[:,:-1] = np.round(pos/1000.0, 3)\n",
    "result"
   ]
  },
  {
   "cell_type": "code",
   "execution_count": 19,
   "metadata": {},
   "outputs": [
    {
     "name": "stdout",
     "output_type": "stream",
     "text": [
      "{\n",
      "    \"antenna_positions\": [\n",
      "        [\n",
      "            0.122,\n",
      "            0.296,\n",
      "            0.0\n",
      "        ],\n",
      "        [\n",
      "            0.402,\n",
      "            0.702,\n",
      "            0.0\n",
      "        ],\n",
      "        [\n",
      "            0.765,\n",
      "            0.911,\n",
      "            0.0\n",
      "        ],\n",
      "        [\n",
      "            1.046,\n",
      "            0.942,\n",
      "            0.0\n",
      "        ],\n",
      "        [\n",
      "            1.441,\n",
      "            0.854,\n",
      "            0.0\n",
      "        ],\n",
      "        [\n",
      "            0.317,\n",
      "            -0.043,\n",
      "            0.0\n",
      "        ],\n",
      "        [\n",
      "            0.762,\n",
      "            -0.222,\n",
      "            0.0\n",
      "        ],\n",
      "        [\n",
      "            1.063,\n",
      "            -0.53,\n",
      "            0.0\n",
      "        ],\n",
      "        [\n",
      "            1.164,\n",
      "            -0.79,\n",
      "            0.0\n",
      "        ],\n",
      "        [\n",
      "            1.147,\n",
      "            -1.205,\n",
      "            0.0\n",
      "        ],\n",
      "        [\n",
      "            0.03,\n",
      "            -0.292,\n",
      "            0.0\n",
      "        ],\n",
      "        [\n",
      "            0.08,\n",
      "            -0.804,\n",
      "            0.0\n",
      "        ],\n",
      "        [\n",
      "            -0.124,\n",
      "            -1.183,\n",
      "            0.0\n",
      "        ],\n",
      "        [\n",
      "            -0.32,\n",
      "            -1.374,\n",
      "            0.0\n",
      "        ],\n",
      "        [\n",
      "            -0.692,\n",
      "            -1.527,\n",
      "            0.0\n",
      "        ],\n",
      "        [\n",
      "            -0.27,\n",
      "            -0.165,\n",
      "            0.0\n",
      "        ],\n",
      "        [\n",
      "            -0.744,\n",
      "            -0.316,\n",
      "            0.0\n",
      "        ],\n",
      "        [\n",
      "            -1.154,\n",
      "            -0.256,\n",
      "            0.0\n",
      "        ],\n",
      "        [\n",
      "            -1.385,\n",
      "            -0.112,\n",
      "            0.0\n",
      "        ],\n",
      "        [\n",
      "            -1.658,\n",
      "            0.188,\n",
      "            0.0\n",
      "        ],\n",
      "        [\n",
      "            -0.23,\n",
      "            0.214,\n",
      "            0.0\n",
      "        ],\n",
      "        [\n",
      "            -0.529,\n",
      "            0.61,\n",
      "            0.0\n",
      "        ],\n",
      "        [\n",
      "            -0.607,\n",
      "            1.024,\n",
      "            0.0\n",
      "        ],\n",
      "        [\n",
      "            -0.555,\n",
      "            1.303,\n",
      "            0.0\n",
      "        ]\n",
      "    ]\n",
      "}\n"
     ]
    }
   ],
   "source": [
    "json_result = {}\n",
    "json_result[\"antenna_positions\"] = result.tolist()\n",
    "\n",
    "f = open(\"buist_antenna_positions.json\", \"w\")\n",
    "f.write(json.dumps(json_result))\n",
    "f.close()\n",
    "\n",
    "pos_json = json.dumps(json_result, indent=4, separators=(',', ': '))\n",
    "print(pos_json)"
   ]
  },
  {
   "cell_type": "markdown",
   "metadata": {
    "collapsed": true
   },
   "source": [
    "The position file above is in a format suitable for uploading to the telescope api. Also for using as the calibrated_antenna_positions.json file in TART/software/containers/telescope_web_api/config_data.\n",
    "\n",
    "\n",
    "    tart_upload_antenna_positions --api https://tart.elec.ac.nz/rhodes --pw=xxxx --file rhodes_antenna_positions.json\n"
   ]
  },
  {
   "cell_type": "code",
   "execution_count": null,
   "metadata": {},
   "outputs": [],
   "source": []
  }
 ],
 "metadata": {
  "kernelspec": {
   "display_name": "Python 3 (ipykernel)",
   "language": "python",
   "name": "python3"
  },
  "language_info": {
   "codemirror_mode": {
    "name": "ipython",
    "version": 3
   },
   "file_extension": ".py",
   "mimetype": "text/x-python",
   "name": "python",
   "nbconvert_exporter": "python",
   "pygments_lexer": "ipython3",
   "version": "3.13.2"
  }
 },
 "nbformat": 4,
 "nbformat_minor": 2
}
