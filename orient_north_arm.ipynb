{
 "cells": [
  {
   "cell_type": "markdown",
   "id": "4c2b3331",
   "metadata": {},
   "source": [
    "# Calibrating the global orientation of the TART\n",
    "\n",
    "Author: Tim Molteno tim@elec.ac.nz\n",
    "\n",
    "We use google maps to do this and find an arm that aligns closely to a distant landmark."
   ]
  },
  {
   "cell_type": "code",
   "execution_count": 1,
   "id": "c0f1b334",
   "metadata": {},
   "outputs": [],
   "source": [
    "import numpy as np"
   ]
  },
  {
   "cell_type": "code",
   "execution_count": 2,
   "id": "98f5d732",
   "metadata": {},
   "outputs": [],
   "source": [
    "import pyproj\n",
    "geodesic = pyproj.Geod(ellps='WGS84')\n",
    "\n",
    "def bearing(lat1,  lon1,  lat2, lon2):\n",
    "    fwd_azimuth,back_azimuth,distance = geodesic.inv(lon1, lat1, lon2, lat2)\n",
    "    return fwd_azimuth\n",
    "\n",
    "def bearing_latlon(a, b):\n",
    "    return bearing(lon1=a[1], lat1=a[0], lon2=b[1], lat2=b[0])\n",
    "\n",
    "def get_rotation_angle(expected_angle, actual_angle):\n",
    "    print(f\"expected angle {expected_angle}\")\n",
    "    print(f\"actual angle {actual_angle}\")\n",
    "    rotation =  -(actual_angle - expected_angle)\n",
    "    return rotation\n",
    "\n",
    "def get_geographic_angle(dx, dy):\n",
    "    ''' Diven an x (east is +x) and y (north is +y) delta, \n",
    "        return the angle from north.\n",
    "        \n",
    "        positive angles point clockwise from geographic north.\n",
    "\n",
    "    '''\n",
    "    brng = np.arctan2(dx,dy) # count degrees counter-clockwise\n",
    "    brng = np.degrees(brng)\n",
    "    brng = (brng + 360) % 360;\n",
    "    return brng; "
   ]
  },
  {
   "cell_type": "code",
   "execution_count": 3,
   "id": "f7564d2c",
   "metadata": {},
   "outputs": [
    {
     "data": {
      "text/plain": [
       "90.0"
      ]
     },
     "execution_count": 3,
     "metadata": {},
     "output_type": "execute_result"
    }
   ],
   "source": [
    "get_geographic_angle(1, 0)"
   ]
  },
  {
   "cell_type": "markdown",
   "id": "a24301f9",
   "metadata": {},
   "source": [
    "# Rhodes Site\n",
    "\n",
    "Measurement was taken along arm 5 that pointed to a distant wind turbine."
   ]
  },
  {
   "cell_type": "code",
   "execution_count": 4,
   "id": "88230b81",
   "metadata": {},
   "outputs": [
    {
     "data": {
      "text/plain": [
       "-101.92133948345194"
      ]
     },
     "execution_count": 4,
     "metadata": {},
     "output_type": "execute_result"
    }
   ],
   "source": [
    "# Rhodes Site\n",
    "tree = [-33.314532, 26.504503];\n",
    "monument = [-33.319285, 26.519030]\n",
    "turbine = [-33.326303, 26.469101] \n",
    "rhodes_tart = [-33.319449, 26.507807]; \n",
    "\n",
    "ang_tart_turbine = bearing_latlon(rhodes_tart, turbine)\n",
    "\n",
    "# positive angles point west of geographic north. (clockwise)\n",
    "ang_tart_turbine"
   ]
  },
  {
   "cell_type": "code",
   "execution_count": 5,
   "id": "441cca73",
   "metadata": {},
   "outputs": [
    {
     "name": "stdout",
     "output_type": "stream",
     "text": [
      "expected angle -72\n",
      "actual angle -101.92133948345194\n"
     ]
    },
    {
     "data": {
      "text/plain": [
       "29.921339483451945"
      ]
     },
     "execution_count": 5,
     "metadata": {},
     "output_type": "execute_result"
    }
   ],
   "source": [
    "expected_angle =  -72  # Arm 5\n",
    "actual_angle = ang_tart_turbine\n",
    "get_rotation_angle(expected_angle, ang_tart_turbine)"
   ]
  },
  {
   "cell_type": "markdown",
   "id": "e0388e1e",
   "metadata": {},
   "source": [
    "Now enter this information into the global_rotation field in the site survey notebook"
   ]
  },
  {
   "cell_type": "markdown",
   "id": "7e41f694",
   "metadata": {},
   "source": [
    "## UdM site in Mauritius\n",
    "\n",
    "The bearing was taken along the path to antenna 4 which featured a power pole in the distance"
   ]
  },
  {
   "cell_type": "code",
   "execution_count": 6,
   "id": "581acb28",
   "metadata": {},
   "outputs": [
    {
     "data": {
      "text/plain": [
       "62.96852731799942"
      ]
     },
     "execution_count": 6,
     "metadata": {},
     "output_type": "execute_result"
    }
   ],
   "source": [
    "# UdM site\n",
    "udm_tart = [-20.2587508, 57.75919894]\n",
    "udm_pole = [-20.257990, 57.760779]\n",
    "\n",
    "ang_tart_pole = bearing_latlon(udm_tart, udm_pole)\n",
    "\n",
    "ang_tart_pole"
   ]
  },
  {
   "cell_type": "code",
   "execution_count": 7,
   "id": "4a915d37",
   "metadata": {},
   "outputs": [],
   "source": [
    "# This is with antenna 4\n",
    "ant4 = [1.6261960453222395, 0.7033414756277336, 0.0]\n",
    "x,y,z = ant4\n",
    "\n",
    "expected_angle = get_geographic_angle(x,y)"
   ]
  },
  {
   "cell_type": "code",
   "execution_count": 8,
   "id": "034907b8",
   "metadata": {},
   "outputs": [
    {
     "name": "stdout",
     "output_type": "stream",
     "text": [
      "expected angle 66.6111707190563\n",
      "actual angle 62.96852731799942\n"
     ]
    },
    {
     "data": {
      "text/plain": [
       "3.642643401056887"
      ]
     },
     "execution_count": 8,
     "metadata": {},
     "output_type": "execute_result"
    }
   ],
   "source": [
    "get_rotation_angle(expected_angle, ang_tart_pole)"
   ]
  },
  {
   "cell_type": "code",
   "execution_count": null,
   "id": "de7af36a",
   "metadata": {},
   "outputs": [],
   "source": []
  }
 ],
 "metadata": {
  "kernelspec": {
   "display_name": "Python 3 (ipykernel)",
   "language": "python",
   "name": "python3"
  },
  "language_info": {
   "codemirror_mode": {
    "name": "ipython",
    "version": 3
   },
   "file_extension": ".py",
   "mimetype": "text/x-python",
   "name": "python",
   "nbconvert_exporter": "python",
   "pygments_lexer": "ipython3",
   "version": "3.11.8"
  }
 },
 "nbformat": 4,
 "nbformat_minor": 5
}
