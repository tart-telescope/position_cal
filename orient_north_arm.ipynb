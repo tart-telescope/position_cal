{
 "cells": [
  {
   "cell_type": "markdown",
   "id": "4c2b3331",
   "metadata": {},
   "source": [
    "# Calibrating the global orientation of the TART\n",
    "\n",
    "Author: Tim Molteno tim@elec.ac.nz\n",
    "\n",
    "We use google maps to do this and find an arm that aligns closely to a distant landmark."
   ]
  },
  {
   "cell_type": "code",
   "execution_count": 1,
   "id": "c0f1b334",
   "metadata": {},
   "outputs": [
    {
     "name": "stdout",
     "output_type": "stream",
     "text": [
      "/bin/bash: line 1: pip: command not found\r\n"
     ]
    }
   ],
   "source": [
    "!pip install numpy pyproj tart-tools\n",
    "import numpy as np\n"
   ]
  },
  {
   "cell_type": "code",
   "execution_count": 2,
   "id": "98f5d732",
   "metadata": {},
   "outputs": [],
   "source": [
    "import pyproj\n",
    "import numpy as np\n",
    "\n",
    "geodesic = pyproj.Geod(ellps='WGS84')\n",
    "\n",
    "def bearing(lat1,  lon1,  lat2, lon2):\n",
    "    fwd_azimuth,back_azimuth,distance = geodesic.inv(lon1, lat1, lon2, lat2)\n",
    "    return fwd_azimuth\n",
    "\n",
    "def bearing_latlon(a, b):\n",
    "    return bearing(lon1=a[1], lat1=a[0], lon2=b[1], lat2=b[0])\n",
    "\n",
    "def get_rotation_angle(expected_angle, actual_angle):\n",
    "    print(f\"expected angle {expected_angle}\")\n",
    "    print(f\"actual angle {actual_angle}\")\n",
    "    rotation =  -(actual_angle - expected_angle)\n",
    "    return rotation\n",
    "\n",
    "def get_geographic_angle(dx, dy):\n",
    "    ''' Diven an x (east is +x) and y (north is +y) delta, \n",
    "        return the angle from north.\n",
    "        \n",
    "        positive angles point clockwise from geographic north.\n",
    "\n",
    "    '''\n",
    "    brng = np.arctan2(dx,dy) # count degrees counter-clockwise\n",
    "    brng = np.degrees(brng)\n",
    "    brng = (brng + 360) % 360;\n",
    "    return brng; "
   ]
  },
  {
   "cell_type": "code",
   "execution_count": 3,
   "id": "f7564d2c",
   "metadata": {},
   "outputs": [
    {
     "data": {
      "text/plain": [
       "np.float64(90.0)"
      ]
     },
     "execution_count": 3,
     "metadata": {},
     "output_type": "execute_result"
    }
   ],
   "source": [
    "get_geographic_angle(1, 0)"
   ]
  },
  {
   "cell_type": "code",
   "execution_count": 4,
   "id": "b9e0c387",
   "metadata": {},
   "outputs": [
    {
     "ename": "ModuleNotFoundError",
     "evalue": "No module named 'tart'",
     "output_type": "error",
     "traceback": [
      "\u001b[0;31m---------------------------------------------------------------------------\u001b[0m",
      "\u001b[0;31mModuleNotFoundError\u001b[0m                       Traceback (most recent call last)",
      "Cell \u001b[0;32mIn[4], line 2\u001b[0m\n\u001b[1;32m      1\u001b[0m \u001b[38;5;28;01mimport\u001b[39;00m \u001b[38;5;21;01mjson\u001b[39;00m\n\u001b[0;32m----> 2\u001b[0m \u001b[38;5;28;01mfrom\u001b[39;00m \u001b[38;5;21;01mtart\u001b[39;00m\u001b[38;5;21;01m.\u001b[39;00m\u001b[38;5;21;01moperation\u001b[39;00m \u001b[38;5;28;01mimport\u001b[39;00m settings\n\u001b[1;32m      4\u001b[0m \u001b[38;5;28;01mdef\u001b[39;00m \u001b[38;5;21mcreate_calibrated_positions\u001b[39m(original_positions, fname, _rot):\n\u001b[1;32m      5\u001b[0m     \u001b[38;5;124m\"\u001b[39m\u001b[38;5;124m Rotate the positions and write to file.\u001b[39m\u001b[38;5;124m\"\u001b[39m    \n",
      "\u001b[0;31mModuleNotFoundError\u001b[0m: No module named 'tart'"
     ]
    }
   ],
   "source": [
    "import json\n",
    "from tart.operation import settings\n",
    "\n",
    "def create_calibrated_positions(original_positions, fname, _rot):\n",
    "    \" Rotate the positions and write to file.\"    \n",
    "    print(f\"Rotating positions by {_rot} degrees\")\n",
    "    _rot_rad = np.radians(_rot)\n",
    "                \n",
    "    new_positions = settings.rotate_location(\n",
    "                    np.degrees(_rot_rad), np.array(original_positions).T)\n",
    "                \n",
    "    _pos_list = (np.array(new_positions).T).tolist()\n",
    "\n",
    "    with open(fname, 'w') as f:\n",
    "        json.dump(_pos_list, f, indent=4)\n",
    "    print(f\"Written file '{fname}' with calibrated positions\")\n"
   ]
  },
  {
   "cell_type": "markdown",
   "id": "a24301f9",
   "metadata": {},
   "source": [
    "# Rhodes Site\n",
    "\n",
    "Measurement was taken along arm 5 that pointed to a distant wind turbine."
   ]
  },
  {
   "cell_type": "code",
   "execution_count": null,
   "id": "88230b81",
   "metadata": {},
   "outputs": [],
   "source": [
    "# Rhodes Site\n",
    "tree = [-33.314532, 26.504503];\n",
    "monument = [-33.319285, 26.519030]\n",
    "turbine = [-33.326303, 26.469101] \n",
    "rhodes_tart = [-33.319449, 26.507807]; \n",
    "\n",
    "ang_tart_turbine = bearing_latlon(rhodes_tart, turbine)\n",
    "\n",
    "# positive angles point west of geographic north. (clockwise)\n",
    "ang_tart_turbine"
   ]
  },
  {
   "cell_type": "code",
   "execution_count": null,
   "id": "441cca73",
   "metadata": {},
   "outputs": [],
   "source": [
    "expected_angle =  -72  # Arm 5\n",
    "actual_angle = ang_tart_turbine\n",
    "get_rotation_angle(expected_angle, ang_tart_turbine)"
   ]
  },
  {
   "cell_type": "code",
   "execution_count": null,
   "id": "1f9154b9",
   "metadata": {},
   "outputs": [],
   "source": [
    "# Import unaligned positions from json\n",
    "\n",
    "with open('rhodes/rhodes_antenna_positions_nonaligned.json') as f:\n",
    "    nonaligned_json = json.load(f)\n",
    "    ant_pos_unaligned = nonaligned_json['ant_pos']\n",
    "\n",
    "for i, p in enumerate(ant_pos_unaligned):\n",
    "    print(i,p)"
   ]
  },
  {
   "cell_type": "code",
   "execution_count": null,
   "id": "e4944fb4",
   "metadata": {},
   "outputs": [],
   "source": [
    "import matplotlib.pyplot as plt\n",
    "\n",
    "for i, p in enumerate(ant_pos_unaligned):\n",
    "    plt.plot(p[0], p[1], '*')\n",
    "plt.show()"
   ]
  },
  {
   "cell_type": "code",
   "execution_count": null,
   "id": "cf50b323",
   "metadata": {},
   "outputs": [],
   "source": [
    "ant20 = ant_pos_unaligned[20]\n",
    "x,y,z = ant20\n",
    "\n",
    "expected_angle = get_geographic_angle(x,y)\n",
    "expected_angle"
   ]
  },
  {
   "cell_type": "code",
   "execution_count": null,
   "id": "45d4ba6a",
   "metadata": {},
   "outputs": [],
   "source": [
    "rot = get_rotation_angle(expected_angle, ang_tart_turbine)\n",
    "rot"
   ]
  },
  {
   "cell_type": "markdown",
   "id": "e0388e1e",
   "metadata": {},
   "source": [
    "Now enter this information into the global_rotation field in the site survey notebook"
   ]
  },
  {
   "cell_type": "markdown",
   "id": "7e41f694",
   "metadata": {},
   "source": [
    "## UdM site in Mauritius\n",
    "\n",
    "The bearing was taken along the path to antenna 4 which featured a power pole in the distance"
   ]
  },
  {
   "cell_type": "code",
   "execution_count": null,
   "id": "581acb28",
   "metadata": {},
   "outputs": [],
   "source": [
    "# UdM site\n",
    "udm_tart = [-20.2587508, 57.75919894]\n",
    "udm_pole = [-20.257990, 57.760779]\n",
    "\n",
    "ang_tart_pole = bearing_latlon(udm_tart, udm_pole)\n",
    "\n",
    "ang_tart_pole"
   ]
  },
  {
   "cell_type": "code",
   "execution_count": null,
   "id": "4a915d37",
   "metadata": {},
   "outputs": [],
   "source": [
    "# This is with antenna 4\n",
    "ant4 = [1.6261960453222395, 0.7033414756277336, 0.0]\n",
    "x,y,z = ant4\n",
    "\n",
    "expected_angle = get_geographic_angle(x,y)\n",
    "expected_angle"
   ]
  },
  {
   "cell_type": "code",
   "execution_count": null,
   "id": "034907b8",
   "metadata": {},
   "outputs": [],
   "source": [
    "get_rotation_angle(expected_angle, ang_tart_pole)"
   ]
  },
  {
   "cell_type": "code",
   "execution_count": null,
   "id": "d177aaeb-5275-4de2-90a9-583a09fa64af",
   "metadata": {},
   "outputs": [],
   "source": [
    "# Import unaligned positions from json\n",
    "\n",
    "with open('mu-udm/mu-udm_antenna_positions_unaligned.json') as f:\n",
    "    nonaligned_json = json.load(f)\n",
    "    ant_pos_unaligned = nonaligned_json['antenna_positions']\n",
    "\n",
    "for i, p in enumerate(ant_pos_unaligned):\n",
    "    print(i,p)\n",
    "\n",
    "ant4 = ant_pos_unaligned[4]\n",
    "x,y,z = ant4\n",
    "\n",
    "expected_angle = get_geographic_angle(x,y)\n",
    "expected_angle"
   ]
  },
  {
   "cell_type": "code",
   "execution_count": null,
   "id": "5315e713",
   "metadata": {},
   "outputs": [],
   "source": [
    "rot = get_rotation_angle(expected_angle, ang_tart_pole)\n",
    "create_calibrated_positions(ant_pos_unaligned, \n",
    "                            fname = 'mu-udm/calibrated_antenna_positions.json',\n",
    "                            _rot=rot)"
   ]
  },
  {
   "cell_type": "markdown",
   "id": "1aa466f4-6a1d-46cc-af9b-c67d61a64c6e",
   "metadata": {},
   "source": [
    "## Nairobi site in Kenya\n",
    "\n",
    "The bearing was taken along the path to antenna 4 which featured a distant highrise building"
   ]
  },
  {
   "cell_type": "code",
   "execution_count": null,
   "id": "49892cf6-4158-4e17-b668-5c1c87b037c3",
   "metadata": {},
   "outputs": [],
   "source": [
    "from IPython.display import display, Image\n",
    "display(Image(filename='kenya/kenya_align.jpg'))"
   ]
  },
  {
   "cell_type": "code",
   "execution_count": null,
   "id": "2fc125cc-1fbc-4fca-9003-a4e1f61ba62b",
   "metadata": {},
   "outputs": [],
   "source": [
    "kenya_tart = [-1.2913157,36.8193813] \n",
    "kenya_bldg = [-1.292174, 36.825535]\n",
    "\n",
    "ang_tart_bldg = bearing_latlon(kenya_tart, kenya_bldg)\n",
    "\n",
    "ang_tart_bldg\n"
   ]
  },
  {
   "cell_type": "code",
   "execution_count": null,
   "id": "7a66a063",
   "metadata": {},
   "outputs": [],
   "source": [
    "# Import unaligned positions from json\n",
    "\n",
    "with open('kenya/kenya_antenna_positions_nonaligned.json') as f:\n",
    "    nonaligned_json = json.load(f)\n",
    "    ant_pos_unaligned = nonaligned_json['ant_pos']"
   ]
  },
  {
   "cell_type": "code",
   "execution_count": null,
   "id": "ff234157",
   "metadata": {
    "scrolled": true
   },
   "outputs": [],
   "source": [
    "for i, p in enumerate(ant_pos_unaligned):\n",
    "    print(i,p)"
   ]
  },
  {
   "cell_type": "code",
   "execution_count": null,
   "id": "8c08f514-cf8d-48e2-b095-2cb0105e1576",
   "metadata": {},
   "outputs": [],
   "source": [
    "# Use antenna #5 (index=4)\n",
    "\n",
    "ant5 = ant_pos_unaligned[4]\n",
    "x,y,z = ant5\n",
    "\n",
    "expected_angle = get_geographic_angle(x,y)\n",
    "expected_angle"
   ]
  },
  {
   "cell_type": "code",
   "execution_count": null,
   "id": "6cb7f175-7043-4827-8106-3fc96f242a40",
   "metadata": {},
   "outputs": [],
   "source": [
    "rot = get_rotation_angle(expected_angle, ang_tart_bldg)\n",
    "rot"
   ]
  },
  {
   "cell_type": "code",
   "execution_count": null,
   "id": "a2d4c6d3",
   "metadata": {},
   "outputs": [],
   "source": [
    "create_calibrated_positions(ant_pos_unaligned, fname = 'kenya/calibrated_antenna_positions.json')"
   ]
  },
  {
   "cell_type": "code",
   "execution_count": null,
   "id": "f6c3c0e6",
   "metadata": {},
   "outputs": [],
   "source": [
    "!tart_upload_antenna_positions --api=https://api.elec.ac.nz/tart/tart-kenya --file kenya/antenna_positions_kenya.json --pw sharkbait"
   ]
  },
  {
   "cell_type": "markdown",
   "id": "ec116787",
   "metadata": {},
   "source": [
    "## Ghana TART\n",
    "\n"
   ]
  },
  {
   "cell_type": "code",
   "execution_count": null,
   "id": "c39ae4db",
   "metadata": {},
   "outputs": [],
   "source": [
    "display(Image(filename='ghana/antena_9_dish.jpg'))"
   ]
  },
  {
   "cell_type": "code",
   "execution_count": null,
   "id": "a73c226c",
   "metadata": {},
   "outputs": [],
   "source": [
    "ghana_tart = [5.749725,-0.3055573] \n",
    "ghana_dish = [5.750541, -0.304980]\n",
    "\n",
    "ang_ghana_dish = bearing_latlon(ghana_tart, ghana_dish)\n",
    "\n",
    "ang_ghana_dish\n"
   ]
  },
  {
   "cell_type": "code",
   "execution_count": null,
   "id": "f62f5edc",
   "metadata": {},
   "outputs": [],
   "source": []
  }
 ],
 "metadata": {
  "kernelspec": {
   "display_name": "Python 3 (ipykernel)",
   "language": "python",
   "name": "python3"
  },
  "language_info": {
   "codemirror_mode": {
    "name": "ipython",
    "version": 3
   },
   "file_extension": ".py",
   "mimetype": "text/x-python",
   "name": "python",
   "nbconvert_exporter": "python",
   "pygments_lexer": "ipython3",
   "version": "3.13.5"
  }
 },
 "nbformat": 4,
 "nbformat_minor": 5
}
