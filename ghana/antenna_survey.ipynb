{
 "cells": [
  {
   "cell_type": "markdown",
   "metadata": {},
   "source": [
    "# Antenna Position Calibration\n",
    "\n",
    "Author: Tim Molteno. tim@elec.ac.nz.\n",
    "\n",
    "The antennas are laid out on five spiral arms.  This notebook will use measurements to infer the actual layout of the antennas.\n",
    "\n",
    "The other reference point is the center of the array. This is assumed to be the point [0,0]. Make sure that a marker is present at this reference point at the same height as the level of the antennas (otherwise the distances will be wrong)."
   ]
  },
  {
   "cell_type": "code",
   "execution_count": 1,
   "metadata": {},
   "outputs": [],
   "source": [
    "import numpy as np\n",
    "from scipy.optimize import minimize\n",
    "\n",
    "# pip install numpy scipy pandas odfpy"
   ]
  },
  {
   "cell_type": "code",
   "execution_count": 2,
   "metadata": {},
   "outputs": [],
   "source": [
    "site_name = 'ghana'\n",
    "x0 = [0,0]\n",
    "global_rot_degrees = +35.32181860412191\n",
    "global_rot_index = 9"
   ]
  },
  {
   "cell_type": "code",
   "execution_count": 3,
   "metadata": {
    "scrolled": true
   },
   "outputs": [
    {
     "data": {
      "text/plain": [
       "A 0      340.0\n",
       "A 1      830.0\n",
       "A 2     1195.0\n",
       "A 3     1462.0\n",
       "A 4     1684.0\n",
       "A 5      342.0\n",
       "A 6      829.0\n",
       "A 7     1200.0\n",
       "A 8     1470.0\n",
       "A 9     1689.0\n",
       "A 10     342.0\n",
       "A 11     831.0\n",
       "A 12    1204.0\n",
       "A 13    1471.0\n",
       "A 14    1694.0\n",
       "A 15     345.0\n",
       "A 16     834.0\n",
       "A 17    1210.0\n",
       "A 18    1477.0\n",
       "A 19    1703.0\n",
       "A 20     340.0\n",
       "A 21     842.0\n",
       "A 22    1202.0\n",
       "A 23    1468.0\n",
       "Name: 0, dtype: float64"
      ]
     },
     "execution_count": 3,
     "metadata": {},
     "output_type": "execute_result"
    }
   ],
   "source": [
    "import pandas as pd\n",
    "\n",
    "cols = [f\"A {i}\" for i in range(24)]\n",
    "data = pd.read_excel('antenna_measurements.ods', \"Sheet1\", usecols=cols)*1000\n",
    "radius = data.loc[0]\n",
    "radius"
   ]
  },
  {
   "cell_type": "code",
   "execution_count": null,
   "metadata": {},
   "outputs": [],
   "source": []
  },
  {
   "cell_type": "markdown",
   "metadata": {},
   "source": [
    "## Finding the antennas\n",
    "\n",
    "This is done by measuring the distance from each antenna to x0 as well as each other antenna. The distance $m_0$ are the measurements to $x_0$. The array m_ij are the distances between antennas."
   ]
  },
  {
   "cell_type": "code",
   "execution_count": 4,
   "metadata": {},
   "outputs": [],
   "source": [
    "n_ant = 24\n",
    "m_0 = np.zeros(n_ant)\n",
    "m_ij = np.zeros((n_ant,n_ant))\n",
    "\n",
    "radius = data.loc[0]\n",
    "\n",
    "for i in range(n_ant):\n",
    "    m_ij[i,:] = data.loc[i+1]"
   ]
  },
  {
   "cell_type": "markdown",
   "metadata": {},
   "source": [
    "The following are the measured distances from [x1, x0, x2] from the reference points in millimeters. Note that their order must be the same as the order of the variable called 'reference_points'. In this case, they are x1,x0,x2."
   ]
  },
  {
   "cell_type": "code",
   "execution_count": 5,
   "metadata": {},
   "outputs": [
    {
     "data": {
      "text/plain": [
       "array([[  nan,  502.,  886., 1177., 1434.,  395.,  748., 1040., 1242.,\n",
       "        1427.,  651., 1104., 1423., 1640., 1822.,  648., 1136., 1529.,\n",
       "        1804., 2035.,  405.,  854., 1253., 1559.],\n",
       "       [ 502.,   nan,  418.,  749., 1058.,  846.,  980., 1094., 1156.,\n",
       "        1205., 1143., 1587., 1884., 2049., 2164., 1099., 1577., 1992.,\n",
       "        2276., 2520.,  751.,  981., 1366., 1720.],\n",
       "       [ 886.,  418.,   nan,  351.,  682., 1254., 1362., 1414., 1387.,\n",
       "        1347., 1526., 1987., 2281., 2456., 2567., 1428., 1878., 2296.,\n",
       "        2605., 2875., 1022., 1101., 1420., 1770.],\n",
       "       [1177.,  749.,  351.,   nan,  363., 1568., 1717., 1763., 1729.,\n",
       "        1644., 1815., 2283., 2607., 2795., 2917., 1650., 2056., 2472.,\n",
       "        2797., 3080., 1243., 1164., 1410., 1738.],\n",
       "       [1434., 1058.,  682.,  363.,   nan, 1841., 2029., 2099., 2062.,\n",
       "        1979., 2029., 2517., 2865., 3078., 3217., 1812., 2179., 2574.,\n",
       "        2913., 3221., 1428., 1218., 1367., 1664.],\n",
       "       [ 395.,  846., 1254., 1568., 1841.,   nan,  499.,  895., 1179.,\n",
       "        1443.,  403.,  749., 1036., 1253., 1426.,  642., 1095., 1432.,\n",
       "        1648., 1824.,  652., 1150., 1532., 1799.],\n",
       "       [ 748.,  980., 1362., 1717., 2029.,  499.,   nan,  421.,  744.,\n",
       "        1061.,  847.,  979., 1093., 1162., 1214., 1138., 1586., 1872.,\n",
       "        2055., 2167., 1106., 1582., 1991., 2282.],\n",
       "       [1040., 1094., 1414., 1763., 2099.,  895.,  421.,   nan,  356.,\n",
       "         685., 1257., 1378., 1415., 1407., 1347., 1532., 1997., 2294.,\n",
       "        2462., 2576., 1429., 1883., 2295., 2597.],\n",
       "       [1242., 1156., 1387., 1729., 2062., 1179.,  744.,  356.,   nan,\n",
       "         359., 1559., 1708., 1764., 1731., 1650., 1796., 2275., 2595.,\n",
       "        2784., 2910., 1637., 2054., 2456., 2785.],\n",
       "       [1427., 1205., 1347., 1644., 1979., 1443., 1061.,  685.,  359.,\n",
       "          nan, 1836., 2037., 2104., 2075., 1997., 2028., 2519., 2858.,\n",
       "        3070., 3214., 1814., 2168., 2571., 2906.],\n",
       "       [ 651., 1143., 1526., 1815., 2029.,  403.,  847., 1257., 1559.,\n",
       "        1836.,   nan,  500.,  882., 1185., 1433.,  397.,  738., 1039.,\n",
       "        1236., 1421.,  643., 1099., 1428., 1632.],\n",
       "       [1104., 1587., 1987., 2283., 2517.,  749.,  979., 1378., 1708.,\n",
       "        2037.,  500.,   nan,  419.,  747., 1052.,  845.,  978., 1082.,\n",
       "        1155., 1203., 1142., 1578., 1871., 2037.],\n",
       "       [1423., 1884., 2281., 2607., 2865., 1036., 1093., 1415., 1764.,\n",
       "        2104.,  882.,  419.,   nan,  353.,  683., 1251., 1370., 1414.,\n",
       "        1401., 1357., 1542., 1989., 2284., 2450.],\n",
       "       [1640., 2049., 2456., 2795., 3078., 1253., 1162., 1407., 1731.,\n",
       "        2075., 1185.,  747.,  353.,   nan,  358., 1553., 1717., 1754.,\n",
       "        1706., 1638., 1811., 2277., 2604., 2780.],\n",
       "       [1822., 2164., 2567., 2917., 3217., 1426., 1214., 1347., 1650.,\n",
       "        1997., 1433., 1052.,  683.,  358.,   nan, 1826., 2027., 2087.,\n",
       "        2059., 1975., 2024., 2523., 2858., 3057.],\n",
       "       [ 648., 1099., 1428., 1650., 1812.,  642., 1138., 1532., 1796.,\n",
       "        2028.,  397.,  845., 1251., 1553., 1826.,   nan,  498.,  887.,\n",
       "        1184., 1441.,  399.,  745., 1037., 1246.],\n",
       "       [1136., 1577., 1878., 2056., 2179., 1095., 1586., 1997., 2275.,\n",
       "        2519.,  738.,  978., 1370., 1717., 2027.,  498.,   nan,  421.,\n",
       "         746., 1051.,  846.,   nan,   nan, 1146.],\n",
       "       [1529., 1992., 2296., 2472., 2574., 1432., 1872., 2294., 2595.,\n",
       "        2858., 1039., 1082., 1414., 1754., 2087.,  887.,  421.,   nan,\n",
       "         354.,  679., 1255.,   nan, 1412., 1397.],\n",
       "       [1804., 2276., 2605., 2797., 2913., 1648., 2055., 2462., 2784.,\n",
       "        3070., 1236., 1155., 1401., 1706., 2059., 1184.,  746.,  354.,\n",
       "          nan,  346., 1565., 1707., 1758., 1727.],\n",
       "       [2035., 2520., 2875., 3080., 3221., 1824., 2167., 2576., 2910.,\n",
       "        3214., 1421., 1203., 1357., 1638., 1975., 1441., 1051.,  679.,\n",
       "         346.,   nan, 1841., 2029., 2095., 2068.],\n",
       "       [ 405.,  751., 1022., 1243., 1428.,  652., 1106., 1429., 1637.,\n",
       "        1814.,  643., 1142., 1542., 1811., 2024.,  399.,  846., 1255.,\n",
       "        1565., 1841.,   nan,  504.,  888., 1170.],\n",
       "       [ 854.,  981., 1101., 1164., 1218., 1150., 1582., 1883., 2054.,\n",
       "        2168., 1099., 1578., 1989., 2277., 2523.,  745.,   nan,   nan,\n",
       "        1707., 2029.,  504.,   nan,  420.,  745.],\n",
       "       [1253., 1366., 1420., 1410., 1367., 1532., 1991., 2295., 2456.,\n",
       "        2571., 1428., 1871., 2284., 2604., 2858., 1037.,   nan, 1412.,\n",
       "        1758., 2095.,  888.,  420.,   nan,  352.],\n",
       "       [1559., 1720., 1770., 1738., 1664., 1799., 2282., 2597., 2785.,\n",
       "        2906., 1632., 2037., 2450., 2780., 3057., 1246., 1146., 1397.,\n",
       "        1727., 2068., 1170.,  745.,  352.,   nan]])"
      ]
     },
     "execution_count": 5,
     "metadata": {},
     "output_type": "execute_result"
    }
   ],
   "source": [
    "for i in range(n_ant):\n",
    "    for j in range(n_ant):\n",
    "        if not np.isnan(m_ij[i,j]):\n",
    "            m_ij[j,i] = m_ij[i,j]\n",
    "\n",
    "m_ij\n"
   ]
  },
  {
   "cell_type": "markdown",
   "metadata": {},
   "source": [
    "## Plot the Initial Guess Points\n",
    "\n",
    "Initial Guesses are from JSON queried from the telescope API. These are converted to millimeters."
   ]
  },
  {
   "cell_type": "code",
   "execution_count": 6,
   "metadata": {
    "scrolled": true
   },
   "outputs": [],
   "source": [
    "import json\n",
    "import requests\n",
    "\n",
    "def get_data(path):\n",
    "    server = \"https://api.elec.ac.nz/tart/ghana/\"\n",
    "\n",
    "    r = requests.get('{}/{}'.format(server, path))\n",
    "    return json.loads(r.text)\n",
    "\n",
    "def get_pos():\n",
    "    return np.array(get_data('api/v1/imaging/antenna_positions'))\n",
    "\n",
    "if True:\n",
    "    # with open('hammanskraal_antenna_positions_nonaligned.json', \"r\") as f:\n",
    "    with open('antenna_positions.json', \"r\") as f:\n",
    "        data = f.read()\n",
    "    cal_json = json.loads(data)\n",
    "    current_pos = cal_json[\"ant_pos\"]\n",
    "    current_pos = np.array(current_pos)\n",
    "else:\n",
    "    current_pos = get_pos()\n",
    "    json_result = {}\n",
    "    json_result[\"antenna_positions\"] = current_pos.tolist()\n",
    "    print(json.dumps(json_result, indent=4, separators=(',', ': ')))\n"
   ]
  },
  {
   "cell_type": "code",
   "execution_count": 7,
   "metadata": {},
   "outputs": [
    {
     "data": {
      "text/plain": [
       "np.float64(90.0)"
      ]
     },
     "execution_count": 7,
     "metadata": {},
     "output_type": "execute_result"
    }
   ],
   "source": [
    "def geo_angle(x,y):\n",
    "    return 90 - np.degrees(np.arctan2(y,x))\n",
    "\n",
    "geo_angle(1,0)"
   ]
  },
  {
   "cell_type": "code",
   "execution_count": 8,
   "metadata": {},
   "outputs": [
    {
     "name": "stdout",
     "output_type": "stream",
     "text": [
      "0 : 12.0,372.0, geo: 1.8476102659945894\n",
      "1 : -90.0,873.0, geo: -5.885987833028281\n",
      "2 : -353.0,1208.0, geo: -16.28934154819325\n",
      "3 : -684.0,1369.0, geo: -26.548307817089054\n",
      "4 : -1047.0,1410.0, geo: -36.5958509098532\n",
      "5 : 364.0,105.0, geo: 73.90918365114783\n",
      "6 : 808.0,354.0, geo: 66.34086982257534\n",
      "7 : 1043.0,714.0, geo: 55.6058723128624\n",
      "8 : 1092.0,1074.0, geo: 45.47613125164185\n",
      "9 : 1016.0,1434.0, geo: 35.31786439682895\n",
      "10 : 210.0,-318.0, geo: 146.56013079421777\n",
      "11 : 592.0,-661.0, geo: 138.15197114780148\n",
      "12 : 1006.0,-772.0, geo: 127.50247518596058\n",
      "13 : 1361.0,-716.0, geo: 117.74812918117163\n",
      "14 : 1678.0,-538.0, geo: 107.77687835551139\n",
      "15 : -230.0,-302.0, geo: 217.29251427703502\n",
      "16 : -450.0,-764.0, geo: 210.4983078273214\n",
      "17 : -421.0,-1197.0, geo: 199.37741651484143\n",
      "18 : -243.0,-1518.0, geo: 189.09469312086856\n",
      "19 : 27.0,-1767.0, geo: 179.12458083438926\n",
      "20 : -361.0,119.0, geo: -71.75571862471023\n",
      "21 : -867.0,163.0, geo: -79.35241697335198\n",
      "22 : -1262.0,9.0, geo: -89.59139994144479\n",
      "23 : -1511.0,-253.0, geo: 260.49463987147226\n"
     ]
    },
    {
     "data": {
      "image/png": "[encoded data removed]",
      "text/plain": [
       "<Figure size 1200x1200 with 1 Axes>"
      ]
     },
     "metadata": {},
     "output_type": "display_data"
    }
   ],
   "source": [
    "def i_y(i):\n",
    "    return 2*i+1\n",
    "\n",
    "def i_x(i):\n",
    "    return 2*i\n",
    "\n",
    "\n",
    "initial_guess = np.zeros(2*n_ant)\n",
    "\n",
    "for i in range(n_ant):\n",
    "    x,y = current_pos[i][0:2]*1000\n",
    "    initial_guess[i_x(i)] = x\n",
    "    initial_guess[i_y(i)] = y\n",
    "    \n",
    "    print(f\"{i} : {x},{y}, geo: {geo_angle(x,y)}\")\n",
    "\n",
    "pos_i = initial_guess.reshape((24,2))\n",
    "#pos_i = current_pos*1000\n",
    "\n",
    "import matplotlib.pyplot as plt\n",
    "\n",
    "fig, ax = plt.subplots(figsize=(12,12))\n",
    "\n",
    "ax.scatter(pos_i[:,0], pos_i[:,1])\n",
    "for i in range(0,pos_i.shape[0]):\n",
    "    ax.text(pos_i[i,0], pos_i[i,1],f\"{i}\")\n",
    "\n",
    "ax.grid(True)\n",
    "ax.set_title('Initial positions')\n",
    "ax.set_xlabel('x (mm)')\n",
    "ax.set_ylabel('y (mm)')\n",
    "plt.savefig('initial_positions.png')\n",
    "plt.show()"
   ]
  },
  {
   "cell_type": "markdown",
   "metadata": {},
   "source": [
    "## Criteria for Optimality\n",
    "\n",
    "The function below is minimized when the positions (in variable x) are consistent with the measured distances m[i,j]. The initial value of this function is more than 3 million.\n",
    "\n",
    "Note that the x input is a 1D vector of with 48 entries as [p0.x, p0.y, p1.x, p1.y]"
   ]
  },
  {
   "cell_type": "code",
   "execution_count": 9,
   "metadata": {},
   "outputs": [
    {
     "data": {
      "text/plain": [
       "np.float64(90.0)"
      ]
     },
     "execution_count": 9,
     "metadata": {},
     "output_type": "execute_result"
    }
   ],
   "source": [
    "def geo_angle(x,y):\n",
    "    return 90 - np.degrees(np.arctan2(y,x))\n",
    "\n",
    "geo_angle(1,0)"
   ]
  },
  {
   "cell_type": "code",
   "execution_count": 10,
   "metadata": {},
   "outputs": [],
   "source": [
    "def dist(a,b):\n",
    "    return np.sqrt((a[0]-b[0])**2 + (a[1]-b[1])**2)\n",
    "\n",
    "\n",
    "def p(x, i):\n",
    "    return [x[i_x(i)],x[i_y(i)]]\n",
    "\n",
    "max_err = 4200\n",
    "def bounds():\n",
    "    ret = [(0,0)]*48\n",
    "    for i in range(n_ant):\n",
    "        _x,_y = pos_i[i,0], pos_i[i,1]\n",
    "        ret[i_x(i)] = (_x - max_err, _x + max_err)\n",
    "        ret[i_y(i)] = (_y - max_err, _y + max_err)\n",
    "    \n",
    "    return ret\n",
    "\n",
    "bnd = bounds()\n",
    "\n",
    "center = [0,0]\n",
    "\n",
    "def angle(x, i):\n",
    "    _x, _y = p(x, i)\n",
    "    return geo_angle(_x, _y)\n",
    "    \n",
    "def radius_model(x):\n",
    "    ret = []\n",
    "    \n",
    "    for i in range(n_ant):\n",
    "        p_i = p(x,i)\n",
    "        ret.append(dist(center, p_i))\n",
    "        \n",
    "    return np.array(ret)\n",
    "\n",
    "non_nan_ij = []\n",
    "non_nan_indices = []\n",
    "for i in range(n_ant):\n",
    "    for j in range(n_ant):\n",
    "        if not np.isnan(m_ij[i,j]):\n",
    "            non_nan_ij.append(m_ij[i,j])\n",
    "            non_nan_indices.append([i,j])\n",
    "non_nan_ij = np.array(non_nan_ij)\n",
    "non_nan_indices = np.array(non_nan_indices)\n",
    "\n",
    "def m_ij_model(x):\n",
    "    ret = []\n",
    "    for i in range(n_ant):\n",
    "        p_i = p(x,i)\n",
    "\n",
    "        for j in range(n_ant):\n",
    "            p_j = p(x,j)\n",
    "            if not np.isnan(m_ij[i,j]):\n",
    "                ret.append(dist(p_j, p_i))\n",
    "                \n",
    "    return np.array(ret)\n",
    "    \n",
    "def radius_residual(x):\n",
    "    predict = radius_model(x)\n",
    "    return (predict - radius)\n",
    "\n",
    "def m_ij_residual(x):\n",
    "    predict = m_ij_model(x)\n",
    "    return (predict - non_nan_ij)\n",
    "\n",
    "def rot_residual(x):\n",
    "    predict = angle(x, global_rot_index)\n",
    "    return (predict - global_rot_degrees)\n",
    "\n",
    "def f_old(x):\n",
    "    ret = 0\n",
    "    for i in range(n_ant):\n",
    "        p_i = p(x,i)\n",
    "        ret += (dist(center, p_i) - m_0[i])**2\n",
    "        for j in range(n_ant):\n",
    "            p_j = p(x,j)\n",
    "            if not np.isnan(m_ij[i,j]):\n",
    "                ret += (dist(p_j, p_i) - m_ij[i,j])**2\n",
    "    return ret\n",
    "\n",
    "def f(x):\n",
    "    # This is the final criterion for optimality. The sum of squared residuals.\n",
    "    ret = np.sum(radius_residual(x)**2)*10\n",
    "    ret += np.sum(m_ij_residual(x)**2)\n",
    "    ret += (rot_residual(x)**2)*100\n",
    "    return ret\n"
   ]
  },
  {
   "cell_type": "code",
   "execution_count": 11,
   "metadata": {},
   "outputs": [
    {
     "name": "stdout",
     "output_type": "stream",
     "text": [
      "4621264.998382487\n"
     ]
    }
   ],
   "source": [
    "print(f(initial_guess))"
   ]
  },
  {
   "cell_type": "markdown",
   "metadata": {},
   "source": [
    " We can see that the initial value of this optimality condition is quite large.s"
   ]
  },
  {
   "cell_type": "code",
   "execution_count": 12,
   "metadata": {},
   "outputs": [
    {
     "data": {
      "text/plain": [
       "  message: Desired error not necessarily achieved due to precision loss.\n",
       "  success: False\n",
       "   status: 2\n",
       "      fun: 13993.08598735006\n",
       "        x: [ 7.538e+00  3.358e+02 ... -1.444e+03 -2.441e+02]\n",
       "      nit: 73\n",
       "      jac: [ 1.343e-03  1.221e-04 ...  2.930e-03  2.197e-03]\n",
       " hess_inv: [[ 9.011e-01 -2.823e-02 ... -6.921e-01  3.878e+00]\n",
       "            [-2.823e-02  1.691e-02 ...  2.228e-02 -1.244e-01]\n",
       "            ...\n",
       "            [-6.921e-01  2.228e-02 ...  5.660e-01 -3.096e+00]\n",
       "            [ 3.878e+00 -1.244e-01 ... -3.096e+00  1.727e+01]]\n",
       "     nfev: 7313\n",
       "     njev: 149"
      ]
     },
     "execution_count": 12,
     "metadata": {},
     "output_type": "execute_result"
    }
   ],
   "source": [
    "res = minimize(f, initial_guess, bounds=None, options={'maxiter': 500})\n",
    "res"
   ]
  },
  {
   "cell_type": "code",
   "execution_count": 13,
   "metadata": {},
   "outputs": [
    {
     "name": "stdout",
     "output_type": "stream",
     "text": [
      "Ant 0:\tJac: 000.00, \t000.00\n",
      "Ant 1:\tJac: 000.00, \t000.00\n",
      "Ant 2:\tJac: -00.00, \t000.00\n",
      "Ant 3:\tJac: -00.00, \t000.00\n",
      "Ant 4:\tJac: 000.00, \t000.00\n",
      "Ant 5:\tJac: 000.00, \t000.00\n",
      "Ant 6:\tJac: 000.00, \t000.00\n",
      "Ant 7:\tJac: 000.00, \t000.00\n",
      "Ant 8:\tJac: -00.00, \t-00.00\n",
      "Ant 9:\tJac: -00.00, \t000.00\n",
      "Ant 10:\tJac: 000.00, \t-00.00\n",
      "Ant 11:\tJac: 000.00, \t-00.00\n",
      "Ant 12:\tJac: 000.00, \t000.00\n",
      "Ant 13:\tJac: 000.00, \t000.00\n",
      "Ant 14:\tJac: 000.00, \t-00.00\n",
      "Ant 15:\tJac: -00.00, \t-00.00\n",
      "Ant 16:\tJac: 000.00, \t000.00\n",
      "Ant 17:\tJac: 000.00, \t000.00\n",
      "Ant 18:\tJac: -00.00, \t-00.00\n",
      "Ant 19:\tJac: -00.00, \t-00.00\n",
      "Ant 20:\tJac: -00.00, \t000.00\n",
      "Ant 21:\tJac: -00.00, \t000.00\n",
      "Ant 22:\tJac: 000.00, \t-00.00\n",
      "Ant 23:\tJac: 000.00, \t000.00\n"
     ]
    }
   ],
   "source": [
    "err = res.jac.reshape((24,2))\n",
    "rms = err # np.sqrt(np.sum(err**2, axis=1))\n",
    "for i in range(24):\n",
    "    print(f\"Ant {i}:\\tJac: {rms[i,0]:06.2f}, \\t{rms[i,1]:06.2f}\")"
   ]
  },
  {
   "cell_type": "markdown",
   "metadata": {},
   "source": [
    "The optimized positions are now known. The final value of the function is 32. Far closer to zero than 3 million!\n",
    "\n",
    "We can recover the x,y coordinates by reshaping the array"
   ]
  },
  {
   "cell_type": "code",
   "execution_count": 14,
   "metadata": {},
   "outputs": [
    {
     "data": {
      "text/plain": [
       "array([[    7.53840554,   335.84477961],\n",
       "       [  -97.65066467,   821.49914081],\n",
       "       [ -350.01168438,  1144.46087313],\n",
       "       [ -662.53976709,  1307.29957699],\n",
       "       [-1004.77420275,  1355.50066077],\n",
       "       [  326.10688678,    92.65359731],\n",
       "       [  755.33779896,   343.08215753],\n",
       "       [  986.8739272 ,   687.88751518],\n",
       "       [ 1036.97821816,  1030.78359746],\n",
       "       [  975.04978184,  1375.99796136],\n",
       "       [  190.38022009,  -285.73648527],\n",
       "       [  560.87890373,  -617.22323408],\n",
       "       [  962.06399564,  -726.84276957],\n",
       "       [ 1303.52321078,  -679.710233  ],\n",
       "       [ 1609.69914296,  -516.40622148],\n",
       "       [ -204.00113519,  -274.70830388],\n",
       "       [ -405.93602713,  -730.45091116],\n",
       "       [ -383.55696045, -1146.81009549],\n",
       "       [ -224.58184827, -1456.22970298],\n",
       "       [   20.85447271, -1698.63424735],\n",
       "       [ -322.45901376,   109.10197043],\n",
       "       [ -820.76423827,   152.41557825],\n",
       "       [-1202.63356705,     6.04140183],\n",
       "       [-1444.32888574,  -244.0646944 ]])"
      ]
     },
     "execution_count": 14,
     "metadata": {},
     "output_type": "execute_result"
    }
   ],
   "source": [
    "pos = res.x.reshape((24,2))\n",
    "pos"
   ]
  },
  {
   "cell_type": "code",
   "execution_count": 15,
   "metadata": {},
   "outputs": [
    {
     "data": {
      "image/png": "[encoded data removed]",
      "text/plain": [
       "<Figure size 1200x600 with 2 Axes>"
      ]
     },
     "metadata": {},
     "output_type": "display_data"
    }
   ],
   "source": [
    "fig, ax = plt.subplots(nrows=1, ncols=2, figsize=(12,6))\n",
    "\n",
    "\n",
    "ax[0].scatter(pos_i[:,0], pos_i[:,1], label='initial', color='blue')\n",
    "for i in range(0,pos_i.shape[0]):\n",
    "    ax[0].text(pos_i[i,0], pos_i[i,1],f\"{i}\", color='orange')\n",
    "ax[0].set_title('Initial Guess')\n",
    "ax[0].grid(True)\n",
    "ax[0].set_xlabel('x (mm)')\n",
    "ax[0].set_ylabel('y (mm)')\n",
    "\n",
    "ax[1].scatter(pos[:,0], pos[:,1], label='final', color='orange')\n",
    "for i in range(0,pos.shape[0]):\n",
    "    ax[1].text(pos[i,0], pos[i,1],f\"{i}\", color='blue')\n",
    "ax[1].set_title('Final Solution')\n",
    "ax[1].grid(True)\n",
    "ax[1].set_xlabel('x (mm)')\n",
    "ax[1].set_ylabel('y (mm)')\n",
    "plt.savefig('final_positions.png')\n",
    "plt.show()"
   ]
  },
  {
   "cell_type": "markdown",
   "metadata": {},
   "source": [
    "![title](drone_view.jpeg)"
   ]
  },
  {
   "cell_type": "code",
   "execution_count": 16,
   "metadata": {},
   "outputs": [
    {
     "data": {
      "image/png": "[encoded data removed]",
      "text/plain": [
       "<Figure size 1200x1200 with 1 Axes>"
      ]
     },
     "metadata": {},
     "output_type": "display_data"
    }
   ],
   "source": [
    "# Differences plot\n",
    "diff = pos - pos_i[:,0:2]\n",
    "\n",
    "\n",
    "fig, ax = plt.subplots(figsize=(12,12))\n",
    "\n",
    "ax.scatter(diff[:,0], diff[:,1], color='red')\n",
    "\n",
    "for i in range(0,diff.shape[0]):\n",
    "    ax.text(diff[i,0], diff[i,1],f\"{i}\")\n",
    "\n",
    "ax.grid(True)\n",
    "ax.set_title(\"Differences from initial position\")\n",
    "ax.set_xlabel('x (mm)')\n",
    "ax.set_ylabel('y (mm)')\n",
    "plt.savefig('differences.png')\n",
    "plt.show()"
   ]
  },
  {
   "cell_type": "code",
   "execution_count": 17,
   "metadata": {},
   "outputs": [
    {
     "data": {
      "text/plain": [
       "A 0    -4.070627\n",
       "A 1    -2.717406\n",
       "A 2     1.786894\n",
       "A 3     3.602650\n",
       "A 4     3.291688\n",
       "A 5    -2.986150\n",
       "A 6     0.602650\n",
       "A 7     2.958595\n",
       "A 8    -7.865037\n",
       "A 9    -2.556266\n",
       "A 10    1.351084\n",
       "A 11    2.996202\n",
       "A 12    1.764298\n",
       "A 13   -0.905186\n",
       "A 14   -3.495130\n",
       "A 15   -2.828822\n",
       "A 16    1.668949\n",
       "A 17   -0.748439\n",
       "A 18   -3.554394\n",
       "A 19   -4.237740\n",
       "A 20    0.416004\n",
       "A 21   -7.203951\n",
       "A 22    0.648741\n",
       "A 23   -3.195062\n",
       "Name: 0, dtype: float64"
      ]
     },
     "execution_count": 17,
     "metadata": {},
     "output_type": "execute_result"
    }
   ],
   "source": [
    "# Residual plot\n",
    "rres = radius_residual(res.x)\n",
    "rres"
   ]
  },
  {
   "cell_type": "code",
   "execution_count": 18,
   "metadata": {},
   "outputs": [
    {
     "data": {
      "image/png": "[encoded data removed]",
      "text/plain": [
       "<Figure size 640x480 with 1 Axes>"
      ]
     },
     "metadata": {},
     "output_type": "display_data"
    }
   ],
   "source": [
    "# ij resdual\n",
    "ijres = m_ij_residual(res.x)\n",
    "plt.hist(ijres, bins='fd');\n",
    "plt.title(\"Histogram of residuals\")\n",
    "plt.xlabel(\"Residual (mm)\")\n",
    "plt.grid(True)\n",
    "plt.savefig(\"residual_histogram.png\")"
   ]
  },
  {
   "cell_type": "markdown",
   "metadata": {},
   "source": [
    "The API expects 3D coordinates (with a z value which is zero in this case). Therefore we add a column of zeros."
   ]
  },
  {
   "cell_type": "code",
   "execution_count": 19,
   "metadata": {
    "scrolled": true
   },
   "outputs": [
    {
     "name": "stdout",
     "output_type": "stream",
     "text": [
      "90th percentile of residuals is 7.13 mm\n",
      " res[4,3] = -17.4\n",
      " res[22,21] = -11.0\n",
      " res[14,13] = -11.0\n",
      " res[8,7] = -9.5\n",
      " res[20,12] = -9.4\n",
      " res[16,7] = -9.1\n",
      " res[16,4] = -8.8\n",
      " res[13,12] = -8.3\n",
      " res[9,8] = -8.3\n",
      " res[2,1] = -8.1\n",
      " res[18,12] = -8.1\n",
      " res[10,3] = -8.0\n",
      " res[19,2] = -7.8\n",
      " res[12,1] = -7.7\n",
      " res[23,18] = -7.4\n",
      " res[14,0] = -7.3\n",
      " res[13,5] = -7.3\n",
      " res[22,1] = 7.3\n",
      " res[17,9] = 7.4\n",
      " res[11,8] = 7.4\n",
      " res[16,0] = 7.7\n",
      " res[15,13] = 8.0\n",
      " res[18,13] = 8.1\n",
      " res[21,18] = 8.6\n",
      " res[14,7] = 8.8\n",
      " res[23,14] = 9.1\n",
      " res[20,2] = 13.7\n"
     ]
    }
   ],
   "source": [
    "absres = np.abs(ijres)\n",
    "pct = 90\n",
    "p95 = np.percentile(absres, pct)\n",
    "\n",
    "print(f\"{pct}th percentile of residuals is {p95:4.2f} mm\")\n",
    "ijres_matrix = np.zeros_like(m_ij)\n",
    "big_res = []\n",
    "for r, i, j in zip(ijres, non_nan_indices[:,0], non_nan_indices[:,1]):\n",
    "    if np.abs(r) > p95 and i > j:\n",
    "        big_res.append([r,i,j])\n",
    "    ijres_matrix[i,j] = r\n",
    "\n",
    "for res in sorted(big_res):\n",
    "    r,i,j = res\n",
    "    print(f\" res[{i},{j}] = {r:3.1f}\")\n",
    "    "
   ]
  },
  {
   "cell_type": "markdown",
   "metadata": {},
   "source": [
    "## Output best estimates\n",
    "\n",
    "Write some json files..."
   ]
  },
  {
   "cell_type": "code",
   "execution_count": 20,
   "metadata": {},
   "outputs": [
    {
     "data": {
      "text/plain": [
       "array([[ 0.008,  0.336,  0.   ],\n",
       "       [-0.098,  0.821,  0.   ],\n",
       "       [-0.35 ,  1.144,  0.   ],\n",
       "       [-0.663,  1.307,  0.   ],\n",
       "       [-1.005,  1.356,  0.   ],\n",
       "       [ 0.326,  0.093,  0.   ],\n",
       "       [ 0.755,  0.343,  0.   ],\n",
       "       [ 0.987,  0.688,  0.   ],\n",
       "       [ 1.037,  1.031,  0.   ],\n",
       "       [ 0.975,  1.376,  0.   ],\n",
       "       [ 0.19 , -0.286,  0.   ],\n",
       "       [ 0.561, -0.617,  0.   ],\n",
       "       [ 0.962, -0.727,  0.   ],\n",
       "       [ 1.304, -0.68 ,  0.   ],\n",
       "       [ 1.61 , -0.516,  0.   ],\n",
       "       [-0.204, -0.275,  0.   ],\n",
       "       [-0.406, -0.73 ,  0.   ],\n",
       "       [-0.384, -1.147,  0.   ],\n",
       "       [-0.225, -1.456,  0.   ],\n",
       "       [ 0.021, -1.699,  0.   ],\n",
       "       [-0.322,  0.109,  0.   ],\n",
       "       [-0.821,  0.152,  0.   ],\n",
       "       [-1.203,  0.006,  0.   ],\n",
       "       [-1.444, -0.244,  0.   ]])"
      ]
     },
     "execution_count": 20,
     "metadata": {},
     "output_type": "execute_result"
    }
   ],
   "source": [
    "result = np.zeros((n_ant, 3))\n",
    "result[:,:-1] = np.round(pos/1000.0, 3)\n",
    "result"
   ]
  },
  {
   "cell_type": "code",
   "execution_count": 21,
   "metadata": {},
   "outputs": [
    {
     "name": "stdout",
     "output_type": "stream",
     "text": [
      "{\n",
      "    \"antenna_positions\": [\n",
      "        [\n",
      "            0.008,\n",
      "            0.336,\n",
      "            0.0\n",
      "        ],\n",
      "        [\n",
      "            -0.098,\n",
      "            0.821,\n",
      "            0.0\n",
      "        ],\n",
      "        [\n",
      "            -0.35,\n",
      "            1.144,\n",
      "            0.0\n",
      "        ],\n",
      "        [\n",
      "            -0.663,\n",
      "            1.307,\n",
      "            0.0\n",
      "        ],\n",
      "        [\n",
      "            -1.005,\n",
      "            1.356,\n",
      "            0.0\n",
      "        ],\n",
      "        [\n",
      "            0.326,\n",
      "            0.093,\n",
      "            0.0\n",
      "        ],\n",
      "        [\n",
      "            0.755,\n",
      "            0.343,\n",
      "            0.0\n",
      "        ],\n",
      "        [\n",
      "            0.987,\n",
      "            0.688,\n",
      "            0.0\n",
      "        ],\n",
      "        [\n",
      "            1.037,\n",
      "            1.031,\n",
      "            0.0\n",
      "        ],\n",
      "        [\n",
      "            0.975,\n",
      "            1.376,\n",
      "            0.0\n",
      "        ],\n",
      "        [\n",
      "            0.19,\n",
      "            -0.286,\n",
      "            0.0\n",
      "        ],\n",
      "        [\n",
      "            0.561,\n",
      "            -0.617,\n",
      "            0.0\n",
      "        ],\n",
      "        [\n",
      "            0.962,\n",
      "            -0.727,\n",
      "            0.0\n",
      "        ],\n",
      "        [\n",
      "            1.304,\n",
      "            -0.68,\n",
      "            0.0\n",
      "        ],\n",
      "        [\n",
      "            1.61,\n",
      "            -0.516,\n",
      "            0.0\n",
      "        ],\n",
      "        [\n",
      "            -0.204,\n",
      "            -0.275,\n",
      "            0.0\n",
      "        ],\n",
      "        [\n",
      "            -0.406,\n",
      "            -0.73,\n",
      "            0.0\n",
      "        ],\n",
      "        [\n",
      "            -0.384,\n",
      "            -1.147,\n",
      "            0.0\n",
      "        ],\n",
      "        [\n",
      "            -0.225,\n",
      "            -1.456,\n",
      "            0.0\n",
      "        ],\n",
      "        [\n",
      "            0.021,\n",
      "            -1.699,\n",
      "            0.0\n",
      "        ],\n",
      "        [\n",
      "            -0.322,\n",
      "            0.109,\n",
      "            0.0\n",
      "        ],\n",
      "        [\n",
      "            -0.821,\n",
      "            0.152,\n",
      "            0.0\n",
      "        ],\n",
      "        [\n",
      "            -1.203,\n",
      "            0.006,\n",
      "            0.0\n",
      "        ],\n",
      "        [\n",
      "            -1.444,\n",
      "            -0.244,\n",
      "            0.0\n",
      "        ]\n",
      "    ]\n",
      "}\n"
     ]
    }
   ],
   "source": [
    "json_result = {}\n",
    "json_result[\"antenna_positions\"] = result.tolist()\n",
    "\n",
    "json_fname = f\"{site_name}_processed_antenna_positions.json\"\n",
    "f = open(json_fname, \"w\")\n",
    "f.write(json.dumps(json_result))\n",
    "f.close()\n",
    "\n",
    "pos_json = json.dumps(json_result, indent=4, separators=(',', ': '))\n",
    "print(pos_json)"
   ]
  },
  {
   "cell_type": "markdown",
   "metadata": {
    "collapsed": true,
    "jupyter": {
     "outputs_hidden": true
    }
   },
   "source": [
    "The position file above is in a format suitable for uploading to the telescope api. Also for using as the calibrated_antenna_positions.json file in TART/software/containers/telescope_web_api/config_data.\n"
   ]
  },
  {
   "cell_type": "code",
   "execution_count": 22,
   "metadata": {},
   "outputs": [
    {
     "name": "stdout",
     "output_type": "stream",
     "text": [
      "tart_upload_antenna_positions --api https://api.elec.ac.nz/tart/ghana --pw=xxxx --file ghana_processed_antenna_positions.json\n"
     ]
    }
   ],
   "source": [
    "print(f\"tart_upload_antenna_positions --api https://api.elec.ac.nz/tart/{site_name} --pw=xxxx --file {json_fname}\")"
   ]
  }
 ],
 "metadata": {
  "kernelspec": {
   "display_name": "Python 3 (ipykernel)",
   "language": "python",
   "name": "python3"
  },
  "language_info": {
   "codemirror_mode": {
    "name": "ipython",
    "version": 3
   },
   "file_extension": ".py",
   "mimetype": "text/x-python",
   "name": "python",
   "nbconvert_exporter": "python",
   "pygments_lexer": "ipython3",
   "version": "3.13.5"
  }
 },
 "nbformat": 4,
 "nbformat_minor": 4
}
